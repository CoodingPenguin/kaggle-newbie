{
 "cells": [
  {
   "cell_type": "markdown",
   "metadata": {},
   "source": [
    "# Titanic Tutorial by ash316 - 1st Try"
   ]
  },
  {
   "cell_type": "code",
   "execution_count": 1,
   "metadata": {
    "ExecuteTime": {
     "end_time": "2020-08-06T09:51:27.317723Z",
     "start_time": "2020-08-06T09:51:22.629637Z"
    }
   },
   "outputs": [],
   "source": [
    "import numpy as np\n",
    "import pandas as pd\n",
    "import seaborn as sns\n",
    "\n",
    "# plot style 설정\n",
    "import matplotlib.pyplot as plt\n",
    "plt.style.use('fivethirtyeight')\n",
    "\n",
    "# 경고 무시\n",
    "import warnings\n",
    "warnings.filterwarnings('ignore')\n",
    "\n",
    "%matplotlib inline"
   ]
  },
  {
   "cell_type": "markdown",
   "metadata": {},
   "source": [
    "## 1. Exploratory Data Analysis (EDA)"
   ]
  },
  {
   "cell_type": "code",
   "execution_count": 2,
   "metadata": {
    "ExecuteTime": {
     "end_time": "2020-08-06T09:52:04.280203Z",
     "start_time": "2020-08-06T09:52:04.144212Z"
    }
   },
   "outputs": [
    {
     "data": {
      "text/html": [
       "<div>\n",
       "<style scoped>\n",
       "    .dataframe tbody tr th:only-of-type {\n",
       "        vertical-align: middle;\n",
       "    }\n",
       "\n",
       "    .dataframe tbody tr th {\n",
       "        vertical-align: top;\n",
       "    }\n",
       "\n",
       "    .dataframe thead th {\n",
       "        text-align: right;\n",
       "    }\n",
       "</style>\n",
       "<table border=\"1\" class=\"dataframe\">\n",
       "  <thead>\n",
       "    <tr style=\"text-align: right;\">\n",
       "      <th></th>\n",
       "      <th>PassengerId</th>\n",
       "      <th>Survived</th>\n",
       "      <th>Pclass</th>\n",
       "      <th>Name</th>\n",
       "      <th>Sex</th>\n",
       "      <th>Age</th>\n",
       "      <th>SibSp</th>\n",
       "      <th>Parch</th>\n",
       "      <th>Ticket</th>\n",
       "      <th>Fare</th>\n",
       "      <th>Cabin</th>\n",
       "      <th>Embarked</th>\n",
       "    </tr>\n",
       "  </thead>\n",
       "  <tbody>\n",
       "    <tr>\n",
       "      <th>0</th>\n",
       "      <td>1</td>\n",
       "      <td>0</td>\n",
       "      <td>3</td>\n",
       "      <td>Braund, Mr. Owen Harris</td>\n",
       "      <td>male</td>\n",
       "      <td>22.0</td>\n",
       "      <td>1</td>\n",
       "      <td>0</td>\n",
       "      <td>A/5 21171</td>\n",
       "      <td>7.2500</td>\n",
       "      <td>NaN</td>\n",
       "      <td>S</td>\n",
       "    </tr>\n",
       "    <tr>\n",
       "      <th>1</th>\n",
       "      <td>2</td>\n",
       "      <td>1</td>\n",
       "      <td>1</td>\n",
       "      <td>Cumings, Mrs. John Bradley (Florence Briggs Th...</td>\n",
       "      <td>female</td>\n",
       "      <td>38.0</td>\n",
       "      <td>1</td>\n",
       "      <td>0</td>\n",
       "      <td>PC 17599</td>\n",
       "      <td>71.2833</td>\n",
       "      <td>C85</td>\n",
       "      <td>C</td>\n",
       "    </tr>\n",
       "    <tr>\n",
       "      <th>2</th>\n",
       "      <td>3</td>\n",
       "      <td>1</td>\n",
       "      <td>3</td>\n",
       "      <td>Heikkinen, Miss. Laina</td>\n",
       "      <td>female</td>\n",
       "      <td>26.0</td>\n",
       "      <td>0</td>\n",
       "      <td>0</td>\n",
       "      <td>STON/O2. 3101282</td>\n",
       "      <td>7.9250</td>\n",
       "      <td>NaN</td>\n",
       "      <td>S</td>\n",
       "    </tr>\n",
       "    <tr>\n",
       "      <th>3</th>\n",
       "      <td>4</td>\n",
       "      <td>1</td>\n",
       "      <td>1</td>\n",
       "      <td>Futrelle, Mrs. Jacques Heath (Lily May Peel)</td>\n",
       "      <td>female</td>\n",
       "      <td>35.0</td>\n",
       "      <td>1</td>\n",
       "      <td>0</td>\n",
       "      <td>113803</td>\n",
       "      <td>53.1000</td>\n",
       "      <td>C123</td>\n",
       "      <td>S</td>\n",
       "    </tr>\n",
       "    <tr>\n",
       "      <th>4</th>\n",
       "      <td>5</td>\n",
       "      <td>0</td>\n",
       "      <td>3</td>\n",
       "      <td>Allen, Mr. William Henry</td>\n",
       "      <td>male</td>\n",
       "      <td>35.0</td>\n",
       "      <td>0</td>\n",
       "      <td>0</td>\n",
       "      <td>373450</td>\n",
       "      <td>8.0500</td>\n",
       "      <td>NaN</td>\n",
       "      <td>S</td>\n",
       "    </tr>\n",
       "  </tbody>\n",
       "</table>\n",
       "</div>"
      ],
      "text/plain": [
       "   PassengerId  Survived  Pclass  \\\n",
       "0            1         0       3   \n",
       "1            2         1       1   \n",
       "2            3         1       3   \n",
       "3            4         1       1   \n",
       "4            5         0       3   \n",
       "\n",
       "                                                Name     Sex   Age  SibSp  \\\n",
       "0                            Braund, Mr. Owen Harris    male  22.0      1   \n",
       "1  Cumings, Mrs. John Bradley (Florence Briggs Th...  female  38.0      1   \n",
       "2                             Heikkinen, Miss. Laina  female  26.0      0   \n",
       "3       Futrelle, Mrs. Jacques Heath (Lily May Peel)  female  35.0      1   \n",
       "4                           Allen, Mr. William Henry    male  35.0      0   \n",
       "\n",
       "   Parch            Ticket     Fare Cabin Embarked  \n",
       "0      0         A/5 21171   7.2500   NaN        S  \n",
       "1      0          PC 17599  71.2833   C85        C  \n",
       "2      0  STON/O2. 3101282   7.9250   NaN        S  \n",
       "3      0            113803  53.1000  C123        S  \n",
       "4      0            373450   8.0500   NaN        S  "
      ]
     },
     "execution_count": 2,
     "metadata": {},
     "output_type": "execute_result"
    }
   ],
   "source": [
    "# 데이터 로드\n",
    "data = pd.read_csv('../data/train.csv')\n",
    "data.head()"
   ]
  },
  {
   "cell_type": "code",
   "execution_count": 3,
   "metadata": {
    "ExecuteTime": {
     "end_time": "2020-08-06T09:52:21.136206Z",
     "start_time": "2020-08-06T09:52:21.088222Z"
    }
   },
   "outputs": [
    {
     "data": {
      "text/plain": [
       "PassengerId      0\n",
       "Survived         0\n",
       "Pclass           0\n",
       "Name             0\n",
       "Sex              0\n",
       "Age            177\n",
       "SibSp            0\n",
       "Parch            0\n",
       "Ticket           0\n",
       "Fare             0\n",
       "Cabin          687\n",
       "Embarked         2\n",
       "dtype: int64"
      ]
     },
     "execution_count": 3,
     "metadata": {},
     "output_type": "execute_result"
    }
   ],
   "source": [
    "# null data 확인\n",
    "data.isnull().sum()"
   ]
  },
  {
   "cell_type": "markdown",
   "metadata": {},
   "source": [
    "**Age**, **Cabin**, **Embarked**에 null value가 있다는 것을 알 수 있다."
   ]
  },
  {
   "cell_type": "code",
   "execution_count": 4,
   "metadata": {
    "ExecuteTime": {
     "end_time": "2020-08-06T09:55:14.275184Z",
     "start_time": "2020-08-06T09:55:13.515187Z"
    }
   },
   "outputs": [
    {
     "data": {
      "image/png": "[encoded data removed]",
      "text/plain": [
       "<Figure size 1368x576 with 2 Axes>"
      ]
     },
     "metadata": {
      "needs_background": "light"
     },
     "output_type": "display_data"
    }
   ],
   "source": [
    "f, ax = plt.subplots(1, 2, figsize=(19, 8))\n",
    "\n",
    "# figure 1. 생존자/사망자를 pie plot으로\n",
    "data['Survived'].value_counts().plot.pie(\n",
    "    explode=[0, 0.1], autopct='%1.1f%%', ax=ax[0], shadow=True)\n",
    "ax[0].set_title('Survived')\n",
    "ax[1].set_ylabel('')\n",
    "\n",
    "# figure 2. 생존자/사망자를 count plot으로\n",
    "sns.countplot('Survived', data=data, ax=ax[1])\n",
    "ax[1].set_title('Survived')\n",
    "\n",
    "plt.show()"
   ]
  },
  {
   "cell_type": "markdown",
   "metadata": {},
   "source": [
    "생존자/사망자 비율을 보면 사망자가 많다는 것을 알 수 있다. 약 **38.4%**만이 타이타닉에서 생존을 했다."
   ]
  },
  {
   "cell_type": "markdown",
   "metadata": {},
   "source": [
    "> `💡 TIP` Feature의 종류   \n",
    "> - **categorical feature** : 두 개 이상의 카테고리를 갖고 각 value로 카테고리화가 가능한 피처 (하지만 순서를 매길 수 없음)\n",
    ">    - `ex.` Sex, Embarked\n",
    "> - **ordinal feature** : categorical feature와 비슷하지만 순서가 있는 혹은 정렬이 가능한 피처\n",
    ">    - `ex.` Pclass\n",
    "> - **continuous feature** : value가 어떤 두 값 사이의 한 부분인 피처\n",
    ">    - `ex.` Age"
   ]
  },
  {
   "cell_type": "markdown",
   "metadata": {},
   "source": [
    "### 1.1. Analysis of the features\n",
    "#### 1.1.1. Sex - Categorical Feature"
   ]
  },
  {
   "cell_type": "code",
   "execution_count": 5,
   "metadata": {
    "ExecuteTime": {
     "end_time": "2020-08-06T10:02:17.307392Z",
     "start_time": "2020-08-06T10:02:17.267395Z"
    }
   },
   "outputs": [
    {
     "data": {
      "text/plain": [
       "Sex     Survived\n",
       "female  0            81\n",
       "        1           233\n",
       "male    0           468\n",
       "        1           109\n",
       "Name: Survived, dtype: int64"
      ]
     },
     "execution_count": 5,
     "metadata": {},
     "output_type": "execute_result"
    }
   ],
   "source": [
    "# sex와 survived를 기준으로 grouping\n",
    "data.groupby(['Sex', 'Survived'])['Survived'].count()"
   ]
  },
  {
   "cell_type": "code",
   "execution_count": 7,
   "metadata": {
    "ExecuteTime": {
     "end_time": "2020-08-06T10:04:40.611397Z",
     "start_time": "2020-08-06T10:04:39.755401Z"
    }
   },
   "outputs": [
    {
     "data": {
      "image/png": "[encoded data removed]",
      "text/plain": [
       "<Figure size 1296x576 with 2 Axes>"
      ]
     },
     "metadata": {
      "needs_background": "light"
     },
     "output_type": "display_data"
    }
   ],
   "source": [
    "f, ax = plt.subplots(1,2,figsize=(18,8))\n",
    "\n",
    "# sex를 기준으로 grouping하여 생존율 평균을 계산\n",
    "data[['Sex', 'Survived']].groupby(['Sex']).mean().plot.bar(ax=ax[0])\n",
    "ax[0].set_title('Survived vs Sex')\n",
    "\n",
    "# sex별 생존자/사망자 비교\n",
    "sns.countplot('Sex', hue='Survived', data=data, ax=ax[1])\n",
    "ax[1].set_title('Sex: Survived as Dead')\n",
    "\n",
    "plt.show()"
   ]
  },
  {
   "cell_type": "markdown",
   "metadata": {},
   "source": [
    "배에 탄 남성이 여성보다는 많지만, **여자의 생존률이 남자보다 높다**는 걸 알 수 있다.\n",
    "\n",
    "여성의 생존률은 **75%**지만, 남성의 생존률은 **18, 19%**이다."
   ]
  },
  {
   "cell_type": "markdown",
   "metadata": {},
   "source": [
    "#### 1.1.2. Pclass - Ordinal Feature"
   ]
  },
  {
   "cell_type": "code",
   "execution_count": 8,
   "metadata": {
    "ExecuteTime": {
     "end_time": "2020-08-06T10:07:36.483853Z",
     "start_time": "2020-08-06T10:07:33.579873Z"
    }
   },
   "outputs": [
    {
     "data": {
      "text/html": [
       "<style  type=\"text/css\" >\n",
       "    #T_a71256d8_d7cc_11ea_ad3e_f8633f1f495frow0_col0 {\n",
       "            background-color:  #ffff66;\n",
       "            color:  #000000;\n",
       "        }    #T_a71256d8_d7cc_11ea_ad3e_f8633f1f495frow0_col1 {\n",
       "            background-color:  #cee666;\n",
       "            color:  #000000;\n",
       "        }    #T_a71256d8_d7cc_11ea_ad3e_f8633f1f495frow0_col2 {\n",
       "            background-color:  #f4fa66;\n",
       "            color:  #000000;\n",
       "        }    #T_a71256d8_d7cc_11ea_ad3e_f8633f1f495frow1_col0 {\n",
       "            background-color:  #f6fa66;\n",
       "            color:  #000000;\n",
       "        }    #T_a71256d8_d7cc_11ea_ad3e_f8633f1f495frow1_col1 {\n",
       "            background-color:  #ffff66;\n",
       "            color:  #000000;\n",
       "        }    #T_a71256d8_d7cc_11ea_ad3e_f8633f1f495frow1_col2 {\n",
       "            background-color:  #ffff66;\n",
       "            color:  #000000;\n",
       "        }    #T_a71256d8_d7cc_11ea_ad3e_f8633f1f495frow2_col0 {\n",
       "            background-color:  #60b066;\n",
       "            color:  #000000;\n",
       "        }    #T_a71256d8_d7cc_11ea_ad3e_f8633f1f495frow2_col1 {\n",
       "            background-color:  #dfef66;\n",
       "            color:  #000000;\n",
       "        }    #T_a71256d8_d7cc_11ea_ad3e_f8633f1f495frow2_col2 {\n",
       "            background-color:  #90c866;\n",
       "            color:  #000000;\n",
       "        }    #T_a71256d8_d7cc_11ea_ad3e_f8633f1f495frow3_col0 {\n",
       "            background-color:  #008066;\n",
       "            color:  #f1f1f1;\n",
       "        }    #T_a71256d8_d7cc_11ea_ad3e_f8633f1f495frow3_col1 {\n",
       "            background-color:  #008066;\n",
       "            color:  #f1f1f1;\n",
       "        }    #T_a71256d8_d7cc_11ea_ad3e_f8633f1f495frow3_col2 {\n",
       "            background-color:  #008066;\n",
       "            color:  #f1f1f1;\n",
       "        }</style><table id=\"T_a71256d8_d7cc_11ea_ad3e_f8633f1f495f\" ><thead>    <tr>        <th class=\"index_name level0\" >Survived</th>        <th class=\"col_heading level0 col0\" >0</th>        <th class=\"col_heading level0 col1\" >1</th>        <th class=\"col_heading level0 col2\" >All</th>    </tr>    <tr>        <th class=\"index_name level0\" >Pclass</th>        <th class=\"blank\" ></th>        <th class=\"blank\" ></th>        <th class=\"blank\" ></th>    </tr></thead><tbody>\n",
       "                <tr>\n",
       "                        <th id=\"T_a71256d8_d7cc_11ea_ad3e_f8633f1f495flevel0_row0\" class=\"row_heading level0 row0\" >1</th>\n",
       "                        <td id=\"T_a71256d8_d7cc_11ea_ad3e_f8633f1f495frow0_col0\" class=\"data row0 col0\" >80</td>\n",
       "                        <td id=\"T_a71256d8_d7cc_11ea_ad3e_f8633f1f495frow0_col1\" class=\"data row0 col1\" >136</td>\n",
       "                        <td id=\"T_a71256d8_d7cc_11ea_ad3e_f8633f1f495frow0_col2\" class=\"data row0 col2\" >216</td>\n",
       "            </tr>\n",
       "            <tr>\n",
       "                        <th id=\"T_a71256d8_d7cc_11ea_ad3e_f8633f1f495flevel0_row1\" class=\"row_heading level0 row1\" >2</th>\n",
       "                        <td id=\"T_a71256d8_d7cc_11ea_ad3e_f8633f1f495frow1_col0\" class=\"data row1 col0\" >97</td>\n",
       "                        <td id=\"T_a71256d8_d7cc_11ea_ad3e_f8633f1f495frow1_col1\" class=\"data row1 col1\" >87</td>\n",
       "                        <td id=\"T_a71256d8_d7cc_11ea_ad3e_f8633f1f495frow1_col2\" class=\"data row1 col2\" >184</td>\n",
       "            </tr>\n",
       "            <tr>\n",
       "                        <th id=\"T_a71256d8_d7cc_11ea_ad3e_f8633f1f495flevel0_row2\" class=\"row_heading level0 row2\" >3</th>\n",
       "                        <td id=\"T_a71256d8_d7cc_11ea_ad3e_f8633f1f495frow2_col0\" class=\"data row2 col0\" >372</td>\n",
       "                        <td id=\"T_a71256d8_d7cc_11ea_ad3e_f8633f1f495frow2_col1\" class=\"data row2 col1\" >119</td>\n",
       "                        <td id=\"T_a71256d8_d7cc_11ea_ad3e_f8633f1f495frow2_col2\" class=\"data row2 col2\" >491</td>\n",
       "            </tr>\n",
       "            <tr>\n",
       "                        <th id=\"T_a71256d8_d7cc_11ea_ad3e_f8633f1f495flevel0_row3\" class=\"row_heading level0 row3\" >All</th>\n",
       "                        <td id=\"T_a71256d8_d7cc_11ea_ad3e_f8633f1f495frow3_col0\" class=\"data row3 col0\" >549</td>\n",
       "                        <td id=\"T_a71256d8_d7cc_11ea_ad3e_f8633f1f495frow3_col1\" class=\"data row3 col1\" >342</td>\n",
       "                        <td id=\"T_a71256d8_d7cc_11ea_ad3e_f8633f1f495frow3_col2\" class=\"data row3 col2\" >891</td>\n",
       "            </tr>\n",
       "    </tbody></table>"
      ],
      "text/plain": [
       "<pandas.io.formats.style.Styler at 0x23cbda62248>"
      ]
     },
     "execution_count": 8,
     "metadata": {},
     "output_type": "execute_result"
    }
   ],
   "source": [
    "# pclass와 생존률과의 관계\n",
    "pd.crosstab(data.Pclass, data.Survived,\n",
    "            margins=True).style.background_gradient(cmap='summer_r')"
   ]
  },
  {
   "cell_type": "code",
   "execution_count": 9,
   "metadata": {
    "ExecuteTime": {
     "end_time": "2020-08-06T10:09:33.078902Z",
     "start_time": "2020-08-06T10:09:31.918923Z"
    }
   },
   "outputs": [
    {
     "data": {
      "image/png": "[encoded data removed]",
      "text/plain": [
       "<Figure size 1296x576 with 2 Axes>"
      ]
     },
     "metadata": {
      "needs_background": "light"
     },
     "output_type": "display_data"
    }
   ],
   "source": [
    "f, ax = plt.subplots(1, 2, figsize=(18,8))\n",
    "\n",
    "# 각 class별 생존자 수\n",
    "data['Pclass'].value_counts().plot.bar(color=['red','green','yellow'],ax=ax[0])\n",
    "ax[0].set_title('Number of Passengers by Pclass')\n",
    "ax[0].set_ylabel('Count')\n",
    "\n",
    "# 각 class별 생존자/사망자 수\n",
    "sns.countplot('Pclass', hue='Survived', data=data, ax=ax[1])\n",
    "ax[1].set_title('Pclass: Survived vs Dead')\n",
    "\n",
    "plt.show()"
   ]
  },
  {
   "cell_type": "markdown",
   "metadata": {},
   "source": [
    "*돈이 모든 것을 살 수 없다*지만, 위의 그래프에 보이다 싶이 **Pclass 1의 승선자들이 생존률이 높고, 승선자가 많은 Pclass 3의 승선자들의 생존률이 낮은 것**을 볼 수 있다.\n",
    "\n",
    "Pclass 1의 생존률은 **63%**, Pclass 2의 생존률은 **48%** 이다."
   ]
  },
  {
   "cell_type": "markdown",
   "metadata": {},
   "source": [
    "#### 1.1.3. Sex and Pclass"
   ]
  },
  {
   "cell_type": "code",
   "execution_count": 10,
   "metadata": {
    "ExecuteTime": {
     "end_time": "2020-08-06T10:13:14.957737Z",
     "start_time": "2020-08-06T10:13:14.493740Z"
    }
   },
   "outputs": [
    {
     "data": {
      "text/html": [
       "<style  type=\"text/css\" >\n",
       "    #T_70d2933a_d7cd_11ea_b700_f8633f1f495frow0_col0 {\n",
       "            background-color:  #ffff66;\n",
       "            color:  #000000;\n",
       "        }    #T_70d2933a_d7cd_11ea_b700_f8633f1f495frow0_col1 {\n",
       "            background-color:  #ffff66;\n",
       "            color:  #000000;\n",
       "        }    #T_70d2933a_d7cd_11ea_b700_f8633f1f495frow0_col2 {\n",
       "            background-color:  #f1f866;\n",
       "            color:  #000000;\n",
       "        }    #T_70d2933a_d7cd_11ea_b700_f8633f1f495frow0_col3 {\n",
       "            background-color:  #ffff66;\n",
       "            color:  #000000;\n",
       "        }    #T_70d2933a_d7cd_11ea_b700_f8633f1f495frow1_col0 {\n",
       "            background-color:  #96cb66;\n",
       "            color:  #000000;\n",
       "        }    #T_70d2933a_d7cd_11ea_b700_f8633f1f495frow1_col1 {\n",
       "            background-color:  #a3d166;\n",
       "            color:  #000000;\n",
       "        }    #T_70d2933a_d7cd_11ea_b700_f8633f1f495frow1_col2 {\n",
       "            background-color:  #f1f866;\n",
       "            color:  #000000;\n",
       "        }    #T_70d2933a_d7cd_11ea_b700_f8633f1f495frow1_col3 {\n",
       "            background-color:  #cfe766;\n",
       "            color:  #000000;\n",
       "        }    #T_70d2933a_d7cd_11ea_b700_f8633f1f495frow2_col0 {\n",
       "            background-color:  #a7d366;\n",
       "            color:  #000000;\n",
       "        }    #T_70d2933a_d7cd_11ea_b700_f8633f1f495frow2_col1 {\n",
       "            background-color:  #85c266;\n",
       "            color:  #000000;\n",
       "        }    #T_70d2933a_d7cd_11ea_b700_f8633f1f495frow2_col2 {\n",
       "            background-color:  #6eb666;\n",
       "            color:  #000000;\n",
       "        }    #T_70d2933a_d7cd_11ea_b700_f8633f1f495frow2_col3 {\n",
       "            background-color:  #85c266;\n",
       "            color:  #000000;\n",
       "        }    #T_70d2933a_d7cd_11ea_b700_f8633f1f495frow3_col0 {\n",
       "            background-color:  #cde666;\n",
       "            color:  #000000;\n",
       "        }    #T_70d2933a_d7cd_11ea_b700_f8633f1f495frow3_col1 {\n",
       "            background-color:  #f0f866;\n",
       "            color:  #000000;\n",
       "        }    #T_70d2933a_d7cd_11ea_b700_f8633f1f495frow3_col2 {\n",
       "            background-color:  #ffff66;\n",
       "            color:  #000000;\n",
       "        }    #T_70d2933a_d7cd_11ea_b700_f8633f1f495frow3_col3 {\n",
       "            background-color:  #f7fb66;\n",
       "            color:  #000000;\n",
       "        }    #T_70d2933a_d7cd_11ea_b700_f8633f1f495frow4_col0 {\n",
       "            background-color:  #008066;\n",
       "            color:  #f1f1f1;\n",
       "        }    #T_70d2933a_d7cd_11ea_b700_f8633f1f495frow4_col1 {\n",
       "            background-color:  #008066;\n",
       "            color:  #f1f1f1;\n",
       "        }    #T_70d2933a_d7cd_11ea_b700_f8633f1f495frow4_col2 {\n",
       "            background-color:  #008066;\n",
       "            color:  #f1f1f1;\n",
       "        }    #T_70d2933a_d7cd_11ea_b700_f8633f1f495frow4_col3 {\n",
       "            background-color:  #008066;\n",
       "            color:  #f1f1f1;\n",
       "        }</style><table id=\"T_70d2933a_d7cd_11ea_b700_f8633f1f495f\" ><thead>    <tr>        <th class=\"blank\" ></th>        <th class=\"index_name level0\" >Pclass</th>        <th class=\"col_heading level0 col0\" >1</th>        <th class=\"col_heading level0 col1\" >2</th>        <th class=\"col_heading level0 col2\" >3</th>        <th class=\"col_heading level0 col3\" >All</th>    </tr>    <tr>        <th class=\"index_name level0\" >Sex</th>        <th class=\"index_name level1\" >Survived</th>        <th class=\"blank\" ></th>        <th class=\"blank\" ></th>        <th class=\"blank\" ></th>        <th class=\"blank\" ></th>    </tr></thead><tbody>\n",
       "                <tr>\n",
       "                        <th id=\"T_70d2933a_d7cd_11ea_b700_f8633f1f495flevel0_row0\" class=\"row_heading level0 row0\" rowspan=2>female</th>\n",
       "                        <th id=\"T_70d2933a_d7cd_11ea_b700_f8633f1f495flevel1_row0\" class=\"row_heading level1 row0\" >0</th>\n",
       "                        <td id=\"T_70d2933a_d7cd_11ea_b700_f8633f1f495frow0_col0\" class=\"data row0 col0\" >3</td>\n",
       "                        <td id=\"T_70d2933a_d7cd_11ea_b700_f8633f1f495frow0_col1\" class=\"data row0 col1\" >6</td>\n",
       "                        <td id=\"T_70d2933a_d7cd_11ea_b700_f8633f1f495frow0_col2\" class=\"data row0 col2\" >72</td>\n",
       "                        <td id=\"T_70d2933a_d7cd_11ea_b700_f8633f1f495frow0_col3\" class=\"data row0 col3\" >81</td>\n",
       "            </tr>\n",
       "            <tr>\n",
       "                                <th id=\"T_70d2933a_d7cd_11ea_b700_f8633f1f495flevel1_row1\" class=\"row_heading level1 row1\" >1</th>\n",
       "                        <td id=\"T_70d2933a_d7cd_11ea_b700_f8633f1f495frow1_col0\" class=\"data row1 col0\" >91</td>\n",
       "                        <td id=\"T_70d2933a_d7cd_11ea_b700_f8633f1f495frow1_col1\" class=\"data row1 col1\" >70</td>\n",
       "                        <td id=\"T_70d2933a_d7cd_11ea_b700_f8633f1f495frow1_col2\" class=\"data row1 col2\" >72</td>\n",
       "                        <td id=\"T_70d2933a_d7cd_11ea_b700_f8633f1f495frow1_col3\" class=\"data row1 col3\" >233</td>\n",
       "            </tr>\n",
       "            <tr>\n",
       "                        <th id=\"T_70d2933a_d7cd_11ea_b700_f8633f1f495flevel0_row2\" class=\"row_heading level0 row2\" rowspan=2>male</th>\n",
       "                        <th id=\"T_70d2933a_d7cd_11ea_b700_f8633f1f495flevel1_row2\" class=\"row_heading level1 row2\" >0</th>\n",
       "                        <td id=\"T_70d2933a_d7cd_11ea_b700_f8633f1f495frow2_col0\" class=\"data row2 col0\" >77</td>\n",
       "                        <td id=\"T_70d2933a_d7cd_11ea_b700_f8633f1f495frow2_col1\" class=\"data row2 col1\" >91</td>\n",
       "                        <td id=\"T_70d2933a_d7cd_11ea_b700_f8633f1f495frow2_col2\" class=\"data row2 col2\" >300</td>\n",
       "                        <td id=\"T_70d2933a_d7cd_11ea_b700_f8633f1f495frow2_col3\" class=\"data row2 col3\" >468</td>\n",
       "            </tr>\n",
       "            <tr>\n",
       "                                <th id=\"T_70d2933a_d7cd_11ea_b700_f8633f1f495flevel1_row3\" class=\"row_heading level1 row3\" >1</th>\n",
       "                        <td id=\"T_70d2933a_d7cd_11ea_b700_f8633f1f495frow3_col0\" class=\"data row3 col0\" >45</td>\n",
       "                        <td id=\"T_70d2933a_d7cd_11ea_b700_f8633f1f495frow3_col1\" class=\"data row3 col1\" >17</td>\n",
       "                        <td id=\"T_70d2933a_d7cd_11ea_b700_f8633f1f495frow3_col2\" class=\"data row3 col2\" >47</td>\n",
       "                        <td id=\"T_70d2933a_d7cd_11ea_b700_f8633f1f495frow3_col3\" class=\"data row3 col3\" >109</td>\n",
       "            </tr>\n",
       "            <tr>\n",
       "                        <th id=\"T_70d2933a_d7cd_11ea_b700_f8633f1f495flevel0_row4\" class=\"row_heading level0 row4\" >All</th>\n",
       "                        <th id=\"T_70d2933a_d7cd_11ea_b700_f8633f1f495flevel1_row4\" class=\"row_heading level1 row4\" ></th>\n",
       "                        <td id=\"T_70d2933a_d7cd_11ea_b700_f8633f1f495frow4_col0\" class=\"data row4 col0\" >216</td>\n",
       "                        <td id=\"T_70d2933a_d7cd_11ea_b700_f8633f1f495frow4_col1\" class=\"data row4 col1\" >184</td>\n",
       "                        <td id=\"T_70d2933a_d7cd_11ea_b700_f8633f1f495frow4_col2\" class=\"data row4 col2\" >491</td>\n",
       "                        <td id=\"T_70d2933a_d7cd_11ea_b700_f8633f1f495frow4_col3\" class=\"data row4 col3\" >891</td>\n",
       "            </tr>\n",
       "    </tbody></table>"
      ],
      "text/plain": [
       "<pandas.io.formats.style.Styler at 0x23cc3a24288>"
      ]
     },
     "execution_count": 10,
     "metadata": {},
     "output_type": "execute_result"
    }
   ],
   "source": [
    "# sex와 pclass를 survived의 관계를 한 번에\n",
    "pd.crosstab([data.Sex, data.Survived], data.Pclass,\n",
    "            margins=True).style.background_gradient(cmap='summer_r')"
   ]
  },
  {
   "cell_type": "code",
   "execution_count": 12,
   "metadata": {
    "ExecuteTime": {
     "end_time": "2020-08-06T10:14:49.179730Z",
     "start_time": "2020-08-06T10:14:48.003744Z"
    }
   },
   "outputs": [
    {
     "data": {
      "image/png": "[encoded data removed]",
      "text/plain": [
       "<Figure size 430.5x360 with 1 Axes>"
      ]
     },
     "metadata": {
      "needs_background": "light"
     },
     "output_type": "display_data"
    }
   ],
   "source": [
    "sns.factorplot('Pclass', 'Survived', hue='Sex', data=data)\n",
    "plt.show()"
   ]
  },
  {
   "cell_type": "markdown",
   "metadata": {},
   "source": [
    "Factorplot과 CrossTab에서 보이듯이 **Pclass 1의 여성의 생존률은 95, 96%**임을 알 수 있다.\n",
    "또한 Pclass와 무관하게 **여성이 구조 시 가장 높은 우선 순위를 가졌다**는 것을 알 수 있다. Pclass 1의 남성이라도 낮은 생존률을 보였다.\n",
    "\n",
    "그러므로 우리는 **Pclass를 중요한 피처**라고 생각할 수 있다."
   ]
  },
  {
   "cell_type": "markdown",
   "metadata": {},
   "source": [
    "### 1.2. Finding relations or trends"
   ]
  },
  {
   "cell_type": "markdown",
   "metadata": {},
   "source": [
    "## 2. Feature Engineering and Data Cleaning\n",
    "### 2.1. Adding any few features\n",
    "### 2.2. Removing redundant features\n",
    "### 2.3. Converting features into suitable form"
   ]
  },
  {
   "cell_type": "markdown",
   "metadata": {},
   "source": [
    "## 3. Predictive Modeling\n",
    "### 3.1. Running Basic Algorithms\n",
    "### 3.2. Cross Validation\n",
    "### 3.3. Ensembling\n",
    "### 3.4. Important Features Extraction"
   ]
  }
 ],
 "metadata": {
  "kernelspec": {
   "display_name": "Python 3",
   "language": "python",
   "name": "python3"
  },
  "language_info": {
   "codemirror_mode": {
    "name": "ipython",
    "version": 3
   },
   "file_extension": ".py",
   "mimetype": "text/x-python",
   "name": "python",
   "nbconvert_exporter": "python",
   "pygments_lexer": "ipython3",
   "version": "3.7.7"
  },
  "toc": {
   "base_numbering": 1,
   "nav_menu": {},
   "number_sections": false,
   "sideBar": true,
   "skip_h1_title": false,
   "title_cell": "Table of Contents",
   "title_sidebar": "Contents",
   "toc_cell": false,
   "toc_position": {},
   "toc_section_display": true,
   "toc_window_display": false
  },
  "varInspector": {
   "cols": {
    "lenName": 16,
    "lenType": 16,
    "lenVar": 40
   },
   "kernels_config": {
    "python": {
     "delete_cmd_postfix": "",
     "delete_cmd_prefix": "del ",
     "library": "var_list.py",
     "varRefreshCmd": "print(var_dic_list())"
    },
    "r": {
     "delete_cmd_postfix": ") ",
     "delete_cmd_prefix": "rm(",
     "library": "var_list.r",
     "varRefreshCmd": "cat(var_dic_list()) "
    }
   },
   "types_to_exclude": [
    "module",
    "function",
    "builtin_function_or_method",
    "instance",
    "_Feature"
   ],
   "window_display": false
  }
 },
 "nbformat": 4,
 "nbformat_minor": 4
}
