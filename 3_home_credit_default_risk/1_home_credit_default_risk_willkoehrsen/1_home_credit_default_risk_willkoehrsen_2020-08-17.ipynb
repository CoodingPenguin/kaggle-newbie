{
 "cells": [
  {
   "cell_type": "markdown",
   "metadata": {},
   "source": [
    "# Start Here: A Gentle Introduction - First Try"
   ]
  },
  {
   "cell_type": "markdown",
   "metadata": {},
   "source": [
    "## 1. Introduction: Home Credit Default Risk Competition\n",
    "\n",
    "이 대회의 목적은 **과거 대출 이력으로 대출을 받은 고객이 상환할 능력이 있는지**를 예측하는 것이다. 이 문제는 지도학습 분류(supervised classification) 문제라 볼 수 있다.\n",
    "* *Supervised* : label이 trainset에 있고 모델을 학습하여 feature로부터 label을 예측하는 문제\n",
    "* *Classification* : label이 binary variable인 경우"
   ]
  },
  {
   "cell_type": "markdown",
   "metadata": {},
   "source": [
    "### 1.1. Data\n",
    "이 데이터는 은행을 이용하지 않는 고객들에게 신용대출(credit loans)를 제공하는 서비스인 *Home Credit*이 제공하였고 총 7개의 다른 데이터가 제공된다.\n",
    "* **application_train/application_test**\n",
    "    - *Home Credit*에서 각 대출 신청에 대한 main trainset과 testset\n",
    "    - 대출 기록이 row이고 `SK_ID_CURR`로 구분됨\n",
    "    - trainset의 `TARGET`의 0은 대출상환을, 1은 상환되지 않음을 의미\n",
    "* **bureau**\n",
    "    - 다른 금융기관에서의 과거 대출 기록\n",
    "    - 각각의 대출 기록이 row로 정리되어 있음\n",
    "    - **application data**의 대출(loan) → 여러개의 이전 신용정보(credit)\n",
    "* **bereau_balance**\n",
    "    - 과거 대출들의 월별(monthly) 데이터\n",
    "    - 각 월별 데이터는 각각의 row로 정리되어 있음\n",
    "    - 과거 대출기록 한 달에 여러 개일 수 있음\n",
    "* **previous_application**\n",
    "    - **application data**에서 대출기록이 있는 고객들이 *Home Credit*에서 신청한 과거 대출기록\n",
    "    - 현재 대출신청 기록은 여러 개의 과거 대출신청 기록을 가지고 있을 수 있음\n",
    "    - 과거 대출신청 기록은 row로 정리되어 있으며 `SK_ID_PREV`로 구분됨\n",
    "* **POS_CASH_BALANCE**\n",
    "    - *Home Credit*에서 과거 매매 또는 현금 차관들의 월별(monthly) 데이터\n",
    "    - 각 월별 데이터는 각각의 row로 정리되어 있음\n",
    "    - 하나의 과거 대출기록은 여러 개의 row를 가질 수 있음\n",
    "* **credit_card_balance**\n",
    "    - 고객의 *Home Credit* 과거 신용카드의 월별 데이터\n",
    "    - 월별 신용카드 잔고가 row로 정리되어 있음\n",
    "    - 하나의 신용카드가 여러 개의 row를 가질 수 있음\n",
    "* **installments_payment**\n",
    "    - *Home Credit*에 과거 대출상환 내역\n",
    "    - 매 지불금마다 row가 있고, 매 미납금마다도 row가 있음\n",
    "\n",
    "<br>\n",
    "\n",
    "![dataset-diagram](../img/home-credit.png)"
   ]
  },
  {
   "cell_type": "markdown",
   "metadata": {},
   "source": [
    "###  1.2. Metric: ROC AUC\n",
    "이 대회에서는 평가지표로 가장 흔히 쓰이는 분류기의 기준인 **ROC AUC(Receiver Operating Characteristic Area Under the Curve)**를 사용한다. ROC 곡선은 *true-positive 대 false-positive 비율*을 나타낸다.\n",
    "\n",
    "![roc-auc](../img/roc-auc.png)\n",
    "\n",
    "곡선 하나는 각 모델을 나타내며, 선을 따라 이동함은 positive 데이터를 분류하기 위한 임계값(threshold)이 바뀌는 것을 의미한다. 임계값은 오른쪽 위의 0에서부터 시작해 왼쪽 아래에 있는 1로 바뀐다. **어느 곡선보다 위에 있고 왼쪽에 위치한 모델**이 성능이 좋다. 예를 들어 파란색 모델은 빨간색 모델보다 성능이 좋고 검은색 대각선보다 빨간색 모델이 더 좋다.\n",
    "\n",
    "AUC는 이름 그대로 *ROC 곡선 아래의 면적*을 뜻한다. 이 지표는 0과 1사이의 값이며 값이 높을수록 모델의 성능이 좋다. 예를들어 임의로 값을 예측하는 검은색 모델의 ROC-AUC는 0.5이다.\n",
    "\n",
    "ROC-AUC로 모델을 측정할 때, 단순히 0 또는 1로 예측하는 게 아니라 0과 1사이의 확률로 예측한다. 불균형한 클래스에서는 정확도는 그리 좋은 지표가 아니다. 그래서 **두 클래스 간의 균형을 나타내는 ROC-AUC나 F1 score 같은 더 진보된 지표**를 사용하여 *분류기 모델의 성능*을 측정한다. ROC-AUC가 높은 모델은 정확도도 높지만, 모델의 성능을 더 잘 표현하기 위해서는 ROC-AUC를 사용하는 게 좋다.\n",
    "\n",
    "> 자세한 내용은 [여기](https://datascience.stackexchange.com/questions/806/advantages-of-auc-vs-standard-accuracy)를 참고!"
   ]
  },
  {
   "cell_type": "markdown",
   "metadata": {},
   "source": [
    "## 2. Imports"
   ]
  },
  {
   "cell_type": "code",
   "execution_count": 1,
   "metadata": {
    "ExecuteTime": {
     "end_time": "2020-08-17T08:58:51.222574Z",
     "start_time": "2020-08-17T08:58:48.004723Z"
    }
   },
   "outputs": [],
   "source": [
    "# data manipulation\n",
    "import numpy as np\n",
    "import pandas as pd\n",
    "\n",
    "# dealing with categorical variables\n",
    "from sklearn.preprocessing import LabelEncoder\n",
    "\n",
    "# file system management\n",
    "import os\n",
    "\n",
    "# suppress warnings\n",
    "import warnings\n",
    "warnings.filterwarnings('ignore')\n",
    "\n",
    "# plotting\n",
    "import matplotlib.pyplot as plt\n",
    "import seaborn as sns"
   ]
  },
  {
   "cell_type": "markdown",
   "metadata": {},
   "source": [
    "## 3. Read in Data\n",
    "이 Notebook은 Machine Learning Tutorial을 위해 모든 데이터셋을 다 쓰지 않고 main 데이터셋만 활용할 예정\n",
    "* **application_train**, **application_test**, **submission**만 사용"
   ]
  },
  {
   "cell_type": "code",
   "execution_count": 2,
   "metadata": {
    "ExecuteTime": {
     "end_time": "2020-08-17T09:00:52.664048Z",
     "start_time": "2020-08-17T09:00:52.650976Z"
    }
   },
   "outputs": [
    {
     "name": "stdout",
     "output_type": "stream",
     "text": [
      "['application_test.csv', 'application_train.csv', 'bureau.csv', 'bureau_balance.csv', 'credit_card_balance.csv', 'HomeCredit_columns_description.csv', 'installments_payments.csv', 'POS_CASH_balance.csv', 'previous_application.csv', 'sample_submission.csv']\n"
     ]
    }
   ],
   "source": [
    "print(os.listdir('../data/'))"
   ]
  },
  {
   "cell_type": "code",
   "execution_count": 3,
   "metadata": {
    "ExecuteTime": {
     "end_time": "2020-08-17T09:01:33.485458Z",
     "start_time": "2020-08-17T09:01:31.266919Z"
    }
   },
   "outputs": [
    {
     "name": "stdout",
     "output_type": "stream",
     "text": [
      "training data shape : (307511, 122)\n"
     ]
    },
    {
     "data": {
      "text/html": [
       "<div>\n",
       "<style scoped>\n",
       "    .dataframe tbody tr th:only-of-type {\n",
       "        vertical-align: middle;\n",
       "    }\n",
       "\n",
       "    .dataframe tbody tr th {\n",
       "        vertical-align: top;\n",
       "    }\n",
       "\n",
       "    .dataframe thead th {\n",
       "        text-align: right;\n",
       "    }\n",
       "</style>\n",
       "<table border=\"1\" class=\"dataframe\">\n",
       "  <thead>\n",
       "    <tr style=\"text-align: right;\">\n",
       "      <th></th>\n",
       "      <th>SK_ID_CURR</th>\n",
       "      <th>TARGET</th>\n",
       "      <th>NAME_CONTRACT_TYPE</th>\n",
       "      <th>CODE_GENDER</th>\n",
       "      <th>FLAG_OWN_CAR</th>\n",
       "      <th>FLAG_OWN_REALTY</th>\n",
       "      <th>CNT_CHILDREN</th>\n",
       "      <th>AMT_INCOME_TOTAL</th>\n",
       "      <th>AMT_CREDIT</th>\n",
       "      <th>AMT_ANNUITY</th>\n",
       "      <th>...</th>\n",
       "      <th>FLAG_DOCUMENT_18</th>\n",
       "      <th>FLAG_DOCUMENT_19</th>\n",
       "      <th>FLAG_DOCUMENT_20</th>\n",
       "      <th>FLAG_DOCUMENT_21</th>\n",
       "      <th>AMT_REQ_CREDIT_BUREAU_HOUR</th>\n",
       "      <th>AMT_REQ_CREDIT_BUREAU_DAY</th>\n",
       "      <th>AMT_REQ_CREDIT_BUREAU_WEEK</th>\n",
       "      <th>AMT_REQ_CREDIT_BUREAU_MON</th>\n",
       "      <th>AMT_REQ_CREDIT_BUREAU_QRT</th>\n",
       "      <th>AMT_REQ_CREDIT_BUREAU_YEAR</th>\n",
       "    </tr>\n",
       "  </thead>\n",
       "  <tbody>\n",
       "    <tr>\n",
       "      <th>0</th>\n",
       "      <td>100002</td>\n",
       "      <td>1</td>\n",
       "      <td>Cash loans</td>\n",
       "      <td>M</td>\n",
       "      <td>N</td>\n",
       "      <td>Y</td>\n",
       "      <td>0</td>\n",
       "      <td>202500.0</td>\n",
       "      <td>406597.5</td>\n",
       "      <td>24700.5</td>\n",
       "      <td>...</td>\n",
       "      <td>0</td>\n",
       "      <td>0</td>\n",
       "      <td>0</td>\n",
       "      <td>0</td>\n",
       "      <td>0.0</td>\n",
       "      <td>0.0</td>\n",
       "      <td>0.0</td>\n",
       "      <td>0.0</td>\n",
       "      <td>0.0</td>\n",
       "      <td>1.0</td>\n",
       "    </tr>\n",
       "    <tr>\n",
       "      <th>1</th>\n",
       "      <td>100003</td>\n",
       "      <td>0</td>\n",
       "      <td>Cash loans</td>\n",
       "      <td>F</td>\n",
       "      <td>N</td>\n",
       "      <td>N</td>\n",
       "      <td>0</td>\n",
       "      <td>270000.0</td>\n",
       "      <td>1293502.5</td>\n",
       "      <td>35698.5</td>\n",
       "      <td>...</td>\n",
       "      <td>0</td>\n",
       "      <td>0</td>\n",
       "      <td>0</td>\n",
       "      <td>0</td>\n",
       "      <td>0.0</td>\n",
       "      <td>0.0</td>\n",
       "      <td>0.0</td>\n",
       "      <td>0.0</td>\n",
       "      <td>0.0</td>\n",
       "      <td>0.0</td>\n",
       "    </tr>\n",
       "    <tr>\n",
       "      <th>2</th>\n",
       "      <td>100004</td>\n",
       "      <td>0</td>\n",
       "      <td>Revolving loans</td>\n",
       "      <td>M</td>\n",
       "      <td>Y</td>\n",
       "      <td>Y</td>\n",
       "      <td>0</td>\n",
       "      <td>67500.0</td>\n",
       "      <td>135000.0</td>\n",
       "      <td>6750.0</td>\n",
       "      <td>...</td>\n",
       "      <td>0</td>\n",
       "      <td>0</td>\n",
       "      <td>0</td>\n",
       "      <td>0</td>\n",
       "      <td>0.0</td>\n",
       "      <td>0.0</td>\n",
       "      <td>0.0</td>\n",
       "      <td>0.0</td>\n",
       "      <td>0.0</td>\n",
       "      <td>0.0</td>\n",
       "    </tr>\n",
       "    <tr>\n",
       "      <th>3</th>\n",
       "      <td>100006</td>\n",
       "      <td>0</td>\n",
       "      <td>Cash loans</td>\n",
       "      <td>F</td>\n",
       "      <td>N</td>\n",
       "      <td>Y</td>\n",
       "      <td>0</td>\n",
       "      <td>135000.0</td>\n",
       "      <td>312682.5</td>\n",
       "      <td>29686.5</td>\n",
       "      <td>...</td>\n",
       "      <td>0</td>\n",
       "      <td>0</td>\n",
       "      <td>0</td>\n",
       "      <td>0</td>\n",
       "      <td>NaN</td>\n",
       "      <td>NaN</td>\n",
       "      <td>NaN</td>\n",
       "      <td>NaN</td>\n",
       "      <td>NaN</td>\n",
       "      <td>NaN</td>\n",
       "    </tr>\n",
       "    <tr>\n",
       "      <th>4</th>\n",
       "      <td>100007</td>\n",
       "      <td>0</td>\n",
       "      <td>Cash loans</td>\n",
       "      <td>M</td>\n",
       "      <td>N</td>\n",
       "      <td>Y</td>\n",
       "      <td>0</td>\n",
       "      <td>121500.0</td>\n",
       "      <td>513000.0</td>\n",
       "      <td>21865.5</td>\n",
       "      <td>...</td>\n",
       "      <td>0</td>\n",
       "      <td>0</td>\n",
       "      <td>0</td>\n",
       "      <td>0</td>\n",
       "      <td>0.0</td>\n",
       "      <td>0.0</td>\n",
       "      <td>0.0</td>\n",
       "      <td>0.0</td>\n",
       "      <td>0.0</td>\n",
       "      <td>0.0</td>\n",
       "    </tr>\n",
       "  </tbody>\n",
       "</table>\n",
       "<p>5 rows × 122 columns</p>\n",
       "</div>"
      ],
      "text/plain": [
       "   SK_ID_CURR  TARGET NAME_CONTRACT_TYPE CODE_GENDER FLAG_OWN_CAR  \\\n",
       "0      100002       1         Cash loans           M            N   \n",
       "1      100003       0         Cash loans           F            N   \n",
       "2      100004       0    Revolving loans           M            Y   \n",
       "3      100006       0         Cash loans           F            N   \n",
       "4      100007       0         Cash loans           M            N   \n",
       "\n",
       "  FLAG_OWN_REALTY  CNT_CHILDREN  AMT_INCOME_TOTAL  AMT_CREDIT  AMT_ANNUITY  \\\n",
       "0               Y             0          202500.0    406597.5      24700.5   \n",
       "1               N             0          270000.0   1293502.5      35698.5   \n",
       "2               Y             0           67500.0    135000.0       6750.0   \n",
       "3               Y             0          135000.0    312682.5      29686.5   \n",
       "4               Y             0          121500.0    513000.0      21865.5   \n",
       "\n",
       "   ...  FLAG_DOCUMENT_18 FLAG_DOCUMENT_19 FLAG_DOCUMENT_20 FLAG_DOCUMENT_21  \\\n",
       "0  ...                 0                0                0                0   \n",
       "1  ...                 0                0                0                0   \n",
       "2  ...                 0                0                0                0   \n",
       "3  ...                 0                0                0                0   \n",
       "4  ...                 0                0                0                0   \n",
       "\n",
       "  AMT_REQ_CREDIT_BUREAU_HOUR AMT_REQ_CREDIT_BUREAU_DAY  \\\n",
       "0                        0.0                       0.0   \n",
       "1                        0.0                       0.0   \n",
       "2                        0.0                       0.0   \n",
       "3                        NaN                       NaN   \n",
       "4                        0.0                       0.0   \n",
       "\n",
       "   AMT_REQ_CREDIT_BUREAU_WEEK  AMT_REQ_CREDIT_BUREAU_MON  \\\n",
       "0                         0.0                        0.0   \n",
       "1                         0.0                        0.0   \n",
       "2                         0.0                        0.0   \n",
       "3                         NaN                        NaN   \n",
       "4                         0.0                        0.0   \n",
       "\n",
       "   AMT_REQ_CREDIT_BUREAU_QRT  AMT_REQ_CREDIT_BUREAU_YEAR  \n",
       "0                        0.0                         1.0  \n",
       "1                        0.0                         0.0  \n",
       "2                        0.0                         0.0  \n",
       "3                        NaN                         NaN  \n",
       "4                        0.0                         0.0  \n",
       "\n",
       "[5 rows x 122 columns]"
      ]
     },
     "execution_count": 3,
     "metadata": {},
     "output_type": "execute_result"
    }
   ],
   "source": [
    "# train data\n",
    "app_train = pd.read_csv('../data/application_train.csv')\n",
    "print('training data shape :', app_train.shape)\n",
    "app_train.head()"
   ]
  },
  {
   "cell_type": "markdown",
   "metadata": {},
   "source": [
    "train data는 대출기록을 의미하는 307511개의 데이터가 있으며 `TARGET`을 포함하여 총 122개의 feature를 갖고있다."
   ]
  },
  {
   "cell_type": "code",
   "execution_count": 4,
   "metadata": {
    "ExecuteTime": {
     "end_time": "2020-08-17T09:03:43.205009Z",
     "start_time": "2020-08-17T09:03:42.818997Z"
    }
   },
   "outputs": [
    {
     "name": "stdout",
     "output_type": "stream",
     "text": [
      "testing data shape : (48744, 121)\n"
     ]
    },
    {
     "data": {
      "text/html": [
       "<div>\n",
       "<style scoped>\n",
       "    .dataframe tbody tr th:only-of-type {\n",
       "        vertical-align: middle;\n",
       "    }\n",
       "\n",
       "    .dataframe tbody tr th {\n",
       "        vertical-align: top;\n",
       "    }\n",
       "\n",
       "    .dataframe thead th {\n",
       "        text-align: right;\n",
       "    }\n",
       "</style>\n",
       "<table border=\"1\" class=\"dataframe\">\n",
       "  <thead>\n",
       "    <tr style=\"text-align: right;\">\n",
       "      <th></th>\n",
       "      <th>SK_ID_CURR</th>\n",
       "      <th>NAME_CONTRACT_TYPE</th>\n",
       "      <th>CODE_GENDER</th>\n",
       "      <th>FLAG_OWN_CAR</th>\n",
       "      <th>FLAG_OWN_REALTY</th>\n",
       "      <th>CNT_CHILDREN</th>\n",
       "      <th>AMT_INCOME_TOTAL</th>\n",
       "      <th>AMT_CREDIT</th>\n",
       "      <th>AMT_ANNUITY</th>\n",
       "      <th>AMT_GOODS_PRICE</th>\n",
       "      <th>...</th>\n",
       "      <th>FLAG_DOCUMENT_18</th>\n",
       "      <th>FLAG_DOCUMENT_19</th>\n",
       "      <th>FLAG_DOCUMENT_20</th>\n",
       "      <th>FLAG_DOCUMENT_21</th>\n",
       "      <th>AMT_REQ_CREDIT_BUREAU_HOUR</th>\n",
       "      <th>AMT_REQ_CREDIT_BUREAU_DAY</th>\n",
       "      <th>AMT_REQ_CREDIT_BUREAU_WEEK</th>\n",
       "      <th>AMT_REQ_CREDIT_BUREAU_MON</th>\n",
       "      <th>AMT_REQ_CREDIT_BUREAU_QRT</th>\n",
       "      <th>AMT_REQ_CREDIT_BUREAU_YEAR</th>\n",
       "    </tr>\n",
       "  </thead>\n",
       "  <tbody>\n",
       "    <tr>\n",
       "      <th>0</th>\n",
       "      <td>100001</td>\n",
       "      <td>Cash loans</td>\n",
       "      <td>F</td>\n",
       "      <td>N</td>\n",
       "      <td>Y</td>\n",
       "      <td>0</td>\n",
       "      <td>135000.0</td>\n",
       "      <td>568800.0</td>\n",
       "      <td>20560.5</td>\n",
       "      <td>450000.0</td>\n",
       "      <td>...</td>\n",
       "      <td>0</td>\n",
       "      <td>0</td>\n",
       "      <td>0</td>\n",
       "      <td>0</td>\n",
       "      <td>0.0</td>\n",
       "      <td>0.0</td>\n",
       "      <td>0.0</td>\n",
       "      <td>0.0</td>\n",
       "      <td>0.0</td>\n",
       "      <td>0.0</td>\n",
       "    </tr>\n",
       "    <tr>\n",
       "      <th>1</th>\n",
       "      <td>100005</td>\n",
       "      <td>Cash loans</td>\n",
       "      <td>M</td>\n",
       "      <td>N</td>\n",
       "      <td>Y</td>\n",
       "      <td>0</td>\n",
       "      <td>99000.0</td>\n",
       "      <td>222768.0</td>\n",
       "      <td>17370.0</td>\n",
       "      <td>180000.0</td>\n",
       "      <td>...</td>\n",
       "      <td>0</td>\n",
       "      <td>0</td>\n",
       "      <td>0</td>\n",
       "      <td>0</td>\n",
       "      <td>0.0</td>\n",
       "      <td>0.0</td>\n",
       "      <td>0.0</td>\n",
       "      <td>0.0</td>\n",
       "      <td>0.0</td>\n",
       "      <td>3.0</td>\n",
       "    </tr>\n",
       "    <tr>\n",
       "      <th>2</th>\n",
       "      <td>100013</td>\n",
       "      <td>Cash loans</td>\n",
       "      <td>M</td>\n",
       "      <td>Y</td>\n",
       "      <td>Y</td>\n",
       "      <td>0</td>\n",
       "      <td>202500.0</td>\n",
       "      <td>663264.0</td>\n",
       "      <td>69777.0</td>\n",
       "      <td>630000.0</td>\n",
       "      <td>...</td>\n",
       "      <td>0</td>\n",
       "      <td>0</td>\n",
       "      <td>0</td>\n",
       "      <td>0</td>\n",
       "      <td>0.0</td>\n",
       "      <td>0.0</td>\n",
       "      <td>0.0</td>\n",
       "      <td>0.0</td>\n",
       "      <td>1.0</td>\n",
       "      <td>4.0</td>\n",
       "    </tr>\n",
       "    <tr>\n",
       "      <th>3</th>\n",
       "      <td>100028</td>\n",
       "      <td>Cash loans</td>\n",
       "      <td>F</td>\n",
       "      <td>N</td>\n",
       "      <td>Y</td>\n",
       "      <td>2</td>\n",
       "      <td>315000.0</td>\n",
       "      <td>1575000.0</td>\n",
       "      <td>49018.5</td>\n",
       "      <td>1575000.0</td>\n",
       "      <td>...</td>\n",
       "      <td>0</td>\n",
       "      <td>0</td>\n",
       "      <td>0</td>\n",
       "      <td>0</td>\n",
       "      <td>0.0</td>\n",
       "      <td>0.0</td>\n",
       "      <td>0.0</td>\n",
       "      <td>0.0</td>\n",
       "      <td>0.0</td>\n",
       "      <td>3.0</td>\n",
       "    </tr>\n",
       "    <tr>\n",
       "      <th>4</th>\n",
       "      <td>100038</td>\n",
       "      <td>Cash loans</td>\n",
       "      <td>M</td>\n",
       "      <td>Y</td>\n",
       "      <td>N</td>\n",
       "      <td>1</td>\n",
       "      <td>180000.0</td>\n",
       "      <td>625500.0</td>\n",
       "      <td>32067.0</td>\n",
       "      <td>625500.0</td>\n",
       "      <td>...</td>\n",
       "      <td>0</td>\n",
       "      <td>0</td>\n",
       "      <td>0</td>\n",
       "      <td>0</td>\n",
       "      <td>NaN</td>\n",
       "      <td>NaN</td>\n",
       "      <td>NaN</td>\n",
       "      <td>NaN</td>\n",
       "      <td>NaN</td>\n",
       "      <td>NaN</td>\n",
       "    </tr>\n",
       "  </tbody>\n",
       "</table>\n",
       "<p>5 rows × 121 columns</p>\n",
       "</div>"
      ],
      "text/plain": [
       "   SK_ID_CURR NAME_CONTRACT_TYPE CODE_GENDER FLAG_OWN_CAR FLAG_OWN_REALTY  \\\n",
       "0      100001         Cash loans           F            N               Y   \n",
       "1      100005         Cash loans           M            N               Y   \n",
       "2      100013         Cash loans           M            Y               Y   \n",
       "3      100028         Cash loans           F            N               Y   \n",
       "4      100038         Cash loans           M            Y               N   \n",
       "\n",
       "   CNT_CHILDREN  AMT_INCOME_TOTAL  AMT_CREDIT  AMT_ANNUITY  AMT_GOODS_PRICE  \\\n",
       "0             0          135000.0    568800.0      20560.5         450000.0   \n",
       "1             0           99000.0    222768.0      17370.0         180000.0   \n",
       "2             0          202500.0    663264.0      69777.0         630000.0   \n",
       "3             2          315000.0   1575000.0      49018.5        1575000.0   \n",
       "4             1          180000.0    625500.0      32067.0         625500.0   \n",
       "\n",
       "   ... FLAG_DOCUMENT_18 FLAG_DOCUMENT_19 FLAG_DOCUMENT_20 FLAG_DOCUMENT_21  \\\n",
       "0  ...                0                0                0                0   \n",
       "1  ...                0                0                0                0   \n",
       "2  ...                0                0                0                0   \n",
       "3  ...                0                0                0                0   \n",
       "4  ...                0                0                0                0   \n",
       "\n",
       "  AMT_REQ_CREDIT_BUREAU_HOUR  AMT_REQ_CREDIT_BUREAU_DAY  \\\n",
       "0                        0.0                        0.0   \n",
       "1                        0.0                        0.0   \n",
       "2                        0.0                        0.0   \n",
       "3                        0.0                        0.0   \n",
       "4                        NaN                        NaN   \n",
       "\n",
       "   AMT_REQ_CREDIT_BUREAU_WEEK  AMT_REQ_CREDIT_BUREAU_MON  \\\n",
       "0                         0.0                        0.0   \n",
       "1                         0.0                        0.0   \n",
       "2                         0.0                        0.0   \n",
       "3                         0.0                        0.0   \n",
       "4                         NaN                        NaN   \n",
       "\n",
       "   AMT_REQ_CREDIT_BUREAU_QRT  AMT_REQ_CREDIT_BUREAU_YEAR  \n",
       "0                        0.0                         0.0  \n",
       "1                        0.0                         3.0  \n",
       "2                        1.0                         4.0  \n",
       "3                        0.0                         3.0  \n",
       "4                        NaN                         NaN  \n",
       "\n",
       "[5 rows x 121 columns]"
      ]
     },
     "execution_count": 4,
     "metadata": {},
     "output_type": "execute_result"
    }
   ],
   "source": [
    "# test data\n",
    "app_test = pd.read_csv('../data/application_test.csv')\n",
    "print('testing data shape :', app_test.shape)\n",
    "app_test.head()"
   ]
  },
  {
   "cell_type": "markdown",
   "metadata": {},
   "source": [
    "test data는 train data보다 데이터 양이 적고 `TARGET`을 갖고 있지 않다."
   ]
  },
  {
   "cell_type": "markdown",
   "metadata": {},
   "source": [
    "## 4. Exploratory Data Analysis\n",
    "EDA는 데이터 내의 경향, 이상 징후, 패턴 혹은 관계를 찾기 위해 통계를 내고 figure를 그리는 단계를 말한다. EDA의 목적은 **데이터가 우리에게 말해줄 수 있는 것**을 배우기 위함이다.    \n",
    "일반적으로 넓은 시각에서 시작해 데이터에서 흥미로운 부분을 발견하면 그 부분으로 영역이 좁혀진다. 그 발견은 그것 자체로도 흥미로울 수 있고, 어떤 feature를 사용할지 결정하는 것을 도와줘 최종 모델 선택을 하는데 사용될 수 있다."
   ]
  },
  {
   "cell_type": "markdown",
   "metadata": {},
   "source": [
    "### 4.1. Examine the Distribution of the Target Column\n",
    "우선 `TARGET`의 각 value의 비율을 살펴보자."
   ]
  },
  {
   "cell_type": "code",
   "execution_count": 5,
   "metadata": {
    "ExecuteTime": {
     "end_time": "2020-08-17T09:09:16.201391Z",
     "start_time": "2020-08-17T09:09:16.188393Z"
    }
   },
   "outputs": [
    {
     "data": {
      "text/plain": [
       "0    282686\n",
       "1     24825\n",
       "Name: TARGET, dtype: int64"
      ]
     },
     "execution_count": 5,
     "metadata": {},
     "output_type": "execute_result"
    }
   ],
   "source": [
    "app_train['TARGET'].value_counts()"
   ]
  },
  {
   "cell_type": "code",
   "execution_count": 6,
   "metadata": {
    "ExecuteTime": {
     "end_time": "2020-08-17T09:09:38.753125Z",
     "start_time": "2020-08-17T09:09:38.513152Z"
    }
   },
   "outputs": [
    {
     "data": {
      "text/plain": [
       "<matplotlib.axes._subplots.AxesSubplot at 0x1d08b46f548>"
      ]
     },
     "execution_count": 6,
     "metadata": {},
     "output_type": "execute_result"
    },
    {
     "data": {
      "image/png": "[encoded data removed]",
      "text/plain": [
       "<Figure size 432x288 with 1 Axes>"
      ]
     },
     "metadata": {
      "needs_background": "light"
     },
     "output_type": "display_data"
    }
   ],
   "source": [
    "app_train['TARGET'].astype(int).plot.hist()"
   ]
  },
  {
   "cell_type": "markdown",
   "metadata": {},
   "source": [
    "위의 plot을 통해  상환이 되지 않은 대출보다 상환이 된 대출이 더 많은 것으로 보아 **불균형적인 클래스 문제(imbalanced class problem)**이 있음을 알 수 있다. 나중에 복잡한 모델을 설계하게 되면 이 문제를 해결하기 위해 클래스에 weight를 주어 해결할 수 있다."
   ]
  },
  {
   "cell_type": "markdown",
   "metadata": {},
   "source": [
    "### 4.2. Examine Missing Values\n",
    "각 feature별 missing value의 비율을 살펴보자."
   ]
  },
  {
   "cell_type": "code",
   "execution_count": 17,
   "metadata": {
    "ExecuteTime": {
     "end_time": "2020-08-17T09:21:48.363302Z",
     "start_time": "2020-08-17T09:21:48.357314Z"
    }
   },
   "outputs": [],
   "source": [
    "# missing value 비율을 계산\n",
    "def missing_values_table(df):\n",
    "    # 전체 missing value개수\n",
    "    mis_val = df.isnull().sum()\n",
    "\n",
    "    # missing value 비율\n",
    "    mis_val_perc = 100 * mis_val / len(df)\n",
    "\n",
    "    # table 생성\n",
    "    mis_val_table = pd.concat([mis_val, mis_val_perc], axis=1)\n",
    "\n",
    "    # column 이름 바꾸기\n",
    "    mis_val_table_ren_columns = mis_val_table.rename(\n",
    "        columns={0: 'missing values', 1: '% of total values'})\n",
    "\n",
    "    # missing value 비율을 기준으로 역정렬\n",
    "    mis_val_table_ren_columns = mis_val_table_ren_columns[mis_val_table_ren_columns.iloc[:, 1] != 0].sort_values(\n",
    "        '% of total values', ascending=False).round(1)\n",
    "    \n",
    "    # 요약 출력\n",
    "    print('your selected dataframe has {} columns.'.format(df.shape[1]))\n",
    "    print('there are {} columns that have missing values.'.format(mis_val_table_ren_columns.shape[0]))\n",
    "    \n",
    "    # missing info에 대한 dataframe 반환\n",
    "    return mis_val_table_ren_columns"
   ]
  },
  {
   "cell_type": "code",
   "execution_count": 18,
   "metadata": {
    "ExecuteTime": {
     "end_time": "2020-08-17T09:21:50.207733Z",
     "start_time": "2020-08-17T09:21:50.006767Z"
    }
   },
   "outputs": [
    {
     "name": "stdout",
     "output_type": "stream",
     "text": [
      "your selected dataframe has 122 columns.\n",
      "there are 67 columns that have missing values.\n"
     ]
    },
    {
     "data": {
      "text/html": [
       "<div>\n",
       "<style scoped>\n",
       "    .dataframe tbody tr th:only-of-type {\n",
       "        vertical-align: middle;\n",
       "    }\n",
       "\n",
       "    .dataframe tbody tr th {\n",
       "        vertical-align: top;\n",
       "    }\n",
       "\n",
       "    .dataframe thead th {\n",
       "        text-align: right;\n",
       "    }\n",
       "</style>\n",
       "<table border=\"1\" class=\"dataframe\">\n",
       "  <thead>\n",
       "    <tr style=\"text-align: right;\">\n",
       "      <th></th>\n",
       "      <th>missing values</th>\n",
       "      <th>% of total values</th>\n",
       "    </tr>\n",
       "  </thead>\n",
       "  <tbody>\n",
       "    <tr>\n",
       "      <th>COMMONAREA_MEDI</th>\n",
       "      <td>214865</td>\n",
       "      <td>69.9</td>\n",
       "    </tr>\n",
       "    <tr>\n",
       "      <th>COMMONAREA_AVG</th>\n",
       "      <td>214865</td>\n",
       "      <td>69.9</td>\n",
       "    </tr>\n",
       "    <tr>\n",
       "      <th>COMMONAREA_MODE</th>\n",
       "      <td>214865</td>\n",
       "      <td>69.9</td>\n",
       "    </tr>\n",
       "    <tr>\n",
       "      <th>NONLIVINGAPARTMENTS_MEDI</th>\n",
       "      <td>213514</td>\n",
       "      <td>69.4</td>\n",
       "    </tr>\n",
       "    <tr>\n",
       "      <th>NONLIVINGAPARTMENTS_MODE</th>\n",
       "      <td>213514</td>\n",
       "      <td>69.4</td>\n",
       "    </tr>\n",
       "    <tr>\n",
       "      <th>NONLIVINGAPARTMENTS_AVG</th>\n",
       "      <td>213514</td>\n",
       "      <td>69.4</td>\n",
       "    </tr>\n",
       "    <tr>\n",
       "      <th>FONDKAPREMONT_MODE</th>\n",
       "      <td>210295</td>\n",
       "      <td>68.4</td>\n",
       "    </tr>\n",
       "    <tr>\n",
       "      <th>LIVINGAPARTMENTS_MODE</th>\n",
       "      <td>210199</td>\n",
       "      <td>68.4</td>\n",
       "    </tr>\n",
       "    <tr>\n",
       "      <th>LIVINGAPARTMENTS_MEDI</th>\n",
       "      <td>210199</td>\n",
       "      <td>68.4</td>\n",
       "    </tr>\n",
       "    <tr>\n",
       "      <th>LIVINGAPARTMENTS_AVG</th>\n",
       "      <td>210199</td>\n",
       "      <td>68.4</td>\n",
       "    </tr>\n",
       "    <tr>\n",
       "      <th>FLOORSMIN_MODE</th>\n",
       "      <td>208642</td>\n",
       "      <td>67.8</td>\n",
       "    </tr>\n",
       "    <tr>\n",
       "      <th>FLOORSMIN_MEDI</th>\n",
       "      <td>208642</td>\n",
       "      <td>67.8</td>\n",
       "    </tr>\n",
       "    <tr>\n",
       "      <th>FLOORSMIN_AVG</th>\n",
       "      <td>208642</td>\n",
       "      <td>67.8</td>\n",
       "    </tr>\n",
       "    <tr>\n",
       "      <th>YEARS_BUILD_MODE</th>\n",
       "      <td>204488</td>\n",
       "      <td>66.5</td>\n",
       "    </tr>\n",
       "    <tr>\n",
       "      <th>YEARS_BUILD_MEDI</th>\n",
       "      <td>204488</td>\n",
       "      <td>66.5</td>\n",
       "    </tr>\n",
       "    <tr>\n",
       "      <th>YEARS_BUILD_AVG</th>\n",
       "      <td>204488</td>\n",
       "      <td>66.5</td>\n",
       "    </tr>\n",
       "    <tr>\n",
       "      <th>OWN_CAR_AGE</th>\n",
       "      <td>202929</td>\n",
       "      <td>66.0</td>\n",
       "    </tr>\n",
       "    <tr>\n",
       "      <th>LANDAREA_AVG</th>\n",
       "      <td>182590</td>\n",
       "      <td>59.4</td>\n",
       "    </tr>\n",
       "    <tr>\n",
       "      <th>LANDAREA_MEDI</th>\n",
       "      <td>182590</td>\n",
       "      <td>59.4</td>\n",
       "    </tr>\n",
       "    <tr>\n",
       "      <th>LANDAREA_MODE</th>\n",
       "      <td>182590</td>\n",
       "      <td>59.4</td>\n",
       "    </tr>\n",
       "    <tr>\n",
       "      <th>BASEMENTAREA_MEDI</th>\n",
       "      <td>179943</td>\n",
       "      <td>58.5</td>\n",
       "    </tr>\n",
       "    <tr>\n",
       "      <th>BASEMENTAREA_AVG</th>\n",
       "      <td>179943</td>\n",
       "      <td>58.5</td>\n",
       "    </tr>\n",
       "    <tr>\n",
       "      <th>BASEMENTAREA_MODE</th>\n",
       "      <td>179943</td>\n",
       "      <td>58.5</td>\n",
       "    </tr>\n",
       "    <tr>\n",
       "      <th>EXT_SOURCE_1</th>\n",
       "      <td>173378</td>\n",
       "      <td>56.4</td>\n",
       "    </tr>\n",
       "    <tr>\n",
       "      <th>NONLIVINGAREA_MEDI</th>\n",
       "      <td>169682</td>\n",
       "      <td>55.2</td>\n",
       "    </tr>\n",
       "    <tr>\n",
       "      <th>NONLIVINGAREA_MODE</th>\n",
       "      <td>169682</td>\n",
       "      <td>55.2</td>\n",
       "    </tr>\n",
       "    <tr>\n",
       "      <th>NONLIVINGAREA_AVG</th>\n",
       "      <td>169682</td>\n",
       "      <td>55.2</td>\n",
       "    </tr>\n",
       "    <tr>\n",
       "      <th>ELEVATORS_MEDI</th>\n",
       "      <td>163891</td>\n",
       "      <td>53.3</td>\n",
       "    </tr>\n",
       "    <tr>\n",
       "      <th>ELEVATORS_MODE</th>\n",
       "      <td>163891</td>\n",
       "      <td>53.3</td>\n",
       "    </tr>\n",
       "    <tr>\n",
       "      <th>ELEVATORS_AVG</th>\n",
       "      <td>163891</td>\n",
       "      <td>53.3</td>\n",
       "    </tr>\n",
       "  </tbody>\n",
       "</table>\n",
       "</div>"
      ],
      "text/plain": [
       "                          missing values  % of total values\n",
       "COMMONAREA_MEDI                   214865               69.9\n",
       "COMMONAREA_AVG                    214865               69.9\n",
       "COMMONAREA_MODE                   214865               69.9\n",
       "NONLIVINGAPARTMENTS_MEDI          213514               69.4\n",
       "NONLIVINGAPARTMENTS_MODE          213514               69.4\n",
       "NONLIVINGAPARTMENTS_AVG           213514               69.4\n",
       "FONDKAPREMONT_MODE                210295               68.4\n",
       "LIVINGAPARTMENTS_MODE             210199               68.4\n",
       "LIVINGAPARTMENTS_MEDI             210199               68.4\n",
       "LIVINGAPARTMENTS_AVG              210199               68.4\n",
       "FLOORSMIN_MODE                    208642               67.8\n",
       "FLOORSMIN_MEDI                    208642               67.8\n",
       "FLOORSMIN_AVG                     208642               67.8\n",
       "YEARS_BUILD_MODE                  204488               66.5\n",
       "YEARS_BUILD_MEDI                  204488               66.5\n",
       "YEARS_BUILD_AVG                   204488               66.5\n",
       "OWN_CAR_AGE                       202929               66.0\n",
       "LANDAREA_AVG                      182590               59.4\n",
       "LANDAREA_MEDI                     182590               59.4\n",
       "LANDAREA_MODE                     182590               59.4\n",
       "BASEMENTAREA_MEDI                 179943               58.5\n",
       "BASEMENTAREA_AVG                  179943               58.5\n",
       "BASEMENTAREA_MODE                 179943               58.5\n",
       "EXT_SOURCE_1                      173378               56.4\n",
       "NONLIVINGAREA_MEDI                169682               55.2\n",
       "NONLIVINGAREA_MODE                169682               55.2\n",
       "NONLIVINGAREA_AVG                 169682               55.2\n",
       "ELEVATORS_MEDI                    163891               53.3\n",
       "ELEVATORS_MODE                    163891               53.3\n",
       "ELEVATORS_AVG                     163891               53.3"
      ]
     },
     "execution_count": 18,
     "metadata": {},
     "output_type": "execute_result"
    }
   ],
   "source": [
    "# missing value 통계\n",
    "missing_values = missing_values_table(app_train)\n",
    "missing_values.head(30)"
   ]
  },
  {
   "cell_type": "markdown",
   "metadata": {},
   "source": [
    "모델을 만들기 전에 우리는 이 missing value들을 채워줘야 한다(=imputation). 나중에 **imputation할 필요가 없이 missing value를 처리하는 XGBoost** 모델을 후에 사용할 것이다. 다른 방법으로는 높은 비율을 가진 feature들은 제거하는 것이다. 일단은 이 feature들을 버리지 않고 가져갈 예정."
   ]
  },
  {
   "cell_type": "markdown",
   "metadata": {},
   "source": [
    "### 4.3. Column Types\n",
    "이번에는 각 column들의 자료형을 살펴보자. `int64`와 `float64`는 numerical variable(discrete하거나 continous함)이며, `object`는 문자열을 포함한 **categorical feature**이다."
   ]
  },
  {
   "cell_type": "code",
   "execution_count": 19,
   "metadata": {
    "ExecuteTime": {
     "end_time": "2020-08-17T09:25:44.901517Z",
     "start_time": "2020-08-17T09:25:44.881517Z"
    }
   },
   "outputs": [
    {
     "data": {
      "text/plain": [
       "float64    65\n",
       "int64      41\n",
       "object     16\n",
       "dtype: int64"
      ]
     },
     "execution_count": 19,
     "metadata": {},
     "output_type": "execute_result"
    }
   ],
   "source": [
    "# 자료형 별 feature의 개수\n",
    "app_train.dtypes.value_counts()"
   ]
  },
  {
   "cell_type": "markdown",
   "metadata": {},
   "source": [
    "`object` column 즉, **categorical feature의 unique value의 개수**를 보자.\n",
    "\n",
    "> **DataFrame.select_dtypes(include=None, exclude=None)**   \n",
    "> column의 dtype을 기반으로 dataframe의 부분집합(dataframe)을 반환\n",
    "> * `include/exclude` : 포함/미포함할 dtype 혹은 string값\n",
    "\n",
    "> **Series.nunique(dropna=True)**    \n",
    "> unique value의 개수를 반환\n",
    "> * `dropna` : NaN을 포함하지 않을 건지"
   ]
  },
  {
   "cell_type": "code",
   "execution_count": 20,
   "metadata": {
    "ExecuteTime": {
     "end_time": "2020-08-17T09:26:56.744261Z",
     "start_time": "2020-08-17T09:26:56.518279Z"
    }
   },
   "outputs": [
    {
     "data": {
      "text/plain": [
       "NAME_CONTRACT_TYPE             2\n",
       "CODE_GENDER                    3\n",
       "FLAG_OWN_CAR                   2\n",
       "FLAG_OWN_REALTY                2\n",
       "NAME_TYPE_SUITE                7\n",
       "NAME_INCOME_TYPE               8\n",
       "NAME_EDUCATION_TYPE            5\n",
       "NAME_FAMILY_STATUS             6\n",
       "NAME_HOUSING_TYPE              6\n",
       "OCCUPATION_TYPE               18\n",
       "WEEKDAY_APPR_PROCESS_START     7\n",
       "ORGANIZATION_TYPE             58\n",
       "FONDKAPREMONT_MODE             4\n",
       "HOUSETYPE_MODE                 3\n",
       "WALLSMATERIAL_MODE             7\n",
       "EMERGENCYSTATE_MODE            2\n",
       "dtype: int64"
      ]
     },
     "execution_count": 20,
     "metadata": {},
     "output_type": "execute_result"
    }
   ],
   "source": [
    "# object column의 unique value의 개수\n",
    "app_train.select_dtypes('object').apply(pd.Series.nunique, axis=0)"
   ]
  },
  {
   "cell_type": "markdown",
   "metadata": {},
   "source": [
    "대부분의 categorical variable이 **비교적 적은 개수의 unique value**를 갖고 있는 걸 볼 수 있다. 나중에 이 categorical variable을 처리할 방법이 필요할 것이다!"
   ]
  },
  {
   "cell_type": "markdown",
   "metadata": {},
   "source": [
    "### 4.4. Encoding Categorical Variables\n",
    "그 다음 단계로 가기 전에, 우리는 이 성가신 cateogorical variable을 처리할 필요가 있다. *LightGBM*과 같은 몇몇 모델을 제외하고 머신러닝 모델은 categorical variable을 처리할 수가 없다. 그러므로 우리는 이 variable을 모델에 넣기 전에 **숫자로 encoding하는 방법**을 찾아야 한다. 이 방법으로는 크게 2가지가 있다.\n",
    "\n",
    "* **Lable Encoding** : 각각의 unique category를 정수(integer)로 변환하는 것. 새로운 column을 만들 필요가 없다.\n",
    "![label-encoding](../img/label-encoding.png)\n",
    "* **One-hot Encoding** : 각 unique category만큼 column을 생성하여 해당 value에 해당하는 column은 1을, 아닌 column들에는 0을 할당하는 방법\n",
    "![one-hot-encoding](../img/one-hot-encoding.png)\n",
    "\n",
    "*Label Encoding*의 문제는 category에 임의로 순서를 주게 된다는 것이다. 각 category에 할당된 value는 랜덤이고 category 자체에 아무런 영향을 주지 않는다. 하지만 모델은 이 상대적인 값을 가중치로 인식할 수 있다. 만약 `여자/남자`와 같이 unique value가 2개라면은 *Label Encoding*은 괜찮지만, 2개 이상이면 *One-hot Encoding*을 하는 것이 안전한 선택일 것이다.\n",
    "\n",
    "두 방법의 상대적인 장점에 대한 토론들이 많으며 몇몇 모델은 *Label Encoding*의 단점을 큰 문제없이 잘 해결하기도 한다. 나(저자)는 **많은 class를 가진 categorical variable이라면 category에 임의로 value를 할당하지 않는 _One-hot Encoding_이 가장 안전한 방법**이라 생각한다. _One-hot Encoding_의 유일한 단점이라면 많은 category를 가진 categorical variable의 경우 encoding 후 feature의 개수가 폭발적으로 늘을 수 있다는 점이다. 이 문제를 해결하기 위해 **차원을 낮출 수 있는 PCA나 다른 차원 축소 방식**을 사용하여 _One-hot Encoding_을 할 수 있다.\n",
    "\n",
    "이 Notebook에서는 **2개의 category를 가진 categorical variable에서는 _Label Encoding_을, 2개 이상의 category를 가진 categorical variable에선 _One-hot Encoding_을 사용**할 것이다. (다만 여기서는 차원축소방식을 사용하지 않을 예정)"
   ]
  },
  {
   "cell_type": "markdown",
   "metadata": {},
   "source": [
    "#### 4.4.1. Label Encoding and One-Hot Encoding\n",
    "위에서 말했던 것처럼 `dtype==object`인 2개의 category를 가진 categorical variable은 *Label Ecoding*을 사용하고 2개 이상의 category를 가진 경우는 *One-hot Encoding*을 사용할 것이다.\n",
    "\n",
    "*Label Encoding*으로는 sklearn의 `LabelEncoder`를, *One-hot Encoding*으로는 pandas의 `get_dummies(df)`를 사용할 것이다."
   ]
  },
  {
   "cell_type": "code",
   "execution_count": 21,
   "metadata": {
    "ExecuteTime": {
     "end_time": "2020-08-17T09:58:30.951632Z",
     "start_time": "2020-08-17T09:58:30.599507Z"
    }
   },
   "outputs": [
    {
     "name": "stdout",
     "output_type": "stream",
     "text": [
      "3 columns were label encoded.\n"
     ]
    }
   ],
   "source": [
    "# label encoding\n",
    "le = LabelEncoder()\n",
    "le_count = 0\n",
    "\n",
    "# feature를 순회\n",
    "for col in app_train:\n",
    "    if app_train[col].dtype == 'object':\n",
    "        # category가 2개 이하일 경우\n",
    "        if len(list(app_train[col].unique())) <= 2:\n",
    "            # train data로 학습\n",
    "            le.fit(app_train[col])\n",
    "            # train data와 test data 모두 적용\n",
    "            app_train[col] = le.transform(app_train[col])\n",
    "            app_test[col] = le.transform(app_test[col])\n",
    "            \n",
    "            # 몇 개의 column이 encoding되었는지 카운트\n",
    "            le_count += 1\n",
    "\n",
    "print('{} columns were label encoded.'.format(le_count))"
   ]
  },
  {
   "cell_type": "code",
   "execution_count": 22,
   "metadata": {
    "ExecuteTime": {
     "end_time": "2020-08-17T09:59:18.538862Z",
     "start_time": "2020-08-17T09:59:17.926893Z"
    }
   },
   "outputs": [
    {
     "name": "stdout",
     "output_type": "stream",
     "text": [
      "training features shape : (307511, 243)\n",
      "testing features shape : (48744, 239)\n"
     ]
    }
   ],
   "source": [
    "# one-hot encoding\n",
    "app_train = pd.get_dummies(app_train)\n",
    "app_test = pd.get_dummies(app_test)\n",
    "\n",
    "print('training features shape :', app_train.shape)\n",
    "print('testing features shape :', app_test.shape)"
   ]
  },
  {
   "cell_type": "markdown",
   "metadata": {},
   "source": [
    "#### 4.4.2. Aligning Training and Testing Data\n",
    "train data와 test data 모두 같은 feature를 가지고 있어야 한다. test data에서 표현되지 않는 category를 포함한 categorical variable을 가지고 있어서 *One-hot encoding*은 train data에 더 많은 column을 만들게 된다. train data에만 있고 test data에는 없는 column들을 제거하기 위해 **dataframe을 `align`**시킬 필요가 있다.\n",
    "\n",
    "먼저 train data에서 `TARGET`을 뽑아낸다. 그리고 `align`을 할 때, columns을 바탕으로 정렬하기 위해 꼭 `axis=1`로 세팅시켜야 한다. 그래야 feature를 기준으로 조정을 할 수 있다.\n",
    "\n",
    "> **DataFrame.align(other, join='outer', axis=None)**\n",
    "> 정의된 `join`함수와 `axis`로 두 객체를 조정\n",
    "> - `other` : Dataframe or Series\n",
    "> - `join` : outer, inner, left, right 중 하나 (집합 관계)\n",
    "> - `axis` : index, column 혹은 둘다 중 무엇을 기준으로 조정할지"
   ]
  },
  {
   "cell_type": "code",
   "execution_count": 23,
   "metadata": {
    "ExecuteTime": {
     "end_time": "2020-08-17T10:08:43.839333Z",
     "start_time": "2020-08-17T10:08:43.525337Z"
    }
   },
   "outputs": [
    {
     "name": "stdout",
     "output_type": "stream",
     "text": [
      "training features shape : (307511, 240)\n",
      "testing features shape : (48744, 239)\n"
     ]
    }
   ],
   "source": [
    "train_labels = app_train['TARGET']\n",
    "\n",
    "# train data와 test data를 align : 두 dataset에 있는 feature만 보존\n",
    "app_train, app_test = app_train.align(app_test, join='inner', axis=1)\n",
    "\n",
    "# target을 다시 train data로\n",
    "app_train['TARGET'] = train_labels\n",
    "\n",
    "print('training features shape :', app_train.shape)\n",
    "print('testing features shape :', app_test.shape)"
   ]
  },
  {
   "cell_type": "markdown",
   "metadata": {},
   "source": [
    "train과 test dataset 모두 같은 feature를 갖게 되었다. feature의 개수는 *One-hot Encoding*에 의해 눈에 띄게 늘어났다. 원한다면 관계가 없는 feature를 제거하는 **차원 축소 방법**을 사용하여 dataset의 크기를 줄일 수도 있다."
   ]
  },
  {
   "cell_type": "markdown",
   "metadata": {},
   "source": [
    "### 4.5. Back to Exploratory Data Analysis\n",
    "#### 4.5.1. Anomalies\n",
    "EDA를 할 때 항상 맞닥드리는 문제는 바로 데이터 내의 **비정상 데이터(anomalies)**이다. 이런 데이터가 생기는 이유는 잘못 쳤을 수도 있고, 측정 장비의 오류 또는 극단적인 측정 때문일 수도 있다. \n",
    "\n",
    "이 데이터를 정량적으로 지원(quantitaively support)하는 방법은 `describe` 함수를 사용해 column의 통계를 내보는 것이다. `DAYS_BIRTH` COLUMN의 숫자는 음수인데 현재의 대출 신청을 기준으로 측정되었기 때문이다. 이러한 통계치를 년(year) 단위로 보려면, -1을 곱하고 365를 나누어주면 된다."
   ]
  },
  {
   "cell_type": "code",
   "execution_count": 24,
   "metadata": {
    "ExecuteTime": {
     "end_time": "2020-08-17T10:19:27.716258Z",
     "start_time": "2020-08-17T10:19:27.677271Z"
    }
   },
   "outputs": [
    {
     "data": {
      "text/plain": [
       "count    307511.000000\n",
       "mean         43.936973\n",
       "std          11.956133\n",
       "min          20.517808\n",
       "25%          34.008219\n",
       "50%          43.150685\n",
       "75%          53.923288\n",
       "max          69.120548\n",
       "Name: DAYS_BIRTH, dtype: float64"
      ]
     },
     "execution_count": 24,
     "metadata": {},
     "output_type": "execute_result"
    }
   ],
   "source": [
    "(app_train['DAYS_BIRTH'] / -365).describe()"
   ]
  },
  {
   "cell_type": "markdown",
   "metadata": {},
   "source": [
    "이렇게 변환한 뒤 보면 꽤 괜찮아 보인다. 너무 높거나 너무 낮은 연령이 없는 걸 보아 이상치(outlier)도 없다. 그럼 `DAYS_EMPLOYED`는 어떨까?"
   ]
  },
  {
   "cell_type": "code",
   "execution_count": 25,
   "metadata": {
    "ExecuteTime": {
     "end_time": "2020-08-17T10:20:43.300015Z",
     "start_time": "2020-08-17T10:20:43.275048Z"
    }
   },
   "outputs": [
    {
     "data": {
      "text/plain": [
       "count    307511.000000\n",
       "mean      63815.045904\n",
       "std      141275.766519\n",
       "min      -17912.000000\n",
       "25%       -2760.000000\n",
       "50%       -1213.000000\n",
       "75%        -289.000000\n",
       "max      365243.000000\n",
       "Name: DAYS_EMPLOYED, dtype: float64"
      ]
     },
     "execution_count": 25,
     "metadata": {},
     "output_type": "execute_result"
    }
   ],
   "source": [
    "app_train['DAYS_EMPLOYED'].describe()"
   ]
  },
  {
   "cell_type": "markdown",
   "metadata": {},
   "source": [
    "딱 봐도 잘못된 것처럼 보인다. 최대값이 거의 1000년이다!"
   ]
  },
  {
   "cell_type": "code",
   "execution_count": 26,
   "metadata": {
    "ExecuteTime": {
     "end_time": "2020-08-17T10:21:22.226222Z",
     "start_time": "2020-08-17T10:21:22.064221Z"
    }
   },
   "outputs": [
    {
     "data": {
      "text/plain": [
       "Text(0.5, 0, 'days employment')"
      ]
     },
     "execution_count": 26,
     "metadata": {},
     "output_type": "execute_result"
    },
    {
     "data": {
      "image/png": "[encoded data removed]",
      "text/plain": [
       "<Figure size 432x288 with 1 Axes>"
      ]
     },
     "metadata": {
      "needs_background": "light"
     },
     "output_type": "display_data"
    }
   ],
   "source": [
    "app_train['DAYS_EMPLOYED'].plot.hist(title='days employment histogram')\n",
    "plt.xlabel('days employment')"
   ]
  },
  {
   "cell_type": "markdown",
   "metadata": {},
   "source": [
    "비정상 고객이 정상 고객에 비해 **대출상환 비율이 더 높은지 낮은지** 살펴보자."
   ]
  },
  {
   "cell_type": "code",
   "execution_count": 28,
   "metadata": {
    "ExecuteTime": {
     "end_time": "2020-08-17T10:27:07.961957Z",
     "start_time": "2020-08-17T10:27:07.792661Z"
    }
   },
   "outputs": [
    {
     "name": "stdout",
     "output_type": "stream",
     "text": [
      "the non-anomalies default on 8.66% of loans.\n",
      "the anomalies default on 5.40% of loans.\n",
      "there are 55374 anomalies days of employment.\n"
     ]
    }
   ],
   "source": [
    "anom = app_train[app_train['DAYS_EMPLOYED'] == 365243]\n",
    "non_anom = app_train[app_train['DAYS_EMPLOYED'] != 365243]\n",
    "print('the non-anomalies default on {:.2f}% of loans.'.format(100*non_anom['TARGET'].mean()))\n",
    "print('the anomalies default on {:.2f}% of loans.'.format(100*anom['TARGET'].mean()))\n",
    "print('there are {} anomalies days of employment.'.format(len(anom)))"
   ]
  },
  {
   "cell_type": "markdown",
   "metadata": {},
   "source": [
    "**비정상 고객이 대출상환 비율이 더 낮은 것**으로 나타나고 있다.\n",
    "\n",
    "비정상 데이터를 다루는 것은 정해진 규칙이 없으며 상황에 따라 달라진다. 가장 안전한 방법 중 하나는 **학습 전에 비정상 데이터의 값을 missing value로 변환하고 Imputation을 통해 채우는 것**이다. 이러한 경우 모든 비정상 데이터들이 같은 값을 가지기 때문에, 모든 대출이 공통적으로 공유될 경우(?)에 대비하여 모두 같은 값으로 채울 것이다. (비정상 데이터 값이 위에서 보면 365243이니까 missing value도 같은 값으로 채워도 괜찮다는 뜻인듯)\n",
    "\n",
    "비정상 데이터들도 어느정도 중요하기 때문에 머신러닝 모델에 이 값들을 채웠는지 말해주고 싶을 것이다. 이에 대한 해결책으로 **비정상 데이터의 값을 NaN으로** 채우고 **`boolean` column**을 만들어 이 값이 비정상인지 아닌지 나타낼 수 있다."
   ]
  },
  {
   "cell_type": "code",
   "execution_count": 31,
   "metadata": {
    "ExecuteTime": {
     "end_time": "2020-08-17T10:37:02.067375Z",
     "start_time": "2020-08-17T10:37:01.870044Z"
    }
   },
   "outputs": [
    {
     "data": {
      "text/plain": [
       "Text(0.5, 0, 'days employment')"
      ]
     },
     "execution_count": 31,
     "metadata": {},
     "output_type": "execute_result"
    },
    {
     "data": {
      "image/png": "[encoded data removed]",
      "text/plain": [
       "<Figure size 432x288 with 1 Axes>"
      ]
     },
     "metadata": {
      "needs_background": "light"
     },
     "output_type": "display_data"
    }
   ],
   "source": [
    "#  anomalous flag column 생성\n",
    "app_train['DAYS_EMPLOYED_ANOM'] = app_train['DAYS_EMPLOYED'] == 365243\n",
    "\n",
    "# anomalous value를 nan으로 변환\n",
    "app_train['DAYS_EMPLOYED'].replace({365243: np.nan}, inplace=True)\n",
    "\n",
    "app_train['DAYS_EMPLOYED'].plot.hist(title='days employment histogram')\n",
    "plt.xlabel('days employment')"
   ]
  },
  {
   "cell_type": "markdown",
   "metadata": {},
   "source": [
    "분포(distribution)는 예상했던 것과 거의 일치하고 모델에게 이 value가 비정상적인 건이 알려주는 새로운 column도 생성하였다. (nan값으로 변환하였고 feature engineering 때 아마 median값으로 대체될 것임) `DAYS`라는 이름을 가지느 다른 column도 눈에 띄는 이상치(outlier)가 없는 것으로 보인다.\n",
    "\n",
    "정말 정말 중요! **우리가 train data에서 수행한 작업은 test data에서도 똑같이 해줘야 한다.** test data도 동일하게 새로운 column을 만들고 기존 column에 `np.nan`으로 채워주자."
   ]
  },
  {
   "cell_type": "code",
   "execution_count": 33,
   "metadata": {
    "ExecuteTime": {
     "end_time": "2020-08-17T10:44:18.639042Z",
     "start_time": "2020-08-17T10:44:18.620015Z"
    }
   },
   "outputs": [
    {
     "name": "stdout",
     "output_type": "stream",
     "text": [
      "there are 9274 anomalies in the test data out of 48744 entries\n"
     ]
    }
   ],
   "source": [
    "app_test['DAYS_EMPLOYED_ANOM'] = app_test['DAYS_EMPLOYED'] == 365243\n",
    "app_test['DAYS_EMPLOYED'].replace({365243: np.nan}, inplace=True)\n",
    "\n",
    "print('there are {} anomalies in the test data out of {} entries'.format(\n",
    "    app_test['DAYS_EMPLOYED_ANOM'].sum(), len(app_test)))"
   ]
  },
  {
   "cell_type": "markdown",
   "metadata": {},
   "source": [
    "#### 4.5.2. Correlations\n",
    "categorical variable과 이상치에 대한 처리가 끝났다! 이제 다시 EDA로 돌아가보자. 데이터를 이해하는 방법 중 하나는 **feature와 target 간의 상관관계**를 확인하는 것이다. dataframe의 `corr` 함수르르 사용해 각 variable과 target 간의 피어슨 상관계수를 계산할 수 있다.\n",
    "\n",
    "상관계수는 feature의 연관성(relevance)를 표현하기 위한 아주 좋은 방법은 아니지만 데이터 간의 생각해볼만한 관계에 대한 아이디어를 던져준다. 일반적으로 상관계수의 값은 다음과 같이 인식된다:\n",
    "* `.00 - .19` : 매우 낮음\n",
    "* `.20 - .39` : 낮음\n",
    "* `.40 - .59` : 보통\n",
    "* `.60 - .79` : 높음\n",
    "* `.80 - 1.0` : 매우 높음"
   ]
  },
  {
   "cell_type": "code",
   "execution_count": 34,
   "metadata": {
    "ExecuteTime": {
     "end_time": "2020-08-17T11:02:59.465138Z",
     "start_time": "2020-08-17T11:02:07.688551Z"
    }
   },
   "outputs": [
    {
     "name": "stdout",
     "output_type": "stream",
     "text": [
      "most positive correlations :\n",
      " OCCUPATION_TYPE_Laborers                             0.043019\n",
      "FLAG_DOCUMENT_3                                      0.044346\n",
      "REG_CITY_NOT_LIVE_CITY                               0.044395\n",
      "FLAG_EMP_PHONE                                       0.045982\n",
      "NAME_EDUCATION_TYPE_Secondary / secondary special    0.049824\n",
      "REG_CITY_NOT_WORK_CITY                               0.050994\n",
      "DAYS_ID_PUBLISH                                      0.051457\n",
      "CODE_GENDER_M                                        0.054713\n",
      "DAYS_LAST_PHONE_CHANGE                               0.055218\n",
      "NAME_INCOME_TYPE_Working                             0.057481\n",
      "REGION_RATING_CLIENT                                 0.058899\n",
      "REGION_RATING_CLIENT_W_CITY                          0.060893\n",
      "DAYS_EMPLOYED                                        0.074958\n",
      "DAYS_BIRTH                                           0.078239\n",
      "TARGET                                               1.000000\n",
      "Name: TARGET, dtype: float64\n",
      "\n",
      "most negative correlations :\n",
      " EXT_SOURCE_3                           -0.178919\n",
      "EXT_SOURCE_2                           -0.160472\n",
      "EXT_SOURCE_1                           -0.155317\n",
      "NAME_EDUCATION_TYPE_Higher education   -0.056593\n",
      "CODE_GENDER_F                          -0.054704\n",
      "NAME_INCOME_TYPE_Pensioner             -0.046209\n",
      "DAYS_EMPLOYED_ANOM                     -0.045987\n",
      "ORGANIZATION_TYPE_XNA                  -0.045987\n",
      "FLOORSMAX_AVG                          -0.044003\n",
      "FLOORSMAX_MEDI                         -0.043768\n",
      "FLOORSMAX_MODE                         -0.043226\n",
      "EMERGENCYSTATE_MODE_No                 -0.042201\n",
      "HOUSETYPE_MODE_block of flats          -0.040594\n",
      "AMT_GOODS_PRICE                        -0.039645\n",
      "REGION_POPULATION_RELATIVE             -0.037227\n",
      "Name: TARGET, dtype: float64\n"
     ]
    }
   ],
   "source": [
    "# target과의 상관계수를 기준으로 정렬\n",
    "correlations = app_train.corr()['TARGET'].sort_values()\n",
    "\n",
    "print('most positive correlations :\\n', correlations.tail(15))\n",
    "print('\\nmost negative correlations :\\n', correlations.head(15))"
   ]
  },
  {
   "cell_type": "code",
   "execution_count": null,
   "metadata": {},
   "outputs": [],
   "source": []
  }
 ],
 "metadata": {
  "kernelspec": {
   "display_name": "Python 3",
   "language": "python",
   "name": "python3"
  },
  "language_info": {
   "codemirror_mode": {
    "name": "ipython",
    "version": 3
   },
   "file_extension": ".py",
   "mimetype": "text/x-python",
   "name": "python",
   "nbconvert_exporter": "python",
   "pygments_lexer": "ipython3",
   "version": "3.7.6"
  },
  "toc": {
   "base_numbering": 1,
   "nav_menu": {},
   "number_sections": false,
   "sideBar": true,
   "skip_h1_title": false,
   "title_cell": "Table of Contents",
   "title_sidebar": "Contents",
   "toc_cell": false,
   "toc_position": {},
   "toc_section_display": true,
   "toc_window_display": false
  },
  "varInspector": {
   "cols": {
    "lenName": 16,
    "lenType": 16,
    "lenVar": 40
   },
   "kernels_config": {
    "python": {
     "delete_cmd_postfix": "",
     "delete_cmd_prefix": "del ",
     "library": "var_list.py",
     "varRefreshCmd": "print(var_dic_list())"
    },
    "r": {
     "delete_cmd_postfix": ") ",
     "delete_cmd_prefix": "rm(",
     "library": "var_list.r",
     "varRefreshCmd": "cat(var_dic_list()) "
    }
   },
   "types_to_exclude": [
    "module",
    "function",
    "builtin_function_or_method",
    "instance",
    "_Feature"
   ],
   "window_display": false
  }
 },
 "nbformat": 4,
 "nbformat_minor": 4
}
