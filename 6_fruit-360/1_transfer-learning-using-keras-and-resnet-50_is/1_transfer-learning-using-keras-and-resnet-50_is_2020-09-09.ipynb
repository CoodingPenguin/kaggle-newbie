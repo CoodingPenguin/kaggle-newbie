{
 "cells": [
  {
   "cell_type": "markdown",
   "metadata": {},
   "source": [
    "# Transfer Learning using Keras and ResNet-50 by IS - First Try\n",
    "* 데이터셋은 64종류의 과일로 이루어진 42,345장의 이미지로 이루어져 있다. \n",
    "* 일반적인 접근방법과 전이 학습으로의 접근방법을 비교해볼 것이다.\n",
    "* 2 epoch로 98.44%의 정확도를 얻을 수 있다.\n",
    "\n",
    "**목차**는 다음과 같다:\n",
    "1. 전이 학습(Transfer Learning)에 대한 간단한 설명\n",
    "2. Kaggle Kernel을 이용한 전이 학습\n",
    "3. 데이터를 로드하고 시각호\n",
    "4. 모델 설계 및 컴파일\n",
    "5. 미리 학습된 모델을 학습시키고 검증\n",
    "6. 바닐라 모델(내가 순수 만든 모델)을 학습시키고 검증\n",
    "7. 미리 학습된 모델과 바닐라모델과의 비교"
   ]
  },
  {
   "cell_type": "code",
   "execution_count": 122,
   "metadata": {
    "ExecuteTime": {
     "end_time": "2020-09-09T14:19:13.408169Z",
     "start_time": "2020-09-09T14:19:13.401189Z"
    }
   },
   "outputs": [],
   "source": [
    "import os\n",
    "from os import listdir, makedirs\n",
    "from os.path import join, exists, expanduser"
   ]
  },
  {
   "cell_type": "code",
   "execution_count": 123,
   "metadata": {
    "ExecuteTime": {
     "end_time": "2020-09-09T14:19:13.424158Z",
     "start_time": "2020-09-09T14:19:13.409167Z"
    }
   },
   "outputs": [],
   "source": [
    "from tensorflow.keras import applications\n",
    "from tensorflow.keras.preprocessing.image import ImageDataGenerator\n",
    "from tensorflow.keras import optimizers\n",
    "from tensorflow.keras.models import Sequential, Model\n",
    "from tensorflow.keras.layers import Dense, GlobalAveragePooling2D\n",
    "from tensorflow.keras.layers import Activation, Dropout, Flatten, Dense\n",
    "from tensorflow.keras import backend as K\n",
    "import tensorflow as tf"
   ]
  },
  {
   "cell_type": "markdown",
   "metadata": {},
   "source": [
    "## 1. Transfer Learning\n",
    "전이 학습에서 우리는 먼저 기본 데이터와 작업에 기반을 한 기본 신경망을 학습시키고 학습된 피처의 목적을 변경하거나 대상 데이터셋과 작업에 대한 학습을 할 두 번째 대상 신경망으로 전달한다. 이 과정은 피처가 기본 작업에 특정되지 않고 기본 작업과 대상 작업 모두에 적합한 일반적인 피처라면 잘 작동하는 경향이 있다.\n",
    "\n",
    "Lisa Torrey와 Jude Shavlik은 전이 학습에 대한 챕터에서 전이학습을 사용할 때의 3가지 이점을 설명하고 있다:\n",
    "* 더 빠른 출발이 가능하다 : 소스 모델의 초기 스킬이(모델을 정제하기 전) 그렇지 않은 경우보다 높다.\n",
    "* 더 높은 경사 : 소스 모델을 학습시키는 동안 스킬의 향상속도가 그렇지 않은 경우보다 더 깊다.\n",
    "* 더 높은 점근선(asymptote) : 학습된 모델의 수렴 스킬이 그렇지 않은 모델보다 더 좋다.\n",
    "\n",
    "![transfer-learning-benefits](../img/transfer-learning-benefits.png)\n",
    "\n",
    "기본적으로 미리 학습된 모델(다른 누군가에 의해 매우 큰 데이터셋으로 학습이 완료된 신경망의 가중치와 파라미터들)을 가져와서 우리 자신의 데이터셋으로 \"세밀 조정(fine tuning)\"을 한다. 전이 학습의 아이디어는 미리 학습된 모델은 초기화된 가중치를 제공하여 수렴 속도를 높이거나 관심 업무를 위한 고정 피처추출기 역할을 하는 것이다.\n",
    "\n",
    "두 가지 주요 전이학습 시나리오는 다음과 같다:\n",
    "* ConvNet 세밀 조정(Fine Tuning)하기: 임의의 값으로 가중치를 초기화시키는 대신 미리 학습된 신경망의 가중치로 신경망을 초기화한다. 예를 들면 ImageNet 1000과 같은 큰 데이터셋으로 미리 훈련된 신경망 말이다. 이 시나리오에서는 전체적인 신경망이 우리과 관심있는 데이터셋으로 다시 학습되어야 할 필요가 있다.\n",
    "* ConvNet을 고정 피처 추출기로 사용하기 : 여기서 최종 완결연결계층을 제외한 모든 신경망에 대한 가중치를 동결(freeze)한다. (멈춘다의 의미인가?) 이 마지막 완전연결 계층은 임의의 가중치로 이루어진 새로운 층으로 대체되고 이 층만 학습시킨다.\n",
    "\n",
    "이 노트북에서는 첫 번째 시나리오를 따른다."
   ]
  },
  {
   "cell_type": "markdown",
   "metadata": {},
   "source": [
    "## 2. Transfer Learning using Kaggle Kernels\n",
    "### 2.1. Using the Keras Pretrained Models dataset\n",
    "캐글 커널은 네트워크 연결이 되지 않으므로 미리 훈련된 케라스 모델을 다운로드 받을 수 없다. (주피터에서는 가능) [이 데이터셋](https://www.kaggle.com/moltean/fruits)은 우리가 원하는 미리 학습된 모델을 캐글 커널 환경에서 사용할 수 있도록 도와준다.\n",
    "\n",
    "우리가 해줘야 할 것은 케라스가 찾고 있는 캐시 디렉토리(~/.keras/models)에 미리 학습된 모델을 복사하는 것이다."
   ]
  },
  {
   "cell_type": "code",
   "execution_count": 124,
   "metadata": {
    "ExecuteTime": {
     "end_time": "2020-09-09T14:19:13.440111Z",
     "start_time": "2020-09-09T14:19:13.425125Z"
    }
   },
   "outputs": [],
   "source": [
    "# 케라스에서만\n",
    "cache_dir = expanduser(join('~', '.keras'))\n",
    "if not exists(cache_dir):\n",
    "    makedirs(cache_dir)\n",
    "models_dir = join(cache_dir, 'models')\n",
    "if not exists(models_dir):\n",
    "    makedirs(models_dir)"
   ]
  },
  {
   "cell_type": "code",
   "execution_count": 125,
   "metadata": {
    "ExecuteTime": {
     "end_time": "2020-09-09T14:19:13.580702Z",
     "start_time": "2020-09-09T14:19:13.441083Z"
    }
   },
   "outputs": [
    {
     "name": "stdout",
     "output_type": "stream",
     "text": [
      "명령 구문이 올바르지 않습니다.\n",
      "명령 구문이 올바르지 않습니다.\n",
      "명령 구문이 올바르지 않습니다.\n",
      "Available Pretrained Models:\n",
      "\n"
     ]
    },
    {
     "name": "stderr",
     "output_type": "stream",
     "text": [
      "스위치가 틀립니다 - \".keras\".\n"
     ]
    }
   ],
   "source": [
    "# 아래 모델들은 Github에서 공유되고 있는 imagenet1000의 모델을 가져오는 듯\n",
    "!copy ../data/keras-pretrained-models/*notop* ~/.keras/models/\n",
    "!copy ../data/keras-pretrained-models/imagenet_class_index.json ~/.keras/models/\n",
    "!copy ../data/keras-pretrained-models/resnet50* ~/.keras/models/\n",
    "\n",
    "print(\"Available Pretrained Models:\\n\")\n",
    "!dir ~/.keras/models"
   ]
  },
  {
   "cell_type": "markdown",
   "metadata": {},
   "source": [
    "## 3. Reading and Visualizing the Data\n",
    "### 3.1. Reading the Data\n",
    "케라스의 나머지 부분과 마찬가지로 이미지 Augmentation API가 간단하고 엄청나다. 우리는 ImageDataGenerator를 사용하여 데이터를 가져와 신경망에 넣을 것이다.\n",
    "\n",
    "케라스는 ImageDataGenerator 클래스를 제공하는데 이 클래스는 이미지 데이터 준미 및 Augmentation에 대한 설정을 정의한다. 메모리 내 전체 이미지 데이터셋에 대한 작업을 수행하는 대신, 이 API는 딥러닝 모델 학습 과정에 의해 반복되도록(iterated) 설계되어 딱딱 Augmented 이미지를 생성한다. 이렇게 하면 메모리 부하를 줄일 수 있지만, 모델 학습 중에 약간의 시간 비용이 추가된다.\n",
    "\n",
    "데이터 생성기 자체는 요청 시 디렉토리에서 이미지 샘플 배치를 반환하는 사실상 이터레이터(iterator)이다. `flow_from_directory()` 함수를 호출하여 배치 크기를 정하고 데이터 생성기를 준비하면 이미지의 배치를 얻을 수 있다."
   ]
  },
  {
   "cell_type": "code",
   "execution_count": 126,
   "metadata": {
    "ExecuteTime": {
     "end_time": "2020-09-09T14:19:13.596784Z",
     "start_time": "2020-09-09T14:19:13.581739Z"
    }
   },
   "outputs": [],
   "source": [
    "# 이미지의 차원\n",
    "# 미리 학습된 모델의 이미지 크기에 맞춤\n",
    "img_width, img_height = 224, 224\n",
    "\n",
    "train_data_dir = '../data/Training'\n",
    "validation_data_dir = '../data/Test'\n",
    "nb_train_samples = 31688\n",
    "nb_validation_samples = 10657\n",
    "batch_size=16"
   ]
  },
  {
   "cell_type": "code",
   "execution_count": 127,
   "metadata": {
    "ExecuteTime": {
     "end_time": "2020-09-09T14:19:13.612637Z",
     "start_time": "2020-09-09T14:19:13.597652Z"
    }
   },
   "outputs": [],
   "source": [
    "train_datagen = ImageDataGenerator(\n",
    "    rescale=1. / 255,\n",
    "    shear_range=0.2,\n",
    "    zoom_range=0.2,\n",
    "    horizontal_flip=True)\n",
    "\n",
    "test_datagen = ImageDataGenerator(rescale=1. / 255)"
   ]
  },
  {
   "cell_type": "code",
   "execution_count": 128,
   "metadata": {
    "ExecuteTime": {
     "end_time": "2020-09-09T14:19:17.338073Z",
     "start_time": "2020-09-09T14:19:13.613609Z"
    }
   },
   "outputs": [
    {
     "name": "stdout",
     "output_type": "stream",
     "text": [
      "Found 67692 images belonging to 131 classes.\n",
      "Found 22688 images belonging to 131 classes.\n"
     ]
    }
   ],
   "source": [
    "train_generator = train_datagen.flow_from_directory(\n",
    "    train_data_dir,\n",
    "    target_size=(img_height, img_width),\n",
    "    batch_size=batch_size,\n",
    "    class_mode='categorical')\n",
    "\n",
    "validation_generator = test_datagen.flow_from_directory(\n",
    "    validation_data_dir,\n",
    "    target_size=(img_height, img_width),\n",
    "    batch_size=batch_size,\n",
    "    class_mode='categorical')"
   ]
  },
  {
   "cell_type": "markdown",
   "metadata": {},
   "source": [
    "### 3.2. Visualizing the Data"
   ]
  },
  {
   "cell_type": "code",
   "execution_count": 129,
   "metadata": {
    "ExecuteTime": {
     "end_time": "2020-09-09T14:19:17.353037Z",
     "start_time": "2020-09-09T14:19:17.340068Z"
    }
   },
   "outputs": [
    {
     "data": {
      "text/html": [
       "        <script type=\"text/javascript\">\n",
       "        window.PlotlyConfig = {MathJaxConfig: 'local'};\n",
       "        if (window.MathJax) {MathJax.Hub.Config({SVG: {font: \"STIX-Web\"}});}\n",
       "        if (typeof require !== 'undefined') {\n",
       "        require.undef(\"plotly\");\n",
       "        requirejs.config({\n",
       "            paths: {\n",
       "                'plotly': ['https://cdn.plot.ly/plotly-latest.min']\n",
       "            }\n",
       "        });\n",
       "        require(['plotly'], function(Plotly) {\n",
       "            window._Plotly = Plotly;\n",
       "        });\n",
       "        }\n",
       "        </script>\n",
       "        "
      ]
     },
     "metadata": {},
     "output_type": "display_data"
    }
   ],
   "source": [
    "import pandas as pd\n",
    "from plotly.offline import init_notebook_mode, iplot\n",
    "import plotly.graph_objs as go\n",
    "init_notebook_mode(connected=True)"
   ]
  },
  {
   "cell_type": "code",
   "execution_count": 130,
   "metadata": {
    "ExecuteTime": {
     "end_time": "2020-09-09T14:19:17.368991Z",
     "start_time": "2020-09-09T14:19:17.355029Z"
    }
   },
   "outputs": [],
   "source": [
    "training_data = pd.DataFrame(train_generator.classes, columns=['classes'])\n",
    "testing_data = pd.DataFrame(validation_generator.classes, columns=['classes'])"
   ]
  },
  {
   "cell_type": "code",
   "execution_count": 131,
   "metadata": {
    "ExecuteTime": {
     "end_time": "2020-09-09T14:19:17.384978Z",
     "start_time": "2020-09-09T14:19:17.370988Z"
    }
   },
   "outputs": [],
   "source": [
    "def create_stack_bar_data(col, df):\n",
    "    aggregated = df[col].value_counts().sort_index()\n",
    "    x_values = aggregated.index.tolist()\n",
    "    y_values = aggregated.values.tolist()\n",
    "    return x_values, y_values"
   ]
  },
  {
   "cell_type": "code",
   "execution_count": 132,
   "metadata": {
    "ExecuteTime": {
     "end_time": "2020-09-09T14:19:17.400907Z",
     "start_time": "2020-09-09T14:19:17.385946Z"
    }
   },
   "outputs": [
    {
     "data": {
      "text/plain": [
       "(['Apple Braeburn',\n",
       "  'Apple Crimson Snow',\n",
       "  'Apple Golden 1',\n",
       "  'Apple Golden 2',\n",
       "  'Apple Golden 3',\n",
       "  'Apple Granny Smith',\n",
       "  'Apple Pink Lady',\n",
       "  'Apple Red 1',\n",
       "  'Apple Red 2',\n",
       "  'Apple Red 3',\n",
       "  'Apple Red Delicious',\n",
       "  'Apple Red Yellow 1',\n",
       "  'Apple Red Yellow 2',\n",
       "  'Apricot',\n",
       "  'Avocado',\n",
       "  'Avocado ripe',\n",
       "  'Banana',\n",
       "  'Banana Lady Finger',\n",
       "  'Banana Red',\n",
       "  'Beetroot',\n",
       "  'Blueberry',\n",
       "  'Cactus fruit',\n",
       "  'Cantaloupe 1',\n",
       "  'Cantaloupe 2',\n",
       "  'Carambula',\n",
       "  'Cauliflower',\n",
       "  'Cherry 1',\n",
       "  'Cherry 2',\n",
       "  'Cherry Rainier',\n",
       "  'Cherry Wax Black',\n",
       "  'Cherry Wax Red',\n",
       "  'Cherry Wax Yellow',\n",
       "  'Chestnut',\n",
       "  'Clementine',\n",
       "  'Cocos',\n",
       "  'Corn',\n",
       "  'Corn Husk',\n",
       "  'Cucumber Ripe',\n",
       "  'Cucumber Ripe 2',\n",
       "  'Dates',\n",
       "  'Eggplant',\n",
       "  'Fig',\n",
       "  'Ginger Root',\n",
       "  'Granadilla',\n",
       "  'Grape Blue',\n",
       "  'Grape Pink',\n",
       "  'Grape White',\n",
       "  'Grape White 2',\n",
       "  'Grape White 3',\n",
       "  'Grape White 4',\n",
       "  'Grapefruit Pink',\n",
       "  'Grapefruit White',\n",
       "  'Guava',\n",
       "  'Hazelnut',\n",
       "  'Huckleberry',\n",
       "  'Kaki',\n",
       "  'Kiwi',\n",
       "  'Kohlrabi',\n",
       "  'Kumquats',\n",
       "  'Lemon',\n",
       "  'Lemon Meyer',\n",
       "  'Limes',\n",
       "  'Lychee',\n",
       "  'Mandarine',\n",
       "  'Mango',\n",
       "  'Mango Red',\n",
       "  'Mangostan',\n",
       "  'Maracuja',\n",
       "  'Melon Piel de Sapo',\n",
       "  'Mulberry',\n",
       "  'Nectarine',\n",
       "  'Nectarine Flat',\n",
       "  'Nut Forest',\n",
       "  'Nut Pecan',\n",
       "  'Onion Red',\n",
       "  'Onion Red Peeled',\n",
       "  'Onion White',\n",
       "  'Orange',\n",
       "  'Papaya',\n",
       "  'Passion Fruit',\n",
       "  'Peach',\n",
       "  'Peach 2',\n",
       "  'Peach Flat',\n",
       "  'Pear',\n",
       "  'Pear 2',\n",
       "  'Pear Abate',\n",
       "  'Pear Forelle',\n",
       "  'Pear Kaiser',\n",
       "  'Pear Monster',\n",
       "  'Pear Red',\n",
       "  'Pear Stone',\n",
       "  'Pear Williams',\n",
       "  'Pepino',\n",
       "  'Pepper Green',\n",
       "  'Pepper Orange',\n",
       "  'Pepper Red',\n",
       "  'Pepper Yellow',\n",
       "  'Physalis',\n",
       "  'Physalis with Husk',\n",
       "  'Pineapple',\n",
       "  'Pineapple Mini',\n",
       "  'Pitahaya Red',\n",
       "  'Plum',\n",
       "  'Plum 2',\n",
       "  'Plum 3',\n",
       "  'Pomegranate',\n",
       "  'Pomelo Sweetie',\n",
       "  'Potato Red',\n",
       "  'Potato Red Washed',\n",
       "  'Potato Sweet',\n",
       "  'Potato White',\n",
       "  'Quince',\n",
       "  'Rambutan',\n",
       "  'Raspberry',\n",
       "  'Redcurrant',\n",
       "  'Salak',\n",
       "  'Strawberry',\n",
       "  'Strawberry Wedge',\n",
       "  'Tamarillo',\n",
       "  'Tangelo',\n",
       "  'Tomato 1',\n",
       "  'Tomato 2',\n",
       "  'Tomato 3',\n",
       "  'Tomato 4',\n",
       "  'Tomato Cherry Red',\n",
       "  'Tomato Heart',\n",
       "  'Tomato Maroon',\n",
       "  'Tomato Yellow',\n",
       "  'Tomato not Ripened',\n",
       "  'Walnut',\n",
       "  'Watermelon'],\n",
       " [492,\n",
       "  444,\n",
       "  480,\n",
       "  492,\n",
       "  481,\n",
       "  492,\n",
       "  456,\n",
       "  492,\n",
       "  492,\n",
       "  429,\n",
       "  490,\n",
       "  492,\n",
       "  672,\n",
       "  492,\n",
       "  427,\n",
       "  491,\n",
       "  490,\n",
       "  450,\n",
       "  490,\n",
       "  450,\n",
       "  462,\n",
       "  490,\n",
       "  492,\n",
       "  492,\n",
       "  490,\n",
       "  702,\n",
       "  492,\n",
       "  738,\n",
       "  738,\n",
       "  492,\n",
       "  492,\n",
       "  492,\n",
       "  450,\n",
       "  490,\n",
       "  490,\n",
       "  450,\n",
       "  462,\n",
       "  392,\n",
       "  468,\n",
       "  490,\n",
       "  468,\n",
       "  702,\n",
       "  297,\n",
       "  490,\n",
       "  984,\n",
       "  492,\n",
       "  490,\n",
       "  490,\n",
       "  492,\n",
       "  471,\n",
       "  490,\n",
       "  492,\n",
       "  490,\n",
       "  464,\n",
       "  490,\n",
       "  490,\n",
       "  466,\n",
       "  471,\n",
       "  490,\n",
       "  492,\n",
       "  490,\n",
       "  490,\n",
       "  490,\n",
       "  490,\n",
       "  490,\n",
       "  426,\n",
       "  300,\n",
       "  490,\n",
       "  738,\n",
       "  492,\n",
       "  492,\n",
       "  480,\n",
       "  654,\n",
       "  534,\n",
       "  450,\n",
       "  445,\n",
       "  438,\n",
       "  479,\n",
       "  492,\n",
       "  490,\n",
       "  492,\n",
       "  738,\n",
       "  492,\n",
       "  492,\n",
       "  696,\n",
       "  490,\n",
       "  702,\n",
       "  300,\n",
       "  490,\n",
       "  666,\n",
       "  711,\n",
       "  490,\n",
       "  490,\n",
       "  444,\n",
       "  702,\n",
       "  666,\n",
       "  666,\n",
       "  492,\n",
       "  492,\n",
       "  490,\n",
       "  493,\n",
       "  490,\n",
       "  447,\n",
       "  420,\n",
       "  900,\n",
       "  492,\n",
       "  450,\n",
       "  450,\n",
       "  453,\n",
       "  450,\n",
       "  450,\n",
       "  490,\n",
       "  492,\n",
       "  490,\n",
       "  492,\n",
       "  490,\n",
       "  492,\n",
       "  738,\n",
       "  490,\n",
       "  490,\n",
       "  738,\n",
       "  672,\n",
       "  738,\n",
       "  479,\n",
       "  492,\n",
       "  684,\n",
       "  367,\n",
       "  459,\n",
       "  474,\n",
       "  735,\n",
       "  475])"
      ]
     },
     "execution_count": 132,
     "metadata": {},
     "output_type": "execute_result"
    }
   ],
   "source": [
    "x1, y1 = create_stack_bar_data('classes', training_data)\n",
    "x1 = list(train_generator.class_indices.keys())\n",
    "x1, y1"
   ]
  },
  {
   "cell_type": "code",
   "execution_count": 133,
   "metadata": {
    "ExecuteTime": {
     "end_time": "2020-09-09T14:19:17.416864Z",
     "start_time": "2020-09-09T14:19:17.402902Z"
    }
   },
   "outputs": [
    {
     "data": {
      "text/plain": [
       "Bar({\n",
       "    'name': 'class count',\n",
       "    'opacity': 0.75,\n",
       "    'x': [Apple Braeburn, Apple Crimson Snow, Apple Golden 1, Apple Golden 2,\n",
       "          Apple Golden 3, Apple Granny Smith, Apple Pink Lady, Apple Red 1, Apple\n",
       "          Red 2, Apple Red 3, Apple Red Delicious, Apple Red Yellow 1, Apple Red\n",
       "          Yellow 2, Apricot, Avocado, Avocado ripe, Banana, Banana Lady Finger,\n",
       "          Banana Red, Beetroot, Blueberry, Cactus fruit, Cantaloupe 1, Cantaloupe\n",
       "          2, Carambula, Cauliflower, Cherry 1, Cherry 2, Cherry Rainier, Cherry Wax\n",
       "          Black, Cherry Wax Red, Cherry Wax Yellow, Chestnut, Clementine, Cocos,\n",
       "          Corn, Corn Husk, Cucumber Ripe, Cucumber Ripe 2, Dates, Eggplant, Fig,\n",
       "          Ginger Root, Granadilla, Grape Blue, Grape Pink, Grape White, Grape White\n",
       "          2, Grape White 3, Grape White 4, Grapefruit Pink, Grapefruit White,\n",
       "          Guava, Hazelnut, Huckleberry, Kaki, Kiwi, Kohlrabi, Kumquats, Lemon,\n",
       "          Lemon Meyer, Limes, Lychee, Mandarine, Mango, Mango Red, Mangostan,\n",
       "          Maracuja, Melon Piel de Sapo, Mulberry, Nectarine, Nectarine Flat, Nut\n",
       "          Forest, Nut Pecan, Onion Red, Onion Red Peeled, Onion White, Orange,\n",
       "          Papaya, Passion Fruit, Peach, Peach 2, Peach Flat, Pear, Pear 2, Pear\n",
       "          Abate, Pear Forelle, Pear Kaiser, Pear Monster, Pear Red, Pear Stone,\n",
       "          Pear Williams, Pepino, Pepper Green, Pepper Orange, Pepper Red, Pepper\n",
       "          Yellow, Physalis, Physalis with Husk, Pineapple, Pineapple Mini, Pitahaya\n",
       "          Red, Plum, Plum 2, Plum 3, Pomegranate, Pomelo Sweetie, Potato Red,\n",
       "          Potato Red Washed, Potato Sweet, Potato White, Quince, Rambutan,\n",
       "          Raspberry, Redcurrant, Salak, Strawberry, Strawberry Wedge, Tamarillo,\n",
       "          Tangelo, Tomato 1, Tomato 2, Tomato 3, Tomato 4, Tomato Cherry Red,\n",
       "          Tomato Heart, Tomato Maroon, Tomato Yellow, Tomato not Ripened, Walnut,\n",
       "          Watermelon],\n",
       "    'y': [492, 444, 480, 492, 481, 492, 456, 492, 492, 429, 490, 492, 672, 492,\n",
       "          427, 491, 490, 450, 490, 450, 462, 490, 492, 492, 490, 702, 492, 738,\n",
       "          738, 492, 492, 492, 450, 490, 490, 450, 462, 392, 468, 490, 468, 702,\n",
       "          297, 490, 984, 492, 490, 490, 492, 471, 490, 492, 490, 464, 490, 490,\n",
       "          466, 471, 490, 492, 490, 490, 490, 490, 490, 426, 300, 490, 738, 492,\n",
       "          492, 480, 654, 534, 450, 445, 438, 479, 492, 490, 492, 738, 492, 492,\n",
       "          696, 490, 702, 300, 490, 666, 711, 490, 490, 444, 702, 666, 666, 492,\n",
       "          492, 490, 493, 490, 447, 420, 900, 492, 450, 450, 453, 450, 450, 490,\n",
       "          492, 490, 492, 490, 492, 738, 490, 490, 738, 672, 738, 479, 492, 684,\n",
       "          367, 459, 474, 735, 475]\n",
       "})"
      ]
     },
     "execution_count": 133,
     "metadata": {},
     "output_type": "execute_result"
    }
   ],
   "source": [
    "trace1 = go.Bar(x=x1, y=y1, opacity=0.75, name='class count')\n",
    "trace1"
   ]
  },
  {
   "cell_type": "code",
   "execution_count": 134,
   "metadata": {
    "ExecuteTime": {
     "end_time": "2020-09-09T14:19:17.448808Z",
     "start_time": "2020-09-09T14:19:17.418858Z"
    }
   },
   "outputs": [
    {
     "data": {
      "application/vnd.plotly.v1+json": {
       "config": {
        "linkText": "Export to plot.ly",
        "plotlyServerURL": "https://plot.ly",
        "showLink": false
       },
       "data": [
        {
         "name": "class count",
         "opacity": 0.75,
         "type": "bar",
         "x": [
          "Apple Braeburn",
          "Apple Crimson Snow",
          "Apple Golden 1",
          "Apple Golden 2",
          "Apple Golden 3",
          "Apple Granny Smith",
          "Apple Pink Lady",
          "Apple Red 1",
          "Apple Red 2",
          "Apple Red 3",
          "Apple Red Delicious",
          "Apple Red Yellow 1",
          "Apple Red Yellow 2",
          "Apricot",
          "Avocado",
          "Avocado ripe",
          "Banana",
          "Banana Lady Finger",
          "Banana Red",
          "Beetroot",
          "Blueberry",
          "Cactus fruit",
          "Cantaloupe 1",
          "Cantaloupe 2",
          "Carambula",
          "Cauliflower",
          "Cherry 1",
          "Cherry 2",
          "Cherry Rainier",
          "Cherry Wax Black",
          "Cherry Wax Red",
          "Cherry Wax Yellow",
          "Chestnut",
          "Clementine",
          "Cocos",
          "Corn",
          "Corn Husk",
          "Cucumber Ripe",
          "Cucumber Ripe 2",
          "Dates",
          "Eggplant",
          "Fig",
          "Ginger Root",
          "Granadilla",
          "Grape Blue",
          "Grape Pink",
          "Grape White",
          "Grape White 2",
          "Grape White 3",
          "Grape White 4",
          "Grapefruit Pink",
          "Grapefruit White",
          "Guava",
          "Hazelnut",
          "Huckleberry",
          "Kaki",
          "Kiwi",
          "Kohlrabi",
          "Kumquats",
          "Lemon",
          "Lemon Meyer",
          "Limes",
          "Lychee",
          "Mandarine",
          "Mango",
          "Mango Red",
          "Mangostan",
          "Maracuja",
          "Melon Piel de Sapo",
          "Mulberry",
          "Nectarine",
          "Nectarine Flat",
          "Nut Forest",
          "Nut Pecan",
          "Onion Red",
          "Onion Red Peeled",
          "Onion White",
          "Orange",
          "Papaya",
          "Passion Fruit",
          "Peach",
          "Peach 2",
          "Peach Flat",
          "Pear",
          "Pear 2",
          "Pear Abate",
          "Pear Forelle",
          "Pear Kaiser",
          "Pear Monster",
          "Pear Red",
          "Pear Stone",
          "Pear Williams",
          "Pepino",
          "Pepper Green",
          "Pepper Orange",
          "Pepper Red",
          "Pepper Yellow",
          "Physalis",
          "Physalis with Husk",
          "Pineapple",
          "Pineapple Mini",
          "Pitahaya Red",
          "Plum",
          "Plum 2",
          "Plum 3",
          "Pomegranate",
          "Pomelo Sweetie",
          "Potato Red",
          "Potato Red Washed",
          "Potato Sweet",
          "Potato White",
          "Quince",
          "Rambutan",
          "Raspberry",
          "Redcurrant",
          "Salak",
          "Strawberry",
          "Strawberry Wedge",
          "Tamarillo",
          "Tangelo",
          "Tomato 1",
          "Tomato 2",
          "Tomato 3",
          "Tomato 4",
          "Tomato Cherry Red",
          "Tomato Heart",
          "Tomato Maroon",
          "Tomato Yellow",
          "Tomato not Ripened",
          "Walnut",
          "Watermelon"
         ],
         "y": [
          492,
          444,
          480,
          492,
          481,
          492,
          456,
          492,
          492,
          429,
          490,
          492,
          672,
          492,
          427,
          491,
          490,
          450,
          490,
          450,
          462,
          490,
          492,
          492,
          490,
          702,
          492,
          738,
          738,
          492,
          492,
          492,
          450,
          490,
          490,
          450,
          462,
          392,
          468,
          490,
          468,
          702,
          297,
          490,
          984,
          492,
          490,
          490,
          492,
          471,
          490,
          492,
          490,
          464,
          490,
          490,
          466,
          471,
          490,
          492,
          490,
          490,
          490,
          490,
          490,
          426,
          300,
          490,
          738,
          492,
          492,
          480,
          654,
          534,
          450,
          445,
          438,
          479,
          492,
          490,
          492,
          738,
          492,
          492,
          696,
          490,
          702,
          300,
          490,
          666,
          711,
          490,
          490,
          444,
          702,
          666,
          666,
          492,
          492,
          490,
          493,
          490,
          447,
          420,
          900,
          492,
          450,
          450,
          453,
          450,
          450,
          490,
          492,
          490,
          492,
          490,
          492,
          738,
          490,
          490,
          738,
          672,
          738,
          479,
          492,
          684,
          367,
          459,
          474,
          735,
          475
         ]
        }
       ],
       "layout": {
        "height": 400,
        "legend": {
         "orientation": "h"
        },
        "template": {
         "data": {
          "bar": [
           {
            "error_x": {
             "color": "#2a3f5f"
            },
            "error_y": {
             "color": "#2a3f5f"
            },
            "marker": {
             "line": {
              "color": "#E5ECF6",
              "width": 0.5
             }
            },
            "type": "bar"
           }
          ],
          "barpolar": [
           {
            "marker": {
             "line": {
              "color": "#E5ECF6",
              "width": 0.5
             }
            },
            "type": "barpolar"
           }
          ],
          "carpet": [
           {
            "aaxis": {
             "endlinecolor": "#2a3f5f",
             "gridcolor": "white",
             "linecolor": "white",
             "minorgridcolor": "white",
             "startlinecolor": "#2a3f5f"
            },
            "baxis": {
             "endlinecolor": "#2a3f5f",
             "gridcolor": "white",
             "linecolor": "white",
             "minorgridcolor": "white",
             "startlinecolor": "#2a3f5f"
            },
            "type": "carpet"
           }
          ],
          "choropleth": [
           {
            "colorbar": {
             "outlinewidth": 0,
             "ticks": ""
            },
            "type": "choropleth"
           }
          ],
          "contour": [
           {
            "colorbar": {
             "outlinewidth": 0,
             "ticks": ""
            },
            "colorscale": [
             [
              0,
              "#0d0887"
             ],
             [
              0.1111111111111111,
              "#46039f"
             ],
             [
              0.2222222222222222,
              "#7201a8"
             ],
             [
              0.3333333333333333,
              "#9c179e"
             ],
             [
              0.4444444444444444,
              "#bd3786"
             ],
             [
              0.5555555555555556,
              "#d8576b"
             ],
             [
              0.6666666666666666,
              "#ed7953"
             ],
             [
              0.7777777777777778,
              "#fb9f3a"
             ],
             [
              0.8888888888888888,
              "#fdca26"
             ],
             [
              1,
              "#f0f921"
             ]
            ],
            "type": "contour"
           }
          ],
          "contourcarpet": [
           {
            "colorbar": {
             "outlinewidth": 0,
             "ticks": ""
            },
            "type": "contourcarpet"
           }
          ],
          "heatmap": [
           {
            "colorbar": {
             "outlinewidth": 0,
             "ticks": ""
            },
            "colorscale": [
             [
              0,
              "#0d0887"
             ],
             [
              0.1111111111111111,
              "#46039f"
             ],
             [
              0.2222222222222222,
              "#7201a8"
             ],
             [
              0.3333333333333333,
              "#9c179e"
             ],
             [
              0.4444444444444444,
              "#bd3786"
             ],
             [
              0.5555555555555556,
              "#d8576b"
             ],
             [
              0.6666666666666666,
              "#ed7953"
             ],
             [
              0.7777777777777778,
              "#fb9f3a"
             ],
             [
              0.8888888888888888,
              "#fdca26"
             ],
             [
              1,
              "#f0f921"
             ]
            ],
            "type": "heatmap"
           }
          ],
          "heatmapgl": [
           {
            "colorbar": {
             "outlinewidth": 0,
             "ticks": ""
            },
            "colorscale": [
             [
              0,
              "#0d0887"
             ],
             [
              0.1111111111111111,
              "#46039f"
             ],
             [
              0.2222222222222222,
              "#7201a8"
             ],
             [
              0.3333333333333333,
              "#9c179e"
             ],
             [
              0.4444444444444444,
              "#bd3786"
             ],
             [
              0.5555555555555556,
              "#d8576b"
             ],
             [
              0.6666666666666666,
              "#ed7953"
             ],
             [
              0.7777777777777778,
              "#fb9f3a"
             ],
             [
              0.8888888888888888,
              "#fdca26"
             ],
             [
              1,
              "#f0f921"
             ]
            ],
            "type": "heatmapgl"
           }
          ],
          "histogram": [
           {
            "marker": {
             "colorbar": {
              "outlinewidth": 0,
              "ticks": ""
             }
            },
            "type": "histogram"
           }
          ],
          "histogram2d": [
           {
            "colorbar": {
             "outlinewidth": 0,
             "ticks": ""
            },
            "colorscale": [
             [
              0,
              "#0d0887"
             ],
             [
              0.1111111111111111,
              "#46039f"
             ],
             [
              0.2222222222222222,
              "#7201a8"
             ],
             [
              0.3333333333333333,
              "#9c179e"
             ],
             [
              0.4444444444444444,
              "#bd3786"
             ],
             [
              0.5555555555555556,
              "#d8576b"
             ],
             [
              0.6666666666666666,
              "#ed7953"
             ],
             [
              0.7777777777777778,
              "#fb9f3a"
             ],
             [
              0.8888888888888888,
              "#fdca26"
             ],
             [
              1,
              "#f0f921"
             ]
            ],
            "type": "histogram2d"
           }
          ],
          "histogram2dcontour": [
           {
            "colorbar": {
             "outlinewidth": 0,
             "ticks": ""
            },
            "colorscale": [
             [
              0,
              "#0d0887"
             ],
             [
              0.1111111111111111,
              "#46039f"
             ],
             [
              0.2222222222222222,
              "#7201a8"
             ],
             [
              0.3333333333333333,
              "#9c179e"
             ],
             [
              0.4444444444444444,
              "#bd3786"
             ],
             [
              0.5555555555555556,
              "#d8576b"
             ],
             [
              0.6666666666666666,
              "#ed7953"
             ],
             [
              0.7777777777777778,
              "#fb9f3a"
             ],
             [
              0.8888888888888888,
              "#fdca26"
             ],
             [
              1,
              "#f0f921"
             ]
            ],
            "type": "histogram2dcontour"
           }
          ],
          "mesh3d": [
           {
            "colorbar": {
             "outlinewidth": 0,
             "ticks": ""
            },
            "type": "mesh3d"
           }
          ],
          "parcoords": [
           {
            "line": {
             "colorbar": {
              "outlinewidth": 0,
              "ticks": ""
             }
            },
            "type": "parcoords"
           }
          ],
          "pie": [
           {
            "automargin": true,
            "type": "pie"
           }
          ],
          "scatter": [
           {
            "marker": {
             "colorbar": {
              "outlinewidth": 0,
              "ticks": ""
             }
            },
            "type": "scatter"
           }
          ],
          "scatter3d": [
           {
            "line": {
             "colorbar": {
              "outlinewidth": 0,
              "ticks": ""
             }
            },
            "marker": {
             "colorbar": {
              "outlinewidth": 0,
              "ticks": ""
             }
            },
            "type": "scatter3d"
           }
          ],
          "scattercarpet": [
           {
            "marker": {
             "colorbar": {
              "outlinewidth": 0,
              "ticks": ""
             }
            },
            "type": "scattercarpet"
           }
          ],
          "scattergeo": [
           {
            "marker": {
             "colorbar": {
              "outlinewidth": 0,
              "ticks": ""
             }
            },
            "type": "scattergeo"
           }
          ],
          "scattergl": [
           {
            "marker": {
             "colorbar": {
              "outlinewidth": 0,
              "ticks": ""
             }
            },
            "type": "scattergl"
           }
          ],
          "scattermapbox": [
           {
            "marker": {
             "colorbar": {
              "outlinewidth": 0,
              "ticks": ""
             }
            },
            "type": "scattermapbox"
           }
          ],
          "scatterpolar": [
           {
            "marker": {
             "colorbar": {
              "outlinewidth": 0,
              "ticks": ""
             }
            },
            "type": "scatterpolar"
           }
          ],
          "scatterpolargl": [
           {
            "marker": {
             "colorbar": {
              "outlinewidth": 0,
              "ticks": ""
             }
            },
            "type": "scatterpolargl"
           }
          ],
          "scatterternary": [
           {
            "marker": {
             "colorbar": {
              "outlinewidth": 0,
              "ticks": ""
             }
            },
            "type": "scatterternary"
           }
          ],
          "surface": [
           {
            "colorbar": {
             "outlinewidth": 0,
             "ticks": ""
            },
            "colorscale": [
             [
              0,
              "#0d0887"
             ],
             [
              0.1111111111111111,
              "#46039f"
             ],
             [
              0.2222222222222222,
              "#7201a8"
             ],
             [
              0.3333333333333333,
              "#9c179e"
             ],
             [
              0.4444444444444444,
              "#bd3786"
             ],
             [
              0.5555555555555556,
              "#d8576b"
             ],
             [
              0.6666666666666666,
              "#ed7953"
             ],
             [
              0.7777777777777778,
              "#fb9f3a"
             ],
             [
              0.8888888888888888,
              "#fdca26"
             ],
             [
              1,
              "#f0f921"
             ]
            ],
            "type": "surface"
           }
          ],
          "table": [
           {
            "cells": {
             "fill": {
              "color": "#EBF0F8"
             },
             "line": {
              "color": "white"
             }
            },
            "header": {
             "fill": {
              "color": "#C8D4E3"
             },
             "line": {
              "color": "white"
             }
            },
            "type": "table"
           }
          ]
         },
         "layout": {
          "annotationdefaults": {
           "arrowcolor": "#2a3f5f",
           "arrowhead": 0,
           "arrowwidth": 1
          },
          "coloraxis": {
           "colorbar": {
            "outlinewidth": 0,
            "ticks": ""
           }
          },
          "colorscale": {
           "diverging": [
            [
             0,
             "#8e0152"
            ],
            [
             0.1,
             "#c51b7d"
            ],
            [
             0.2,
             "#de77ae"
            ],
            [
             0.3,
             "#f1b6da"
            ],
            [
             0.4,
             "#fde0ef"
            ],
            [
             0.5,
             "#f7f7f7"
            ],
            [
             0.6,
             "#e6f5d0"
            ],
            [
             0.7,
             "#b8e186"
            ],
            [
             0.8,
             "#7fbc41"
            ],
            [
             0.9,
             "#4d9221"
            ],
            [
             1,
             "#276419"
            ]
           ],
           "sequential": [
            [
             0,
             "#0d0887"
            ],
            [
             0.1111111111111111,
             "#46039f"
            ],
            [
             0.2222222222222222,
             "#7201a8"
            ],
            [
             0.3333333333333333,
             "#9c179e"
            ],
            [
             0.4444444444444444,
             "#bd3786"
            ],
            [
             0.5555555555555556,
             "#d8576b"
            ],
            [
             0.6666666666666666,
             "#ed7953"
            ],
            [
             0.7777777777777778,
             "#fb9f3a"
            ],
            [
             0.8888888888888888,
             "#fdca26"
            ],
            [
             1,
             "#f0f921"
            ]
           ],
           "sequentialminus": [
            [
             0,
             "#0d0887"
            ],
            [
             0.1111111111111111,
             "#46039f"
            ],
            [
             0.2222222222222222,
             "#7201a8"
            ],
            [
             0.3333333333333333,
             "#9c179e"
            ],
            [
             0.4444444444444444,
             "#bd3786"
            ],
            [
             0.5555555555555556,
             "#d8576b"
            ],
            [
             0.6666666666666666,
             "#ed7953"
            ],
            [
             0.7777777777777778,
             "#fb9f3a"
            ],
            [
             0.8888888888888888,
             "#fdca26"
            ],
            [
             1,
             "#f0f921"
            ]
           ]
          },
          "colorway": [
           "#636efa",
           "#EF553B",
           "#00cc96",
           "#ab63fa",
           "#FFA15A",
           "#19d3f3",
           "#FF6692",
           "#B6E880",
           "#FF97FF",
           "#FECB52"
          ],
          "font": {
           "color": "#2a3f5f"
          },
          "geo": {
           "bgcolor": "white",
           "lakecolor": "white",
           "landcolor": "#E5ECF6",
           "showlakes": true,
           "showland": true,
           "subunitcolor": "white"
          },
          "hoverlabel": {
           "align": "left"
          },
          "hovermode": "closest",
          "mapbox": {
           "style": "light"
          },
          "paper_bgcolor": "white",
          "plot_bgcolor": "#E5ECF6",
          "polar": {
           "angularaxis": {
            "gridcolor": "white",
            "linecolor": "white",
            "ticks": ""
           },
           "bgcolor": "#E5ECF6",
           "radialaxis": {
            "gridcolor": "white",
            "linecolor": "white",
            "ticks": ""
           }
          },
          "scene": {
           "xaxis": {
            "backgroundcolor": "#E5ECF6",
            "gridcolor": "white",
            "gridwidth": 2,
            "linecolor": "white",
            "showbackground": true,
            "ticks": "",
            "zerolinecolor": "white"
           },
           "yaxis": {
            "backgroundcolor": "#E5ECF6",
            "gridcolor": "white",
            "gridwidth": 2,
            "linecolor": "white",
            "showbackground": true,
            "ticks": "",
            "zerolinecolor": "white"
           },
           "zaxis": {
            "backgroundcolor": "#E5ECF6",
            "gridcolor": "white",
            "gridwidth": 2,
            "linecolor": "white",
            "showbackground": true,
            "ticks": "",
            "zerolinecolor": "white"
           }
          },
          "shapedefaults": {
           "line": {
            "color": "#2a3f5f"
           }
          },
          "ternary": {
           "aaxis": {
            "gridcolor": "white",
            "linecolor": "white",
            "ticks": ""
           },
           "baxis": {
            "gridcolor": "white",
            "linecolor": "white",
            "ticks": ""
           },
           "bgcolor": "#E5ECF6",
           "caxis": {
            "gridcolor": "white",
            "linecolor": "white",
            "ticks": ""
           }
          },
          "title": {
           "x": 0.05
          },
          "xaxis": {
           "automargin": true,
           "gridcolor": "white",
           "linecolor": "white",
           "ticks": "",
           "title": {
            "standoff": 15
           },
           "zerolinecolor": "white",
           "zerolinewidth": 2
          },
          "yaxis": {
           "automargin": true,
           "gridcolor": "white",
           "linecolor": "white",
           "ticks": "",
           "title": {
            "standoff": 15
           },
           "zerolinecolor": "white",
           "zerolinewidth": 2
          }
         }
        },
        "title": {
         "text": "class distribution in training data"
        },
        "width": 1200,
        "yaxis": {
         "title": {
          "text": "class count"
         }
        }
       }
      },
      "text/html": [
       "<div>\n",
       "        \n",
       "        \n",
       "            <div id=\"1885a8cd-aa21-4d90-8439-d620f97d430b\" class=\"plotly-graph-div\" style=\"height:400px; width:1200px;\"></div>\n",
       "            <script type=\"text/javascript\">\n",
       "                require([\"plotly\"], function(Plotly) {\n",
       "                    window.PLOTLYENV=window.PLOTLYENV || {};\n",
       "                    \n",
       "                if (document.getElementById(\"1885a8cd-aa21-4d90-8439-d620f97d430b\")) {\n",
       "                    Plotly.newPlot(\n",
       "                        '1885a8cd-aa21-4d90-8439-d620f97d430b',\n",
       "                        [{\"name\": \"class count\", \"opacity\": 0.75, \"type\": \"bar\", \"x\": [\"Apple Braeburn\", \"Apple Crimson Snow\", \"Apple Golden 1\", \"Apple Golden 2\", \"Apple Golden 3\", \"Apple Granny Smith\", \"Apple Pink Lady\", \"Apple Red 1\", \"Apple Red 2\", \"Apple Red 3\", \"Apple Red Delicious\", \"Apple Red Yellow 1\", \"Apple Red Yellow 2\", \"Apricot\", \"Avocado\", \"Avocado ripe\", \"Banana\", \"Banana Lady Finger\", \"Banana Red\", \"Beetroot\", \"Blueberry\", \"Cactus fruit\", \"Cantaloupe 1\", \"Cantaloupe 2\", \"Carambula\", \"Cauliflower\", \"Cherry 1\", \"Cherry 2\", \"Cherry Rainier\", \"Cherry Wax Black\", \"Cherry Wax Red\", \"Cherry Wax Yellow\", \"Chestnut\", \"Clementine\", \"Cocos\", \"Corn\", \"Corn Husk\", \"Cucumber Ripe\", \"Cucumber Ripe 2\", \"Dates\", \"Eggplant\", \"Fig\", \"Ginger Root\", \"Granadilla\", \"Grape Blue\", \"Grape Pink\", \"Grape White\", \"Grape White 2\", \"Grape White 3\", \"Grape White 4\", \"Grapefruit Pink\", \"Grapefruit White\", \"Guava\", \"Hazelnut\", \"Huckleberry\", \"Kaki\", \"Kiwi\", \"Kohlrabi\", \"Kumquats\", \"Lemon\", \"Lemon Meyer\", \"Limes\", \"Lychee\", \"Mandarine\", \"Mango\", \"Mango Red\", \"Mangostan\", \"Maracuja\", \"Melon Piel de Sapo\", \"Mulberry\", \"Nectarine\", \"Nectarine Flat\", \"Nut Forest\", \"Nut Pecan\", \"Onion Red\", \"Onion Red Peeled\", \"Onion White\", \"Orange\", \"Papaya\", \"Passion Fruit\", \"Peach\", \"Peach 2\", \"Peach Flat\", \"Pear\", \"Pear 2\", \"Pear Abate\", \"Pear Forelle\", \"Pear Kaiser\", \"Pear Monster\", \"Pear Red\", \"Pear Stone\", \"Pear Williams\", \"Pepino\", \"Pepper Green\", \"Pepper Orange\", \"Pepper Red\", \"Pepper Yellow\", \"Physalis\", \"Physalis with Husk\", \"Pineapple\", \"Pineapple Mini\", \"Pitahaya Red\", \"Plum\", \"Plum 2\", \"Plum 3\", \"Pomegranate\", \"Pomelo Sweetie\", \"Potato Red\", \"Potato Red Washed\", \"Potato Sweet\", \"Potato White\", \"Quince\", \"Rambutan\", \"Raspberry\", \"Redcurrant\", \"Salak\", \"Strawberry\", \"Strawberry Wedge\", \"Tamarillo\", \"Tangelo\", \"Tomato 1\", \"Tomato 2\", \"Tomato 3\", \"Tomato 4\", \"Tomato Cherry Red\", \"Tomato Heart\", \"Tomato Maroon\", \"Tomato Yellow\", \"Tomato not Ripened\", \"Walnut\", \"Watermelon\"], \"y\": [492, 444, 480, 492, 481, 492, 456, 492, 492, 429, 490, 492, 672, 492, 427, 491, 490, 450, 490, 450, 462, 490, 492, 492, 490, 702, 492, 738, 738, 492, 492, 492, 450, 490, 490, 450, 462, 392, 468, 490, 468, 702, 297, 490, 984, 492, 490, 490, 492, 471, 490, 492, 490, 464, 490, 490, 466, 471, 490, 492, 490, 490, 490, 490, 490, 426, 300, 490, 738, 492, 492, 480, 654, 534, 450, 445, 438, 479, 492, 490, 492, 738, 492, 492, 696, 490, 702, 300, 490, 666, 711, 490, 490, 444, 702, 666, 666, 492, 492, 490, 493, 490, 447, 420, 900, 492, 450, 450, 453, 450, 450, 490, 492, 490, 492, 490, 492, 738, 490, 490, 738, 672, 738, 479, 492, 684, 367, 459, 474, 735, 475]}],\n",
       "                        {\"height\": 400, \"legend\": {\"orientation\": \"h\"}, \"template\": {\"data\": {\"bar\": [{\"error_x\": {\"color\": \"#2a3f5f\"}, \"error_y\": {\"color\": \"#2a3f5f\"}, \"marker\": {\"line\": {\"color\": \"#E5ECF6\", \"width\": 0.5}}, \"type\": \"bar\"}], \"barpolar\": [{\"marker\": {\"line\": {\"color\": \"#E5ECF6\", \"width\": 0.5}}, \"type\": \"barpolar\"}], \"carpet\": [{\"aaxis\": {\"endlinecolor\": \"#2a3f5f\", \"gridcolor\": \"white\", \"linecolor\": \"white\", \"minorgridcolor\": \"white\", \"startlinecolor\": \"#2a3f5f\"}, \"baxis\": {\"endlinecolor\": \"#2a3f5f\", \"gridcolor\": \"white\", \"linecolor\": \"white\", \"minorgridcolor\": \"white\", \"startlinecolor\": \"#2a3f5f\"}, \"type\": \"carpet\"}], \"choropleth\": [{\"colorbar\": {\"outlinewidth\": 0, \"ticks\": \"\"}, \"type\": \"choropleth\"}], \"contour\": [{\"colorbar\": {\"outlinewidth\": 0, \"ticks\": \"\"}, \"colorscale\": [[0.0, \"#0d0887\"], [0.1111111111111111, \"#46039f\"], [0.2222222222222222, \"#7201a8\"], [0.3333333333333333, \"#9c179e\"], [0.4444444444444444, \"#bd3786\"], [0.5555555555555556, \"#d8576b\"], [0.6666666666666666, \"#ed7953\"], [0.7777777777777778, \"#fb9f3a\"], [0.8888888888888888, \"#fdca26\"], [1.0, \"#f0f921\"]], \"type\": \"contour\"}], \"contourcarpet\": [{\"colorbar\": {\"outlinewidth\": 0, \"ticks\": \"\"}, \"type\": \"contourcarpet\"}], \"heatmap\": [{\"colorbar\": {\"outlinewidth\": 0, \"ticks\": \"\"}, \"colorscale\": [[0.0, \"#0d0887\"], [0.1111111111111111, \"#46039f\"], [0.2222222222222222, \"#7201a8\"], [0.3333333333333333, \"#9c179e\"], [0.4444444444444444, \"#bd3786\"], [0.5555555555555556, \"#d8576b\"], [0.6666666666666666, \"#ed7953\"], [0.7777777777777778, \"#fb9f3a\"], [0.8888888888888888, \"#fdca26\"], [1.0, \"#f0f921\"]], \"type\": \"heatmap\"}], \"heatmapgl\": [{\"colorbar\": {\"outlinewidth\": 0, \"ticks\": \"\"}, \"colorscale\": [[0.0, \"#0d0887\"], [0.1111111111111111, \"#46039f\"], [0.2222222222222222, \"#7201a8\"], [0.3333333333333333, \"#9c179e\"], [0.4444444444444444, \"#bd3786\"], [0.5555555555555556, \"#d8576b\"], [0.6666666666666666, \"#ed7953\"], [0.7777777777777778, \"#fb9f3a\"], [0.8888888888888888, \"#fdca26\"], [1.0, \"#f0f921\"]], \"type\": \"heatmapgl\"}], \"histogram\": [{\"marker\": {\"colorbar\": {\"outlinewidth\": 0, \"ticks\": \"\"}}, \"type\": \"histogram\"}], \"histogram2d\": [{\"colorbar\": {\"outlinewidth\": 0, \"ticks\": \"\"}, \"colorscale\": [[0.0, \"#0d0887\"], [0.1111111111111111, \"#46039f\"], [0.2222222222222222, \"#7201a8\"], [0.3333333333333333, \"#9c179e\"], [0.4444444444444444, \"#bd3786\"], [0.5555555555555556, \"#d8576b\"], [0.6666666666666666, \"#ed7953\"], [0.7777777777777778, \"#fb9f3a\"], [0.8888888888888888, \"#fdca26\"], [1.0, \"#f0f921\"]], \"type\": \"histogram2d\"}], \"histogram2dcontour\": [{\"colorbar\": {\"outlinewidth\": 0, \"ticks\": \"\"}, \"colorscale\": [[0.0, \"#0d0887\"], [0.1111111111111111, \"#46039f\"], [0.2222222222222222, \"#7201a8\"], [0.3333333333333333, \"#9c179e\"], [0.4444444444444444, \"#bd3786\"], [0.5555555555555556, \"#d8576b\"], [0.6666666666666666, \"#ed7953\"], [0.7777777777777778, \"#fb9f3a\"], [0.8888888888888888, \"#fdca26\"], [1.0, \"#f0f921\"]], \"type\": \"histogram2dcontour\"}], \"mesh3d\": [{\"colorbar\": {\"outlinewidth\": 0, \"ticks\": \"\"}, \"type\": \"mesh3d\"}], \"parcoords\": [{\"line\": {\"colorbar\": {\"outlinewidth\": 0, \"ticks\": \"\"}}, \"type\": \"parcoords\"}], \"pie\": [{\"automargin\": true, \"type\": \"pie\"}], \"scatter\": [{\"marker\": {\"colorbar\": {\"outlinewidth\": 0, \"ticks\": \"\"}}, \"type\": \"scatter\"}], \"scatter3d\": [{\"line\": {\"colorbar\": {\"outlinewidth\": 0, \"ticks\": \"\"}}, \"marker\": {\"colorbar\": {\"outlinewidth\": 0, \"ticks\": \"\"}}, \"type\": \"scatter3d\"}], \"scattercarpet\": [{\"marker\": {\"colorbar\": {\"outlinewidth\": 0, \"ticks\": \"\"}}, \"type\": \"scattercarpet\"}], \"scattergeo\": [{\"marker\": {\"colorbar\": {\"outlinewidth\": 0, \"ticks\": \"\"}}, \"type\": \"scattergeo\"}], \"scattergl\": [{\"marker\": {\"colorbar\": {\"outlinewidth\": 0, \"ticks\": \"\"}}, \"type\": \"scattergl\"}], \"scattermapbox\": [{\"marker\": {\"colorbar\": {\"outlinewidth\": 0, \"ticks\": \"\"}}, \"type\": \"scattermapbox\"}], \"scatterpolar\": [{\"marker\": {\"colorbar\": {\"outlinewidth\": 0, \"ticks\": \"\"}}, \"type\": \"scatterpolar\"}], \"scatterpolargl\": [{\"marker\": {\"colorbar\": {\"outlinewidth\": 0, \"ticks\": \"\"}}, \"type\": \"scatterpolargl\"}], \"scatterternary\": [{\"marker\": {\"colorbar\": {\"outlinewidth\": 0, \"ticks\": \"\"}}, \"type\": \"scatterternary\"}], \"surface\": [{\"colorbar\": {\"outlinewidth\": 0, \"ticks\": \"\"}, \"colorscale\": [[0.0, \"#0d0887\"], [0.1111111111111111, \"#46039f\"], [0.2222222222222222, \"#7201a8\"], [0.3333333333333333, \"#9c179e\"], [0.4444444444444444, \"#bd3786\"], [0.5555555555555556, \"#d8576b\"], [0.6666666666666666, \"#ed7953\"], [0.7777777777777778, \"#fb9f3a\"], [0.8888888888888888, \"#fdca26\"], [1.0, \"#f0f921\"]], \"type\": \"surface\"}], \"table\": [{\"cells\": {\"fill\": {\"color\": \"#EBF0F8\"}, \"line\": {\"color\": \"white\"}}, \"header\": {\"fill\": {\"color\": \"#C8D4E3\"}, \"line\": {\"color\": \"white\"}}, \"type\": \"table\"}]}, \"layout\": {\"annotationdefaults\": {\"arrowcolor\": \"#2a3f5f\", \"arrowhead\": 0, \"arrowwidth\": 1}, \"coloraxis\": {\"colorbar\": {\"outlinewidth\": 0, \"ticks\": \"\"}}, \"colorscale\": {\"diverging\": [[0, \"#8e0152\"], [0.1, \"#c51b7d\"], [0.2, \"#de77ae\"], [0.3, \"#f1b6da\"], [0.4, \"#fde0ef\"], [0.5, \"#f7f7f7\"], [0.6, \"#e6f5d0\"], [0.7, \"#b8e186\"], [0.8, \"#7fbc41\"], [0.9, \"#4d9221\"], [1, \"#276419\"]], \"sequential\": [[0.0, \"#0d0887\"], [0.1111111111111111, \"#46039f\"], [0.2222222222222222, \"#7201a8\"], [0.3333333333333333, \"#9c179e\"], [0.4444444444444444, \"#bd3786\"], [0.5555555555555556, \"#d8576b\"], [0.6666666666666666, \"#ed7953\"], [0.7777777777777778, \"#fb9f3a\"], [0.8888888888888888, \"#fdca26\"], [1.0, \"#f0f921\"]], \"sequentialminus\": [[0.0, \"#0d0887\"], [0.1111111111111111, \"#46039f\"], [0.2222222222222222, \"#7201a8\"], [0.3333333333333333, \"#9c179e\"], [0.4444444444444444, \"#bd3786\"], [0.5555555555555556, \"#d8576b\"], [0.6666666666666666, \"#ed7953\"], [0.7777777777777778, \"#fb9f3a\"], [0.8888888888888888, \"#fdca26\"], [1.0, \"#f0f921\"]]}, \"colorway\": [\"#636efa\", \"#EF553B\", \"#00cc96\", \"#ab63fa\", \"#FFA15A\", \"#19d3f3\", \"#FF6692\", \"#B6E880\", \"#FF97FF\", \"#FECB52\"], \"font\": {\"color\": \"#2a3f5f\"}, \"geo\": {\"bgcolor\": \"white\", \"lakecolor\": \"white\", \"landcolor\": \"#E5ECF6\", \"showlakes\": true, \"showland\": true, \"subunitcolor\": \"white\"}, \"hoverlabel\": {\"align\": \"left\"}, \"hovermode\": \"closest\", \"mapbox\": {\"style\": \"light\"}, \"paper_bgcolor\": \"white\", \"plot_bgcolor\": \"#E5ECF6\", \"polar\": {\"angularaxis\": {\"gridcolor\": \"white\", \"linecolor\": \"white\", \"ticks\": \"\"}, \"bgcolor\": \"#E5ECF6\", \"radialaxis\": {\"gridcolor\": \"white\", \"linecolor\": \"white\", \"ticks\": \"\"}}, \"scene\": {\"xaxis\": {\"backgroundcolor\": \"#E5ECF6\", \"gridcolor\": \"white\", \"gridwidth\": 2, \"linecolor\": \"white\", \"showbackground\": true, \"ticks\": \"\", \"zerolinecolor\": \"white\"}, \"yaxis\": {\"backgroundcolor\": \"#E5ECF6\", \"gridcolor\": \"white\", \"gridwidth\": 2, \"linecolor\": \"white\", \"showbackground\": true, \"ticks\": \"\", \"zerolinecolor\": \"white\"}, \"zaxis\": {\"backgroundcolor\": \"#E5ECF6\", \"gridcolor\": \"white\", \"gridwidth\": 2, \"linecolor\": \"white\", \"showbackground\": true, \"ticks\": \"\", \"zerolinecolor\": \"white\"}}, \"shapedefaults\": {\"line\": {\"color\": \"#2a3f5f\"}}, \"ternary\": {\"aaxis\": {\"gridcolor\": \"white\", \"linecolor\": \"white\", \"ticks\": \"\"}, \"baxis\": {\"gridcolor\": \"white\", \"linecolor\": \"white\", \"ticks\": \"\"}, \"bgcolor\": \"#E5ECF6\", \"caxis\": {\"gridcolor\": \"white\", \"linecolor\": \"white\", \"ticks\": \"\"}}, \"title\": {\"x\": 0.05}, \"xaxis\": {\"automargin\": true, \"gridcolor\": \"white\", \"linecolor\": \"white\", \"ticks\": \"\", \"title\": {\"standoff\": 15}, \"zerolinecolor\": \"white\", \"zerolinewidth\": 2}, \"yaxis\": {\"automargin\": true, \"gridcolor\": \"white\", \"linecolor\": \"white\", \"ticks\": \"\", \"title\": {\"standoff\": 15}, \"zerolinecolor\": \"white\", \"zerolinewidth\": 2}}}, \"title\": {\"text\": \"class distribution in training data\"}, \"width\": 1200, \"yaxis\": {\"title\": {\"text\": \"class count\"}}},\n",
       "                        {\"responsive\": true}\n",
       "                    ).then(function(){\n",
       "                            \n",
       "var gd = document.getElementById('1885a8cd-aa21-4d90-8439-d620f97d430b');\n",
       "var x = new MutationObserver(function (mutations, observer) {{\n",
       "        var display = window.getComputedStyle(gd).display;\n",
       "        if (!display || display === 'none') {{\n",
       "            console.log([gd, 'removed!']);\n",
       "            Plotly.purge(gd);\n",
       "            observer.disconnect();\n",
       "        }}\n",
       "}});\n",
       "\n",
       "// Listen for the removal of the full notebook cells\n",
       "var notebookContainer = gd.closest('#notebook-container');\n",
       "if (notebookContainer) {{\n",
       "    x.observe(notebookContainer, {childList: true});\n",
       "}}\n",
       "\n",
       "// Listen for the clearing of the current output cell\n",
       "var outputEl = gd.closest('.output');\n",
       "if (outputEl) {{\n",
       "    x.observe(outputEl, {childList: true});\n",
       "}}\n",
       "\n",
       "                        })\n",
       "                };\n",
       "                });\n",
       "            </script>\n",
       "        </div>"
      ]
     },
     "metadata": {},
     "output_type": "display_data"
    }
   ],
   "source": [
    "layout = dict(height=400, width=1200, title='class distribution in training data',\n",
    "             legend=dict(orientation='h'), yaxis=dict(title='class count'))\n",
    "fig = go.Figure(data=[trace1], layout=layout)\n",
    "iplot(fig)"
   ]
  },
  {
   "cell_type": "code",
   "execution_count": 135,
   "metadata": {
    "ExecuteTime": {
     "end_time": "2020-09-09T14:19:17.496683Z",
     "start_time": "2020-09-09T14:19:17.449774Z"
    }
   },
   "outputs": [
    {
     "data": {
      "application/vnd.plotly.v1+json": {
       "config": {
        "linkText": "Export to plot.ly",
        "plotlyServerURL": "https://plot.ly",
        "showLink": false
       },
       "data": [
        {
         "name": "class count",
         "opacity": 0.75,
         "type": "bar",
         "x": [
          "Apple Braeburn",
          "Apple Crimson Snow",
          "Apple Golden 1",
          "Apple Golden 2",
          "Apple Golden 3",
          "Apple Granny Smith",
          "Apple Pink Lady",
          "Apple Red 1",
          "Apple Red 2",
          "Apple Red 3",
          "Apple Red Delicious",
          "Apple Red Yellow 1",
          "Apple Red Yellow 2",
          "Apricot",
          "Avocado",
          "Avocado ripe",
          "Banana",
          "Banana Lady Finger",
          "Banana Red",
          "Beetroot",
          "Blueberry",
          "Cactus fruit",
          "Cantaloupe 1",
          "Cantaloupe 2",
          "Carambula",
          "Cauliflower",
          "Cherry 1",
          "Cherry 2",
          "Cherry Rainier",
          "Cherry Wax Black",
          "Cherry Wax Red",
          "Cherry Wax Yellow",
          "Chestnut",
          "Clementine",
          "Cocos",
          "Corn",
          "Corn Husk",
          "Cucumber Ripe",
          "Cucumber Ripe 2",
          "Dates",
          "Eggplant",
          "Fig",
          "Ginger Root",
          "Granadilla",
          "Grape Blue",
          "Grape Pink",
          "Grape White",
          "Grape White 2",
          "Grape White 3",
          "Grape White 4",
          "Grapefruit Pink",
          "Grapefruit White",
          "Guava",
          "Hazelnut",
          "Huckleberry",
          "Kaki",
          "Kiwi",
          "Kohlrabi",
          "Kumquats",
          "Lemon",
          "Lemon Meyer",
          "Limes",
          "Lychee",
          "Mandarine",
          "Mango",
          "Mango Red",
          "Mangostan",
          "Maracuja",
          "Melon Piel de Sapo",
          "Mulberry",
          "Nectarine",
          "Nectarine Flat",
          "Nut Forest",
          "Nut Pecan",
          "Onion Red",
          "Onion Red Peeled",
          "Onion White",
          "Orange",
          "Papaya",
          "Passion Fruit",
          "Peach",
          "Peach 2",
          "Peach Flat",
          "Pear",
          "Pear 2",
          "Pear Abate",
          "Pear Forelle",
          "Pear Kaiser",
          "Pear Monster",
          "Pear Red",
          "Pear Stone",
          "Pear Williams",
          "Pepino",
          "Pepper Green",
          "Pepper Orange",
          "Pepper Red",
          "Pepper Yellow",
          "Physalis",
          "Physalis with Husk",
          "Pineapple",
          "Pineapple Mini",
          "Pitahaya Red",
          "Plum",
          "Plum 2",
          "Plum 3",
          "Pomegranate",
          "Pomelo Sweetie",
          "Potato Red",
          "Potato Red Washed",
          "Potato Sweet",
          "Potato White",
          "Quince",
          "Rambutan",
          "Raspberry",
          "Redcurrant",
          "Salak",
          "Strawberry",
          "Strawberry Wedge",
          "Tamarillo",
          "Tangelo",
          "Tomato 1",
          "Tomato 2",
          "Tomato 3",
          "Tomato 4",
          "Tomato Cherry Red",
          "Tomato Heart",
          "Tomato Maroon",
          "Tomato Yellow",
          "Tomato not Ripened",
          "Walnut",
          "Watermelon"
         ],
         "y": [
          164,
          148,
          160,
          164,
          161,
          164,
          152,
          164,
          164,
          144,
          166,
          164,
          219,
          164,
          143,
          166,
          166,
          152,
          166,
          150,
          154,
          166,
          164,
          164,
          166,
          234,
          164,
          246,
          246,
          164,
          164,
          164,
          153,
          166,
          166,
          150,
          154,
          130,
          156,
          166,
          156,
          234,
          99,
          166,
          328,
          164,
          166,
          166,
          164,
          158,
          166,
          164,
          166,
          157,
          166,
          166,
          156,
          157,
          166,
          164,
          166,
          166,
          166,
          166,
          166,
          142,
          102,
          166,
          246,
          164,
          164,
          160,
          218,
          178,
          150,
          155,
          146,
          160,
          164,
          166,
          164,
          246,
          164,
          164,
          232,
          166,
          234,
          102,
          166,
          222,
          237,
          166,
          166,
          148,
          234,
          222,
          222,
          164,
          164,
          166,
          163,
          166,
          151,
          142,
          304,
          164,
          153,
          150,
          151,
          150,
          150,
          166,
          164,
          166,
          164,
          162,
          164,
          246,
          166,
          166,
          246,
          225,
          246,
          160,
          164,
          228,
          127,
          153,
          158,
          249,
          157
         ]
        }
       ],
       "layout": {
        "height": 400,
        "legend": {
         "orientation": "h"
        },
        "template": {
         "data": {
          "bar": [
           {
            "error_x": {
             "color": "#2a3f5f"
            },
            "error_y": {
             "color": "#2a3f5f"
            },
            "marker": {
             "line": {
              "color": "#E5ECF6",
              "width": 0.5
             }
            },
            "type": "bar"
           }
          ],
          "barpolar": [
           {
            "marker": {
             "line": {
              "color": "#E5ECF6",
              "width": 0.5
             }
            },
            "type": "barpolar"
           }
          ],
          "carpet": [
           {
            "aaxis": {
             "endlinecolor": "#2a3f5f",
             "gridcolor": "white",
             "linecolor": "white",
             "minorgridcolor": "white",
             "startlinecolor": "#2a3f5f"
            },
            "baxis": {
             "endlinecolor": "#2a3f5f",
             "gridcolor": "white",
             "linecolor": "white",
             "minorgridcolor": "white",
             "startlinecolor": "#2a3f5f"
            },
            "type": "carpet"
           }
          ],
          "choropleth": [
           {
            "colorbar": {
             "outlinewidth": 0,
             "ticks": ""
            },
            "type": "choropleth"
           }
          ],
          "contour": [
           {
            "colorbar": {
             "outlinewidth": 0,
             "ticks": ""
            },
            "colorscale": [
             [
              0,
              "#0d0887"
             ],
             [
              0.1111111111111111,
              "#46039f"
             ],
             [
              0.2222222222222222,
              "#7201a8"
             ],
             [
              0.3333333333333333,
              "#9c179e"
             ],
             [
              0.4444444444444444,
              "#bd3786"
             ],
             [
              0.5555555555555556,
              "#d8576b"
             ],
             [
              0.6666666666666666,
              "#ed7953"
             ],
             [
              0.7777777777777778,
              "#fb9f3a"
             ],
             [
              0.8888888888888888,
              "#fdca26"
             ],
             [
              1,
              "#f0f921"
             ]
            ],
            "type": "contour"
           }
          ],
          "contourcarpet": [
           {
            "colorbar": {
             "outlinewidth": 0,
             "ticks": ""
            },
            "type": "contourcarpet"
           }
          ],
          "heatmap": [
           {
            "colorbar": {
             "outlinewidth": 0,
             "ticks": ""
            },
            "colorscale": [
             [
              0,
              "#0d0887"
             ],
             [
              0.1111111111111111,
              "#46039f"
             ],
             [
              0.2222222222222222,
              "#7201a8"
             ],
             [
              0.3333333333333333,
              "#9c179e"
             ],
             [
              0.4444444444444444,
              "#bd3786"
             ],
             [
              0.5555555555555556,
              "#d8576b"
             ],
             [
              0.6666666666666666,
              "#ed7953"
             ],
             [
              0.7777777777777778,
              "#fb9f3a"
             ],
             [
              0.8888888888888888,
              "#fdca26"
             ],
             [
              1,
              "#f0f921"
             ]
            ],
            "type": "heatmap"
           }
          ],
          "heatmapgl": [
           {
            "colorbar": {
             "outlinewidth": 0,
             "ticks": ""
            },
            "colorscale": [
             [
              0,
              "#0d0887"
             ],
             [
              0.1111111111111111,
              "#46039f"
             ],
             [
              0.2222222222222222,
              "#7201a8"
             ],
             [
              0.3333333333333333,
              "#9c179e"
             ],
             [
              0.4444444444444444,
              "#bd3786"
             ],
             [
              0.5555555555555556,
              "#d8576b"
             ],
             [
              0.6666666666666666,
              "#ed7953"
             ],
             [
              0.7777777777777778,
              "#fb9f3a"
             ],
             [
              0.8888888888888888,
              "#fdca26"
             ],
             [
              1,
              "#f0f921"
             ]
            ],
            "type": "heatmapgl"
           }
          ],
          "histogram": [
           {
            "marker": {
             "colorbar": {
              "outlinewidth": 0,
              "ticks": ""
             }
            },
            "type": "histogram"
           }
          ],
          "histogram2d": [
           {
            "colorbar": {
             "outlinewidth": 0,
             "ticks": ""
            },
            "colorscale": [
             [
              0,
              "#0d0887"
             ],
             [
              0.1111111111111111,
              "#46039f"
             ],
             [
              0.2222222222222222,
              "#7201a8"
             ],
             [
              0.3333333333333333,
              "#9c179e"
             ],
             [
              0.4444444444444444,
              "#bd3786"
             ],
             [
              0.5555555555555556,
              "#d8576b"
             ],
             [
              0.6666666666666666,
              "#ed7953"
             ],
             [
              0.7777777777777778,
              "#fb9f3a"
             ],
             [
              0.8888888888888888,
              "#fdca26"
             ],
             [
              1,
              "#f0f921"
             ]
            ],
            "type": "histogram2d"
           }
          ],
          "histogram2dcontour": [
           {
            "colorbar": {
             "outlinewidth": 0,
             "ticks": ""
            },
            "colorscale": [
             [
              0,
              "#0d0887"
             ],
             [
              0.1111111111111111,
              "#46039f"
             ],
             [
              0.2222222222222222,
              "#7201a8"
             ],
             [
              0.3333333333333333,
              "#9c179e"
             ],
             [
              0.4444444444444444,
              "#bd3786"
             ],
             [
              0.5555555555555556,
              "#d8576b"
             ],
             [
              0.6666666666666666,
              "#ed7953"
             ],
             [
              0.7777777777777778,
              "#fb9f3a"
             ],
             [
              0.8888888888888888,
              "#fdca26"
             ],
             [
              1,
              "#f0f921"
             ]
            ],
            "type": "histogram2dcontour"
           }
          ],
          "mesh3d": [
           {
            "colorbar": {
             "outlinewidth": 0,
             "ticks": ""
            },
            "type": "mesh3d"
           }
          ],
          "parcoords": [
           {
            "line": {
             "colorbar": {
              "outlinewidth": 0,
              "ticks": ""
             }
            },
            "type": "parcoords"
           }
          ],
          "pie": [
           {
            "automargin": true,
            "type": "pie"
           }
          ],
          "scatter": [
           {
            "marker": {
             "colorbar": {
              "outlinewidth": 0,
              "ticks": ""
             }
            },
            "type": "scatter"
           }
          ],
          "scatter3d": [
           {
            "line": {
             "colorbar": {
              "outlinewidth": 0,
              "ticks": ""
             }
            },
            "marker": {
             "colorbar": {
              "outlinewidth": 0,
              "ticks": ""
             }
            },
            "type": "scatter3d"
           }
          ],
          "scattercarpet": [
           {
            "marker": {
             "colorbar": {
              "outlinewidth": 0,
              "ticks": ""
             }
            },
            "type": "scattercarpet"
           }
          ],
          "scattergeo": [
           {
            "marker": {
             "colorbar": {
              "outlinewidth": 0,
              "ticks": ""
             }
            },
            "type": "scattergeo"
           }
          ],
          "scattergl": [
           {
            "marker": {
             "colorbar": {
              "outlinewidth": 0,
              "ticks": ""
             }
            },
            "type": "scattergl"
           }
          ],
          "scattermapbox": [
           {
            "marker": {
             "colorbar": {
              "outlinewidth": 0,
              "ticks": ""
             }
            },
            "type": "scattermapbox"
           }
          ],
          "scatterpolar": [
           {
            "marker": {
             "colorbar": {
              "outlinewidth": 0,
              "ticks": ""
             }
            },
            "type": "scatterpolar"
           }
          ],
          "scatterpolargl": [
           {
            "marker": {
             "colorbar": {
              "outlinewidth": 0,
              "ticks": ""
             }
            },
            "type": "scatterpolargl"
           }
          ],
          "scatterternary": [
           {
            "marker": {
             "colorbar": {
              "outlinewidth": 0,
              "ticks": ""
             }
            },
            "type": "scatterternary"
           }
          ],
          "surface": [
           {
            "colorbar": {
             "outlinewidth": 0,
             "ticks": ""
            },
            "colorscale": [
             [
              0,
              "#0d0887"
             ],
             [
              0.1111111111111111,
              "#46039f"
             ],
             [
              0.2222222222222222,
              "#7201a8"
             ],
             [
              0.3333333333333333,
              "#9c179e"
             ],
             [
              0.4444444444444444,
              "#bd3786"
             ],
             [
              0.5555555555555556,
              "#d8576b"
             ],
             [
              0.6666666666666666,
              "#ed7953"
             ],
             [
              0.7777777777777778,
              "#fb9f3a"
             ],
             [
              0.8888888888888888,
              "#fdca26"
             ],
             [
              1,
              "#f0f921"
             ]
            ],
            "type": "surface"
           }
          ],
          "table": [
           {
            "cells": {
             "fill": {
              "color": "#EBF0F8"
             },
             "line": {
              "color": "white"
             }
            },
            "header": {
             "fill": {
              "color": "#C8D4E3"
             },
             "line": {
              "color": "white"
             }
            },
            "type": "table"
           }
          ]
         },
         "layout": {
          "annotationdefaults": {
           "arrowcolor": "#2a3f5f",
           "arrowhead": 0,
           "arrowwidth": 1
          },
          "coloraxis": {
           "colorbar": {
            "outlinewidth": 0,
            "ticks": ""
           }
          },
          "colorscale": {
           "diverging": [
            [
             0,
             "#8e0152"
            ],
            [
             0.1,
             "#c51b7d"
            ],
            [
             0.2,
             "#de77ae"
            ],
            [
             0.3,
             "#f1b6da"
            ],
            [
             0.4,
             "#fde0ef"
            ],
            [
             0.5,
             "#f7f7f7"
            ],
            [
             0.6,
             "#e6f5d0"
            ],
            [
             0.7,
             "#b8e186"
            ],
            [
             0.8,
             "#7fbc41"
            ],
            [
             0.9,
             "#4d9221"
            ],
            [
             1,
             "#276419"
            ]
           ],
           "sequential": [
            [
             0,
             "#0d0887"
            ],
            [
             0.1111111111111111,
             "#46039f"
            ],
            [
             0.2222222222222222,
             "#7201a8"
            ],
            [
             0.3333333333333333,
             "#9c179e"
            ],
            [
             0.4444444444444444,
             "#bd3786"
            ],
            [
             0.5555555555555556,
             "#d8576b"
            ],
            [
             0.6666666666666666,
             "#ed7953"
            ],
            [
             0.7777777777777778,
             "#fb9f3a"
            ],
            [
             0.8888888888888888,
             "#fdca26"
            ],
            [
             1,
             "#f0f921"
            ]
           ],
           "sequentialminus": [
            [
             0,
             "#0d0887"
            ],
            [
             0.1111111111111111,
             "#46039f"
            ],
            [
             0.2222222222222222,
             "#7201a8"
            ],
            [
             0.3333333333333333,
             "#9c179e"
            ],
            [
             0.4444444444444444,
             "#bd3786"
            ],
            [
             0.5555555555555556,
             "#d8576b"
            ],
            [
             0.6666666666666666,
             "#ed7953"
            ],
            [
             0.7777777777777778,
             "#fb9f3a"
            ],
            [
             0.8888888888888888,
             "#fdca26"
            ],
            [
             1,
             "#f0f921"
            ]
           ]
          },
          "colorway": [
           "#636efa",
           "#EF553B",
           "#00cc96",
           "#ab63fa",
           "#FFA15A",
           "#19d3f3",
           "#FF6692",
           "#B6E880",
           "#FF97FF",
           "#FECB52"
          ],
          "font": {
           "color": "#2a3f5f"
          },
          "geo": {
           "bgcolor": "white",
           "lakecolor": "white",
           "landcolor": "#E5ECF6",
           "showlakes": true,
           "showland": true,
           "subunitcolor": "white"
          },
          "hoverlabel": {
           "align": "left"
          },
          "hovermode": "closest",
          "mapbox": {
           "style": "light"
          },
          "paper_bgcolor": "white",
          "plot_bgcolor": "#E5ECF6",
          "polar": {
           "angularaxis": {
            "gridcolor": "white",
            "linecolor": "white",
            "ticks": ""
           },
           "bgcolor": "#E5ECF6",
           "radialaxis": {
            "gridcolor": "white",
            "linecolor": "white",
            "ticks": ""
           }
          },
          "scene": {
           "xaxis": {
            "backgroundcolor": "#E5ECF6",
            "gridcolor": "white",
            "gridwidth": 2,
            "linecolor": "white",
            "showbackground": true,
            "ticks": "",
            "zerolinecolor": "white"
           },
           "yaxis": {
            "backgroundcolor": "#E5ECF6",
            "gridcolor": "white",
            "gridwidth": 2,
            "linecolor": "white",
            "showbackground": true,
            "ticks": "",
            "zerolinecolor": "white"
           },
           "zaxis": {
            "backgroundcolor": "#E5ECF6",
            "gridcolor": "white",
            "gridwidth": 2,
            "linecolor": "white",
            "showbackground": true,
            "ticks": "",
            "zerolinecolor": "white"
           }
          },
          "shapedefaults": {
           "line": {
            "color": "#2a3f5f"
           }
          },
          "ternary": {
           "aaxis": {
            "gridcolor": "white",
            "linecolor": "white",
            "ticks": ""
           },
           "baxis": {
            "gridcolor": "white",
            "linecolor": "white",
            "ticks": ""
           },
           "bgcolor": "#E5ECF6",
           "caxis": {
            "gridcolor": "white",
            "linecolor": "white",
            "ticks": ""
           }
          },
          "title": {
           "x": 0.05
          },
          "xaxis": {
           "automargin": true,
           "gridcolor": "white",
           "linecolor": "white",
           "ticks": "",
           "title": {
            "standoff": 15
           },
           "zerolinecolor": "white",
           "zerolinewidth": 2
          },
          "yaxis": {
           "automargin": true,
           "gridcolor": "white",
           "linecolor": "white",
           "ticks": "",
           "title": {
            "standoff": 15
           },
           "zerolinecolor": "white",
           "zerolinewidth": 2
          }
         }
        },
        "title": {
         "text": "class distribution in validation data"
        },
        "width": 1100,
        "yaxis": {
         "title": {
          "text": "class count"
         }
        }
       }
      },
      "text/html": [
       "<div>\n",
       "        \n",
       "        \n",
       "            <div id=\"94af80f8-73fe-4143-b0d5-995a9027e096\" class=\"plotly-graph-div\" style=\"height:400px; width:1100px;\"></div>\n",
       "            <script type=\"text/javascript\">\n",
       "                require([\"plotly\"], function(Plotly) {\n",
       "                    window.PLOTLYENV=window.PLOTLYENV || {};\n",
       "                    \n",
       "                if (document.getElementById(\"94af80f8-73fe-4143-b0d5-995a9027e096\")) {\n",
       "                    Plotly.newPlot(\n",
       "                        '94af80f8-73fe-4143-b0d5-995a9027e096',\n",
       "                        [{\"name\": \"class count\", \"opacity\": 0.75, \"type\": \"bar\", \"x\": [\"Apple Braeburn\", \"Apple Crimson Snow\", \"Apple Golden 1\", \"Apple Golden 2\", \"Apple Golden 3\", \"Apple Granny Smith\", \"Apple Pink Lady\", \"Apple Red 1\", \"Apple Red 2\", \"Apple Red 3\", \"Apple Red Delicious\", \"Apple Red Yellow 1\", \"Apple Red Yellow 2\", \"Apricot\", \"Avocado\", \"Avocado ripe\", \"Banana\", \"Banana Lady Finger\", \"Banana Red\", \"Beetroot\", \"Blueberry\", \"Cactus fruit\", \"Cantaloupe 1\", \"Cantaloupe 2\", \"Carambula\", \"Cauliflower\", \"Cherry 1\", \"Cherry 2\", \"Cherry Rainier\", \"Cherry Wax Black\", \"Cherry Wax Red\", \"Cherry Wax Yellow\", \"Chestnut\", \"Clementine\", \"Cocos\", \"Corn\", \"Corn Husk\", \"Cucumber Ripe\", \"Cucumber Ripe 2\", \"Dates\", \"Eggplant\", \"Fig\", \"Ginger Root\", \"Granadilla\", \"Grape Blue\", \"Grape Pink\", \"Grape White\", \"Grape White 2\", \"Grape White 3\", \"Grape White 4\", \"Grapefruit Pink\", \"Grapefruit White\", \"Guava\", \"Hazelnut\", \"Huckleberry\", \"Kaki\", \"Kiwi\", \"Kohlrabi\", \"Kumquats\", \"Lemon\", \"Lemon Meyer\", \"Limes\", \"Lychee\", \"Mandarine\", \"Mango\", \"Mango Red\", \"Mangostan\", \"Maracuja\", \"Melon Piel de Sapo\", \"Mulberry\", \"Nectarine\", \"Nectarine Flat\", \"Nut Forest\", \"Nut Pecan\", \"Onion Red\", \"Onion Red Peeled\", \"Onion White\", \"Orange\", \"Papaya\", \"Passion Fruit\", \"Peach\", \"Peach 2\", \"Peach Flat\", \"Pear\", \"Pear 2\", \"Pear Abate\", \"Pear Forelle\", \"Pear Kaiser\", \"Pear Monster\", \"Pear Red\", \"Pear Stone\", \"Pear Williams\", \"Pepino\", \"Pepper Green\", \"Pepper Orange\", \"Pepper Red\", \"Pepper Yellow\", \"Physalis\", \"Physalis with Husk\", \"Pineapple\", \"Pineapple Mini\", \"Pitahaya Red\", \"Plum\", \"Plum 2\", \"Plum 3\", \"Pomegranate\", \"Pomelo Sweetie\", \"Potato Red\", \"Potato Red Washed\", \"Potato Sweet\", \"Potato White\", \"Quince\", \"Rambutan\", \"Raspberry\", \"Redcurrant\", \"Salak\", \"Strawberry\", \"Strawberry Wedge\", \"Tamarillo\", \"Tangelo\", \"Tomato 1\", \"Tomato 2\", \"Tomato 3\", \"Tomato 4\", \"Tomato Cherry Red\", \"Tomato Heart\", \"Tomato Maroon\", \"Tomato Yellow\", \"Tomato not Ripened\", \"Walnut\", \"Watermelon\"], \"y\": [164, 148, 160, 164, 161, 164, 152, 164, 164, 144, 166, 164, 219, 164, 143, 166, 166, 152, 166, 150, 154, 166, 164, 164, 166, 234, 164, 246, 246, 164, 164, 164, 153, 166, 166, 150, 154, 130, 156, 166, 156, 234, 99, 166, 328, 164, 166, 166, 164, 158, 166, 164, 166, 157, 166, 166, 156, 157, 166, 164, 166, 166, 166, 166, 166, 142, 102, 166, 246, 164, 164, 160, 218, 178, 150, 155, 146, 160, 164, 166, 164, 246, 164, 164, 232, 166, 234, 102, 166, 222, 237, 166, 166, 148, 234, 222, 222, 164, 164, 166, 163, 166, 151, 142, 304, 164, 153, 150, 151, 150, 150, 166, 164, 166, 164, 162, 164, 246, 166, 166, 246, 225, 246, 160, 164, 228, 127, 153, 158, 249, 157]}],\n",
       "                        {\"height\": 400, \"legend\": {\"orientation\": \"h\"}, \"template\": {\"data\": {\"bar\": [{\"error_x\": {\"color\": \"#2a3f5f\"}, \"error_y\": {\"color\": \"#2a3f5f\"}, \"marker\": {\"line\": {\"color\": \"#E5ECF6\", \"width\": 0.5}}, \"type\": \"bar\"}], \"barpolar\": [{\"marker\": {\"line\": {\"color\": \"#E5ECF6\", \"width\": 0.5}}, \"type\": \"barpolar\"}], \"carpet\": [{\"aaxis\": {\"endlinecolor\": \"#2a3f5f\", \"gridcolor\": \"white\", \"linecolor\": \"white\", \"minorgridcolor\": \"white\", \"startlinecolor\": \"#2a3f5f\"}, \"baxis\": {\"endlinecolor\": \"#2a3f5f\", \"gridcolor\": \"white\", \"linecolor\": \"white\", \"minorgridcolor\": \"white\", \"startlinecolor\": \"#2a3f5f\"}, \"type\": \"carpet\"}], \"choropleth\": [{\"colorbar\": {\"outlinewidth\": 0, \"ticks\": \"\"}, \"type\": \"choropleth\"}], \"contour\": [{\"colorbar\": {\"outlinewidth\": 0, \"ticks\": \"\"}, \"colorscale\": [[0.0, \"#0d0887\"], [0.1111111111111111, \"#46039f\"], [0.2222222222222222, \"#7201a8\"], [0.3333333333333333, \"#9c179e\"], [0.4444444444444444, \"#bd3786\"], [0.5555555555555556, \"#d8576b\"], [0.6666666666666666, \"#ed7953\"], [0.7777777777777778, \"#fb9f3a\"], [0.8888888888888888, \"#fdca26\"], [1.0, \"#f0f921\"]], \"type\": \"contour\"}], \"contourcarpet\": [{\"colorbar\": {\"outlinewidth\": 0, \"ticks\": \"\"}, \"type\": \"contourcarpet\"}], \"heatmap\": [{\"colorbar\": {\"outlinewidth\": 0, \"ticks\": \"\"}, \"colorscale\": [[0.0, \"#0d0887\"], [0.1111111111111111, \"#46039f\"], [0.2222222222222222, \"#7201a8\"], [0.3333333333333333, \"#9c179e\"], [0.4444444444444444, \"#bd3786\"], [0.5555555555555556, \"#d8576b\"], [0.6666666666666666, \"#ed7953\"], [0.7777777777777778, \"#fb9f3a\"], [0.8888888888888888, \"#fdca26\"], [1.0, \"#f0f921\"]], \"type\": \"heatmap\"}], \"heatmapgl\": [{\"colorbar\": {\"outlinewidth\": 0, \"ticks\": \"\"}, \"colorscale\": [[0.0, \"#0d0887\"], [0.1111111111111111, \"#46039f\"], [0.2222222222222222, \"#7201a8\"], [0.3333333333333333, \"#9c179e\"], [0.4444444444444444, \"#bd3786\"], [0.5555555555555556, \"#d8576b\"], [0.6666666666666666, \"#ed7953\"], [0.7777777777777778, \"#fb9f3a\"], [0.8888888888888888, \"#fdca26\"], [1.0, \"#f0f921\"]], \"type\": \"heatmapgl\"}], \"histogram\": [{\"marker\": {\"colorbar\": {\"outlinewidth\": 0, \"ticks\": \"\"}}, \"type\": \"histogram\"}], \"histogram2d\": [{\"colorbar\": {\"outlinewidth\": 0, \"ticks\": \"\"}, \"colorscale\": [[0.0, \"#0d0887\"], [0.1111111111111111, \"#46039f\"], [0.2222222222222222, \"#7201a8\"], [0.3333333333333333, \"#9c179e\"], [0.4444444444444444, \"#bd3786\"], [0.5555555555555556, \"#d8576b\"], [0.6666666666666666, \"#ed7953\"], [0.7777777777777778, \"#fb9f3a\"], [0.8888888888888888, \"#fdca26\"], [1.0, \"#f0f921\"]], \"type\": \"histogram2d\"}], \"histogram2dcontour\": [{\"colorbar\": {\"outlinewidth\": 0, \"ticks\": \"\"}, \"colorscale\": [[0.0, \"#0d0887\"], [0.1111111111111111, \"#46039f\"], [0.2222222222222222, \"#7201a8\"], [0.3333333333333333, \"#9c179e\"], [0.4444444444444444, \"#bd3786\"], [0.5555555555555556, \"#d8576b\"], [0.6666666666666666, \"#ed7953\"], [0.7777777777777778, \"#fb9f3a\"], [0.8888888888888888, \"#fdca26\"], [1.0, \"#f0f921\"]], \"type\": \"histogram2dcontour\"}], \"mesh3d\": [{\"colorbar\": {\"outlinewidth\": 0, \"ticks\": \"\"}, \"type\": \"mesh3d\"}], \"parcoords\": [{\"line\": {\"colorbar\": {\"outlinewidth\": 0, \"ticks\": \"\"}}, \"type\": \"parcoords\"}], \"pie\": [{\"automargin\": true, \"type\": \"pie\"}], \"scatter\": [{\"marker\": {\"colorbar\": {\"outlinewidth\": 0, \"ticks\": \"\"}}, \"type\": \"scatter\"}], \"scatter3d\": [{\"line\": {\"colorbar\": {\"outlinewidth\": 0, \"ticks\": \"\"}}, \"marker\": {\"colorbar\": {\"outlinewidth\": 0, \"ticks\": \"\"}}, \"type\": \"scatter3d\"}], \"scattercarpet\": [{\"marker\": {\"colorbar\": {\"outlinewidth\": 0, \"ticks\": \"\"}}, \"type\": \"scattercarpet\"}], \"scattergeo\": [{\"marker\": {\"colorbar\": {\"outlinewidth\": 0, \"ticks\": \"\"}}, \"type\": \"scattergeo\"}], \"scattergl\": [{\"marker\": {\"colorbar\": {\"outlinewidth\": 0, \"ticks\": \"\"}}, \"type\": \"scattergl\"}], \"scattermapbox\": [{\"marker\": {\"colorbar\": {\"outlinewidth\": 0, \"ticks\": \"\"}}, \"type\": \"scattermapbox\"}], \"scatterpolar\": [{\"marker\": {\"colorbar\": {\"outlinewidth\": 0, \"ticks\": \"\"}}, \"type\": \"scatterpolar\"}], \"scatterpolargl\": [{\"marker\": {\"colorbar\": {\"outlinewidth\": 0, \"ticks\": \"\"}}, \"type\": \"scatterpolargl\"}], \"scatterternary\": [{\"marker\": {\"colorbar\": {\"outlinewidth\": 0, \"ticks\": \"\"}}, \"type\": \"scatterternary\"}], \"surface\": [{\"colorbar\": {\"outlinewidth\": 0, \"ticks\": \"\"}, \"colorscale\": [[0.0, \"#0d0887\"], [0.1111111111111111, \"#46039f\"], [0.2222222222222222, \"#7201a8\"], [0.3333333333333333, \"#9c179e\"], [0.4444444444444444, \"#bd3786\"], [0.5555555555555556, \"#d8576b\"], [0.6666666666666666, \"#ed7953\"], [0.7777777777777778, \"#fb9f3a\"], [0.8888888888888888, \"#fdca26\"], [1.0, \"#f0f921\"]], \"type\": \"surface\"}], \"table\": [{\"cells\": {\"fill\": {\"color\": \"#EBF0F8\"}, \"line\": {\"color\": \"white\"}}, \"header\": {\"fill\": {\"color\": \"#C8D4E3\"}, \"line\": {\"color\": \"white\"}}, \"type\": \"table\"}]}, \"layout\": {\"annotationdefaults\": {\"arrowcolor\": \"#2a3f5f\", \"arrowhead\": 0, \"arrowwidth\": 1}, \"coloraxis\": {\"colorbar\": {\"outlinewidth\": 0, \"ticks\": \"\"}}, \"colorscale\": {\"diverging\": [[0, \"#8e0152\"], [0.1, \"#c51b7d\"], [0.2, \"#de77ae\"], [0.3, \"#f1b6da\"], [0.4, \"#fde0ef\"], [0.5, \"#f7f7f7\"], [0.6, \"#e6f5d0\"], [0.7, \"#b8e186\"], [0.8, \"#7fbc41\"], [0.9, \"#4d9221\"], [1, \"#276419\"]], \"sequential\": [[0.0, \"#0d0887\"], [0.1111111111111111, \"#46039f\"], [0.2222222222222222, \"#7201a8\"], [0.3333333333333333, \"#9c179e\"], [0.4444444444444444, \"#bd3786\"], [0.5555555555555556, \"#d8576b\"], [0.6666666666666666, \"#ed7953\"], [0.7777777777777778, \"#fb9f3a\"], [0.8888888888888888, \"#fdca26\"], [1.0, \"#f0f921\"]], \"sequentialminus\": [[0.0, \"#0d0887\"], [0.1111111111111111, \"#46039f\"], [0.2222222222222222, \"#7201a8\"], [0.3333333333333333, \"#9c179e\"], [0.4444444444444444, \"#bd3786\"], [0.5555555555555556, \"#d8576b\"], [0.6666666666666666, \"#ed7953\"], [0.7777777777777778, \"#fb9f3a\"], [0.8888888888888888, \"#fdca26\"], [1.0, \"#f0f921\"]]}, \"colorway\": [\"#636efa\", \"#EF553B\", \"#00cc96\", \"#ab63fa\", \"#FFA15A\", \"#19d3f3\", \"#FF6692\", \"#B6E880\", \"#FF97FF\", \"#FECB52\"], \"font\": {\"color\": \"#2a3f5f\"}, \"geo\": {\"bgcolor\": \"white\", \"lakecolor\": \"white\", \"landcolor\": \"#E5ECF6\", \"showlakes\": true, \"showland\": true, \"subunitcolor\": \"white\"}, \"hoverlabel\": {\"align\": \"left\"}, \"hovermode\": \"closest\", \"mapbox\": {\"style\": \"light\"}, \"paper_bgcolor\": \"white\", \"plot_bgcolor\": \"#E5ECF6\", \"polar\": {\"angularaxis\": {\"gridcolor\": \"white\", \"linecolor\": \"white\", \"ticks\": \"\"}, \"bgcolor\": \"#E5ECF6\", \"radialaxis\": {\"gridcolor\": \"white\", \"linecolor\": \"white\", \"ticks\": \"\"}}, \"scene\": {\"xaxis\": {\"backgroundcolor\": \"#E5ECF6\", \"gridcolor\": \"white\", \"gridwidth\": 2, \"linecolor\": \"white\", \"showbackground\": true, \"ticks\": \"\", \"zerolinecolor\": \"white\"}, \"yaxis\": {\"backgroundcolor\": \"#E5ECF6\", \"gridcolor\": \"white\", \"gridwidth\": 2, \"linecolor\": \"white\", \"showbackground\": true, \"ticks\": \"\", \"zerolinecolor\": \"white\"}, \"zaxis\": {\"backgroundcolor\": \"#E5ECF6\", \"gridcolor\": \"white\", \"gridwidth\": 2, \"linecolor\": \"white\", \"showbackground\": true, \"ticks\": \"\", \"zerolinecolor\": \"white\"}}, \"shapedefaults\": {\"line\": {\"color\": \"#2a3f5f\"}}, \"ternary\": {\"aaxis\": {\"gridcolor\": \"white\", \"linecolor\": \"white\", \"ticks\": \"\"}, \"baxis\": {\"gridcolor\": \"white\", \"linecolor\": \"white\", \"ticks\": \"\"}, \"bgcolor\": \"#E5ECF6\", \"caxis\": {\"gridcolor\": \"white\", \"linecolor\": \"white\", \"ticks\": \"\"}}, \"title\": {\"x\": 0.05}, \"xaxis\": {\"automargin\": true, \"gridcolor\": \"white\", \"linecolor\": \"white\", \"ticks\": \"\", \"title\": {\"standoff\": 15}, \"zerolinecolor\": \"white\", \"zerolinewidth\": 2}, \"yaxis\": {\"automargin\": true, \"gridcolor\": \"white\", \"linecolor\": \"white\", \"ticks\": \"\", \"title\": {\"standoff\": 15}, \"zerolinecolor\": \"white\", \"zerolinewidth\": 2}}}, \"title\": {\"text\": \"class distribution in validation data\"}, \"width\": 1100, \"yaxis\": {\"title\": {\"text\": \"class count\"}}},\n",
       "                        {\"responsive\": true}\n",
       "                    ).then(function(){\n",
       "                            \n",
       "var gd = document.getElementById('94af80f8-73fe-4143-b0d5-995a9027e096');\n",
       "var x = new MutationObserver(function (mutations, observer) {{\n",
       "        var display = window.getComputedStyle(gd).display;\n",
       "        if (!display || display === 'none') {{\n",
       "            console.log([gd, 'removed!']);\n",
       "            Plotly.purge(gd);\n",
       "            observer.disconnect();\n",
       "        }}\n",
       "}});\n",
       "\n",
       "// Listen for the removal of the full notebook cells\n",
       "var notebookContainer = gd.closest('#notebook-container');\n",
       "if (notebookContainer) {{\n",
       "    x.observe(notebookContainer, {childList: true});\n",
       "}}\n",
       "\n",
       "// Listen for the clearing of the current output cell\n",
       "var outputEl = gd.closest('.output');\n",
       "if (outputEl) {{\n",
       "    x.observe(outputEl, {childList: true});\n",
       "}}\n",
       "\n",
       "                        })\n",
       "                };\n",
       "                });\n",
       "            </script>\n",
       "        </div>"
      ]
     },
     "metadata": {},
     "output_type": "display_data"
    }
   ],
   "source": [
    "x1, y1 = create_stack_bar_data('classes', testing_data)\n",
    "x1 = list(validation_generator.class_indices.keys())\n",
    "\n",
    "trace1 = go.Bar(x=x1, y=y1, opacity=0.75, name=\"class count\")\n",
    "layout = dict(height=400, width=1100, title='class distribution in validation data', \n",
    "              legend=dict(orientation=\"h\"), yaxis = dict(title = 'class count'))\n",
    "fig = go.Figure(data=[trace1], layout=layout)\n",
    "iplot(fig)"
   ]
  },
  {
   "cell_type": "markdown",
   "metadata": {},
   "source": [
    "보다 싶이 모든 클래스가 균형적으로(잘 분포되어 있다는 뜻) 되어있음을 볼 수 있다. (validation set도)"
   ]
  },
  {
   "cell_type": "markdown",
   "metadata": {},
   "source": [
    "## 4. Building and Compiling the Model"
   ]
  },
  {
   "cell_type": "markdown",
   "metadata": {},
   "source": [
    "### 4.1. Building the Models\n",
    "여기 ImageNet 가중치로 되어있는 ResNet-50을 로드한다. 가장 마지막 층을 제거하고 클래스의 개수만큼의 노드로 새로운 층을 추가한다. 그리고 모델 설계를 끝내기 위해 우리의 층(신경망)을 추가한다.\n",
    "\n",
    "> 참고 : https://datascienceschool.net/view-notebook/958022040c544257aa7ba88643d6c032/"
   ]
  },
  {
   "cell_type": "markdown",
   "metadata": {},
   "source": [
    "#### 4.1.1. Building Pretrained Model"
   ]
  },
  {
   "cell_type": "code",
   "execution_count": 136,
   "metadata": {
    "ExecuteTime": {
     "end_time": "2020-09-09T14:19:19.165754Z",
     "start_time": "2020-09-09T14:19:17.497647Z"
    }
   },
   "outputs": [],
   "source": [
    "# 미리 학습된 가중치로 inception을 임포트한다.\n",
    "# 단 완전연결계층은 포함하지 않는다.\n",
    "from tensorflow.keras.applications.resnet50 import ResNet50\n",
    "\n",
    "inception_base = ResNet50(include_top=False, weights='imagenet')\n",
    "\n",
    "# 마지막에 1000으로 분류하는 완전연결계층(Dense) 제거\n",
    "# global spatial average pooling 계층 추가\n",
    "x = inception_base.output\n",
    "x = GlobalAveragePooling2D()(x)\n",
    "\n",
    "# 완전 연결 계층 추가\n",
    "x = Dense(512, activation='relu')(x)\n",
    "# 131개의 과일을 분류하기 위한 완전연결계층 추가\n",
    "predictions = Dense(65, activation='softmax')(x)\n",
    "\n",
    "# 완성된 신경망을 생성\n",
    "inception_transfer = Model(inputs=inception_base.input, outputs=predictions)"
   ]
  },
  {
   "cell_type": "markdown",
   "metadata": {},
   "source": [
    "#### 4.1.2. Building the Vanilla Model"
   ]
  },
  {
   "cell_type": "code",
   "execution_count": 137,
   "metadata": {
    "ExecuteTime": {
     "end_time": "2020-09-09T14:19:20.520112Z",
     "start_time": "2020-09-09T14:19:19.168731Z"
    }
   },
   "outputs": [],
   "source": [
    "# 동일하지만 가중치 값이 없음\n",
    "inception_base_vanilla = applications.ResNet50(weights=None, include_top=False)\n",
    "\n",
    "# 아까와 동일하게 계층 추가\n",
    "x = inception_base_vanilla.output\n",
    "x = GlobalAveragePooling2D()(x)\n",
    "x = Dense(512, activation='relu')(x)\n",
    "predictions = Dense(65, activation='softmax')(x)\n",
    "inception_transfer_vanilla = Model(inputs=inception_base_vanilla.input, outputs=predictions)"
   ]
  },
  {
   "cell_type": "markdown",
   "metadata": {},
   "source": [
    "### 4.2. Compiling the Models\n",
    "비용함수(목적함수)와 최적화 알고리즘, 평가지표를 성정한다."
   ]
  },
  {
   "cell_type": "code",
   "execution_count": 138,
   "metadata": {
    "ExecuteTime": {
     "end_time": "2020-09-09T14:19:20.552026Z",
     "start_time": "2020-09-09T14:19:20.521111Z"
    }
   },
   "outputs": [],
   "source": [
    "inception_transfer.compile(loss='categorical_crossentropy',\n",
    "                          optimizer=optimizers.SGD(lr=1e-4, momentum=0.9),\n",
    "                          metrics=['accuracy'])\n",
    "inception_transfer_vanilla.compile(loss='categorical_crossentropy',\n",
    "                                  optimizer=optimizers.SGD(lr=1e-4, momentum=0.9),\n",
    "                                  metrics=['accuracy'])"
   ]
  },
  {
   "cell_type": "code",
   "execution_count": 139,
   "metadata": {
    "ExecuteTime": {
     "end_time": "2020-09-09T14:19:20.567983Z",
     "start_time": "2020-09-09T14:19:20.553023Z"
    }
   },
   "outputs": [
    {
     "name": "stdout",
     "output_type": "stream",
     "text": [
      "[name: \"/device:CPU:0\"\n",
      "device_type: \"CPU\"\n",
      "memory_limit: 268435456\n",
      "locality {\n",
      "}\n",
      "incarnation: 12544219946489836919\n",
      ", name: \"/device:XLA_CPU:0\"\n",
      "device_type: \"XLA_CPU\"\n",
      "memory_limit: 17179869184\n",
      "locality {\n",
      "}\n",
      "incarnation: 7403868652066542137\n",
      "physical_device_desc: \"device: XLA_CPU device\"\n",
      ", name: \"/device:XLA_GPU:0\"\n",
      "device_type: \"XLA_GPU\"\n",
      "memory_limit: 17179869184\n",
      "locality {\n",
      "}\n",
      "incarnation: 2376482744844670604\n",
      "physical_device_desc: \"device: XLA_GPU device\"\n",
      "]\n"
     ]
    }
   ],
   "source": [
    "from tensorflow.python.client import device_lib\n",
    "print(device_lib.list_local_devices())"
   ]
  },
  {
   "cell_type": "markdown",
   "metadata": {},
   "source": [
    "## 5. Training and Validating the Pretrained Model\n",
    "`fit_generator`를 사용할 것이다. 왜냐하면 데이터를 가져오는 ImageDataGenerator를 사용하기 때문."
   ]
  },
  {
   "cell_type": "code",
   "execution_count": 140,
   "metadata": {
    "ExecuteTime": {
     "end_time": "2020-09-09T14:19:26.957342Z",
     "start_time": "2020-09-09T14:19:20.569978Z"
    }
   },
   "outputs": [
    {
     "name": "stdout",
     "output_type": "stream",
     "text": [
      "Epoch 1/5\n"
     ]
    },
    {
     "ename": "InvalidArgumentError",
     "evalue": " logits and labels must be broadcastable: logits_size=[16,65] labels_size=[16,131]\n\t [[node categorical_crossentropy/softmax_cross_entropy_with_logits (defined at <ipython-input-140-a2a71863bdd6>:5) ]] [Op:__inference_train_function_64318]\n\nFunction call stack:\ntrain_function\n",
     "output_type": "error",
     "traceback": [
      "\u001b[1;31m---------------------------------------------------------------------------\u001b[0m",
      "\u001b[1;31mInvalidArgumentError\u001b[0m                      Traceback (most recent call last)",
      "\u001b[1;32m<ipython-input-140-a2a71863bdd6>\u001b[0m in \u001b[0;36m<module>\u001b[1;34m\u001b[0m\n\u001b[0;32m      3\u001b[0m     history_pretrained = inception_transfer.fit_generator(\n\u001b[0;32m      4\u001b[0m     \u001b[0mtrain_generator\u001b[0m\u001b[1;33m,\u001b[0m\u001b[1;33m\u001b[0m\u001b[1;33m\u001b[0m\u001b[0m\n\u001b[1;32m----> 5\u001b[1;33m     epochs=5, shuffle = True, verbose = 1, validation_data = validation_generator)\n\u001b[0m",
      "\u001b[1;32m~\\anaconda3\\lib\\site-packages\\tensorflow\\python\\util\\deprecation.py\u001b[0m in \u001b[0;36mnew_func\u001b[1;34m(*args, **kwargs)\u001b[0m\n\u001b[0;32m    322\u001b[0m               \u001b[1;34m'in a future version'\u001b[0m \u001b[1;32mif\u001b[0m \u001b[0mdate\u001b[0m \u001b[1;32mis\u001b[0m \u001b[1;32mNone\u001b[0m \u001b[1;32melse\u001b[0m \u001b[1;33m(\u001b[0m\u001b[1;34m'after %s'\u001b[0m \u001b[1;33m%\u001b[0m \u001b[0mdate\u001b[0m\u001b[1;33m)\u001b[0m\u001b[1;33m,\u001b[0m\u001b[1;33m\u001b[0m\u001b[1;33m\u001b[0m\u001b[0m\n\u001b[0;32m    323\u001b[0m               instructions)\n\u001b[1;32m--> 324\u001b[1;33m       \u001b[1;32mreturn\u001b[0m \u001b[0mfunc\u001b[0m\u001b[1;33m(\u001b[0m\u001b[1;33m*\u001b[0m\u001b[0margs\u001b[0m\u001b[1;33m,\u001b[0m \u001b[1;33m**\u001b[0m\u001b[0mkwargs\u001b[0m\u001b[1;33m)\u001b[0m\u001b[1;33m\u001b[0m\u001b[1;33m\u001b[0m\u001b[0m\n\u001b[0m\u001b[0;32m    325\u001b[0m     return tf_decorator.make_decorator(\n\u001b[0;32m    326\u001b[0m         \u001b[0mfunc\u001b[0m\u001b[1;33m,\u001b[0m \u001b[0mnew_func\u001b[0m\u001b[1;33m,\u001b[0m \u001b[1;34m'deprecated'\u001b[0m\u001b[1;33m,\u001b[0m\u001b[1;33m\u001b[0m\u001b[1;33m\u001b[0m\u001b[0m\n",
      "\u001b[1;32m~\\anaconda3\\lib\\site-packages\\tensorflow\\python\\keras\\engine\\training.py\u001b[0m in \u001b[0;36mfit_generator\u001b[1;34m(self, generator, steps_per_epoch, epochs, verbose, callbacks, validation_data, validation_steps, validation_freq, class_weight, max_queue_size, workers, use_multiprocessing, shuffle, initial_epoch)\u001b[0m\n\u001b[0;32m   1827\u001b[0m         \u001b[0muse_multiprocessing\u001b[0m\u001b[1;33m=\u001b[0m\u001b[0muse_multiprocessing\u001b[0m\u001b[1;33m,\u001b[0m\u001b[1;33m\u001b[0m\u001b[1;33m\u001b[0m\u001b[0m\n\u001b[0;32m   1828\u001b[0m         \u001b[0mshuffle\u001b[0m\u001b[1;33m=\u001b[0m\u001b[0mshuffle\u001b[0m\u001b[1;33m,\u001b[0m\u001b[1;33m\u001b[0m\u001b[1;33m\u001b[0m\u001b[0m\n\u001b[1;32m-> 1829\u001b[1;33m         initial_epoch=initial_epoch)\n\u001b[0m\u001b[0;32m   1830\u001b[0m \u001b[1;33m\u001b[0m\u001b[0m\n\u001b[0;32m   1831\u001b[0m   @deprecation.deprecated(\n",
      "\u001b[1;32m~\\anaconda3\\lib\\site-packages\\tensorflow\\python\\keras\\engine\\training.py\u001b[0m in \u001b[0;36m_method_wrapper\u001b[1;34m(self, *args, **kwargs)\u001b[0m\n\u001b[0;32m    106\u001b[0m   \u001b[1;32mdef\u001b[0m \u001b[0m_method_wrapper\u001b[0m\u001b[1;33m(\u001b[0m\u001b[0mself\u001b[0m\u001b[1;33m,\u001b[0m \u001b[1;33m*\u001b[0m\u001b[0margs\u001b[0m\u001b[1;33m,\u001b[0m \u001b[1;33m**\u001b[0m\u001b[0mkwargs\u001b[0m\u001b[1;33m)\u001b[0m\u001b[1;33m:\u001b[0m\u001b[1;33m\u001b[0m\u001b[1;33m\u001b[0m\u001b[0m\n\u001b[0;32m    107\u001b[0m     \u001b[1;32mif\u001b[0m \u001b[1;32mnot\u001b[0m \u001b[0mself\u001b[0m\u001b[1;33m.\u001b[0m\u001b[0m_in_multi_worker_mode\u001b[0m\u001b[1;33m(\u001b[0m\u001b[1;33m)\u001b[0m\u001b[1;33m:\u001b[0m  \u001b[1;31m# pylint: disable=protected-access\u001b[0m\u001b[1;33m\u001b[0m\u001b[1;33m\u001b[0m\u001b[0m\n\u001b[1;32m--> 108\u001b[1;33m       \u001b[1;32mreturn\u001b[0m \u001b[0mmethod\u001b[0m\u001b[1;33m(\u001b[0m\u001b[0mself\u001b[0m\u001b[1;33m,\u001b[0m \u001b[1;33m*\u001b[0m\u001b[0margs\u001b[0m\u001b[1;33m,\u001b[0m \u001b[1;33m**\u001b[0m\u001b[0mkwargs\u001b[0m\u001b[1;33m)\u001b[0m\u001b[1;33m\u001b[0m\u001b[1;33m\u001b[0m\u001b[0m\n\u001b[0m\u001b[0;32m    109\u001b[0m \u001b[1;33m\u001b[0m\u001b[0m\n\u001b[0;32m    110\u001b[0m     \u001b[1;31m# Running inside `run_distribute_coordinator` already.\u001b[0m\u001b[1;33m\u001b[0m\u001b[1;33m\u001b[0m\u001b[1;33m\u001b[0m\u001b[0m\n",
      "\u001b[1;32m~\\anaconda3\\lib\\site-packages\\tensorflow\\python\\keras\\engine\\training.py\u001b[0m in \u001b[0;36mfit\u001b[1;34m(self, x, y, batch_size, epochs, verbose, callbacks, validation_split, validation_data, shuffle, class_weight, sample_weight, initial_epoch, steps_per_epoch, validation_steps, validation_batch_size, validation_freq, max_queue_size, workers, use_multiprocessing)\u001b[0m\n\u001b[0;32m   1096\u001b[0m                 batch_size=batch_size):\n\u001b[0;32m   1097\u001b[0m               \u001b[0mcallbacks\u001b[0m\u001b[1;33m.\u001b[0m\u001b[0mon_train_batch_begin\u001b[0m\u001b[1;33m(\u001b[0m\u001b[0mstep\u001b[0m\u001b[1;33m)\u001b[0m\u001b[1;33m\u001b[0m\u001b[1;33m\u001b[0m\u001b[0m\n\u001b[1;32m-> 1098\u001b[1;33m               \u001b[0mtmp_logs\u001b[0m \u001b[1;33m=\u001b[0m \u001b[0mtrain_function\u001b[0m\u001b[1;33m(\u001b[0m\u001b[0miterator\u001b[0m\u001b[1;33m)\u001b[0m\u001b[1;33m\u001b[0m\u001b[1;33m\u001b[0m\u001b[0m\n\u001b[0m\u001b[0;32m   1099\u001b[0m               \u001b[1;32mif\u001b[0m \u001b[0mdata_handler\u001b[0m\u001b[1;33m.\u001b[0m\u001b[0mshould_sync\u001b[0m\u001b[1;33m:\u001b[0m\u001b[1;33m\u001b[0m\u001b[1;33m\u001b[0m\u001b[0m\n\u001b[0;32m   1100\u001b[0m                 \u001b[0mcontext\u001b[0m\u001b[1;33m.\u001b[0m\u001b[0masync_wait\u001b[0m\u001b[1;33m(\u001b[0m\u001b[1;33m)\u001b[0m\u001b[1;33m\u001b[0m\u001b[1;33m\u001b[0m\u001b[0m\n",
      "\u001b[1;32m~\\anaconda3\\lib\\site-packages\\tensorflow\\python\\eager\\def_function.py\u001b[0m in \u001b[0;36m__call__\u001b[1;34m(self, *args, **kwds)\u001b[0m\n\u001b[0;32m    778\u001b[0m       \u001b[1;32melse\u001b[0m\u001b[1;33m:\u001b[0m\u001b[1;33m\u001b[0m\u001b[1;33m\u001b[0m\u001b[0m\n\u001b[0;32m    779\u001b[0m         \u001b[0mcompiler\u001b[0m \u001b[1;33m=\u001b[0m \u001b[1;34m\"nonXla\"\u001b[0m\u001b[1;33m\u001b[0m\u001b[1;33m\u001b[0m\u001b[0m\n\u001b[1;32m--> 780\u001b[1;33m         \u001b[0mresult\u001b[0m \u001b[1;33m=\u001b[0m \u001b[0mself\u001b[0m\u001b[1;33m.\u001b[0m\u001b[0m_call\u001b[0m\u001b[1;33m(\u001b[0m\u001b[1;33m*\u001b[0m\u001b[0margs\u001b[0m\u001b[1;33m,\u001b[0m \u001b[1;33m**\u001b[0m\u001b[0mkwds\u001b[0m\u001b[1;33m)\u001b[0m\u001b[1;33m\u001b[0m\u001b[1;33m\u001b[0m\u001b[0m\n\u001b[0m\u001b[0;32m    781\u001b[0m \u001b[1;33m\u001b[0m\u001b[0m\n\u001b[0;32m    782\u001b[0m       \u001b[0mnew_tracing_count\u001b[0m \u001b[1;33m=\u001b[0m \u001b[0mself\u001b[0m\u001b[1;33m.\u001b[0m\u001b[0m_get_tracing_count\u001b[0m\u001b[1;33m(\u001b[0m\u001b[1;33m)\u001b[0m\u001b[1;33m\u001b[0m\u001b[1;33m\u001b[0m\u001b[0m\n",
      "\u001b[1;32m~\\anaconda3\\lib\\site-packages\\tensorflow\\python\\eager\\def_function.py\u001b[0m in \u001b[0;36m_call\u001b[1;34m(self, *args, **kwds)\u001b[0m\n\u001b[0;32m    838\u001b[0m         \u001b[1;31m# Lifting succeeded, so variables are initialized and we can run the\u001b[0m\u001b[1;33m\u001b[0m\u001b[1;33m\u001b[0m\u001b[1;33m\u001b[0m\u001b[0m\n\u001b[0;32m    839\u001b[0m         \u001b[1;31m# stateless function.\u001b[0m\u001b[1;33m\u001b[0m\u001b[1;33m\u001b[0m\u001b[1;33m\u001b[0m\u001b[0m\n\u001b[1;32m--> 840\u001b[1;33m         \u001b[1;32mreturn\u001b[0m \u001b[0mself\u001b[0m\u001b[1;33m.\u001b[0m\u001b[0m_stateless_fn\u001b[0m\u001b[1;33m(\u001b[0m\u001b[1;33m*\u001b[0m\u001b[0margs\u001b[0m\u001b[1;33m,\u001b[0m \u001b[1;33m**\u001b[0m\u001b[0mkwds\u001b[0m\u001b[1;33m)\u001b[0m\u001b[1;33m\u001b[0m\u001b[1;33m\u001b[0m\u001b[0m\n\u001b[0m\u001b[0;32m    841\u001b[0m     \u001b[1;32melse\u001b[0m\u001b[1;33m:\u001b[0m\u001b[1;33m\u001b[0m\u001b[1;33m\u001b[0m\u001b[0m\n\u001b[0;32m    842\u001b[0m       \u001b[0mcanon_args\u001b[0m\u001b[1;33m,\u001b[0m \u001b[0mcanon_kwds\u001b[0m \u001b[1;33m=\u001b[0m\u001b[0;31m \u001b[0m\u001b[0;31m\\\u001b[0m\u001b[1;33m\u001b[0m\u001b[1;33m\u001b[0m\u001b[0m\n",
      "\u001b[1;32m~\\anaconda3\\lib\\site-packages\\tensorflow\\python\\eager\\function.py\u001b[0m in \u001b[0;36m__call__\u001b[1;34m(self, *args, **kwargs)\u001b[0m\n\u001b[0;32m   2827\u001b[0m     \u001b[1;32mwith\u001b[0m \u001b[0mself\u001b[0m\u001b[1;33m.\u001b[0m\u001b[0m_lock\u001b[0m\u001b[1;33m:\u001b[0m\u001b[1;33m\u001b[0m\u001b[1;33m\u001b[0m\u001b[0m\n\u001b[0;32m   2828\u001b[0m       \u001b[0mgraph_function\u001b[0m\u001b[1;33m,\u001b[0m \u001b[0margs\u001b[0m\u001b[1;33m,\u001b[0m \u001b[0mkwargs\u001b[0m \u001b[1;33m=\u001b[0m \u001b[0mself\u001b[0m\u001b[1;33m.\u001b[0m\u001b[0m_maybe_define_function\u001b[0m\u001b[1;33m(\u001b[0m\u001b[0margs\u001b[0m\u001b[1;33m,\u001b[0m \u001b[0mkwargs\u001b[0m\u001b[1;33m)\u001b[0m\u001b[1;33m\u001b[0m\u001b[1;33m\u001b[0m\u001b[0m\n\u001b[1;32m-> 2829\u001b[1;33m     \u001b[1;32mreturn\u001b[0m \u001b[0mgraph_function\u001b[0m\u001b[1;33m.\u001b[0m\u001b[0m_filtered_call\u001b[0m\u001b[1;33m(\u001b[0m\u001b[0margs\u001b[0m\u001b[1;33m,\u001b[0m \u001b[0mkwargs\u001b[0m\u001b[1;33m)\u001b[0m  \u001b[1;31m# pylint: disable=protected-access\u001b[0m\u001b[1;33m\u001b[0m\u001b[1;33m\u001b[0m\u001b[0m\n\u001b[0m\u001b[0;32m   2830\u001b[0m \u001b[1;33m\u001b[0m\u001b[0m\n\u001b[0;32m   2831\u001b[0m   \u001b[1;33m@\u001b[0m\u001b[0mproperty\u001b[0m\u001b[1;33m\u001b[0m\u001b[1;33m\u001b[0m\u001b[0m\n",
      "\u001b[1;32m~\\anaconda3\\lib\\site-packages\\tensorflow\\python\\eager\\function.py\u001b[0m in \u001b[0;36m_filtered_call\u001b[1;34m(self, args, kwargs, cancellation_manager)\u001b[0m\n\u001b[0;32m   1846\u001b[0m                            resource_variable_ops.BaseResourceVariable))],\n\u001b[0;32m   1847\u001b[0m         \u001b[0mcaptured_inputs\u001b[0m\u001b[1;33m=\u001b[0m\u001b[0mself\u001b[0m\u001b[1;33m.\u001b[0m\u001b[0mcaptured_inputs\u001b[0m\u001b[1;33m,\u001b[0m\u001b[1;33m\u001b[0m\u001b[1;33m\u001b[0m\u001b[0m\n\u001b[1;32m-> 1848\u001b[1;33m         cancellation_manager=cancellation_manager)\n\u001b[0m\u001b[0;32m   1849\u001b[0m \u001b[1;33m\u001b[0m\u001b[0m\n\u001b[0;32m   1850\u001b[0m   \u001b[1;32mdef\u001b[0m \u001b[0m_call_flat\u001b[0m\u001b[1;33m(\u001b[0m\u001b[0mself\u001b[0m\u001b[1;33m,\u001b[0m \u001b[0margs\u001b[0m\u001b[1;33m,\u001b[0m \u001b[0mcaptured_inputs\u001b[0m\u001b[1;33m,\u001b[0m \u001b[0mcancellation_manager\u001b[0m\u001b[1;33m=\u001b[0m\u001b[1;32mNone\u001b[0m\u001b[1;33m)\u001b[0m\u001b[1;33m:\u001b[0m\u001b[1;33m\u001b[0m\u001b[1;33m\u001b[0m\u001b[0m\n",
      "\u001b[1;32m~\\anaconda3\\lib\\site-packages\\tensorflow\\python\\eager\\function.py\u001b[0m in \u001b[0;36m_call_flat\u001b[1;34m(self, args, captured_inputs, cancellation_manager)\u001b[0m\n\u001b[0;32m   1922\u001b[0m       \u001b[1;31m# No tape is watching; skip to running the function.\u001b[0m\u001b[1;33m\u001b[0m\u001b[1;33m\u001b[0m\u001b[1;33m\u001b[0m\u001b[0m\n\u001b[0;32m   1923\u001b[0m       return self._build_call_outputs(self._inference_function.call(\n\u001b[1;32m-> 1924\u001b[1;33m           ctx, args, cancellation_manager=cancellation_manager))\n\u001b[0m\u001b[0;32m   1925\u001b[0m     forward_backward = self._select_forward_and_backward_functions(\n\u001b[0;32m   1926\u001b[0m         \u001b[0margs\u001b[0m\u001b[1;33m,\u001b[0m\u001b[1;33m\u001b[0m\u001b[1;33m\u001b[0m\u001b[0m\n",
      "\u001b[1;32m~\\anaconda3\\lib\\site-packages\\tensorflow\\python\\eager\\function.py\u001b[0m in \u001b[0;36mcall\u001b[1;34m(self, ctx, args, cancellation_manager)\u001b[0m\n\u001b[0;32m    548\u001b[0m               \u001b[0minputs\u001b[0m\u001b[1;33m=\u001b[0m\u001b[0margs\u001b[0m\u001b[1;33m,\u001b[0m\u001b[1;33m\u001b[0m\u001b[1;33m\u001b[0m\u001b[0m\n\u001b[0;32m    549\u001b[0m               \u001b[0mattrs\u001b[0m\u001b[1;33m=\u001b[0m\u001b[0mattrs\u001b[0m\u001b[1;33m,\u001b[0m\u001b[1;33m\u001b[0m\u001b[1;33m\u001b[0m\u001b[0m\n\u001b[1;32m--> 550\u001b[1;33m               ctx=ctx)\n\u001b[0m\u001b[0;32m    551\u001b[0m         \u001b[1;32melse\u001b[0m\u001b[1;33m:\u001b[0m\u001b[1;33m\u001b[0m\u001b[1;33m\u001b[0m\u001b[0m\n\u001b[0;32m    552\u001b[0m           outputs = execute.execute_with_cancellation(\n",
      "\u001b[1;32m~\\anaconda3\\lib\\site-packages\\tensorflow\\python\\eager\\execute.py\u001b[0m in \u001b[0;36mquick_execute\u001b[1;34m(op_name, num_outputs, inputs, attrs, ctx, name)\u001b[0m\n\u001b[0;32m     58\u001b[0m     \u001b[0mctx\u001b[0m\u001b[1;33m.\u001b[0m\u001b[0mensure_initialized\u001b[0m\u001b[1;33m(\u001b[0m\u001b[1;33m)\u001b[0m\u001b[1;33m\u001b[0m\u001b[1;33m\u001b[0m\u001b[0m\n\u001b[0;32m     59\u001b[0m     tensors = pywrap_tfe.TFE_Py_Execute(ctx._handle, device_name, op_name,\n\u001b[1;32m---> 60\u001b[1;33m                                         inputs, attrs, num_outputs)\n\u001b[0m\u001b[0;32m     61\u001b[0m   \u001b[1;32mexcept\u001b[0m \u001b[0mcore\u001b[0m\u001b[1;33m.\u001b[0m\u001b[0m_NotOkStatusException\u001b[0m \u001b[1;32mas\u001b[0m \u001b[0me\u001b[0m\u001b[1;33m:\u001b[0m\u001b[1;33m\u001b[0m\u001b[1;33m\u001b[0m\u001b[0m\n\u001b[0;32m     62\u001b[0m     \u001b[1;32mif\u001b[0m \u001b[0mname\u001b[0m \u001b[1;32mis\u001b[0m \u001b[1;32mnot\u001b[0m \u001b[1;32mNone\u001b[0m\u001b[1;33m:\u001b[0m\u001b[1;33m\u001b[0m\u001b[1;33m\u001b[0m\u001b[0m\n",
      "\u001b[1;31mInvalidArgumentError\u001b[0m:  logits and labels must be broadcastable: logits_size=[16,65] labels_size=[16,131]\n\t [[node categorical_crossentropy/softmax_cross_entropy_with_logits (defined at <ipython-input-140-a2a71863bdd6>:5) ]] [Op:__inference_train_function_64318]\n\nFunction call stack:\ntrain_function\n"
     ]
    }
   ],
   "source": [
    "import tensorflow as tf\n",
    "with tf.device(\"/device:GPU:0\"):\n",
    "    history_pretrained = inception_transfer.fit_generator(\n",
    "    train_generator,\n",
    "    epochs=5, shuffle = True, verbose = 1, validation_data = validation_generator)"
   ]
  },
  {
   "cell_type": "code",
   "execution_count": null,
   "metadata": {
    "ExecuteTime": {
     "end_time": "2020-09-09T14:19:26.959336Z",
     "start_time": "2020-09-09T14:19:13.439Z"
    }
   },
   "outputs": [],
   "source": [
    "with tf.device('/device:XLA_GPU:0'):\n",
    "    history_vanilla = inception_transfer_vanilla.fit_generator(train_generator, epochs=5, shuffle=True,\n",
    "                                                              verbose=1, validation_data=validation_generator)"
   ]
  },
  {
   "cell_type": "code",
   "execution_count": null,
   "metadata": {
    "ExecuteTime": {
     "end_time": "2020-09-09T14:19:26.960335Z",
     "start_time": "2020-09-09T14:19:13.441Z"
    }
   },
   "outputs": [],
   "source": [
    "import matplotlib.pyplot as plt\n",
    "\n",
    "# accuracy\n",
    "plt.plot(history_pretrained.history['val_acc'])\n",
    "plt.plot(history_vanilla.history['val_acc'])\n",
    "plt.title('model accuracy')\n",
    "plt.ylabel('accuracy')\n",
    "plt.xlabel('epoch')\n",
    "plt.legend(['Pretrained', 'Vanilla'], loc='upper left')\n",
    "plt.show()"
   ]
  },
  {
   "cell_type": "code",
   "execution_count": null,
   "metadata": {
    "ExecuteTime": {
     "end_time": "2020-09-09T14:19:26.961333Z",
     "start_time": "2020-09-09T14:19:13.443Z"
    }
   },
   "outputs": [],
   "source": [
    "plt.plot(history_pretrained.history['val_loss'])\n",
    "plt.plot(history_vanilla.history['val_loss'])\n",
    "plt.title('model loss')\n",
    "plt.ylabel('loss')\n",
    "plt.xlabel('epoch')\n",
    "plt.legend(['Pretrained', 'Vanilla'], loc='upper left')\n",
    "plt.show()"
   ]
  }
 ],
 "metadata": {
  "kernelspec": {
   "display_name": "Python 3",
   "language": "python",
   "name": "python3"
  },
  "language_info": {
   "codemirror_mode": {
    "name": "ipython",
    "version": 3
   },
   "file_extension": ".py",
   "mimetype": "text/x-python",
   "name": "python",
   "nbconvert_exporter": "python",
   "pygments_lexer": "ipython3",
   "version": "3.7.7"
  },
  "toc": {
   "base_numbering": 1,
   "nav_menu": {},
   "number_sections": false,
   "sideBar": true,
   "skip_h1_title": false,
   "title_cell": "Table of Contents",
   "title_sidebar": "Contents",
   "toc_cell": false,
   "toc_position": {},
   "toc_section_display": true,
   "toc_window_display": false
  },
  "varInspector": {
   "cols": {
    "lenName": 16,
    "lenType": 16,
    "lenVar": 40
   },
   "kernels_config": {
    "python": {
     "delete_cmd_postfix": "",
     "delete_cmd_prefix": "del ",
     "library": "var_list.py",
     "varRefreshCmd": "print(var_dic_list())"
    },
    "r": {
     "delete_cmd_postfix": ") ",
     "delete_cmd_prefix": "rm(",
     "library": "var_list.r",
     "varRefreshCmd": "cat(var_dic_list()) "
    }
   },
   "types_to_exclude": [
    "module",
    "function",
    "builtin_function_or_method",
    "instance",
    "_Feature"
   ],
   "window_display": false
  }
 },
 "nbformat": 4,
 "nbformat_minor": 4
}
