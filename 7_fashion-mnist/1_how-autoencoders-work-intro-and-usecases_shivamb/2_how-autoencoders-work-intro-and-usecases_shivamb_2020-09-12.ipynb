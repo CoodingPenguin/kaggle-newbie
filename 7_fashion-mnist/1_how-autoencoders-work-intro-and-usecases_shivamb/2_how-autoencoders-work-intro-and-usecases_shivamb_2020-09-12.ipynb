{
 "cells": [
  {
   "cell_type": "markdown",
   "metadata": {},
   "source": [
    "# How Autoencoders Work: Intro and UseCases by Shivam Bansal - Second Try"
   ]
  },
  {
   "cell_type": "markdown",
   "metadata": {},
   "source": [
    "## 1. 오토인코더란?"
   ]
  },
  {
   "cell_type": "markdown",
   "metadata": {},
   "source": [
    "### 1.1. 오토인코더의 정의\n",
    "오토인코더(Autoencoder)는 **표현 학습(Representation Learning) 혹은 특징 학습(Feature Learning)**을 비지도 학습의 형태로 학습하는 신경망을 말한다.\n",
    "* 입력의 낮은 차원에서의 특징을 추출하기 위함이다.\n",
    "* 입력과 출력이 같은 신경망 구조를 갖고 있다. 왜냐하면 디코더를 통해 저차원에서 추출한 특징이 알맞는지 확인하기 때문이다."
   ]
  },
  {
   "cell_type": "markdown",
   "metadata": {},
   "source": [
    "### 1.2. 오토인코더의 구조\n",
    "* `Encoder` : 노드 수가 감소하는 일련의 계층으로 구성되어 있으며, 입력을 받아 잠재 특징(Latent Feature)로 변환한다.\n",
    "* `Decoder` : 노드 수가 증가하는 계층으로 Encoder와 대칭되는 구조를 띄며, 잠재 특징을 출력값으로 변환한다.\n",
    "* `Latent Feature` : 낮은 차원의 잠재 특징값들. 잠재(Latent)적인 이유는 아직 디코더를 통해 확인을 받지 않았기 때문이다.\n",
    "\n",
    "![autoencoder-architecture](../img/autoencoder-architecture.png)"
   ]
  },
  {
   "cell_type": "markdown",
   "metadata": {},
   "source": [
    "### 1.3. 오토인코더의 사용 예시\n",
    "* 차원 축소 (Dimentionality Reduction)\n",
    "* 이미지 압축 (Image Compression)\n",
    "* 이미지 노이즈 제거 (Image Denoising)\n",
    "* 이미지 생성 (Image Generation)\n",
    "* 특징 추출 (Feature Extraction)"
   ]
  },
  {
   "cell_type": "markdown",
   "metadata": {},
   "source": [
    "### 1.4. 오토인코더의 원리\n",
    "오토인코더에서 중요한 것은 **고차원 데이터를 낮은 차원의 표현으로 나타내는 것**이다. "
   ]
  },
  {
   "cell_type": "code",
   "execution_count": 1,
   "metadata": {
    "ExecuteTime": {
     "end_time": "2020-09-12T08:34:21.107359Z",
     "start_time": "2020-09-12T08:34:18.948135Z"
    }
   },
   "outputs": [
    {
     "data": {
      "text/html": [
       "        <script type=\"text/javascript\">\n",
       "        window.PlotlyConfig = {MathJaxConfig: 'local'};\n",
       "        if (window.MathJax) {MathJax.Hub.Config({SVG: {font: \"STIX-Web\"}});}\n",
       "        if (typeof require !== 'undefined') {\n",
       "        require.undef(\"plotly\");\n",
       "        requirejs.config({\n",
       "            paths: {\n",
       "                'plotly': ['https://cdn.plot.ly/plotly-latest.min']\n",
       "            }\n",
       "        });\n",
       "        require(['plotly'], function(Plotly) {\n",
       "            window._Plotly = Plotly;\n",
       "        });\n",
       "        }\n",
       "        </script>\n",
       "        "
      ]
     },
     "metadata": {},
     "output_type": "display_data"
    },
    {
     "data": {
      "application/vnd.plotly.v1+json": {
       "config": {
        "linkText": "Export to plot.ly",
        "plotlyServerURL": "https://plot.ly",
        "showLink": false
       },
       "data": [
        {
         "mode": "markers",
         "name": "Actual Data",
         "type": "scatter",
         "x": [
          2,
          2.163265306122449,
          2.326530612244898,
          2.489795918367347,
          2.6530612244897958,
          2.816326530612245,
          2.979591836734694,
          3.142857142857143,
          3.3061224489795915,
          3.4693877551020407,
          3.63265306122449,
          3.7959183673469385,
          3.9591836734693877,
          4.122448979591836,
          4.285714285714286,
          4.448979591836734,
          4.612244897959183,
          4.775510204081632,
          4.938775510204081,
          5.1020408163265305,
          5.26530612244898,
          5.428571428571429,
          5.591836734693877,
          5.755102040816326,
          5.918367346938775,
          6.081632653061225,
          6.244897959183673,
          6.408163265306122,
          6.571428571428571,
          6.73469387755102,
          6.897959183673469,
          7.061224489795918,
          7.224489795918367,
          7.387755102040816,
          7.551020408163265,
          7.7142857142857135,
          7.877551020408163,
          8.040816326530612,
          8.204081632653061,
          8.367346938775508,
          8.53061224489796,
          8.693877551020407,
          8.857142857142858,
          9.020408163265305,
          9.183673469387754,
          9.346938775510203,
          9.510204081632653,
          9.673469387755102,
          9.83673469387755,
          10
         ],
         "y": [
          2,
          2.163265306122449,
          2.326530612244898,
          2.489795918367347,
          2.6530612244897958,
          2.816326530612245,
          2.979591836734694,
          3.142857142857143,
          3.3061224489795915,
          3.4693877551020407,
          3.63265306122449,
          3.7959183673469385,
          3.9591836734693877,
          4.122448979591836,
          4.285714285714286,
          4.448979591836734,
          4.612244897959183,
          4.775510204081632,
          4.938775510204081,
          5.1020408163265305,
          5.26530612244898,
          5.428571428571429,
          5.591836734693877,
          5.755102040816326,
          5.918367346938775,
          6.081632653061225,
          6.244897959183673,
          6.408163265306122,
          6.571428571428571,
          6.73469387755102,
          6.897959183673469,
          7.061224489795918,
          7.224489795918367,
          7.387755102040816,
          7.551020408163265,
          7.7142857142857135,
          7.877551020408163,
          8.040816326530612,
          8.204081632653061,
          8.367346938775508,
          8.53061224489796,
          8.693877551020407,
          8.857142857142858,
          9.020408163265305,
          9.183673469387754,
          9.346938775510203,
          9.510204081632653,
          9.673469387755102,
          9.83673469387755,
          10
         ]
        }
       ],
       "layout": {
        "annotations": [
         {
          "align": "center",
          "arrowcolor": "#636363",
          "arrowhead": 2,
          "arrowsize": 1,
          "arrowwidth": 2,
          "ax": -120,
          "ay": -30,
          "bgcolor": "orange",
          "bordercolor": "#c7c7c7",
          "borderpad": 4,
          "borderwidth": 2,
          "opacity": 0.8,
          "showarrow": true,
          "text": "This 1D line is the Data Manifold (where data resides)",
          "x": 5,
          "xref": "x",
          "y": 5,
          "yref": "y"
         }
        ],
        "height": 400,
        "template": {
         "data": {
          "bar": [
           {
            "error_x": {
             "color": "#2a3f5f"
            },
            "error_y": {
             "color": "#2a3f5f"
            },
            "marker": {
             "line": {
              "color": "#E5ECF6",
              "width": 0.5
             }
            },
            "type": "bar"
           }
          ],
          "barpolar": [
           {
            "marker": {
             "line": {
              "color": "#E5ECF6",
              "width": 0.5
             }
            },
            "type": "barpolar"
           }
          ],
          "carpet": [
           {
            "aaxis": {
             "endlinecolor": "#2a3f5f",
             "gridcolor": "white",
             "linecolor": "white",
             "minorgridcolor": "white",
             "startlinecolor": "#2a3f5f"
            },
            "baxis": {
             "endlinecolor": "#2a3f5f",
             "gridcolor": "white",
             "linecolor": "white",
             "minorgridcolor": "white",
             "startlinecolor": "#2a3f5f"
            },
            "type": "carpet"
           }
          ],
          "choropleth": [
           {
            "colorbar": {
             "outlinewidth": 0,
             "ticks": ""
            },
            "type": "choropleth"
           }
          ],
          "contour": [
           {
            "colorbar": {
             "outlinewidth": 0,
             "ticks": ""
            },
            "colorscale": [
             [
              0,
              "#0d0887"
             ],
             [
              0.1111111111111111,
              "#46039f"
             ],
             [
              0.2222222222222222,
              "#7201a8"
             ],
             [
              0.3333333333333333,
              "#9c179e"
             ],
             [
              0.4444444444444444,
              "#bd3786"
             ],
             [
              0.5555555555555556,
              "#d8576b"
             ],
             [
              0.6666666666666666,
              "#ed7953"
             ],
             [
              0.7777777777777778,
              "#fb9f3a"
             ],
             [
              0.8888888888888888,
              "#fdca26"
             ],
             [
              1,
              "#f0f921"
             ]
            ],
            "type": "contour"
           }
          ],
          "contourcarpet": [
           {
            "colorbar": {
             "outlinewidth": 0,
             "ticks": ""
            },
            "type": "contourcarpet"
           }
          ],
          "heatmap": [
           {
            "colorbar": {
             "outlinewidth": 0,
             "ticks": ""
            },
            "colorscale": [
             [
              0,
              "#0d0887"
             ],
             [
              0.1111111111111111,
              "#46039f"
             ],
             [
              0.2222222222222222,
              "#7201a8"
             ],
             [
              0.3333333333333333,
              "#9c179e"
             ],
             [
              0.4444444444444444,
              "#bd3786"
             ],
             [
              0.5555555555555556,
              "#d8576b"
             ],
             [
              0.6666666666666666,
              "#ed7953"
             ],
             [
              0.7777777777777778,
              "#fb9f3a"
             ],
             [
              0.8888888888888888,
              "#fdca26"
             ],
             [
              1,
              "#f0f921"
             ]
            ],
            "type": "heatmap"
           }
          ],
          "heatmapgl": [
           {
            "colorbar": {
             "outlinewidth": 0,
             "ticks": ""
            },
            "colorscale": [
             [
              0,
              "#0d0887"
             ],
             [
              0.1111111111111111,
              "#46039f"
             ],
             [
              0.2222222222222222,
              "#7201a8"
             ],
             [
              0.3333333333333333,
              "#9c179e"
             ],
             [
              0.4444444444444444,
              "#bd3786"
             ],
             [
              0.5555555555555556,
              "#d8576b"
             ],
             [
              0.6666666666666666,
              "#ed7953"
             ],
             [
              0.7777777777777778,
              "#fb9f3a"
             ],
             [
              0.8888888888888888,
              "#fdca26"
             ],
             [
              1,
              "#f0f921"
             ]
            ],
            "type": "heatmapgl"
           }
          ],
          "histogram": [
           {
            "marker": {
             "colorbar": {
              "outlinewidth": 0,
              "ticks": ""
             }
            },
            "type": "histogram"
           }
          ],
          "histogram2d": [
           {
            "colorbar": {
             "outlinewidth": 0,
             "ticks": ""
            },
            "colorscale": [
             [
              0,
              "#0d0887"
             ],
             [
              0.1111111111111111,
              "#46039f"
             ],
             [
              0.2222222222222222,
              "#7201a8"
             ],
             [
              0.3333333333333333,
              "#9c179e"
             ],
             [
              0.4444444444444444,
              "#bd3786"
             ],
             [
              0.5555555555555556,
              "#d8576b"
             ],
             [
              0.6666666666666666,
              "#ed7953"
             ],
             [
              0.7777777777777778,
              "#fb9f3a"
             ],
             [
              0.8888888888888888,
              "#fdca26"
             ],
             [
              1,
              "#f0f921"
             ]
            ],
            "type": "histogram2d"
           }
          ],
          "histogram2dcontour": [
           {
            "colorbar": {
             "outlinewidth": 0,
             "ticks": ""
            },
            "colorscale": [
             [
              0,
              "#0d0887"
             ],
             [
              0.1111111111111111,
              "#46039f"
             ],
             [
              0.2222222222222222,
              "#7201a8"
             ],
             [
              0.3333333333333333,
              "#9c179e"
             ],
             [
              0.4444444444444444,
              "#bd3786"
             ],
             [
              0.5555555555555556,
              "#d8576b"
             ],
             [
              0.6666666666666666,
              "#ed7953"
             ],
             [
              0.7777777777777778,
              "#fb9f3a"
             ],
             [
              0.8888888888888888,
              "#fdca26"
             ],
             [
              1,
              "#f0f921"
             ]
            ],
            "type": "histogram2dcontour"
           }
          ],
          "mesh3d": [
           {
            "colorbar": {
             "outlinewidth": 0,
             "ticks": ""
            },
            "type": "mesh3d"
           }
          ],
          "parcoords": [
           {
            "line": {
             "colorbar": {
              "outlinewidth": 0,
              "ticks": ""
             }
            },
            "type": "parcoords"
           }
          ],
          "pie": [
           {
            "automargin": true,
            "type": "pie"
           }
          ],
          "scatter": [
           {
            "marker": {
             "colorbar": {
              "outlinewidth": 0,
              "ticks": ""
             }
            },
            "type": "scatter"
           }
          ],
          "scatter3d": [
           {
            "line": {
             "colorbar": {
              "outlinewidth": 0,
              "ticks": ""
             }
            },
            "marker": {
             "colorbar": {
              "outlinewidth": 0,
              "ticks": ""
             }
            },
            "type": "scatter3d"
           }
          ],
          "scattercarpet": [
           {
            "marker": {
             "colorbar": {
              "outlinewidth": 0,
              "ticks": ""
             }
            },
            "type": "scattercarpet"
           }
          ],
          "scattergeo": [
           {
            "marker": {
             "colorbar": {
              "outlinewidth": 0,
              "ticks": ""
             }
            },
            "type": "scattergeo"
           }
          ],
          "scattergl": [
           {
            "marker": {
             "colorbar": {
              "outlinewidth": 0,
              "ticks": ""
             }
            },
            "type": "scattergl"
           }
          ],
          "scattermapbox": [
           {
            "marker": {
             "colorbar": {
              "outlinewidth": 0,
              "ticks": ""
             }
            },
            "type": "scattermapbox"
           }
          ],
          "scatterpolar": [
           {
            "marker": {
             "colorbar": {
              "outlinewidth": 0,
              "ticks": ""
             }
            },
            "type": "scatterpolar"
           }
          ],
          "scatterpolargl": [
           {
            "marker": {
             "colorbar": {
              "outlinewidth": 0,
              "ticks": ""
             }
            },
            "type": "scatterpolargl"
           }
          ],
          "scatterternary": [
           {
            "marker": {
             "colorbar": {
              "outlinewidth": 0,
              "ticks": ""
             }
            },
            "type": "scatterternary"
           }
          ],
          "surface": [
           {
            "colorbar": {
             "outlinewidth": 0,
             "ticks": ""
            },
            "colorscale": [
             [
              0,
              "#0d0887"
             ],
             [
              0.1111111111111111,
              "#46039f"
             ],
             [
              0.2222222222222222,
              "#7201a8"
             ],
             [
              0.3333333333333333,
              "#9c179e"
             ],
             [
              0.4444444444444444,
              "#bd3786"
             ],
             [
              0.5555555555555556,
              "#d8576b"
             ],
             [
              0.6666666666666666,
              "#ed7953"
             ],
             [
              0.7777777777777778,
              "#fb9f3a"
             ],
             [
              0.8888888888888888,
              "#fdca26"
             ],
             [
              1,
              "#f0f921"
             ]
            ],
            "type": "surface"
           }
          ],
          "table": [
           {
            "cells": {
             "fill": {
              "color": "#EBF0F8"
             },
             "line": {
              "color": "white"
             }
            },
            "header": {
             "fill": {
              "color": "#C8D4E3"
             },
             "line": {
              "color": "white"
             }
            },
            "type": "table"
           }
          ]
         },
         "layout": {
          "annotationdefaults": {
           "arrowcolor": "#2a3f5f",
           "arrowhead": 0,
           "arrowwidth": 1
          },
          "coloraxis": {
           "colorbar": {
            "outlinewidth": 0,
            "ticks": ""
           }
          },
          "colorscale": {
           "diverging": [
            [
             0,
             "#8e0152"
            ],
            [
             0.1,
             "#c51b7d"
            ],
            [
             0.2,
             "#de77ae"
            ],
            [
             0.3,
             "#f1b6da"
            ],
            [
             0.4,
             "#fde0ef"
            ],
            [
             0.5,
             "#f7f7f7"
            ],
            [
             0.6,
             "#e6f5d0"
            ],
            [
             0.7,
             "#b8e186"
            ],
            [
             0.8,
             "#7fbc41"
            ],
            [
             0.9,
             "#4d9221"
            ],
            [
             1,
             "#276419"
            ]
           ],
           "sequential": [
            [
             0,
             "#0d0887"
            ],
            [
             0.1111111111111111,
             "#46039f"
            ],
            [
             0.2222222222222222,
             "#7201a8"
            ],
            [
             0.3333333333333333,
             "#9c179e"
            ],
            [
             0.4444444444444444,
             "#bd3786"
            ],
            [
             0.5555555555555556,
             "#d8576b"
            ],
            [
             0.6666666666666666,
             "#ed7953"
            ],
            [
             0.7777777777777778,
             "#fb9f3a"
            ],
            [
             0.8888888888888888,
             "#fdca26"
            ],
            [
             1,
             "#f0f921"
            ]
           ],
           "sequentialminus": [
            [
             0,
             "#0d0887"
            ],
            [
             0.1111111111111111,
             "#46039f"
            ],
            [
             0.2222222222222222,
             "#7201a8"
            ],
            [
             0.3333333333333333,
             "#9c179e"
            ],
            [
             0.4444444444444444,
             "#bd3786"
            ],
            [
             0.5555555555555556,
             "#d8576b"
            ],
            [
             0.6666666666666666,
             "#ed7953"
            ],
            [
             0.7777777777777778,
             "#fb9f3a"
            ],
            [
             0.8888888888888888,
             "#fdca26"
            ],
            [
             1,
             "#f0f921"
            ]
           ]
          },
          "colorway": [
           "#636efa",
           "#EF553B",
           "#00cc96",
           "#ab63fa",
           "#FFA15A",
           "#19d3f3",
           "#FF6692",
           "#B6E880",
           "#FF97FF",
           "#FECB52"
          ],
          "font": {
           "color": "#2a3f5f"
          },
          "geo": {
           "bgcolor": "white",
           "lakecolor": "white",
           "landcolor": "#E5ECF6",
           "showlakes": true,
           "showland": true,
           "subunitcolor": "white"
          },
          "hoverlabel": {
           "align": "left"
          },
          "hovermode": "closest",
          "mapbox": {
           "style": "light"
          },
          "paper_bgcolor": "white",
          "plot_bgcolor": "#E5ECF6",
          "polar": {
           "angularaxis": {
            "gridcolor": "white",
            "linecolor": "white",
            "ticks": ""
           },
           "bgcolor": "#E5ECF6",
           "radialaxis": {
            "gridcolor": "white",
            "linecolor": "white",
            "ticks": ""
           }
          },
          "scene": {
           "xaxis": {
            "backgroundcolor": "#E5ECF6",
            "gridcolor": "white",
            "gridwidth": 2,
            "linecolor": "white",
            "showbackground": true,
            "ticks": "",
            "zerolinecolor": "white"
           },
           "yaxis": {
            "backgroundcolor": "#E5ECF6",
            "gridcolor": "white",
            "gridwidth": 2,
            "linecolor": "white",
            "showbackground": true,
            "ticks": "",
            "zerolinecolor": "white"
           },
           "zaxis": {
            "backgroundcolor": "#E5ECF6",
            "gridcolor": "white",
            "gridwidth": 2,
            "linecolor": "white",
            "showbackground": true,
            "ticks": "",
            "zerolinecolor": "white"
           }
          },
          "shapedefaults": {
           "line": {
            "color": "#2a3f5f"
           }
          },
          "ternary": {
           "aaxis": {
            "gridcolor": "white",
            "linecolor": "white",
            "ticks": ""
           },
           "baxis": {
            "gridcolor": "white",
            "linecolor": "white",
            "ticks": ""
           },
           "bgcolor": "#E5ECF6",
           "caxis": {
            "gridcolor": "white",
            "linecolor": "white",
            "ticks": ""
           }
          },
          "title": {
           "x": 0.05
          },
          "xaxis": {
           "automargin": true,
           "gridcolor": "white",
           "linecolor": "white",
           "ticks": "",
           "title": {
            "standoff": 15
           },
           "zerolinecolor": "white",
           "zerolinewidth": 2
          },
          "yaxis": {
           "automargin": true,
           "gridcolor": "white",
           "linecolor": "white",
           "ticks": "",
           "title": {
            "standoff": 15
           },
           "zerolinecolor": "white",
           "zerolinewidth": 2
          }
         }
        },
        "title": {
         "text": "2D Data Representation Space"
        },
        "xaxis": {
         "range": [
          0,
          12
         ],
         "title": {
          "text": "x2"
         }
        },
        "yaxis": {
         "range": [
          0,
          12
         ],
         "title": {
          "text": "x1"
         }
        }
       }
      },
      "text/html": [
       "<div>\n",
       "        \n",
       "        \n",
       "            <div id=\"9847e408-7dae-4ecd-8317-8eb62effaeae\" class=\"plotly-graph-div\" style=\"height:400px; width:100%;\"></div>\n",
       "            <script type=\"text/javascript\">\n",
       "                require([\"plotly\"], function(Plotly) {\n",
       "                    window.PLOTLYENV=window.PLOTLYENV || {};\n",
       "                    \n",
       "                if (document.getElementById(\"9847e408-7dae-4ecd-8317-8eb62effaeae\")) {\n",
       "                    Plotly.newPlot(\n",
       "                        '9847e408-7dae-4ecd-8317-8eb62effaeae',\n",
       "                        [{\"mode\": \"markers\", \"name\": \"Actual Data\", \"type\": \"scatter\", \"x\": [2.0, 2.163265306122449, 2.326530612244898, 2.489795918367347, 2.6530612244897958, 2.816326530612245, 2.979591836734694, 3.142857142857143, 3.3061224489795915, 3.4693877551020407, 3.63265306122449, 3.7959183673469385, 3.9591836734693877, 4.122448979591836, 4.285714285714286, 4.448979591836734, 4.612244897959183, 4.775510204081632, 4.938775510204081, 5.1020408163265305, 5.26530612244898, 5.428571428571429, 5.591836734693877, 5.755102040816326, 5.918367346938775, 6.081632653061225, 6.244897959183673, 6.408163265306122, 6.571428571428571, 6.73469387755102, 6.897959183673469, 7.061224489795918, 7.224489795918367, 7.387755102040816, 7.551020408163265, 7.7142857142857135, 7.877551020408163, 8.040816326530612, 8.204081632653061, 8.367346938775508, 8.53061224489796, 8.693877551020407, 8.857142857142858, 9.020408163265305, 9.183673469387754, 9.346938775510203, 9.510204081632653, 9.673469387755102, 9.83673469387755, 10.0], \"y\": [2.0, 2.163265306122449, 2.326530612244898, 2.489795918367347, 2.6530612244897958, 2.816326530612245, 2.979591836734694, 3.142857142857143, 3.3061224489795915, 3.4693877551020407, 3.63265306122449, 3.7959183673469385, 3.9591836734693877, 4.122448979591836, 4.285714285714286, 4.448979591836734, 4.612244897959183, 4.775510204081632, 4.938775510204081, 5.1020408163265305, 5.26530612244898, 5.428571428571429, 5.591836734693877, 5.755102040816326, 5.918367346938775, 6.081632653061225, 6.244897959183673, 6.408163265306122, 6.571428571428571, 6.73469387755102, 6.897959183673469, 7.061224489795918, 7.224489795918367, 7.387755102040816, 7.551020408163265, 7.7142857142857135, 7.877551020408163, 8.040816326530612, 8.204081632653061, 8.367346938775508, 8.53061224489796, 8.693877551020407, 8.857142857142858, 9.020408163265305, 9.183673469387754, 9.346938775510203, 9.510204081632653, 9.673469387755102, 9.83673469387755, 10.0]}],\n",
       "                        {\"annotations\": [{\"align\": \"center\", \"arrowcolor\": \"#636363\", \"arrowhead\": 2, \"arrowsize\": 1, \"arrowwidth\": 2, \"ax\": -120, \"ay\": -30, \"bgcolor\": \"orange\", \"bordercolor\": \"#c7c7c7\", \"borderpad\": 4, \"borderwidth\": 2, \"opacity\": 0.8, \"showarrow\": true, \"text\": \"This 1D line is the Data Manifold (where data resides)\", \"x\": 5, \"xref\": \"x\", \"y\": 5, \"yref\": \"y\"}], \"height\": 400, \"template\": {\"data\": {\"bar\": [{\"error_x\": {\"color\": \"#2a3f5f\"}, \"error_y\": {\"color\": \"#2a3f5f\"}, \"marker\": {\"line\": {\"color\": \"#E5ECF6\", \"width\": 0.5}}, \"type\": \"bar\"}], \"barpolar\": [{\"marker\": {\"line\": {\"color\": \"#E5ECF6\", \"width\": 0.5}}, \"type\": \"barpolar\"}], \"carpet\": [{\"aaxis\": {\"endlinecolor\": \"#2a3f5f\", \"gridcolor\": \"white\", \"linecolor\": \"white\", \"minorgridcolor\": \"white\", \"startlinecolor\": \"#2a3f5f\"}, \"baxis\": {\"endlinecolor\": \"#2a3f5f\", \"gridcolor\": \"white\", \"linecolor\": \"white\", \"minorgridcolor\": \"white\", \"startlinecolor\": \"#2a3f5f\"}, \"type\": \"carpet\"}], \"choropleth\": [{\"colorbar\": {\"outlinewidth\": 0, \"ticks\": \"\"}, \"type\": \"choropleth\"}], \"contour\": [{\"colorbar\": {\"outlinewidth\": 0, \"ticks\": \"\"}, \"colorscale\": [[0.0, \"#0d0887\"], [0.1111111111111111, \"#46039f\"], [0.2222222222222222, \"#7201a8\"], [0.3333333333333333, \"#9c179e\"], [0.4444444444444444, \"#bd3786\"], [0.5555555555555556, \"#d8576b\"], [0.6666666666666666, \"#ed7953\"], [0.7777777777777778, \"#fb9f3a\"], [0.8888888888888888, \"#fdca26\"], [1.0, \"#f0f921\"]], \"type\": \"contour\"}], \"contourcarpet\": [{\"colorbar\": {\"outlinewidth\": 0, \"ticks\": \"\"}, \"type\": \"contourcarpet\"}], \"heatmap\": [{\"colorbar\": {\"outlinewidth\": 0, \"ticks\": \"\"}, \"colorscale\": [[0.0, \"#0d0887\"], [0.1111111111111111, \"#46039f\"], [0.2222222222222222, \"#7201a8\"], [0.3333333333333333, \"#9c179e\"], [0.4444444444444444, \"#bd3786\"], [0.5555555555555556, \"#d8576b\"], [0.6666666666666666, \"#ed7953\"], [0.7777777777777778, \"#fb9f3a\"], [0.8888888888888888, \"#fdca26\"], [1.0, \"#f0f921\"]], \"type\": \"heatmap\"}], \"heatmapgl\": [{\"colorbar\": {\"outlinewidth\": 0, \"ticks\": \"\"}, \"colorscale\": [[0.0, \"#0d0887\"], [0.1111111111111111, \"#46039f\"], [0.2222222222222222, \"#7201a8\"], [0.3333333333333333, \"#9c179e\"], [0.4444444444444444, \"#bd3786\"], [0.5555555555555556, \"#d8576b\"], [0.6666666666666666, \"#ed7953\"], [0.7777777777777778, \"#fb9f3a\"], [0.8888888888888888, \"#fdca26\"], [1.0, \"#f0f921\"]], \"type\": \"heatmapgl\"}], \"histogram\": [{\"marker\": {\"colorbar\": {\"outlinewidth\": 0, \"ticks\": \"\"}}, \"type\": \"histogram\"}], \"histogram2d\": [{\"colorbar\": {\"outlinewidth\": 0, \"ticks\": \"\"}, \"colorscale\": [[0.0, \"#0d0887\"], [0.1111111111111111, \"#46039f\"], [0.2222222222222222, \"#7201a8\"], [0.3333333333333333, \"#9c179e\"], [0.4444444444444444, \"#bd3786\"], [0.5555555555555556, \"#d8576b\"], [0.6666666666666666, \"#ed7953\"], [0.7777777777777778, \"#fb9f3a\"], [0.8888888888888888, \"#fdca26\"], [1.0, \"#f0f921\"]], \"type\": \"histogram2d\"}], \"histogram2dcontour\": [{\"colorbar\": {\"outlinewidth\": 0, \"ticks\": \"\"}, \"colorscale\": [[0.0, \"#0d0887\"], [0.1111111111111111, \"#46039f\"], [0.2222222222222222, \"#7201a8\"], [0.3333333333333333, \"#9c179e\"], [0.4444444444444444, \"#bd3786\"], [0.5555555555555556, \"#d8576b\"], [0.6666666666666666, \"#ed7953\"], [0.7777777777777778, \"#fb9f3a\"], [0.8888888888888888, \"#fdca26\"], [1.0, \"#f0f921\"]], \"type\": \"histogram2dcontour\"}], \"mesh3d\": [{\"colorbar\": {\"outlinewidth\": 0, \"ticks\": \"\"}, \"type\": \"mesh3d\"}], \"parcoords\": [{\"line\": {\"colorbar\": {\"outlinewidth\": 0, \"ticks\": \"\"}}, \"type\": \"parcoords\"}], \"pie\": [{\"automargin\": true, \"type\": \"pie\"}], \"scatter\": [{\"marker\": {\"colorbar\": {\"outlinewidth\": 0, \"ticks\": \"\"}}, \"type\": \"scatter\"}], \"scatter3d\": [{\"line\": {\"colorbar\": {\"outlinewidth\": 0, \"ticks\": \"\"}}, \"marker\": {\"colorbar\": {\"outlinewidth\": 0, \"ticks\": \"\"}}, \"type\": \"scatter3d\"}], \"scattercarpet\": [{\"marker\": {\"colorbar\": {\"outlinewidth\": 0, \"ticks\": \"\"}}, \"type\": \"scattercarpet\"}], \"scattergeo\": [{\"marker\": {\"colorbar\": {\"outlinewidth\": 0, \"ticks\": \"\"}}, \"type\": \"scattergeo\"}], \"scattergl\": [{\"marker\": {\"colorbar\": {\"outlinewidth\": 0, \"ticks\": \"\"}}, \"type\": \"scattergl\"}], \"scattermapbox\": [{\"marker\": {\"colorbar\": {\"outlinewidth\": 0, \"ticks\": \"\"}}, \"type\": \"scattermapbox\"}], \"scatterpolar\": [{\"marker\": {\"colorbar\": {\"outlinewidth\": 0, \"ticks\": \"\"}}, \"type\": \"scatterpolar\"}], \"scatterpolargl\": [{\"marker\": {\"colorbar\": {\"outlinewidth\": 0, \"ticks\": \"\"}}, \"type\": \"scatterpolargl\"}], \"scatterternary\": [{\"marker\": {\"colorbar\": {\"outlinewidth\": 0, \"ticks\": \"\"}}, \"type\": \"scatterternary\"}], \"surface\": [{\"colorbar\": {\"outlinewidth\": 0, \"ticks\": \"\"}, \"colorscale\": [[0.0, \"#0d0887\"], [0.1111111111111111, \"#46039f\"], [0.2222222222222222, \"#7201a8\"], [0.3333333333333333, \"#9c179e\"], [0.4444444444444444, \"#bd3786\"], [0.5555555555555556, \"#d8576b\"], [0.6666666666666666, \"#ed7953\"], [0.7777777777777778, \"#fb9f3a\"], [0.8888888888888888, \"#fdca26\"], [1.0, \"#f0f921\"]], \"type\": \"surface\"}], \"table\": [{\"cells\": {\"fill\": {\"color\": \"#EBF0F8\"}, \"line\": {\"color\": \"white\"}}, \"header\": {\"fill\": {\"color\": \"#C8D4E3\"}, \"line\": {\"color\": \"white\"}}, \"type\": \"table\"}]}, \"layout\": {\"annotationdefaults\": {\"arrowcolor\": \"#2a3f5f\", \"arrowhead\": 0, \"arrowwidth\": 1}, \"coloraxis\": {\"colorbar\": {\"outlinewidth\": 0, \"ticks\": \"\"}}, \"colorscale\": {\"diverging\": [[0, \"#8e0152\"], [0.1, \"#c51b7d\"], [0.2, \"#de77ae\"], [0.3, \"#f1b6da\"], [0.4, \"#fde0ef\"], [0.5, \"#f7f7f7\"], [0.6, \"#e6f5d0\"], [0.7, \"#b8e186\"], [0.8, \"#7fbc41\"], [0.9, \"#4d9221\"], [1, \"#276419\"]], \"sequential\": [[0.0, \"#0d0887\"], [0.1111111111111111, \"#46039f\"], [0.2222222222222222, \"#7201a8\"], [0.3333333333333333, \"#9c179e\"], [0.4444444444444444, \"#bd3786\"], [0.5555555555555556, \"#d8576b\"], [0.6666666666666666, \"#ed7953\"], [0.7777777777777778, \"#fb9f3a\"], [0.8888888888888888, \"#fdca26\"], [1.0, \"#f0f921\"]], \"sequentialminus\": [[0.0, \"#0d0887\"], [0.1111111111111111, \"#46039f\"], [0.2222222222222222, \"#7201a8\"], [0.3333333333333333, \"#9c179e\"], [0.4444444444444444, \"#bd3786\"], [0.5555555555555556, \"#d8576b\"], [0.6666666666666666, \"#ed7953\"], [0.7777777777777778, \"#fb9f3a\"], [0.8888888888888888, \"#fdca26\"], [1.0, \"#f0f921\"]]}, \"colorway\": [\"#636efa\", \"#EF553B\", \"#00cc96\", \"#ab63fa\", \"#FFA15A\", \"#19d3f3\", \"#FF6692\", \"#B6E880\", \"#FF97FF\", \"#FECB52\"], \"font\": {\"color\": \"#2a3f5f\"}, \"geo\": {\"bgcolor\": \"white\", \"lakecolor\": \"white\", \"landcolor\": \"#E5ECF6\", \"showlakes\": true, \"showland\": true, \"subunitcolor\": \"white\"}, \"hoverlabel\": {\"align\": \"left\"}, \"hovermode\": \"closest\", \"mapbox\": {\"style\": \"light\"}, \"paper_bgcolor\": \"white\", \"plot_bgcolor\": \"#E5ECF6\", \"polar\": {\"angularaxis\": {\"gridcolor\": \"white\", \"linecolor\": \"white\", \"ticks\": \"\"}, \"bgcolor\": \"#E5ECF6\", \"radialaxis\": {\"gridcolor\": \"white\", \"linecolor\": \"white\", \"ticks\": \"\"}}, \"scene\": {\"xaxis\": {\"backgroundcolor\": \"#E5ECF6\", \"gridcolor\": \"white\", \"gridwidth\": 2, \"linecolor\": \"white\", \"showbackground\": true, \"ticks\": \"\", \"zerolinecolor\": \"white\"}, \"yaxis\": {\"backgroundcolor\": \"#E5ECF6\", \"gridcolor\": \"white\", \"gridwidth\": 2, \"linecolor\": \"white\", \"showbackground\": true, \"ticks\": \"\", \"zerolinecolor\": \"white\"}, \"zaxis\": {\"backgroundcolor\": \"#E5ECF6\", \"gridcolor\": \"white\", \"gridwidth\": 2, \"linecolor\": \"white\", \"showbackground\": true, \"ticks\": \"\", \"zerolinecolor\": \"white\"}}, \"shapedefaults\": {\"line\": {\"color\": \"#2a3f5f\"}}, \"ternary\": {\"aaxis\": {\"gridcolor\": \"white\", \"linecolor\": \"white\", \"ticks\": \"\"}, \"baxis\": {\"gridcolor\": \"white\", \"linecolor\": \"white\", \"ticks\": \"\"}, \"bgcolor\": \"#E5ECF6\", \"caxis\": {\"gridcolor\": \"white\", \"linecolor\": \"white\", \"ticks\": \"\"}}, \"title\": {\"x\": 0.05}, \"xaxis\": {\"automargin\": true, \"gridcolor\": \"white\", \"linecolor\": \"white\", \"ticks\": \"\", \"title\": {\"standoff\": 15}, \"zerolinecolor\": \"white\", \"zerolinewidth\": 2}, \"yaxis\": {\"automargin\": true, \"gridcolor\": \"white\", \"linecolor\": \"white\", \"ticks\": \"\", \"title\": {\"standoff\": 15}, \"zerolinecolor\": \"white\", \"zerolinewidth\": 2}}}, \"title\": {\"text\": \"2D Data Representation Space\"}, \"xaxis\": {\"range\": [0, 12], \"title\": {\"text\": \"x2\"}}, \"yaxis\": {\"range\": [0, 12], \"title\": {\"text\": \"x1\"}}},\n",
       "                        {\"responsive\": true}\n",
       "                    ).then(function(){\n",
       "                            \n",
       "var gd = document.getElementById('9847e408-7dae-4ecd-8317-8eb62effaeae');\n",
       "var x = new MutationObserver(function (mutations, observer) {{\n",
       "        var display = window.getComputedStyle(gd).display;\n",
       "        if (!display || display === 'none') {{\n",
       "            console.log([gd, 'removed!']);\n",
       "            Plotly.purge(gd);\n",
       "            observer.disconnect();\n",
       "        }}\n",
       "}});\n",
       "\n",
       "// Listen for the removal of the full notebook cells\n",
       "var notebookContainer = gd.closest('#notebook-container');\n",
       "if (notebookContainer) {{\n",
       "    x.observe(notebookContainer, {childList: true});\n",
       "}}\n",
       "\n",
       "// Listen for the clearing of the current output cell\n",
       "var outputEl = gd.closest('.output');\n",
       "if (outputEl) {{\n",
       "    x.observe(outputEl, {childList: true});\n",
       "}}\n",
       "\n",
       "                        })\n",
       "                };\n",
       "                });\n",
       "            </script>\n",
       "        </div>"
      ]
     },
     "metadata": {},
     "output_type": "display_data"
    }
   ],
   "source": [
    "from plotly.offline import init_notebook_mode, iplot\n",
    "import plotly.graph_objs as go\n",
    "import numpy as np\n",
    "init_notebook_mode(connected=True)\n",
    "\n",
    "## generate random data\n",
    "N = 50\n",
    "random_x = np.linspace(2, 10, N)\n",
    "random_y1 = np.linspace(2, 10, N)\n",
    "random_y2 = np.linspace(2, 10, N)\n",
    "\n",
    "trace1 = go.Scatter(x = random_x, y = random_y1, mode=\"markers\", name=\"Actual Data\")\n",
    "trace2 = go.Scatter(x = random_x, y = random_y2, mode=\"lines\", name=\"Model\")\n",
    "layout = go.Layout(title=\"2D Data Representation Space\", xaxis=dict(title=\"x2\", range=(0,12)), \n",
    "                   yaxis=dict(title=\"x1\", range=(0,12)), height=400, \n",
    "                   annotations=[dict(x=5, y=5, xref='x', yref='y', text='This 1D line is the Data Manifold (where data resides)',\n",
    "                   showarrow=True, align='center', arrowhead=2, arrowsize=1, arrowwidth=2, arrowcolor='#636363',\n",
    "                   ax=-120, ay=-30, bordercolor='#c7c7c7', borderwidth=2, borderpad=4, bgcolor='orange', opacity=0.8)])\n",
    "figure = go.Figure(data = [trace1], layout = layout)\n",
    "iplot(figure)"
   ]
  },
  {
   "cell_type": "markdown",
   "metadata": {},
   "source": [
    "이를 이해하기 위해 $x1$과 $x2$로 표현되는 2차원 공간에 있는 데이터를 생각해보자. 이 데이터는 **기준점 $A$와 수평선과의 각도 $L$**로 1차원으로 표현이 가능하다. 즉, 두 개의 값만 갖고 있다면 직선 위의 점 $B$는 거리 $d$로 표현이 가능하다. 더이상 $x1$과 $x2$가 아닌 거리 $d$로 표현할 수 있다!"
   ]
  },
  {
   "cell_type": "code",
   "execution_count": 2,
   "metadata": {
    "ExecuteTime": {
     "end_time": "2020-09-12T08:34:21.154264Z",
     "start_time": "2020-09-12T08:34:21.108357Z"
    }
   },
   "outputs": [
    {
     "data": {
      "application/vnd.plotly.v1+json": {
       "config": {
        "linkText": "Export to plot.ly",
        "plotlyServerURL": "https://plot.ly",
        "showLink": false
       },
       "data": [
        {
         "mode": "markers",
         "type": "scatter",
         "x": [
          2,
          2.163265306122449,
          2.326530612244898,
          2.489795918367347,
          2.6530612244897958,
          2.816326530612245,
          2.979591836734694,
          3.142857142857143,
          3.3061224489795915,
          3.4693877551020407,
          3.63265306122449,
          3.7959183673469385,
          3.9591836734693877,
          4.122448979591836,
          4.285714285714286,
          4.448979591836734,
          4.612244897959183,
          4.775510204081632,
          4.938775510204081,
          5.1020408163265305,
          5.26530612244898,
          5.428571428571429,
          5.591836734693877,
          5.755102040816326,
          5.918367346938775,
          6.081632653061225,
          6.244897959183673,
          6.408163265306122,
          6.571428571428571,
          6.73469387755102,
          6.897959183673469,
          7.061224489795918,
          7.224489795918367,
          7.387755102040816,
          7.551020408163265,
          7.7142857142857135,
          7.877551020408163,
          8.040816326530612,
          8.204081632653061,
          8.367346938775508,
          8.53061224489796,
          8.693877551020407,
          8.857142857142858,
          9.020408163265305,
          9.183673469387754,
          9.346938775510203,
          9.510204081632653,
          9.673469387755102,
          9.83673469387755,
          10
         ],
         "y": [
          2,
          2.163265306122449,
          2.326530612244898,
          2.489795918367347,
          2.6530612244897958,
          2.816326530612245,
          2.979591836734694,
          3.142857142857143,
          3.3061224489795915,
          3.4693877551020407,
          3.63265306122449,
          3.7959183673469385,
          3.9591836734693877,
          4.122448979591836,
          4.285714285714286,
          4.448979591836734,
          4.612244897959183,
          4.775510204081632,
          4.938775510204081,
          5.1020408163265305,
          5.26530612244898,
          5.428571428571429,
          5.591836734693877,
          5.755102040816326,
          5.918367346938775,
          6.081632653061225,
          6.244897959183673,
          6.408163265306122,
          6.571428571428571,
          6.73469387755102,
          6.897959183673469,
          7.061224489795918,
          7.224489795918367,
          7.387755102040816,
          7.551020408163265,
          7.7142857142857135,
          7.877551020408163,
          8.040816326530612,
          8.204081632653061,
          8.367346938775508,
          8.53061224489796,
          8.693877551020407,
          8.857142857142858,
          9.020408163265305,
          9.183673469387754,
          9.346938775510203,
          9.510204081632653,
          9.673469387755102,
          9.83673469387755,
          10
         ]
        },
        {
         "mode": "lines",
         "type": "scatter",
         "x": [
          2,
          2.163265306122449,
          2.326530612244898,
          2.489795918367347,
          2.6530612244897958,
          2.816326530612245,
          2.979591836734694,
          3.142857142857143,
          3.3061224489795915,
          3.4693877551020407,
          3.63265306122449,
          3.7959183673469385,
          3.9591836734693877,
          4.122448979591836,
          4.285714285714286,
          4.448979591836734,
          4.612244897959183,
          4.775510204081632,
          4.938775510204081,
          5.1020408163265305,
          5.26530612244898,
          5.428571428571429,
          5.591836734693877,
          5.755102040816326,
          5.918367346938775,
          6.081632653061225,
          6.244897959183673,
          6.408163265306122,
          6.571428571428571,
          6.73469387755102,
          6.897959183673469,
          7.061224489795918,
          7.224489795918367,
          7.387755102040816,
          7.551020408163265,
          7.7142857142857135,
          7.877551020408163,
          8.040816326530612,
          8.204081632653061,
          8.367346938775508,
          8.53061224489796,
          8.693877551020407,
          8.857142857142858,
          9.020408163265305,
          9.183673469387754,
          9.346938775510203,
          9.510204081632653,
          9.673469387755102,
          9.83673469387755,
          10
         ],
         "y": [
          2,
          2.163265306122449,
          2.326530612244898,
          2.489795918367347,
          2.6530612244897958,
          2.816326530612245,
          2.979591836734694,
          3.142857142857143,
          3.3061224489795915,
          3.4693877551020407,
          3.63265306122449,
          3.7959183673469385,
          3.9591836734693877,
          4.122448979591836,
          4.285714285714286,
          4.448979591836734,
          4.612244897959183,
          4.775510204081632,
          4.938775510204081,
          5.1020408163265305,
          5.26530612244898,
          5.428571428571429,
          5.591836734693877,
          5.755102040816326,
          5.918367346938775,
          6.081632653061225,
          6.244897959183673,
          6.408163265306122,
          6.571428571428571,
          6.73469387755102,
          6.897959183673469,
          7.061224489795918,
          7.224489795918367,
          7.387755102040816,
          7.551020408163265,
          7.7142857142857135,
          7.877551020408163,
          8.040816326530612,
          8.204081632653061,
          8.367346938775508,
          8.53061224489796,
          8.693877551020407,
          8.857142857142858,
          9.020408163265305,
          9.183673469387754,
          9.346938775510203,
          9.510204081632653,
          9.673469387755102,
          9.83673469387755,
          10
         ]
        },
        {
         "mode": "lines",
         "type": "scatter",
         "x": [
          2,
          2.163265306122449,
          2.326530612244898,
          2.489795918367347,
          2.6530612244897958,
          2.816326530612245,
          2.979591836734694,
          3.142857142857143,
          3.3061224489795915,
          3.4693877551020407,
          3.63265306122449,
          3.7959183673469385,
          3.9591836734693877,
          4.122448979591836,
          4.285714285714286,
          4.448979591836734,
          4.612244897959183,
          4.775510204081632,
          4.938775510204081,
          5.1020408163265305,
          5.26530612244898,
          5.428571428571429,
          5.591836734693877,
          5.755102040816326,
          5.918367346938775,
          6.081632653061225,
          6.244897959183673,
          6.408163265306122,
          6.571428571428571,
          6.73469387755102,
          6.897959183673469,
          7.061224489795918,
          7.224489795918367,
          7.387755102040816,
          7.551020408163265,
          7.7142857142857135,
          7.877551020408163,
          8.040816326530612,
          8.204081632653061,
          8.367346938775508,
          8.53061224489796,
          8.693877551020407,
          8.857142857142858,
          9.020408163265305,
          9.183673469387754,
          9.346938775510203,
          9.510204081632653,
          9.673469387755102,
          9.83673469387755,
          10
         ],
         "y": [
          2,
          2,
          2,
          2,
          2,
          2,
          2,
          2,
          2,
          2,
          2,
          2,
          2,
          2,
          2,
          2,
          2,
          2,
          2,
          2,
          2,
          2,
          2,
          2,
          2,
          2,
          2,
          2,
          2,
          2,
          2,
          2,
          2,
          2,
          2,
          2,
          2,
          2,
          2,
          2,
          2,
          2,
          2,
          2,
          2,
          2,
          2,
          2,
          2,
          2,
          2,
          2,
          2,
          2,
          2,
          2,
          2,
          2,
          2,
          2,
          2,
          2,
          2,
          2,
          2,
          2,
          2,
          2,
          2,
          2,
          2,
          2,
          2,
          2,
          2,
          2,
          2,
          2,
          2,
          2,
          2,
          2,
          2,
          2,
          2,
          2,
          2,
          2,
          2,
          2,
          2,
          2,
          2,
          2,
          2,
          2,
          2,
          2,
          2,
          2
         ]
        },
        {
         "mode": "lines",
         "type": "scatter",
         "x": [
          2.6530612244897958,
          2.816326530612245,
          2.979591836734694,
          3.142857142857143,
          3.3061224489795915,
          3.4693877551020407,
          3.63265306122449,
          3.7959183673469385,
          3.9591836734693877,
          4.122448979591836,
          4.285714285714286,
          4.448979591836734,
          4.612244897959183,
          4.775510204081632,
          4.938775510204081,
          5.1020408163265305,
          5.26530612244898,
          5.428571428571429,
          5.591836734693877,
          5.755102040816326
         ],
         "y": [
          3.6530612244897958,
          3.816326530612245,
          3.979591836734694,
          4.142857142857142,
          4.3061224489795915,
          4.469387755102041,
          4.63265306122449,
          4.795918367346939,
          4.959183673469388,
          5.122448979591836,
          5.285714285714286,
          5.448979591836734,
          5.612244897959183,
          5.775510204081632,
          5.938775510204081,
          6.1020408163265305,
          6.26530612244898,
          6.428571428571429,
          6.591836734693877,
          6.755102040816326,
          6.918367346938775,
          7.081632653061225,
          7.244897959183673,
          7.408163265306122,
          7.571428571428571,
          7.73469387755102,
          7.897959183673469,
          8.061224489795919,
          8.224489795918366,
          8.387755102040817,
          8.551020408163264,
          8.714285714285714,
          8.877551020408163,
          9.040816326530612,
          9.204081632653061,
          9.367346938775508,
          9.53061224489796,
          9.693877551020407,
          9.857142857142858,
          10.020408163265305,
          10.183673469387754,
          10.346938775510203,
          10.510204081632653,
          10.673469387755102,
          10.83673469387755,
          11
         ]
        }
       ],
       "layout": {
        "annotations": [
         {
          "align": "center",
          "arrowcolor": "#636363",
          "arrowhead": 2,
          "arrowsize": 1,
          "arrowwidth": 2,
          "ax": 20,
          "ay": -30,
          "bgcolor": "orange",
          "bordercolor": "#c7c7c7",
          "borderpad": 4,
          "borderwidth": 2,
          "opacity": 0.8,
          "showarrow": true,
          "text": "A",
          "x": 2,
          "xref": "x",
          "y": 2,
          "yref": "y"
         },
         {
          "align": "center",
          "arrowcolor": "#636363",
          "arrowhead": 2,
          "arrowsize": 1,
          "arrowwidth": 2,
          "ax": 20,
          "ay": -30,
          "bgcolor": "yellow",
          "bordercolor": "#c7c7c7",
          "borderpad": 4,
          "borderwidth": 2,
          "opacity": 0.8,
          "showarrow": true,
          "text": "B",
          "x": 6,
          "xref": "x",
          "y": 6,
          "yref": "y"
         },
         {
          "ay": -40,
          "text": "d",
          "x": 4,
          "xref": "x",
          "y": 5,
          "yref": "y"
         },
         {
          "ax": 80,
          "ay": -10,
          "text": "angle L",
          "x": 2,
          "xref": "x",
          "y": 2,
          "yref": "y"
         }
        ],
        "height": 400,
        "showlegend": false,
        "template": {
         "data": {
          "bar": [
           {
            "error_x": {
             "color": "#2a3f5f"
            },
            "error_y": {
             "color": "#2a3f5f"
            },
            "marker": {
             "line": {
              "color": "#E5ECF6",
              "width": 0.5
             }
            },
            "type": "bar"
           }
          ],
          "barpolar": [
           {
            "marker": {
             "line": {
              "color": "#E5ECF6",
              "width": 0.5
             }
            },
            "type": "barpolar"
           }
          ],
          "carpet": [
           {
            "aaxis": {
             "endlinecolor": "#2a3f5f",
             "gridcolor": "white",
             "linecolor": "white",
             "minorgridcolor": "white",
             "startlinecolor": "#2a3f5f"
            },
            "baxis": {
             "endlinecolor": "#2a3f5f",
             "gridcolor": "white",
             "linecolor": "white",
             "minorgridcolor": "white",
             "startlinecolor": "#2a3f5f"
            },
            "type": "carpet"
           }
          ],
          "choropleth": [
           {
            "colorbar": {
             "outlinewidth": 0,
             "ticks": ""
            },
            "type": "choropleth"
           }
          ],
          "contour": [
           {
            "colorbar": {
             "outlinewidth": 0,
             "ticks": ""
            },
            "colorscale": [
             [
              0,
              "#0d0887"
             ],
             [
              0.1111111111111111,
              "#46039f"
             ],
             [
              0.2222222222222222,
              "#7201a8"
             ],
             [
              0.3333333333333333,
              "#9c179e"
             ],
             [
              0.4444444444444444,
              "#bd3786"
             ],
             [
              0.5555555555555556,
              "#d8576b"
             ],
             [
              0.6666666666666666,
              "#ed7953"
             ],
             [
              0.7777777777777778,
              "#fb9f3a"
             ],
             [
              0.8888888888888888,
              "#fdca26"
             ],
             [
              1,
              "#f0f921"
             ]
            ],
            "type": "contour"
           }
          ],
          "contourcarpet": [
           {
            "colorbar": {
             "outlinewidth": 0,
             "ticks": ""
            },
            "type": "contourcarpet"
           }
          ],
          "heatmap": [
           {
            "colorbar": {
             "outlinewidth": 0,
             "ticks": ""
            },
            "colorscale": [
             [
              0,
              "#0d0887"
             ],
             [
              0.1111111111111111,
              "#46039f"
             ],
             [
              0.2222222222222222,
              "#7201a8"
             ],
             [
              0.3333333333333333,
              "#9c179e"
             ],
             [
              0.4444444444444444,
              "#bd3786"
             ],
             [
              0.5555555555555556,
              "#d8576b"
             ],
             [
              0.6666666666666666,
              "#ed7953"
             ],
             [
              0.7777777777777778,
              "#fb9f3a"
             ],
             [
              0.8888888888888888,
              "#fdca26"
             ],
             [
              1,
              "#f0f921"
             ]
            ],
            "type": "heatmap"
           }
          ],
          "heatmapgl": [
           {
            "colorbar": {
             "outlinewidth": 0,
             "ticks": ""
            },
            "colorscale": [
             [
              0,
              "#0d0887"
             ],
             [
              0.1111111111111111,
              "#46039f"
             ],
             [
              0.2222222222222222,
              "#7201a8"
             ],
             [
              0.3333333333333333,
              "#9c179e"
             ],
             [
              0.4444444444444444,
              "#bd3786"
             ],
             [
              0.5555555555555556,
              "#d8576b"
             ],
             [
              0.6666666666666666,
              "#ed7953"
             ],
             [
              0.7777777777777778,
              "#fb9f3a"
             ],
             [
              0.8888888888888888,
              "#fdca26"
             ],
             [
              1,
              "#f0f921"
             ]
            ],
            "type": "heatmapgl"
           }
          ],
          "histogram": [
           {
            "marker": {
             "colorbar": {
              "outlinewidth": 0,
              "ticks": ""
             }
            },
            "type": "histogram"
           }
          ],
          "histogram2d": [
           {
            "colorbar": {
             "outlinewidth": 0,
             "ticks": ""
            },
            "colorscale": [
             [
              0,
              "#0d0887"
             ],
             [
              0.1111111111111111,
              "#46039f"
             ],
             [
              0.2222222222222222,
              "#7201a8"
             ],
             [
              0.3333333333333333,
              "#9c179e"
             ],
             [
              0.4444444444444444,
              "#bd3786"
             ],
             [
              0.5555555555555556,
              "#d8576b"
             ],
             [
              0.6666666666666666,
              "#ed7953"
             ],
             [
              0.7777777777777778,
              "#fb9f3a"
             ],
             [
              0.8888888888888888,
              "#fdca26"
             ],
             [
              1,
              "#f0f921"
             ]
            ],
            "type": "histogram2d"
           }
          ],
          "histogram2dcontour": [
           {
            "colorbar": {
             "outlinewidth": 0,
             "ticks": ""
            },
            "colorscale": [
             [
              0,
              "#0d0887"
             ],
             [
              0.1111111111111111,
              "#46039f"
             ],
             [
              0.2222222222222222,
              "#7201a8"
             ],
             [
              0.3333333333333333,
              "#9c179e"
             ],
             [
              0.4444444444444444,
              "#bd3786"
             ],
             [
              0.5555555555555556,
              "#d8576b"
             ],
             [
              0.6666666666666666,
              "#ed7953"
             ],
             [
              0.7777777777777778,
              "#fb9f3a"
             ],
             [
              0.8888888888888888,
              "#fdca26"
             ],
             [
              1,
              "#f0f921"
             ]
            ],
            "type": "histogram2dcontour"
           }
          ],
          "mesh3d": [
           {
            "colorbar": {
             "outlinewidth": 0,
             "ticks": ""
            },
            "type": "mesh3d"
           }
          ],
          "parcoords": [
           {
            "line": {
             "colorbar": {
              "outlinewidth": 0,
              "ticks": ""
             }
            },
            "type": "parcoords"
           }
          ],
          "pie": [
           {
            "automargin": true,
            "type": "pie"
           }
          ],
          "scatter": [
           {
            "marker": {
             "colorbar": {
              "outlinewidth": 0,
              "ticks": ""
             }
            },
            "type": "scatter"
           }
          ],
          "scatter3d": [
           {
            "line": {
             "colorbar": {
              "outlinewidth": 0,
              "ticks": ""
             }
            },
            "marker": {
             "colorbar": {
              "outlinewidth": 0,
              "ticks": ""
             }
            },
            "type": "scatter3d"
           }
          ],
          "scattercarpet": [
           {
            "marker": {
             "colorbar": {
              "outlinewidth": 0,
              "ticks": ""
             }
            },
            "type": "scattercarpet"
           }
          ],
          "scattergeo": [
           {
            "marker": {
             "colorbar": {
              "outlinewidth": 0,
              "ticks": ""
             }
            },
            "type": "scattergeo"
           }
          ],
          "scattergl": [
           {
            "marker": {
             "colorbar": {
              "outlinewidth": 0,
              "ticks": ""
             }
            },
            "type": "scattergl"
           }
          ],
          "scattermapbox": [
           {
            "marker": {
             "colorbar": {
              "outlinewidth": 0,
              "ticks": ""
             }
            },
            "type": "scattermapbox"
           }
          ],
          "scatterpolar": [
           {
            "marker": {
             "colorbar": {
              "outlinewidth": 0,
              "ticks": ""
             }
            },
            "type": "scatterpolar"
           }
          ],
          "scatterpolargl": [
           {
            "marker": {
             "colorbar": {
              "outlinewidth": 0,
              "ticks": ""
             }
            },
            "type": "scatterpolargl"
           }
          ],
          "scatterternary": [
           {
            "marker": {
             "colorbar": {
              "outlinewidth": 0,
              "ticks": ""
             }
            },
            "type": "scatterternary"
           }
          ],
          "surface": [
           {
            "colorbar": {
             "outlinewidth": 0,
             "ticks": ""
            },
            "colorscale": [
             [
              0,
              "#0d0887"
             ],
             [
              0.1111111111111111,
              "#46039f"
             ],
             [
              0.2222222222222222,
              "#7201a8"
             ],
             [
              0.3333333333333333,
              "#9c179e"
             ],
             [
              0.4444444444444444,
              "#bd3786"
             ],
             [
              0.5555555555555556,
              "#d8576b"
             ],
             [
              0.6666666666666666,
              "#ed7953"
             ],
             [
              0.7777777777777778,
              "#fb9f3a"
             ],
             [
              0.8888888888888888,
              "#fdca26"
             ],
             [
              1,
              "#f0f921"
             ]
            ],
            "type": "surface"
           }
          ],
          "table": [
           {
            "cells": {
             "fill": {
              "color": "#EBF0F8"
             },
             "line": {
              "color": "white"
             }
            },
            "header": {
             "fill": {
              "color": "#C8D4E3"
             },
             "line": {
              "color": "white"
             }
            },
            "type": "table"
           }
          ]
         },
         "layout": {
          "annotationdefaults": {
           "arrowcolor": "#2a3f5f",
           "arrowhead": 0,
           "arrowwidth": 1
          },
          "coloraxis": {
           "colorbar": {
            "outlinewidth": 0,
            "ticks": ""
           }
          },
          "colorscale": {
           "diverging": [
            [
             0,
             "#8e0152"
            ],
            [
             0.1,
             "#c51b7d"
            ],
            [
             0.2,
             "#de77ae"
            ],
            [
             0.3,
             "#f1b6da"
            ],
            [
             0.4,
             "#fde0ef"
            ],
            [
             0.5,
             "#f7f7f7"
            ],
            [
             0.6,
             "#e6f5d0"
            ],
            [
             0.7,
             "#b8e186"
            ],
            [
             0.8,
             "#7fbc41"
            ],
            [
             0.9,
             "#4d9221"
            ],
            [
             1,
             "#276419"
            ]
           ],
           "sequential": [
            [
             0,
             "#0d0887"
            ],
            [
             0.1111111111111111,
             "#46039f"
            ],
            [
             0.2222222222222222,
             "#7201a8"
            ],
            [
             0.3333333333333333,
             "#9c179e"
            ],
            [
             0.4444444444444444,
             "#bd3786"
            ],
            [
             0.5555555555555556,
             "#d8576b"
            ],
            [
             0.6666666666666666,
             "#ed7953"
            ],
            [
             0.7777777777777778,
             "#fb9f3a"
            ],
            [
             0.8888888888888888,
             "#fdca26"
            ],
            [
             1,
             "#f0f921"
            ]
           ],
           "sequentialminus": [
            [
             0,
             "#0d0887"
            ],
            [
             0.1111111111111111,
             "#46039f"
            ],
            [
             0.2222222222222222,
             "#7201a8"
            ],
            [
             0.3333333333333333,
             "#9c179e"
            ],
            [
             0.4444444444444444,
             "#bd3786"
            ],
            [
             0.5555555555555556,
             "#d8576b"
            ],
            [
             0.6666666666666666,
             "#ed7953"
            ],
            [
             0.7777777777777778,
             "#fb9f3a"
            ],
            [
             0.8888888888888888,
             "#fdca26"
            ],
            [
             1,
             "#f0f921"
            ]
           ]
          },
          "colorway": [
           "#636efa",
           "#EF553B",
           "#00cc96",
           "#ab63fa",
           "#FFA15A",
           "#19d3f3",
           "#FF6692",
           "#B6E880",
           "#FF97FF",
           "#FECB52"
          ],
          "font": {
           "color": "#2a3f5f"
          },
          "geo": {
           "bgcolor": "white",
           "lakecolor": "white",
           "landcolor": "#E5ECF6",
           "showlakes": true,
           "showland": true,
           "subunitcolor": "white"
          },
          "hoverlabel": {
           "align": "left"
          },
          "hovermode": "closest",
          "mapbox": {
           "style": "light"
          },
          "paper_bgcolor": "white",
          "plot_bgcolor": "#E5ECF6",
          "polar": {
           "angularaxis": {
            "gridcolor": "white",
            "linecolor": "white",
            "ticks": ""
           },
           "bgcolor": "#E5ECF6",
           "radialaxis": {
            "gridcolor": "white",
            "linecolor": "white",
            "ticks": ""
           }
          },
          "scene": {
           "xaxis": {
            "backgroundcolor": "#E5ECF6",
            "gridcolor": "white",
            "gridwidth": 2,
            "linecolor": "white",
            "showbackground": true,
            "ticks": "",
            "zerolinecolor": "white"
           },
           "yaxis": {
            "backgroundcolor": "#E5ECF6",
            "gridcolor": "white",
            "gridwidth": 2,
            "linecolor": "white",
            "showbackground": true,
            "ticks": "",
            "zerolinecolor": "white"
           },
           "zaxis": {
            "backgroundcolor": "#E5ECF6",
            "gridcolor": "white",
            "gridwidth": 2,
            "linecolor": "white",
            "showbackground": true,
            "ticks": "",
            "zerolinecolor": "white"
           }
          },
          "shapedefaults": {
           "line": {
            "color": "#2a3f5f"
           }
          },
          "ternary": {
           "aaxis": {
            "gridcolor": "white",
            "linecolor": "white",
            "ticks": ""
           },
           "baxis": {
            "gridcolor": "white",
            "linecolor": "white",
            "ticks": ""
           },
           "bgcolor": "#E5ECF6",
           "caxis": {
            "gridcolor": "white",
            "linecolor": "white",
            "ticks": ""
           }
          },
          "title": {
           "x": 0.05
          },
          "xaxis": {
           "automargin": true,
           "gridcolor": "white",
           "linecolor": "white",
           "ticks": "",
           "title": {
            "standoff": 15
           },
           "zerolinecolor": "white",
           "zerolinewidth": 2
          },
          "yaxis": {
           "automargin": true,
           "gridcolor": "white",
           "linecolor": "white",
           "ticks": "",
           "title": {
            "standoff": 15
           },
           "zerolinecolor": "white",
           "zerolinewidth": 2
          }
         }
        },
        "title": {
         "text": "2D Data Representation Space"
        },
        "xaxis": {
         "range": [
          0,
          12
         ],
         "title": {
          "text": "x1"
         }
        },
        "yaxis": {
         "range": [
          0,
          12
         ],
         "title": {
          "text": "x2"
         }
        }
       }
      },
      "text/html": [
       "<div>\n",
       "        \n",
       "        \n",
       "            <div id=\"644cc420-fec3-469d-8480-fdec8b3bf5e8\" class=\"plotly-graph-div\" style=\"height:400px; width:100%;\"></div>\n",
       "            <script type=\"text/javascript\">\n",
       "                require([\"plotly\"], function(Plotly) {\n",
       "                    window.PLOTLYENV=window.PLOTLYENV || {};\n",
       "                    \n",
       "                if (document.getElementById(\"644cc420-fec3-469d-8480-fdec8b3bf5e8\")) {\n",
       "                    Plotly.newPlot(\n",
       "                        '644cc420-fec3-469d-8480-fdec8b3bf5e8',\n",
       "                        [{\"mode\": \"markers\", \"type\": \"scatter\", \"x\": [2.0, 2.163265306122449, 2.326530612244898, 2.489795918367347, 2.6530612244897958, 2.816326530612245, 2.979591836734694, 3.142857142857143, 3.3061224489795915, 3.4693877551020407, 3.63265306122449, 3.7959183673469385, 3.9591836734693877, 4.122448979591836, 4.285714285714286, 4.448979591836734, 4.612244897959183, 4.775510204081632, 4.938775510204081, 5.1020408163265305, 5.26530612244898, 5.428571428571429, 5.591836734693877, 5.755102040816326, 5.918367346938775, 6.081632653061225, 6.244897959183673, 6.408163265306122, 6.571428571428571, 6.73469387755102, 6.897959183673469, 7.061224489795918, 7.224489795918367, 7.387755102040816, 7.551020408163265, 7.7142857142857135, 7.877551020408163, 8.040816326530612, 8.204081632653061, 8.367346938775508, 8.53061224489796, 8.693877551020407, 8.857142857142858, 9.020408163265305, 9.183673469387754, 9.346938775510203, 9.510204081632653, 9.673469387755102, 9.83673469387755, 10.0], \"y\": [2.0, 2.163265306122449, 2.326530612244898, 2.489795918367347, 2.6530612244897958, 2.816326530612245, 2.979591836734694, 3.142857142857143, 3.3061224489795915, 3.4693877551020407, 3.63265306122449, 3.7959183673469385, 3.9591836734693877, 4.122448979591836, 4.285714285714286, 4.448979591836734, 4.612244897959183, 4.775510204081632, 4.938775510204081, 5.1020408163265305, 5.26530612244898, 5.428571428571429, 5.591836734693877, 5.755102040816326, 5.918367346938775, 6.081632653061225, 6.244897959183673, 6.408163265306122, 6.571428571428571, 6.73469387755102, 6.897959183673469, 7.061224489795918, 7.224489795918367, 7.387755102040816, 7.551020408163265, 7.7142857142857135, 7.877551020408163, 8.040816326530612, 8.204081632653061, 8.367346938775508, 8.53061224489796, 8.693877551020407, 8.857142857142858, 9.020408163265305, 9.183673469387754, 9.346938775510203, 9.510204081632653, 9.673469387755102, 9.83673469387755, 10.0]}, {\"mode\": \"lines\", \"type\": \"scatter\", \"x\": [2.0, 2.163265306122449, 2.326530612244898, 2.489795918367347, 2.6530612244897958, 2.816326530612245, 2.979591836734694, 3.142857142857143, 3.3061224489795915, 3.4693877551020407, 3.63265306122449, 3.7959183673469385, 3.9591836734693877, 4.122448979591836, 4.285714285714286, 4.448979591836734, 4.612244897959183, 4.775510204081632, 4.938775510204081, 5.1020408163265305, 5.26530612244898, 5.428571428571429, 5.591836734693877, 5.755102040816326, 5.918367346938775, 6.081632653061225, 6.244897959183673, 6.408163265306122, 6.571428571428571, 6.73469387755102, 6.897959183673469, 7.061224489795918, 7.224489795918367, 7.387755102040816, 7.551020408163265, 7.7142857142857135, 7.877551020408163, 8.040816326530612, 8.204081632653061, 8.367346938775508, 8.53061224489796, 8.693877551020407, 8.857142857142858, 9.020408163265305, 9.183673469387754, 9.346938775510203, 9.510204081632653, 9.673469387755102, 9.83673469387755, 10.0], \"y\": [2.0, 2.163265306122449, 2.326530612244898, 2.489795918367347, 2.6530612244897958, 2.816326530612245, 2.979591836734694, 3.142857142857143, 3.3061224489795915, 3.4693877551020407, 3.63265306122449, 3.7959183673469385, 3.9591836734693877, 4.122448979591836, 4.285714285714286, 4.448979591836734, 4.612244897959183, 4.775510204081632, 4.938775510204081, 5.1020408163265305, 5.26530612244898, 5.428571428571429, 5.591836734693877, 5.755102040816326, 5.918367346938775, 6.081632653061225, 6.244897959183673, 6.408163265306122, 6.571428571428571, 6.73469387755102, 6.897959183673469, 7.061224489795918, 7.224489795918367, 7.387755102040816, 7.551020408163265, 7.7142857142857135, 7.877551020408163, 8.040816326530612, 8.204081632653061, 8.367346938775508, 8.53061224489796, 8.693877551020407, 8.857142857142858, 9.020408163265305, 9.183673469387754, 9.346938775510203, 9.510204081632653, 9.673469387755102, 9.83673469387755, 10.0]}, {\"mode\": \"lines\", \"type\": \"scatter\", \"x\": [2.0, 2.163265306122449, 2.326530612244898, 2.489795918367347, 2.6530612244897958, 2.816326530612245, 2.979591836734694, 3.142857142857143, 3.3061224489795915, 3.4693877551020407, 3.63265306122449, 3.7959183673469385, 3.9591836734693877, 4.122448979591836, 4.285714285714286, 4.448979591836734, 4.612244897959183, 4.775510204081632, 4.938775510204081, 5.1020408163265305, 5.26530612244898, 5.428571428571429, 5.591836734693877, 5.755102040816326, 5.918367346938775, 6.081632653061225, 6.244897959183673, 6.408163265306122, 6.571428571428571, 6.73469387755102, 6.897959183673469, 7.061224489795918, 7.224489795918367, 7.387755102040816, 7.551020408163265, 7.7142857142857135, 7.877551020408163, 8.040816326530612, 8.204081632653061, 8.367346938775508, 8.53061224489796, 8.693877551020407, 8.857142857142858, 9.020408163265305, 9.183673469387754, 9.346938775510203, 9.510204081632653, 9.673469387755102, 9.83673469387755, 10.0], \"y\": [2, 2, 2, 2, 2, 2, 2, 2, 2, 2, 2, 2, 2, 2, 2, 2, 2, 2, 2, 2, 2, 2, 2, 2, 2, 2, 2, 2, 2, 2, 2, 2, 2, 2, 2, 2, 2, 2, 2, 2, 2, 2, 2, 2, 2, 2, 2, 2, 2, 2, 2, 2, 2, 2, 2, 2, 2, 2, 2, 2, 2, 2, 2, 2, 2, 2, 2, 2, 2, 2, 2, 2, 2, 2, 2, 2, 2, 2, 2, 2, 2, 2, 2, 2, 2, 2, 2, 2, 2, 2, 2, 2, 2, 2, 2, 2, 2, 2, 2, 2]}, {\"mode\": \"lines\", \"type\": \"scatter\", \"x\": [2.6530612244897958, 2.816326530612245, 2.979591836734694, 3.142857142857143, 3.3061224489795915, 3.4693877551020407, 3.63265306122449, 3.7959183673469385, 3.9591836734693877, 4.122448979591836, 4.285714285714286, 4.448979591836734, 4.612244897959183, 4.775510204081632, 4.938775510204081, 5.1020408163265305, 5.26530612244898, 5.428571428571429, 5.591836734693877, 5.755102040816326], \"y\": [3.6530612244897958, 3.816326530612245, 3.979591836734694, 4.142857142857142, 4.3061224489795915, 4.469387755102041, 4.63265306122449, 4.795918367346939, 4.959183673469388, 5.122448979591836, 5.285714285714286, 5.448979591836734, 5.612244897959183, 5.775510204081632, 5.938775510204081, 6.1020408163265305, 6.26530612244898, 6.428571428571429, 6.591836734693877, 6.755102040816326, 6.918367346938775, 7.081632653061225, 7.244897959183673, 7.408163265306122, 7.571428571428571, 7.73469387755102, 7.897959183673469, 8.061224489795919, 8.224489795918366, 8.387755102040817, 8.551020408163264, 8.714285714285714, 8.877551020408163, 9.040816326530612, 9.204081632653061, 9.367346938775508, 9.53061224489796, 9.693877551020407, 9.857142857142858, 10.020408163265305, 10.183673469387754, 10.346938775510203, 10.510204081632653, 10.673469387755102, 10.83673469387755, 11.0]}],\n",
       "                        {\"annotations\": [{\"align\": \"center\", \"arrowcolor\": \"#636363\", \"arrowhead\": 2, \"arrowsize\": 1, \"arrowwidth\": 2, \"ax\": 20, \"ay\": -30, \"bgcolor\": \"orange\", \"bordercolor\": \"#c7c7c7\", \"borderpad\": 4, \"borderwidth\": 2, \"opacity\": 0.8, \"showarrow\": true, \"text\": \"A\", \"x\": 2, \"xref\": \"x\", \"y\": 2, \"yref\": \"y\"}, {\"align\": \"center\", \"arrowcolor\": \"#636363\", \"arrowhead\": 2, \"arrowsize\": 1, \"arrowwidth\": 2, \"ax\": 20, \"ay\": -30, \"bgcolor\": \"yellow\", \"bordercolor\": \"#c7c7c7\", \"borderpad\": 4, \"borderwidth\": 2, \"opacity\": 0.8, \"showarrow\": true, \"text\": \"B\", \"x\": 6, \"xref\": \"x\", \"y\": 6, \"yref\": \"y\"}, {\"ay\": -40, \"text\": \"d\", \"x\": 4, \"xref\": \"x\", \"y\": 5, \"yref\": \"y\"}, {\"ax\": 80, \"ay\": -10, \"text\": \"angle L\", \"x\": 2, \"xref\": \"x\", \"y\": 2, \"yref\": \"y\"}], \"height\": 400, \"showlegend\": false, \"template\": {\"data\": {\"bar\": [{\"error_x\": {\"color\": \"#2a3f5f\"}, \"error_y\": {\"color\": \"#2a3f5f\"}, \"marker\": {\"line\": {\"color\": \"#E5ECF6\", \"width\": 0.5}}, \"type\": \"bar\"}], \"barpolar\": [{\"marker\": {\"line\": {\"color\": \"#E5ECF6\", \"width\": 0.5}}, \"type\": \"barpolar\"}], \"carpet\": [{\"aaxis\": {\"endlinecolor\": \"#2a3f5f\", \"gridcolor\": \"white\", \"linecolor\": \"white\", \"minorgridcolor\": \"white\", \"startlinecolor\": \"#2a3f5f\"}, \"baxis\": {\"endlinecolor\": \"#2a3f5f\", \"gridcolor\": \"white\", \"linecolor\": \"white\", \"minorgridcolor\": \"white\", \"startlinecolor\": \"#2a3f5f\"}, \"type\": \"carpet\"}], \"choropleth\": [{\"colorbar\": {\"outlinewidth\": 0, \"ticks\": \"\"}, \"type\": \"choropleth\"}], \"contour\": [{\"colorbar\": {\"outlinewidth\": 0, \"ticks\": \"\"}, \"colorscale\": [[0.0, \"#0d0887\"], [0.1111111111111111, \"#46039f\"], [0.2222222222222222, \"#7201a8\"], [0.3333333333333333, \"#9c179e\"], [0.4444444444444444, \"#bd3786\"], [0.5555555555555556, \"#d8576b\"], [0.6666666666666666, \"#ed7953\"], [0.7777777777777778, \"#fb9f3a\"], [0.8888888888888888, \"#fdca26\"], [1.0, \"#f0f921\"]], \"type\": \"contour\"}], \"contourcarpet\": [{\"colorbar\": {\"outlinewidth\": 0, \"ticks\": \"\"}, \"type\": \"contourcarpet\"}], \"heatmap\": [{\"colorbar\": {\"outlinewidth\": 0, \"ticks\": \"\"}, \"colorscale\": [[0.0, \"#0d0887\"], [0.1111111111111111, \"#46039f\"], [0.2222222222222222, \"#7201a8\"], [0.3333333333333333, \"#9c179e\"], [0.4444444444444444, \"#bd3786\"], [0.5555555555555556, \"#d8576b\"], [0.6666666666666666, \"#ed7953\"], [0.7777777777777778, \"#fb9f3a\"], [0.8888888888888888, \"#fdca26\"], [1.0, \"#f0f921\"]], \"type\": \"heatmap\"}], \"heatmapgl\": [{\"colorbar\": {\"outlinewidth\": 0, \"ticks\": \"\"}, \"colorscale\": [[0.0, \"#0d0887\"], [0.1111111111111111, \"#46039f\"], [0.2222222222222222, \"#7201a8\"], [0.3333333333333333, \"#9c179e\"], [0.4444444444444444, \"#bd3786\"], [0.5555555555555556, \"#d8576b\"], [0.6666666666666666, \"#ed7953\"], [0.7777777777777778, \"#fb9f3a\"], [0.8888888888888888, \"#fdca26\"], [1.0, \"#f0f921\"]], \"type\": \"heatmapgl\"}], \"histogram\": [{\"marker\": {\"colorbar\": {\"outlinewidth\": 0, \"ticks\": \"\"}}, \"type\": \"histogram\"}], \"histogram2d\": [{\"colorbar\": {\"outlinewidth\": 0, \"ticks\": \"\"}, \"colorscale\": [[0.0, \"#0d0887\"], [0.1111111111111111, \"#46039f\"], [0.2222222222222222, \"#7201a8\"], [0.3333333333333333, \"#9c179e\"], [0.4444444444444444, \"#bd3786\"], [0.5555555555555556, \"#d8576b\"], [0.6666666666666666, \"#ed7953\"], [0.7777777777777778, \"#fb9f3a\"], [0.8888888888888888, \"#fdca26\"], [1.0, \"#f0f921\"]], \"type\": \"histogram2d\"}], \"histogram2dcontour\": [{\"colorbar\": {\"outlinewidth\": 0, \"ticks\": \"\"}, \"colorscale\": [[0.0, \"#0d0887\"], [0.1111111111111111, \"#46039f\"], [0.2222222222222222, \"#7201a8\"], [0.3333333333333333, \"#9c179e\"], [0.4444444444444444, \"#bd3786\"], [0.5555555555555556, \"#d8576b\"], [0.6666666666666666, \"#ed7953\"], [0.7777777777777778, \"#fb9f3a\"], [0.8888888888888888, \"#fdca26\"], [1.0, \"#f0f921\"]], \"type\": \"histogram2dcontour\"}], \"mesh3d\": [{\"colorbar\": {\"outlinewidth\": 0, \"ticks\": \"\"}, \"type\": \"mesh3d\"}], \"parcoords\": [{\"line\": {\"colorbar\": {\"outlinewidth\": 0, \"ticks\": \"\"}}, \"type\": \"parcoords\"}], \"pie\": [{\"automargin\": true, \"type\": \"pie\"}], \"scatter\": [{\"marker\": {\"colorbar\": {\"outlinewidth\": 0, \"ticks\": \"\"}}, \"type\": \"scatter\"}], \"scatter3d\": [{\"line\": {\"colorbar\": {\"outlinewidth\": 0, \"ticks\": \"\"}}, \"marker\": {\"colorbar\": {\"outlinewidth\": 0, \"ticks\": \"\"}}, \"type\": \"scatter3d\"}], \"scattercarpet\": [{\"marker\": {\"colorbar\": {\"outlinewidth\": 0, \"ticks\": \"\"}}, \"type\": \"scattercarpet\"}], \"scattergeo\": [{\"marker\": {\"colorbar\": {\"outlinewidth\": 0, \"ticks\": \"\"}}, \"type\": \"scattergeo\"}], \"scattergl\": [{\"marker\": {\"colorbar\": {\"outlinewidth\": 0, \"ticks\": \"\"}}, \"type\": \"scattergl\"}], \"scattermapbox\": [{\"marker\": {\"colorbar\": {\"outlinewidth\": 0, \"ticks\": \"\"}}, \"type\": \"scattermapbox\"}], \"scatterpolar\": [{\"marker\": {\"colorbar\": {\"outlinewidth\": 0, \"ticks\": \"\"}}, \"type\": \"scatterpolar\"}], \"scatterpolargl\": [{\"marker\": {\"colorbar\": {\"outlinewidth\": 0, \"ticks\": \"\"}}, \"type\": \"scatterpolargl\"}], \"scatterternary\": [{\"marker\": {\"colorbar\": {\"outlinewidth\": 0, \"ticks\": \"\"}}, \"type\": \"scatterternary\"}], \"surface\": [{\"colorbar\": {\"outlinewidth\": 0, \"ticks\": \"\"}, \"colorscale\": [[0.0, \"#0d0887\"], [0.1111111111111111, \"#46039f\"], [0.2222222222222222, \"#7201a8\"], [0.3333333333333333, \"#9c179e\"], [0.4444444444444444, \"#bd3786\"], [0.5555555555555556, \"#d8576b\"], [0.6666666666666666, \"#ed7953\"], [0.7777777777777778, \"#fb9f3a\"], [0.8888888888888888, \"#fdca26\"], [1.0, \"#f0f921\"]], \"type\": \"surface\"}], \"table\": [{\"cells\": {\"fill\": {\"color\": \"#EBF0F8\"}, \"line\": {\"color\": \"white\"}}, \"header\": {\"fill\": {\"color\": \"#C8D4E3\"}, \"line\": {\"color\": \"white\"}}, \"type\": \"table\"}]}, \"layout\": {\"annotationdefaults\": {\"arrowcolor\": \"#2a3f5f\", \"arrowhead\": 0, \"arrowwidth\": 1}, \"coloraxis\": {\"colorbar\": {\"outlinewidth\": 0, \"ticks\": \"\"}}, \"colorscale\": {\"diverging\": [[0, \"#8e0152\"], [0.1, \"#c51b7d\"], [0.2, \"#de77ae\"], [0.3, \"#f1b6da\"], [0.4, \"#fde0ef\"], [0.5, \"#f7f7f7\"], [0.6, \"#e6f5d0\"], [0.7, \"#b8e186\"], [0.8, \"#7fbc41\"], [0.9, \"#4d9221\"], [1, \"#276419\"]], \"sequential\": [[0.0, \"#0d0887\"], [0.1111111111111111, \"#46039f\"], [0.2222222222222222, \"#7201a8\"], [0.3333333333333333, \"#9c179e\"], [0.4444444444444444, \"#bd3786\"], [0.5555555555555556, \"#d8576b\"], [0.6666666666666666, \"#ed7953\"], [0.7777777777777778, \"#fb9f3a\"], [0.8888888888888888, \"#fdca26\"], [1.0, \"#f0f921\"]], \"sequentialminus\": [[0.0, \"#0d0887\"], [0.1111111111111111, \"#46039f\"], [0.2222222222222222, \"#7201a8\"], [0.3333333333333333, \"#9c179e\"], [0.4444444444444444, \"#bd3786\"], [0.5555555555555556, \"#d8576b\"], [0.6666666666666666, \"#ed7953\"], [0.7777777777777778, \"#fb9f3a\"], [0.8888888888888888, \"#fdca26\"], [1.0, \"#f0f921\"]]}, \"colorway\": [\"#636efa\", \"#EF553B\", \"#00cc96\", \"#ab63fa\", \"#FFA15A\", \"#19d3f3\", \"#FF6692\", \"#B6E880\", \"#FF97FF\", \"#FECB52\"], \"font\": {\"color\": \"#2a3f5f\"}, \"geo\": {\"bgcolor\": \"white\", \"lakecolor\": \"white\", \"landcolor\": \"#E5ECF6\", \"showlakes\": true, \"showland\": true, \"subunitcolor\": \"white\"}, \"hoverlabel\": {\"align\": \"left\"}, \"hovermode\": \"closest\", \"mapbox\": {\"style\": \"light\"}, \"paper_bgcolor\": \"white\", \"plot_bgcolor\": \"#E5ECF6\", \"polar\": {\"angularaxis\": {\"gridcolor\": \"white\", \"linecolor\": \"white\", \"ticks\": \"\"}, \"bgcolor\": \"#E5ECF6\", \"radialaxis\": {\"gridcolor\": \"white\", \"linecolor\": \"white\", \"ticks\": \"\"}}, \"scene\": {\"xaxis\": {\"backgroundcolor\": \"#E5ECF6\", \"gridcolor\": \"white\", \"gridwidth\": 2, \"linecolor\": \"white\", \"showbackground\": true, \"ticks\": \"\", \"zerolinecolor\": \"white\"}, \"yaxis\": {\"backgroundcolor\": \"#E5ECF6\", \"gridcolor\": \"white\", \"gridwidth\": 2, \"linecolor\": \"white\", \"showbackground\": true, \"ticks\": \"\", \"zerolinecolor\": \"white\"}, \"zaxis\": {\"backgroundcolor\": \"#E5ECF6\", \"gridcolor\": \"white\", \"gridwidth\": 2, \"linecolor\": \"white\", \"showbackground\": true, \"ticks\": \"\", \"zerolinecolor\": \"white\"}}, \"shapedefaults\": {\"line\": {\"color\": \"#2a3f5f\"}}, \"ternary\": {\"aaxis\": {\"gridcolor\": \"white\", \"linecolor\": \"white\", \"ticks\": \"\"}, \"baxis\": {\"gridcolor\": \"white\", \"linecolor\": \"white\", \"ticks\": \"\"}, \"bgcolor\": \"#E5ECF6\", \"caxis\": {\"gridcolor\": \"white\", \"linecolor\": \"white\", \"ticks\": \"\"}}, \"title\": {\"x\": 0.05}, \"xaxis\": {\"automargin\": true, \"gridcolor\": \"white\", \"linecolor\": \"white\", \"ticks\": \"\", \"title\": {\"standoff\": 15}, \"zerolinecolor\": \"white\", \"zerolinewidth\": 2}, \"yaxis\": {\"automargin\": true, \"gridcolor\": \"white\", \"linecolor\": \"white\", \"ticks\": \"\", \"title\": {\"standoff\": 15}, \"zerolinecolor\": \"white\", \"zerolinewidth\": 2}}}, \"title\": {\"text\": \"2D Data Representation Space\"}, \"xaxis\": {\"range\": [0, 12], \"title\": {\"text\": \"x1\"}}, \"yaxis\": {\"range\": [0, 12], \"title\": {\"text\": \"x2\"}}},\n",
       "                        {\"responsive\": true}\n",
       "                    ).then(function(){\n",
       "                            \n",
       "var gd = document.getElementById('644cc420-fec3-469d-8480-fdec8b3bf5e8');\n",
       "var x = new MutationObserver(function (mutations, observer) {{\n",
       "        var display = window.getComputedStyle(gd).display;\n",
       "        if (!display || display === 'none') {{\n",
       "            console.log([gd, 'removed!']);\n",
       "            Plotly.purge(gd);\n",
       "            observer.disconnect();\n",
       "        }}\n",
       "}});\n",
       "\n",
       "// Listen for the removal of the full notebook cells\n",
       "var notebookContainer = gd.closest('#notebook-container');\n",
       "if (notebookContainer) {{\n",
       "    x.observe(notebookContainer, {childList: true});\n",
       "}}\n",
       "\n",
       "// Listen for the clearing of the current output cell\n",
       "var outputEl = gd.closest('.output');\n",
       "if (outputEl) {{\n",
       "    x.observe(outputEl, {childList: true});\n",
       "}}\n",
       "\n",
       "                        })\n",
       "                };\n",
       "                });\n",
       "            </script>\n",
       "        </div>"
      ]
     },
     "metadata": {},
     "output_type": "display_data"
    }
   ],
   "source": [
    "random_y3 = [2 for i in range(100)]\n",
    "random_y4 = random_y2 + 1\n",
    "trace4 = go.Scatter(x = random_x[4:24], y = random_y4[4:300], mode=\"lines\")\n",
    "trace3 = go.Scatter(x = random_x, y = random_y3, mode=\"lines\")\n",
    "trace1 = go.Scatter(x = random_x, y = random_y1, mode=\"markers\")\n",
    "trace2 = go.Scatter(x = random_x, y = random_y2, mode=\"lines\")\n",
    "layout = go.Layout(xaxis=dict(title=\"x1\", range=(0,12)), yaxis=dict(title=\"x2\", range=(0,12)), height=400,\n",
    "                   annotations=[dict(x=2, y=2, xref='x', yref='y', text='A', showarrow=True, align='center', arrowhead=2, arrowsize=1, arrowwidth=2, \n",
    "                                     arrowcolor='#636363', ax=20, ay=-30, bordercolor='#c7c7c7', borderwidth=2, borderpad=4, bgcolor='orange', opacity=0.8), \n",
    "                                dict(x=6, y=6, xref='x', yref='y', text='B', showarrow=True, align='center', arrowhead=2, arrowsize=1, arrowwidth=2, arrowcolor='#636363',\n",
    "                                     ax=20, ay=-30, bordercolor='#c7c7c7', borderwidth=2, borderpad=4, bgcolor='yellow', opacity=0.8), dict(\n",
    "                                     x=4, y=5, xref='x', yref='y',text='d', ay=-40), \n",
    "                                dict(x=2, y=2, xref='x', yref='y', text='angle L', ax=80, ay=-10)], title=\"2D Data Representation Space\", showlegend=False)\n",
    "data = [trace1, trace2, trace3, trace4]\n",
    "figure = go.Figure(data = data, layout = layout)\n",
    "iplot(figure)"
   ]
  },
  {
   "cell_type": "code",
   "execution_count": 3,
   "metadata": {
    "ExecuteTime": {
     "end_time": "2020-09-12T08:34:21.202106Z",
     "start_time": "2020-09-12T08:34:21.155232Z"
    }
   },
   "outputs": [
    {
     "data": {
      "application/vnd.plotly.v1+json": {
       "config": {
        "linkText": "Export to plot.ly",
        "plotlyServerURL": "https://plot.ly",
        "showLink": false
       },
       "data": [
        {
         "mode": "markers",
         "type": "scatter",
         "x": [
          2,
          2.163265306122449,
          2.326530612244898,
          2.489795918367347,
          2.6530612244897958,
          2.816326530612245,
          2.979591836734694,
          3.142857142857143,
          3.3061224489795915,
          3.4693877551020407,
          3.63265306122449,
          3.7959183673469385,
          3.9591836734693877,
          4.122448979591836,
          4.285714285714286,
          4.448979591836734,
          4.612244897959183,
          4.775510204081632,
          4.938775510204081,
          5.1020408163265305,
          5.26530612244898,
          5.428571428571429,
          5.591836734693877,
          5.755102040816326,
          5.918367346938775,
          6.081632653061225,
          6.244897959183673,
          6.408163265306122,
          6.571428571428571,
          6.73469387755102,
          6.897959183673469,
          7.061224489795918,
          7.224489795918367,
          7.387755102040816,
          7.551020408163265,
          7.7142857142857135,
          7.877551020408163,
          8.040816326530612,
          8.204081632653061,
          8.367346938775508,
          8.53061224489796,
          8.693877551020407,
          8.857142857142858,
          9.020408163265305,
          9.183673469387754,
          9.346938775510203,
          9.510204081632653,
          9.673469387755102,
          9.83673469387755,
          10
         ],
         "y": [
          2,
          2.163265306122449,
          2.326530612244898,
          2.489795918367347,
          2.6530612244897958,
          2.816326530612245,
          2.979591836734694,
          3.142857142857143,
          3.3061224489795915,
          3.4693877551020407,
          3.63265306122449,
          3.7959183673469385,
          3.9591836734693877,
          4.122448979591836,
          4.285714285714286,
          4.448979591836734,
          4.612244897959183,
          4.775510204081632,
          4.938775510204081,
          5.1020408163265305,
          5.26530612244898,
          5.428571428571429,
          5.591836734693877,
          5.755102040816326,
          5.918367346938775,
          6.081632653061225,
          6.244897959183673,
          6.408163265306122,
          6.571428571428571,
          6.73469387755102,
          6.897959183673469,
          7.061224489795918,
          7.224489795918367,
          7.387755102040816,
          7.551020408163265,
          7.7142857142857135,
          7.877551020408163,
          8.040816326530612,
          8.204081632653061,
          8.367346938775508,
          8.53061224489796,
          8.693877551020407,
          8.857142857142858,
          9.020408163265305,
          9.183673469387754,
          9.346938775510203,
          9.510204081632653,
          9.673469387755102,
          9.83673469387755,
          10
         ]
        },
        {
         "mode": "lines",
         "type": "scatter",
         "x": [
          2,
          2.163265306122449,
          2.326530612244898,
          2.489795918367347,
          2.6530612244897958,
          2.816326530612245,
          2.979591836734694,
          3.142857142857143,
          3.3061224489795915,
          3.4693877551020407,
          3.63265306122449,
          3.7959183673469385,
          3.9591836734693877,
          4.122448979591836,
          4.285714285714286,
          4.448979591836734,
          4.612244897959183,
          4.775510204081632,
          4.938775510204081,
          5.1020408163265305,
          5.26530612244898,
          5.428571428571429,
          5.591836734693877,
          5.755102040816326,
          5.918367346938775,
          6.081632653061225,
          6.244897959183673,
          6.408163265306122,
          6.571428571428571,
          6.73469387755102,
          6.897959183673469,
          7.061224489795918,
          7.224489795918367,
          7.387755102040816,
          7.551020408163265,
          7.7142857142857135,
          7.877551020408163,
          8.040816326530612,
          8.204081632653061,
          8.367346938775508,
          8.53061224489796,
          8.693877551020407,
          8.857142857142858,
          9.020408163265305,
          9.183673469387754,
          9.346938775510203,
          9.510204081632653,
          9.673469387755102,
          9.83673469387755,
          10
         ],
         "y": [
          2,
          2.163265306122449,
          2.326530612244898,
          2.489795918367347,
          2.6530612244897958,
          2.816326530612245,
          2.979591836734694,
          3.142857142857143,
          3.3061224489795915,
          3.4693877551020407,
          3.63265306122449,
          3.7959183673469385,
          3.9591836734693877,
          4.122448979591836,
          4.285714285714286,
          4.448979591836734,
          4.612244897959183,
          4.775510204081632,
          4.938775510204081,
          5.1020408163265305,
          5.26530612244898,
          5.428571428571429,
          5.591836734693877,
          5.755102040816326,
          5.918367346938775,
          6.081632653061225,
          6.244897959183673,
          6.408163265306122,
          6.571428571428571,
          6.73469387755102,
          6.897959183673469,
          7.061224489795918,
          7.224489795918367,
          7.387755102040816,
          7.551020408163265,
          7.7142857142857135,
          7.877551020408163,
          8.040816326530612,
          8.204081632653061,
          8.367346938775508,
          8.53061224489796,
          8.693877551020407,
          8.857142857142858,
          9.020408163265305,
          9.183673469387754,
          9.346938775510203,
          9.510204081632653,
          9.673469387755102,
          9.83673469387755,
          10
         ]
        },
        {
         "mode": "lines",
         "type": "scatter",
         "x": [
          2,
          2.163265306122449,
          2.326530612244898,
          2.489795918367347,
          2.6530612244897958,
          2.816326530612245,
          2.979591836734694,
          3.142857142857143,
          3.3061224489795915,
          3.4693877551020407,
          3.63265306122449,
          3.7959183673469385,
          3.9591836734693877,
          4.122448979591836,
          4.285714285714286,
          4.448979591836734,
          4.612244897959183,
          4.775510204081632,
          4.938775510204081,
          5.1020408163265305,
          5.26530612244898,
          5.428571428571429,
          5.591836734693877,
          5.755102040816326,
          5.918367346938775,
          6.081632653061225,
          6.244897959183673,
          6.408163265306122,
          6.571428571428571,
          6.73469387755102,
          6.897959183673469,
          7.061224489795918,
          7.224489795918367,
          7.387755102040816,
          7.551020408163265,
          7.7142857142857135,
          7.877551020408163,
          8.040816326530612,
          8.204081632653061,
          8.367346938775508,
          8.53061224489796,
          8.693877551020407,
          8.857142857142858,
          9.020408163265305,
          9.183673469387754,
          9.346938775510203,
          9.510204081632653,
          9.673469387755102,
          9.83673469387755,
          10
         ],
         "y": [
          2,
          2,
          2,
          2,
          2,
          2,
          2,
          2,
          2,
          2,
          2,
          2,
          2,
          2,
          2,
          2,
          2,
          2,
          2,
          2,
          2,
          2,
          2,
          2,
          2,
          2,
          2,
          2,
          2,
          2,
          2,
          2,
          2,
          2,
          2,
          2,
          2,
          2,
          2,
          2,
          2,
          2,
          2,
          2,
          2,
          2,
          2,
          2,
          2,
          2,
          2,
          2,
          2,
          2,
          2,
          2,
          2,
          2,
          2,
          2,
          2,
          2,
          2,
          2,
          2,
          2,
          2,
          2,
          2,
          2,
          2,
          2,
          2,
          2,
          2,
          2,
          2,
          2,
          2,
          2,
          2,
          2,
          2,
          2,
          2,
          2,
          2,
          2,
          2,
          2,
          2,
          2,
          2,
          2,
          2,
          2,
          2,
          2,
          2,
          2
         ]
        },
        {
         "mode": "lines",
         "type": "scatter",
         "x": [
          2.6530612244897958,
          2.816326530612245,
          2.979591836734694,
          3.142857142857143,
          3.3061224489795915,
          3.4693877551020407,
          3.63265306122449,
          3.7959183673469385,
          3.9591836734693877,
          4.122448979591836,
          4.285714285714286,
          4.448979591836734,
          4.612244897959183,
          4.775510204081632,
          4.938775510204081,
          5.1020408163265305,
          5.26530612244898,
          5.428571428571429,
          5.591836734693877,
          5.755102040816326
         ],
         "y": [
          3.6530612244897958,
          3.816326530612245,
          3.979591836734694,
          4.142857142857142,
          4.3061224489795915,
          4.469387755102041,
          4.63265306122449,
          4.795918367346939,
          4.959183673469388,
          5.122448979591836,
          5.285714285714286,
          5.448979591836734,
          5.612244897959183,
          5.775510204081632,
          5.938775510204081,
          6.1020408163265305,
          6.26530612244898,
          6.428571428571429,
          6.591836734693877,
          6.755102040816326,
          6.918367346938775,
          7.081632653061225,
          7.244897959183673,
          7.408163265306122,
          7.571428571428571,
          7.73469387755102,
          7.897959183673469,
          8.061224489795919,
          8.224489795918366,
          8.387755102040817,
          8.551020408163264,
          8.714285714285714,
          8.877551020408163,
          9.040816326530612,
          9.204081632653061,
          9.367346938775508,
          9.53061224489796,
          9.693877551020407,
          9.857142857142858,
          10.020408163265305,
          10.183673469387754,
          10.346938775510203,
          10.510204081632653,
          10.673469387755102,
          10.83673469387755,
          11
         ]
        }
       ],
       "layout": {
        "annotations": [
         {
          "align": "center",
          "arrowcolor": "#636363",
          "arrowhead": 2,
          "arrowsize": 1,
          "arrowwidth": 2,
          "ax": 20,
          "ay": -30,
          "bgcolor": "orange",
          "bordercolor": "#c7c7c7",
          "borderpad": 4,
          "borderwidth": 2,
          "opacity": 0.8,
          "showarrow": true,
          "text": "A",
          "x": 2,
          "xref": "x",
          "y": 2,
          "yref": "y"
         },
         {
          "align": "center",
          "arrowcolor": "#636363",
          "arrowhead": 2,
          "arrowsize": 1,
          "arrowwidth": 2,
          "ax": 20,
          "ay": -30,
          "bgcolor": "yellow",
          "bordercolor": "#c7c7c7",
          "borderpad": 4,
          "borderwidth": 2,
          "opacity": 0.8,
          "showarrow": true,
          "text": "B",
          "x": 6,
          "xref": "x",
          "y": 6,
          "yref": "y"
         },
         {
          "ay": -40,
          "text": "d",
          "x": 4,
          "xref": "x",
          "y": 5,
          "yref": "y"
         },
         {
          "ax": 80,
          "ay": -10,
          "text": "angle L",
          "x": 2,
          "xref": "x",
          "y": 2,
          "yref": "y"
         }
        ],
        "height": 400,
        "showlegend": false,
        "template": {
         "data": {
          "bar": [
           {
            "error_x": {
             "color": "#2a3f5f"
            },
            "error_y": {
             "color": "#2a3f5f"
            },
            "marker": {
             "line": {
              "color": "#E5ECF6",
              "width": 0.5
             }
            },
            "type": "bar"
           }
          ],
          "barpolar": [
           {
            "marker": {
             "line": {
              "color": "#E5ECF6",
              "width": 0.5
             }
            },
            "type": "barpolar"
           }
          ],
          "carpet": [
           {
            "aaxis": {
             "endlinecolor": "#2a3f5f",
             "gridcolor": "white",
             "linecolor": "white",
             "minorgridcolor": "white",
             "startlinecolor": "#2a3f5f"
            },
            "baxis": {
             "endlinecolor": "#2a3f5f",
             "gridcolor": "white",
             "linecolor": "white",
             "minorgridcolor": "white",
             "startlinecolor": "#2a3f5f"
            },
            "type": "carpet"
           }
          ],
          "choropleth": [
           {
            "colorbar": {
             "outlinewidth": 0,
             "ticks": ""
            },
            "type": "choropleth"
           }
          ],
          "contour": [
           {
            "colorbar": {
             "outlinewidth": 0,
             "ticks": ""
            },
            "colorscale": [
             [
              0,
              "#0d0887"
             ],
             [
              0.1111111111111111,
              "#46039f"
             ],
             [
              0.2222222222222222,
              "#7201a8"
             ],
             [
              0.3333333333333333,
              "#9c179e"
             ],
             [
              0.4444444444444444,
              "#bd3786"
             ],
             [
              0.5555555555555556,
              "#d8576b"
             ],
             [
              0.6666666666666666,
              "#ed7953"
             ],
             [
              0.7777777777777778,
              "#fb9f3a"
             ],
             [
              0.8888888888888888,
              "#fdca26"
             ],
             [
              1,
              "#f0f921"
             ]
            ],
            "type": "contour"
           }
          ],
          "contourcarpet": [
           {
            "colorbar": {
             "outlinewidth": 0,
             "ticks": ""
            },
            "type": "contourcarpet"
           }
          ],
          "heatmap": [
           {
            "colorbar": {
             "outlinewidth": 0,
             "ticks": ""
            },
            "colorscale": [
             [
              0,
              "#0d0887"
             ],
             [
              0.1111111111111111,
              "#46039f"
             ],
             [
              0.2222222222222222,
              "#7201a8"
             ],
             [
              0.3333333333333333,
              "#9c179e"
             ],
             [
              0.4444444444444444,
              "#bd3786"
             ],
             [
              0.5555555555555556,
              "#d8576b"
             ],
             [
              0.6666666666666666,
              "#ed7953"
             ],
             [
              0.7777777777777778,
              "#fb9f3a"
             ],
             [
              0.8888888888888888,
              "#fdca26"
             ],
             [
              1,
              "#f0f921"
             ]
            ],
            "type": "heatmap"
           }
          ],
          "heatmapgl": [
           {
            "colorbar": {
             "outlinewidth": 0,
             "ticks": ""
            },
            "colorscale": [
             [
              0,
              "#0d0887"
             ],
             [
              0.1111111111111111,
              "#46039f"
             ],
             [
              0.2222222222222222,
              "#7201a8"
             ],
             [
              0.3333333333333333,
              "#9c179e"
             ],
             [
              0.4444444444444444,
              "#bd3786"
             ],
             [
              0.5555555555555556,
              "#d8576b"
             ],
             [
              0.6666666666666666,
              "#ed7953"
             ],
             [
              0.7777777777777778,
              "#fb9f3a"
             ],
             [
              0.8888888888888888,
              "#fdca26"
             ],
             [
              1,
              "#f0f921"
             ]
            ],
            "type": "heatmapgl"
           }
          ],
          "histogram": [
           {
            "marker": {
             "colorbar": {
              "outlinewidth": 0,
              "ticks": ""
             }
            },
            "type": "histogram"
           }
          ],
          "histogram2d": [
           {
            "colorbar": {
             "outlinewidth": 0,
             "ticks": ""
            },
            "colorscale": [
             [
              0,
              "#0d0887"
             ],
             [
              0.1111111111111111,
              "#46039f"
             ],
             [
              0.2222222222222222,
              "#7201a8"
             ],
             [
              0.3333333333333333,
              "#9c179e"
             ],
             [
              0.4444444444444444,
              "#bd3786"
             ],
             [
              0.5555555555555556,
              "#d8576b"
             ],
             [
              0.6666666666666666,
              "#ed7953"
             ],
             [
              0.7777777777777778,
              "#fb9f3a"
             ],
             [
              0.8888888888888888,
              "#fdca26"
             ],
             [
              1,
              "#f0f921"
             ]
            ],
            "type": "histogram2d"
           }
          ],
          "histogram2dcontour": [
           {
            "colorbar": {
             "outlinewidth": 0,
             "ticks": ""
            },
            "colorscale": [
             [
              0,
              "#0d0887"
             ],
             [
              0.1111111111111111,
              "#46039f"
             ],
             [
              0.2222222222222222,
              "#7201a8"
             ],
             [
              0.3333333333333333,
              "#9c179e"
             ],
             [
              0.4444444444444444,
              "#bd3786"
             ],
             [
              0.5555555555555556,
              "#d8576b"
             ],
             [
              0.6666666666666666,
              "#ed7953"
             ],
             [
              0.7777777777777778,
              "#fb9f3a"
             ],
             [
              0.8888888888888888,
              "#fdca26"
             ],
             [
              1,
              "#f0f921"
             ]
            ],
            "type": "histogram2dcontour"
           }
          ],
          "mesh3d": [
           {
            "colorbar": {
             "outlinewidth": 0,
             "ticks": ""
            },
            "type": "mesh3d"
           }
          ],
          "parcoords": [
           {
            "line": {
             "colorbar": {
              "outlinewidth": 0,
              "ticks": ""
             }
            },
            "type": "parcoords"
           }
          ],
          "pie": [
           {
            "automargin": true,
            "type": "pie"
           }
          ],
          "scatter": [
           {
            "marker": {
             "colorbar": {
              "outlinewidth": 0,
              "ticks": ""
             }
            },
            "type": "scatter"
           }
          ],
          "scatter3d": [
           {
            "line": {
             "colorbar": {
              "outlinewidth": 0,
              "ticks": ""
             }
            },
            "marker": {
             "colorbar": {
              "outlinewidth": 0,
              "ticks": ""
             }
            },
            "type": "scatter3d"
           }
          ],
          "scattercarpet": [
           {
            "marker": {
             "colorbar": {
              "outlinewidth": 0,
              "ticks": ""
             }
            },
            "type": "scattercarpet"
           }
          ],
          "scattergeo": [
           {
            "marker": {
             "colorbar": {
              "outlinewidth": 0,
              "ticks": ""
             }
            },
            "type": "scattergeo"
           }
          ],
          "scattergl": [
           {
            "marker": {
             "colorbar": {
              "outlinewidth": 0,
              "ticks": ""
             }
            },
            "type": "scattergl"
           }
          ],
          "scattermapbox": [
           {
            "marker": {
             "colorbar": {
              "outlinewidth": 0,
              "ticks": ""
             }
            },
            "type": "scattermapbox"
           }
          ],
          "scatterpolar": [
           {
            "marker": {
             "colorbar": {
              "outlinewidth": 0,
              "ticks": ""
             }
            },
            "type": "scatterpolar"
           }
          ],
          "scatterpolargl": [
           {
            "marker": {
             "colorbar": {
              "outlinewidth": 0,
              "ticks": ""
             }
            },
            "type": "scatterpolargl"
           }
          ],
          "scatterternary": [
           {
            "marker": {
             "colorbar": {
              "outlinewidth": 0,
              "ticks": ""
             }
            },
            "type": "scatterternary"
           }
          ],
          "surface": [
           {
            "colorbar": {
             "outlinewidth": 0,
             "ticks": ""
            },
            "colorscale": [
             [
              0,
              "#0d0887"
             ],
             [
              0.1111111111111111,
              "#46039f"
             ],
             [
              0.2222222222222222,
              "#7201a8"
             ],
             [
              0.3333333333333333,
              "#9c179e"
             ],
             [
              0.4444444444444444,
              "#bd3786"
             ],
             [
              0.5555555555555556,
              "#d8576b"
             ],
             [
              0.6666666666666666,
              "#ed7953"
             ],
             [
              0.7777777777777778,
              "#fb9f3a"
             ],
             [
              0.8888888888888888,
              "#fdca26"
             ],
             [
              1,
              "#f0f921"
             ]
            ],
            "type": "surface"
           }
          ],
          "table": [
           {
            "cells": {
             "fill": {
              "color": "#EBF0F8"
             },
             "line": {
              "color": "white"
             }
            },
            "header": {
             "fill": {
              "color": "#C8D4E3"
             },
             "line": {
              "color": "white"
             }
            },
            "type": "table"
           }
          ]
         },
         "layout": {
          "annotationdefaults": {
           "arrowcolor": "#2a3f5f",
           "arrowhead": 0,
           "arrowwidth": 1
          },
          "coloraxis": {
           "colorbar": {
            "outlinewidth": 0,
            "ticks": ""
           }
          },
          "colorscale": {
           "diverging": [
            [
             0,
             "#8e0152"
            ],
            [
             0.1,
             "#c51b7d"
            ],
            [
             0.2,
             "#de77ae"
            ],
            [
             0.3,
             "#f1b6da"
            ],
            [
             0.4,
             "#fde0ef"
            ],
            [
             0.5,
             "#f7f7f7"
            ],
            [
             0.6,
             "#e6f5d0"
            ],
            [
             0.7,
             "#b8e186"
            ],
            [
             0.8,
             "#7fbc41"
            ],
            [
             0.9,
             "#4d9221"
            ],
            [
             1,
             "#276419"
            ]
           ],
           "sequential": [
            [
             0,
             "#0d0887"
            ],
            [
             0.1111111111111111,
             "#46039f"
            ],
            [
             0.2222222222222222,
             "#7201a8"
            ],
            [
             0.3333333333333333,
             "#9c179e"
            ],
            [
             0.4444444444444444,
             "#bd3786"
            ],
            [
             0.5555555555555556,
             "#d8576b"
            ],
            [
             0.6666666666666666,
             "#ed7953"
            ],
            [
             0.7777777777777778,
             "#fb9f3a"
            ],
            [
             0.8888888888888888,
             "#fdca26"
            ],
            [
             1,
             "#f0f921"
            ]
           ],
           "sequentialminus": [
            [
             0,
             "#0d0887"
            ],
            [
             0.1111111111111111,
             "#46039f"
            ],
            [
             0.2222222222222222,
             "#7201a8"
            ],
            [
             0.3333333333333333,
             "#9c179e"
            ],
            [
             0.4444444444444444,
             "#bd3786"
            ],
            [
             0.5555555555555556,
             "#d8576b"
            ],
            [
             0.6666666666666666,
             "#ed7953"
            ],
            [
             0.7777777777777778,
             "#fb9f3a"
            ],
            [
             0.8888888888888888,
             "#fdca26"
            ],
            [
             1,
             "#f0f921"
            ]
           ]
          },
          "colorway": [
           "#636efa",
           "#EF553B",
           "#00cc96",
           "#ab63fa",
           "#FFA15A",
           "#19d3f3",
           "#FF6692",
           "#B6E880",
           "#FF97FF",
           "#FECB52"
          ],
          "font": {
           "color": "#2a3f5f"
          },
          "geo": {
           "bgcolor": "white",
           "lakecolor": "white",
           "landcolor": "#E5ECF6",
           "showlakes": true,
           "showland": true,
           "subunitcolor": "white"
          },
          "hoverlabel": {
           "align": "left"
          },
          "hovermode": "closest",
          "mapbox": {
           "style": "light"
          },
          "paper_bgcolor": "white",
          "plot_bgcolor": "#E5ECF6",
          "polar": {
           "angularaxis": {
            "gridcolor": "white",
            "linecolor": "white",
            "ticks": ""
           },
           "bgcolor": "#E5ECF6",
           "radialaxis": {
            "gridcolor": "white",
            "linecolor": "white",
            "ticks": ""
           }
          },
          "scene": {
           "xaxis": {
            "backgroundcolor": "#E5ECF6",
            "gridcolor": "white",
            "gridwidth": 2,
            "linecolor": "white",
            "showbackground": true,
            "ticks": "",
            "zerolinecolor": "white"
           },
           "yaxis": {
            "backgroundcolor": "#E5ECF6",
            "gridcolor": "white",
            "gridwidth": 2,
            "linecolor": "white",
            "showbackground": true,
            "ticks": "",
            "zerolinecolor": "white"
           },
           "zaxis": {
            "backgroundcolor": "#E5ECF6",
            "gridcolor": "white",
            "gridwidth": 2,
            "linecolor": "white",
            "showbackground": true,
            "ticks": "",
            "zerolinecolor": "white"
           }
          },
          "shapedefaults": {
           "line": {
            "color": "#2a3f5f"
           }
          },
          "ternary": {
           "aaxis": {
            "gridcolor": "white",
            "linecolor": "white",
            "ticks": ""
           },
           "baxis": {
            "gridcolor": "white",
            "linecolor": "white",
            "ticks": ""
           },
           "bgcolor": "#E5ECF6",
           "caxis": {
            "gridcolor": "white",
            "linecolor": "white",
            "ticks": ""
           }
          },
          "title": {
           "x": 0.05
          },
          "xaxis": {
           "automargin": true,
           "gridcolor": "white",
           "linecolor": "white",
           "ticks": "",
           "title": {
            "standoff": 15
           },
           "zerolinecolor": "white",
           "zerolinewidth": 2
          },
          "yaxis": {
           "automargin": true,
           "gridcolor": "white",
           "linecolor": "white",
           "ticks": "",
           "title": {
            "standoff": 15
           },
           "zerolinecolor": "white",
           "zerolinewidth": 2
          }
         }
        },
        "title": {
         "text": "Latent Distance View Space"
        },
        "xaxis": {
         "range": [
          1.5,
          12
         ],
         "title": {
          "text": "u1"
         }
        },
        "yaxis": {
         "range": [
          1.5,
          12
         ],
         "title": {
          "text": "u2"
         }
        }
       }
      },
      "text/html": [
       "<div>\n",
       "        \n",
       "        \n",
       "            <div id=\"df4581c9-eae8-4603-9e55-5e78393fbc4e\" class=\"plotly-graph-div\" style=\"height:400px; width:100%;\"></div>\n",
       "            <script type=\"text/javascript\">\n",
       "                require([\"plotly\"], function(Plotly) {\n",
       "                    window.PLOTLYENV=window.PLOTLYENV || {};\n",
       "                    \n",
       "                if (document.getElementById(\"df4581c9-eae8-4603-9e55-5e78393fbc4e\")) {\n",
       "                    Plotly.newPlot(\n",
       "                        'df4581c9-eae8-4603-9e55-5e78393fbc4e',\n",
       "                        [{\"mode\": \"markers\", \"type\": \"scatter\", \"x\": [2.0, 2.163265306122449, 2.326530612244898, 2.489795918367347, 2.6530612244897958, 2.816326530612245, 2.979591836734694, 3.142857142857143, 3.3061224489795915, 3.4693877551020407, 3.63265306122449, 3.7959183673469385, 3.9591836734693877, 4.122448979591836, 4.285714285714286, 4.448979591836734, 4.612244897959183, 4.775510204081632, 4.938775510204081, 5.1020408163265305, 5.26530612244898, 5.428571428571429, 5.591836734693877, 5.755102040816326, 5.918367346938775, 6.081632653061225, 6.244897959183673, 6.408163265306122, 6.571428571428571, 6.73469387755102, 6.897959183673469, 7.061224489795918, 7.224489795918367, 7.387755102040816, 7.551020408163265, 7.7142857142857135, 7.877551020408163, 8.040816326530612, 8.204081632653061, 8.367346938775508, 8.53061224489796, 8.693877551020407, 8.857142857142858, 9.020408163265305, 9.183673469387754, 9.346938775510203, 9.510204081632653, 9.673469387755102, 9.83673469387755, 10.0], \"y\": [2.0, 2.163265306122449, 2.326530612244898, 2.489795918367347, 2.6530612244897958, 2.816326530612245, 2.979591836734694, 3.142857142857143, 3.3061224489795915, 3.4693877551020407, 3.63265306122449, 3.7959183673469385, 3.9591836734693877, 4.122448979591836, 4.285714285714286, 4.448979591836734, 4.612244897959183, 4.775510204081632, 4.938775510204081, 5.1020408163265305, 5.26530612244898, 5.428571428571429, 5.591836734693877, 5.755102040816326, 5.918367346938775, 6.081632653061225, 6.244897959183673, 6.408163265306122, 6.571428571428571, 6.73469387755102, 6.897959183673469, 7.061224489795918, 7.224489795918367, 7.387755102040816, 7.551020408163265, 7.7142857142857135, 7.877551020408163, 8.040816326530612, 8.204081632653061, 8.367346938775508, 8.53061224489796, 8.693877551020407, 8.857142857142858, 9.020408163265305, 9.183673469387754, 9.346938775510203, 9.510204081632653, 9.673469387755102, 9.83673469387755, 10.0]}, {\"mode\": \"lines\", \"type\": \"scatter\", \"x\": [2.0, 2.163265306122449, 2.326530612244898, 2.489795918367347, 2.6530612244897958, 2.816326530612245, 2.979591836734694, 3.142857142857143, 3.3061224489795915, 3.4693877551020407, 3.63265306122449, 3.7959183673469385, 3.9591836734693877, 4.122448979591836, 4.285714285714286, 4.448979591836734, 4.612244897959183, 4.775510204081632, 4.938775510204081, 5.1020408163265305, 5.26530612244898, 5.428571428571429, 5.591836734693877, 5.755102040816326, 5.918367346938775, 6.081632653061225, 6.244897959183673, 6.408163265306122, 6.571428571428571, 6.73469387755102, 6.897959183673469, 7.061224489795918, 7.224489795918367, 7.387755102040816, 7.551020408163265, 7.7142857142857135, 7.877551020408163, 8.040816326530612, 8.204081632653061, 8.367346938775508, 8.53061224489796, 8.693877551020407, 8.857142857142858, 9.020408163265305, 9.183673469387754, 9.346938775510203, 9.510204081632653, 9.673469387755102, 9.83673469387755, 10.0], \"y\": [2.0, 2.163265306122449, 2.326530612244898, 2.489795918367347, 2.6530612244897958, 2.816326530612245, 2.979591836734694, 3.142857142857143, 3.3061224489795915, 3.4693877551020407, 3.63265306122449, 3.7959183673469385, 3.9591836734693877, 4.122448979591836, 4.285714285714286, 4.448979591836734, 4.612244897959183, 4.775510204081632, 4.938775510204081, 5.1020408163265305, 5.26530612244898, 5.428571428571429, 5.591836734693877, 5.755102040816326, 5.918367346938775, 6.081632653061225, 6.244897959183673, 6.408163265306122, 6.571428571428571, 6.73469387755102, 6.897959183673469, 7.061224489795918, 7.224489795918367, 7.387755102040816, 7.551020408163265, 7.7142857142857135, 7.877551020408163, 8.040816326530612, 8.204081632653061, 8.367346938775508, 8.53061224489796, 8.693877551020407, 8.857142857142858, 9.020408163265305, 9.183673469387754, 9.346938775510203, 9.510204081632653, 9.673469387755102, 9.83673469387755, 10.0]}, {\"mode\": \"lines\", \"type\": \"scatter\", \"x\": [2.0, 2.163265306122449, 2.326530612244898, 2.489795918367347, 2.6530612244897958, 2.816326530612245, 2.979591836734694, 3.142857142857143, 3.3061224489795915, 3.4693877551020407, 3.63265306122449, 3.7959183673469385, 3.9591836734693877, 4.122448979591836, 4.285714285714286, 4.448979591836734, 4.612244897959183, 4.775510204081632, 4.938775510204081, 5.1020408163265305, 5.26530612244898, 5.428571428571429, 5.591836734693877, 5.755102040816326, 5.918367346938775, 6.081632653061225, 6.244897959183673, 6.408163265306122, 6.571428571428571, 6.73469387755102, 6.897959183673469, 7.061224489795918, 7.224489795918367, 7.387755102040816, 7.551020408163265, 7.7142857142857135, 7.877551020408163, 8.040816326530612, 8.204081632653061, 8.367346938775508, 8.53061224489796, 8.693877551020407, 8.857142857142858, 9.020408163265305, 9.183673469387754, 9.346938775510203, 9.510204081632653, 9.673469387755102, 9.83673469387755, 10.0], \"y\": [2, 2, 2, 2, 2, 2, 2, 2, 2, 2, 2, 2, 2, 2, 2, 2, 2, 2, 2, 2, 2, 2, 2, 2, 2, 2, 2, 2, 2, 2, 2, 2, 2, 2, 2, 2, 2, 2, 2, 2, 2, 2, 2, 2, 2, 2, 2, 2, 2, 2, 2, 2, 2, 2, 2, 2, 2, 2, 2, 2, 2, 2, 2, 2, 2, 2, 2, 2, 2, 2, 2, 2, 2, 2, 2, 2, 2, 2, 2, 2, 2, 2, 2, 2, 2, 2, 2, 2, 2, 2, 2, 2, 2, 2, 2, 2, 2, 2, 2, 2]}, {\"mode\": \"lines\", \"type\": \"scatter\", \"x\": [2.6530612244897958, 2.816326530612245, 2.979591836734694, 3.142857142857143, 3.3061224489795915, 3.4693877551020407, 3.63265306122449, 3.7959183673469385, 3.9591836734693877, 4.122448979591836, 4.285714285714286, 4.448979591836734, 4.612244897959183, 4.775510204081632, 4.938775510204081, 5.1020408163265305, 5.26530612244898, 5.428571428571429, 5.591836734693877, 5.755102040816326], \"y\": [3.6530612244897958, 3.816326530612245, 3.979591836734694, 4.142857142857142, 4.3061224489795915, 4.469387755102041, 4.63265306122449, 4.795918367346939, 4.959183673469388, 5.122448979591836, 5.285714285714286, 5.448979591836734, 5.612244897959183, 5.775510204081632, 5.938775510204081, 6.1020408163265305, 6.26530612244898, 6.428571428571429, 6.591836734693877, 6.755102040816326, 6.918367346938775, 7.081632653061225, 7.244897959183673, 7.408163265306122, 7.571428571428571, 7.73469387755102, 7.897959183673469, 8.061224489795919, 8.224489795918366, 8.387755102040817, 8.551020408163264, 8.714285714285714, 8.877551020408163, 9.040816326530612, 9.204081632653061, 9.367346938775508, 9.53061224489796, 9.693877551020407, 9.857142857142858, 10.020408163265305, 10.183673469387754, 10.346938775510203, 10.510204081632653, 10.673469387755102, 10.83673469387755, 11.0]}],\n",
       "                        {\"annotations\": [{\"align\": \"center\", \"arrowcolor\": \"#636363\", \"arrowhead\": 2, \"arrowsize\": 1, \"arrowwidth\": 2, \"ax\": 20, \"ay\": -30, \"bgcolor\": \"orange\", \"bordercolor\": \"#c7c7c7\", \"borderpad\": 4, \"borderwidth\": 2, \"opacity\": 0.8, \"showarrow\": true, \"text\": \"A\", \"x\": 2, \"xref\": \"x\", \"y\": 2, \"yref\": \"y\"}, {\"align\": \"center\", \"arrowcolor\": \"#636363\", \"arrowhead\": 2, \"arrowsize\": 1, \"arrowwidth\": 2, \"ax\": 20, \"ay\": -30, \"bgcolor\": \"yellow\", \"bordercolor\": \"#c7c7c7\", \"borderpad\": 4, \"borderwidth\": 2, \"opacity\": 0.8, \"showarrow\": true, \"text\": \"B\", \"x\": 6, \"xref\": \"x\", \"y\": 6, \"yref\": \"y\"}, {\"ay\": -40, \"text\": \"d\", \"x\": 4, \"xref\": \"x\", \"y\": 5, \"yref\": \"y\"}, {\"ax\": 80, \"ay\": -10, \"text\": \"angle L\", \"x\": 2, \"xref\": \"x\", \"y\": 2, \"yref\": \"y\"}], \"height\": 400, \"showlegend\": false, \"template\": {\"data\": {\"bar\": [{\"error_x\": {\"color\": \"#2a3f5f\"}, \"error_y\": {\"color\": \"#2a3f5f\"}, \"marker\": {\"line\": {\"color\": \"#E5ECF6\", \"width\": 0.5}}, \"type\": \"bar\"}], \"barpolar\": [{\"marker\": {\"line\": {\"color\": \"#E5ECF6\", \"width\": 0.5}}, \"type\": \"barpolar\"}], \"carpet\": [{\"aaxis\": {\"endlinecolor\": \"#2a3f5f\", \"gridcolor\": \"white\", \"linecolor\": \"white\", \"minorgridcolor\": \"white\", \"startlinecolor\": \"#2a3f5f\"}, \"baxis\": {\"endlinecolor\": \"#2a3f5f\", \"gridcolor\": \"white\", \"linecolor\": \"white\", \"minorgridcolor\": \"white\", \"startlinecolor\": \"#2a3f5f\"}, \"type\": \"carpet\"}], \"choropleth\": [{\"colorbar\": {\"outlinewidth\": 0, \"ticks\": \"\"}, \"type\": \"choropleth\"}], \"contour\": [{\"colorbar\": {\"outlinewidth\": 0, \"ticks\": \"\"}, \"colorscale\": [[0.0, \"#0d0887\"], [0.1111111111111111, \"#46039f\"], [0.2222222222222222, \"#7201a8\"], [0.3333333333333333, \"#9c179e\"], [0.4444444444444444, \"#bd3786\"], [0.5555555555555556, \"#d8576b\"], [0.6666666666666666, \"#ed7953\"], [0.7777777777777778, \"#fb9f3a\"], [0.8888888888888888, \"#fdca26\"], [1.0, \"#f0f921\"]], \"type\": \"contour\"}], \"contourcarpet\": [{\"colorbar\": {\"outlinewidth\": 0, \"ticks\": \"\"}, \"type\": \"contourcarpet\"}], \"heatmap\": [{\"colorbar\": {\"outlinewidth\": 0, \"ticks\": \"\"}, \"colorscale\": [[0.0, \"#0d0887\"], [0.1111111111111111, \"#46039f\"], [0.2222222222222222, \"#7201a8\"], [0.3333333333333333, \"#9c179e\"], [0.4444444444444444, \"#bd3786\"], [0.5555555555555556, \"#d8576b\"], [0.6666666666666666, \"#ed7953\"], [0.7777777777777778, \"#fb9f3a\"], [0.8888888888888888, \"#fdca26\"], [1.0, \"#f0f921\"]], \"type\": \"heatmap\"}], \"heatmapgl\": [{\"colorbar\": {\"outlinewidth\": 0, \"ticks\": \"\"}, \"colorscale\": [[0.0, \"#0d0887\"], [0.1111111111111111, \"#46039f\"], [0.2222222222222222, \"#7201a8\"], [0.3333333333333333, \"#9c179e\"], [0.4444444444444444, \"#bd3786\"], [0.5555555555555556, \"#d8576b\"], [0.6666666666666666, \"#ed7953\"], [0.7777777777777778, \"#fb9f3a\"], [0.8888888888888888, \"#fdca26\"], [1.0, \"#f0f921\"]], \"type\": \"heatmapgl\"}], \"histogram\": [{\"marker\": {\"colorbar\": {\"outlinewidth\": 0, \"ticks\": \"\"}}, \"type\": \"histogram\"}], \"histogram2d\": [{\"colorbar\": {\"outlinewidth\": 0, \"ticks\": \"\"}, \"colorscale\": [[0.0, \"#0d0887\"], [0.1111111111111111, \"#46039f\"], [0.2222222222222222, \"#7201a8\"], [0.3333333333333333, \"#9c179e\"], [0.4444444444444444, \"#bd3786\"], [0.5555555555555556, \"#d8576b\"], [0.6666666666666666, \"#ed7953\"], [0.7777777777777778, \"#fb9f3a\"], [0.8888888888888888, \"#fdca26\"], [1.0, \"#f0f921\"]], \"type\": \"histogram2d\"}], \"histogram2dcontour\": [{\"colorbar\": {\"outlinewidth\": 0, \"ticks\": \"\"}, \"colorscale\": [[0.0, \"#0d0887\"], [0.1111111111111111, \"#46039f\"], [0.2222222222222222, \"#7201a8\"], [0.3333333333333333, \"#9c179e\"], [0.4444444444444444, \"#bd3786\"], [0.5555555555555556, \"#d8576b\"], [0.6666666666666666, \"#ed7953\"], [0.7777777777777778, \"#fb9f3a\"], [0.8888888888888888, \"#fdca26\"], [1.0, \"#f0f921\"]], \"type\": \"histogram2dcontour\"}], \"mesh3d\": [{\"colorbar\": {\"outlinewidth\": 0, \"ticks\": \"\"}, \"type\": \"mesh3d\"}], \"parcoords\": [{\"line\": {\"colorbar\": {\"outlinewidth\": 0, \"ticks\": \"\"}}, \"type\": \"parcoords\"}], \"pie\": [{\"automargin\": true, \"type\": \"pie\"}], \"scatter\": [{\"marker\": {\"colorbar\": {\"outlinewidth\": 0, \"ticks\": \"\"}}, \"type\": \"scatter\"}], \"scatter3d\": [{\"line\": {\"colorbar\": {\"outlinewidth\": 0, \"ticks\": \"\"}}, \"marker\": {\"colorbar\": {\"outlinewidth\": 0, \"ticks\": \"\"}}, \"type\": \"scatter3d\"}], \"scattercarpet\": [{\"marker\": {\"colorbar\": {\"outlinewidth\": 0, \"ticks\": \"\"}}, \"type\": \"scattercarpet\"}], \"scattergeo\": [{\"marker\": {\"colorbar\": {\"outlinewidth\": 0, \"ticks\": \"\"}}, \"type\": \"scattergeo\"}], \"scattergl\": [{\"marker\": {\"colorbar\": {\"outlinewidth\": 0, \"ticks\": \"\"}}, \"type\": \"scattergl\"}], \"scattermapbox\": [{\"marker\": {\"colorbar\": {\"outlinewidth\": 0, \"ticks\": \"\"}}, \"type\": \"scattermapbox\"}], \"scatterpolar\": [{\"marker\": {\"colorbar\": {\"outlinewidth\": 0, \"ticks\": \"\"}}, \"type\": \"scatterpolar\"}], \"scatterpolargl\": [{\"marker\": {\"colorbar\": {\"outlinewidth\": 0, \"ticks\": \"\"}}, \"type\": \"scatterpolargl\"}], \"scatterternary\": [{\"marker\": {\"colorbar\": {\"outlinewidth\": 0, \"ticks\": \"\"}}, \"type\": \"scatterternary\"}], \"surface\": [{\"colorbar\": {\"outlinewidth\": 0, \"ticks\": \"\"}, \"colorscale\": [[0.0, \"#0d0887\"], [0.1111111111111111, \"#46039f\"], [0.2222222222222222, \"#7201a8\"], [0.3333333333333333, \"#9c179e\"], [0.4444444444444444, \"#bd3786\"], [0.5555555555555556, \"#d8576b\"], [0.6666666666666666, \"#ed7953\"], [0.7777777777777778, \"#fb9f3a\"], [0.8888888888888888, \"#fdca26\"], [1.0, \"#f0f921\"]], \"type\": \"surface\"}], \"table\": [{\"cells\": {\"fill\": {\"color\": \"#EBF0F8\"}, \"line\": {\"color\": \"white\"}}, \"header\": {\"fill\": {\"color\": \"#C8D4E3\"}, \"line\": {\"color\": \"white\"}}, \"type\": \"table\"}]}, \"layout\": {\"annotationdefaults\": {\"arrowcolor\": \"#2a3f5f\", \"arrowhead\": 0, \"arrowwidth\": 1}, \"coloraxis\": {\"colorbar\": {\"outlinewidth\": 0, \"ticks\": \"\"}}, \"colorscale\": {\"diverging\": [[0, \"#8e0152\"], [0.1, \"#c51b7d\"], [0.2, \"#de77ae\"], [0.3, \"#f1b6da\"], [0.4, \"#fde0ef\"], [0.5, \"#f7f7f7\"], [0.6, \"#e6f5d0\"], [0.7, \"#b8e186\"], [0.8, \"#7fbc41\"], [0.9, \"#4d9221\"], [1, \"#276419\"]], \"sequential\": [[0.0, \"#0d0887\"], [0.1111111111111111, \"#46039f\"], [0.2222222222222222, \"#7201a8\"], [0.3333333333333333, \"#9c179e\"], [0.4444444444444444, \"#bd3786\"], [0.5555555555555556, \"#d8576b\"], [0.6666666666666666, \"#ed7953\"], [0.7777777777777778, \"#fb9f3a\"], [0.8888888888888888, \"#fdca26\"], [1.0, \"#f0f921\"]], \"sequentialminus\": [[0.0, \"#0d0887\"], [0.1111111111111111, \"#46039f\"], [0.2222222222222222, \"#7201a8\"], [0.3333333333333333, \"#9c179e\"], [0.4444444444444444, \"#bd3786\"], [0.5555555555555556, \"#d8576b\"], [0.6666666666666666, \"#ed7953\"], [0.7777777777777778, \"#fb9f3a\"], [0.8888888888888888, \"#fdca26\"], [1.0, \"#f0f921\"]]}, \"colorway\": [\"#636efa\", \"#EF553B\", \"#00cc96\", \"#ab63fa\", \"#FFA15A\", \"#19d3f3\", \"#FF6692\", \"#B6E880\", \"#FF97FF\", \"#FECB52\"], \"font\": {\"color\": \"#2a3f5f\"}, \"geo\": {\"bgcolor\": \"white\", \"lakecolor\": \"white\", \"landcolor\": \"#E5ECF6\", \"showlakes\": true, \"showland\": true, \"subunitcolor\": \"white\"}, \"hoverlabel\": {\"align\": \"left\"}, \"hovermode\": \"closest\", \"mapbox\": {\"style\": \"light\"}, \"paper_bgcolor\": \"white\", \"plot_bgcolor\": \"#E5ECF6\", \"polar\": {\"angularaxis\": {\"gridcolor\": \"white\", \"linecolor\": \"white\", \"ticks\": \"\"}, \"bgcolor\": \"#E5ECF6\", \"radialaxis\": {\"gridcolor\": \"white\", \"linecolor\": \"white\", \"ticks\": \"\"}}, \"scene\": {\"xaxis\": {\"backgroundcolor\": \"#E5ECF6\", \"gridcolor\": \"white\", \"gridwidth\": 2, \"linecolor\": \"white\", \"showbackground\": true, \"ticks\": \"\", \"zerolinecolor\": \"white\"}, \"yaxis\": {\"backgroundcolor\": \"#E5ECF6\", \"gridcolor\": \"white\", \"gridwidth\": 2, \"linecolor\": \"white\", \"showbackground\": true, \"ticks\": \"\", \"zerolinecolor\": \"white\"}, \"zaxis\": {\"backgroundcolor\": \"#E5ECF6\", \"gridcolor\": \"white\", \"gridwidth\": 2, \"linecolor\": \"white\", \"showbackground\": true, \"ticks\": \"\", \"zerolinecolor\": \"white\"}}, \"shapedefaults\": {\"line\": {\"color\": \"#2a3f5f\"}}, \"ternary\": {\"aaxis\": {\"gridcolor\": \"white\", \"linecolor\": \"white\", \"ticks\": \"\"}, \"baxis\": {\"gridcolor\": \"white\", \"linecolor\": \"white\", \"ticks\": \"\"}, \"bgcolor\": \"#E5ECF6\", \"caxis\": {\"gridcolor\": \"white\", \"linecolor\": \"white\", \"ticks\": \"\"}}, \"title\": {\"x\": 0.05}, \"xaxis\": {\"automargin\": true, \"gridcolor\": \"white\", \"linecolor\": \"white\", \"ticks\": \"\", \"title\": {\"standoff\": 15}, \"zerolinecolor\": \"white\", \"zerolinewidth\": 2}, \"yaxis\": {\"automargin\": true, \"gridcolor\": \"white\", \"linecolor\": \"white\", \"ticks\": \"\", \"title\": {\"standoff\": 15}, \"zerolinecolor\": \"white\", \"zerolinewidth\": 2}}}, \"title\": {\"text\": \"Latent Distance View Space\"}, \"xaxis\": {\"range\": [1.5, 12], \"title\": {\"text\": \"u1\"}}, \"yaxis\": {\"range\": [1.5, 12], \"title\": {\"text\": \"u2\"}}},\n",
       "                        {\"responsive\": true}\n",
       "                    ).then(function(){\n",
       "                            \n",
       "var gd = document.getElementById('df4581c9-eae8-4603-9e55-5e78393fbc4e');\n",
       "var x = new MutationObserver(function (mutations, observer) {{\n",
       "        var display = window.getComputedStyle(gd).display;\n",
       "        if (!display || display === 'none') {{\n",
       "            console.log([gd, 'removed!']);\n",
       "            Plotly.purge(gd);\n",
       "            observer.disconnect();\n",
       "        }}\n",
       "}});\n",
       "\n",
       "// Listen for the removal of the full notebook cells\n",
       "var notebookContainer = gd.closest('#notebook-container');\n",
       "if (notebookContainer) {{\n",
       "    x.observe(notebookContainer, {childList: true});\n",
       "}}\n",
       "\n",
       "// Listen for the clearing of the current output cell\n",
       "var outputEl = gd.closest('.output');\n",
       "if (outputEl) {{\n",
       "    x.observe(outputEl, {childList: true});\n",
       "}}\n",
       "\n",
       "                        })\n",
       "                };\n",
       "                });\n",
       "            </script>\n",
       "        </div>"
      ]
     },
     "metadata": {},
     "output_type": "display_data"
    }
   ],
   "source": [
    "random_y3 = [2 for i in range(100)]\n",
    "random_y4 = random_y2 + 1\n",
    "trace4 = go.Scatter(x = random_x[4:24], y = random_y4[4:300], mode=\"lines\")\n",
    "trace3 = go.Scatter(x = random_x, y = random_y3, mode=\"lines\")\n",
    "trace1 = go.Scatter(x = random_x, y = random_y1, mode=\"markers\")\n",
    "trace2 = go.Scatter(x = random_x, y = random_y2, mode=\"lines\")\n",
    "layout = go.Layout(xaxis=dict(title=\"u1\", range=(1.5,12)), yaxis=dict(title=\"u2\", range=(1.5,12)), height=400,\n",
    "                   annotations=[dict(x=2, y=2, xref='x', yref='y', text='A', showarrow=True, align='center', arrowhead=2, arrowsize=1, arrowwidth=2, \n",
    "                                     arrowcolor='#636363', ax=20, ay=-30, bordercolor='#c7c7c7', borderwidth=2, borderpad=4, bgcolor='orange', opacity=0.8), \n",
    "                                dict(x=6, y=6, xref='x', yref='y', text='B', showarrow=True, align='center', arrowhead=2, arrowsize=1, arrowwidth=2, arrowcolor='#636363',\n",
    "                                     ax=20, ay=-30, bordercolor='#c7c7c7', borderwidth=2, borderpad=4, bgcolor='yellow', opacity=0.8), dict(\n",
    "                                     x=4, y=5, xref='x', yref='y',text='d', ay=-40), \n",
    "                                dict(x=2, y=2, xref='x', yref='y', text='angle L', ax=80, ay=-10)], title=\"Latent Distance View Space\", showlegend=False)\n",
    "data = [trace1, trace2, trace3, trace4]\n",
    "figure = go.Figure(data = data, layout = layout)\n",
    "iplot(figure)"
   ]
  },
  {
   "cell_type": "markdown",
   "metadata": {},
   "source": [
    "그럼 $B$를 $A$와 $L$로 어떻게 표현될 수 있을까? 즉, 이 3개의 변수 간의 방정식은 어떻게 될까? 굳이 고정된 방정식이 없어도 **비지도 학습**으로 방정식을 구할 수 있다. 이를 **오토인코딩 관점**에서 이해해보자. 다음은 방정식을 구하기 위한 오토인코더이다. 고차원인 $x1$, $x2$에서 $d$로 축소되고 다시 $x1$과 $x2$로 변환된다.\n",
    "\n",
    "![autoencoder-represent](../img/autoencoder-represent.png)"
   ]
  },
  {
   "cell_type": "markdown",
   "metadata": {},
   "source": [
    "#### Step 1. 잠재 공간에 데이터 표현하기\n",
    "$A$와 $B$를 2차원 좌표로 표현하면 다음과 같다.\n",
    "\n",
    "* A : $(X1_A, X2_A)$\n",
    "* B : $(X1_B, X2_B)$\n",
    "\n",
    "이제 이를 잠재 공간에서는 다음과 같이 표현할 수 있다.\n",
    "\n",
    "* A : $(X1_A, X2_A) \\rightarrow (0, 0)$ \n",
    "* B : $(X1_B, X2_B) \\rightarrow (u1_B, u2_B)$\n",
    "\n",
    "$(u1_b, u2_B)$는 기준점과의 거리로 표현할 수 있다.\n",
    "\n",
    "* $u1_B = X1_B - X1_A$\n",
    "* $u2_B = X2_B - X2_A$\n",
    "\n",
    "#### Step 2. 거리 d와 각도 L로 데이터 표현하기\n",
    "이제 $u1_B$와 $u2_B$를 거리 $d$와 각도 $L$로 표현할 수 있다. 각도 $L$만큼 반대로 회전한다면 각도는 0이 될 것이다.\n",
    "\n",
    "$$(d, L) \\rightarrow (d, 0)$$\n",
    "\n",
    "이제 데이터가 낮은 차원으로 표현되어 있는 것을 볼 수 있다. 모든 계층의 가중치와 편향으로 나타내는 신경망을 고려하면 인코딩 과정은 다음의 방정식으로 표현할 수 있다. 이 때 $W$는 은닉층의 가중치 행렬이다.\n",
    "\n",
    "$$(d, 0) = W \\dot (u1_B, u2_B)$$\n",
    "\n",
    "인코딩 후의 **디코딩 과정**은 인코딩 과정을 정반대로 생각하면 된다.\n",
    "\n",
    "$$(u1_B,, u2_B) = Inverse(W) \\dot (d, 0)$$"
   ]
  },
  {
   "cell_type": "markdown",
   "metadata": {},
   "source": [
    "### 1.5. 데이터에 따른 규칙\n",
    "모든 유형의 데이터에 똑같은 규칙을 적용하여 저차원의 데이터로 나타내는 것은 아니다. 다음과 같은 데이터를 보자. 이런 유형의 데이터의 문제점은 **저차원으로 투영을 함과 동시에 원본으로 복구하기 힘들다**는 것이다. 아무리 이동하고 회전을 해도 원본으로 복구할 수 없다."
   ]
  },
  {
   "cell_type": "code",
   "execution_count": 4,
   "metadata": {
    "ExecuteTime": {
     "end_time": "2020-09-12T08:34:21.837406Z",
     "start_time": "2020-09-12T08:34:21.203104Z"
    }
   },
   "outputs": [
    {
     "data": {
      "image/png": "[encoded data removed]",
      "text/plain": [
       "<Figure size 1080x288 with 1 Axes>"
      ]
     },
     "metadata": {
      "needs_background": "light"
     },
     "output_type": "display_data"
    }
   ],
   "source": [
    "import matplotlib.pyplot as plt \n",
    "import numpy as np\n",
    "fs = 100 # sample rate \n",
    "f = 2 # the frequency of the signal\n",
    "x = np.arange(fs) # the points on the x axis for plotting\n",
    "y = [ np.sin(2*np.pi*f * (i/fs)) for i in x]\n",
    "\n",
    "%matplotlib inline\n",
    "plt.figure(figsize=(15,4))\n",
    "plt.stem(x,y, 'r', );\n",
    "plt.plot(x,y);"
   ]
  },
  {
   "cell_type": "markdown",
   "metadata": {},
   "source": [
    "이런 데이터의 경우 심층신경망(Deep Neural Network)로 공간을 구부려 선형 데이터를 만든다! 그렇기 때문에 오토인코더는 **은닉층(Hidden Layer)의 장점을 살려 저차원의 표현을 학습**할 수 있다.\n",
    "\n",
    "![fold-space](../img/fold-space.png)"
   ]
  },
  {
   "cell_type": "markdown",
   "metadata": {},
   "source": [
    "## 2. 구현하기\n",
    "### 2.1. 사용 예시 1: 이미지 재구성\n",
    "#### Imports"
   ]
  },
  {
   "cell_type": "code",
   "execution_count": 5,
   "metadata": {
    "ExecuteTime": {
     "end_time": "2020-09-12T08:34:30.549695Z",
     "start_time": "2020-09-12T08:34:21.838405Z"
    }
   },
   "outputs": [],
   "source": [
    "from tensorflow.keras.layers import Dense, Input, Conv2D, LSTM, MaxPool2D, UpSampling2D\n",
    "from sklearn.model_selection import train_test_split\n",
    "from tensorflow.keras.callbacks import EarlyStopping\n",
    "from tensorflow.keras.utils import to_categorical\n",
    "from numpy import argmax, array_equal\n",
    "import matplotlib.pyplot as plt\n",
    "from tensorflow.keras.models import Model\n",
    "from imgaug import augmenters\n",
    "from random import randint\n",
    "import pandas as pd\n",
    "import numpy as np"
   ]
  },
  {
   "cell_type": "markdown",
   "metadata": {},
   "source": [
    "#### Prepare dataset"
   ]
  },
  {
   "cell_type": "code",
   "execution_count": 6,
   "metadata": {
    "ExecuteTime": {
     "end_time": "2020-09-12T08:34:33.425032Z",
     "start_time": "2020-09-12T08:34:30.550692Z"
    }
   },
   "outputs": [],
   "source": [
    "# 데이터 로드\n",
    "train = pd.read_csv('../data/fashion-mnist_train.csv')\n",
    "\n",
    "# 입력과 라벨 데이터로 분리\n",
    "train_x = train[list(train.columns)[1:]].values\n",
    "train_y = train['label'].values"
   ]
  },
  {
   "cell_type": "code",
   "execution_count": 7,
   "metadata": {
    "ExecuteTime": {
     "end_time": "2020-09-12T08:34:34.461262Z",
     "start_time": "2020-09-12T08:34:33.426055Z"
    }
   },
   "outputs": [],
   "source": [
    "# 입력 데이터 0-1로 정규화\n",
    "train_x = train_x / 255\n",
    "\n",
    "# 학습/검증 데이터셋으로 분리\n",
    "train_x, val_x, train_y, val_y = train_test_split(train_x, train_y, test_size=0.2)\n",
    "\n",
    "# 1차원 데이터로 평탄화\n",
    "train_x = train_x.reshape(-1, 784)\n",
    "val_x = val_x.reshape(-1, 784)"
   ]
  },
  {
   "cell_type": "code",
   "execution_count": 8,
   "metadata": {
    "ExecuteTime": {
     "end_time": "2020-09-12T08:34:34.477188Z",
     "start_time": "2020-09-12T08:34:34.463225Z"
    }
   },
   "outputs": [
    {
     "name": "stdout",
     "output_type": "stream",
     "text": [
      "train_x의 크기 : (48000, 784)\n",
      "val_x의 크기 : (12000, 784)\n"
     ]
    }
   ],
   "source": [
    "print('train_x의 크기 :', train_x.shape)\n",
    "print('val_x의 크기 :', val_x.shape)"
   ]
  },
  {
   "cell_type": "markdown",
   "metadata": {},
   "source": [
    "#### Autoencoder Modeling"
   ]
  },
  {
   "cell_type": "code",
   "execution_count": 9,
   "metadata": {
    "ExecuteTime": {
     "end_time": "2020-09-12T08:34:35.405702Z",
     "start_time": "2020-09-12T08:34:34.479183Z"
    },
    "code_folding": []
   },
   "outputs": [],
   "source": [
    "############## 모델 정의 ##############\n",
    "# 입력층\n",
    "input_layer = Input(shape=(784, ))\n",
    "\n",
    "# 인코더\n",
    "encode_layer1 = Dense(1500, activation='relu')(input_layer)\n",
    "encode_layer2 = Dense(1000, activation='relu')(encode_layer1)\n",
    "encode_layer3 = Dense(500, activation='relu')(encode_layer2)\n",
    "\n",
    "# 잠재 특징\n",
    "latent_view = Dense(10, activation='sigmoid')(encode_layer3)\n",
    "\n",
    "# 디코더\n",
    "decode_layer1 = Dense(500, activation='relu')(latent_view)\n",
    "decode_layer2 = Dense(1000, activation='relu')(decode_layer1)\n",
    "decode_layer3 = Dense(1500, activation='relu')(decode_layer2)\n",
    "\n",
    "# 출력층\n",
    "output_layer = Dense(784)(decode_layer3)\n",
    "########################################\n",
    "\n",
    "model = Model(input_layer, output_layer)"
   ]
  },
  {
   "cell_type": "code",
   "execution_count": 10,
   "metadata": {
    "ExecuteTime": {
     "end_time": "2020-09-12T08:34:35.421660Z",
     "start_time": "2020-09-12T08:34:35.406702Z"
    }
   },
   "outputs": [
    {
     "name": "stdout",
     "output_type": "stream",
     "text": [
      "Model: \"functional_1\"\n",
      "_________________________________________________________________\n",
      "Layer (type)                 Output Shape              Param #   \n",
      "=================================================================\n",
      "input_1 (InputLayer)         [(None, 784)]             0         \n",
      "_________________________________________________________________\n",
      "dense (Dense)                (None, 1500)              1177500   \n",
      "_________________________________________________________________\n",
      "dense_1 (Dense)              (None, 1000)              1501000   \n",
      "_________________________________________________________________\n",
      "dense_2 (Dense)              (None, 500)               500500    \n",
      "_________________________________________________________________\n",
      "dense_3 (Dense)              (None, 10)                5010      \n",
      "_________________________________________________________________\n",
      "dense_4 (Dense)              (None, 500)               5500      \n",
      "_________________________________________________________________\n",
      "dense_5 (Dense)              (None, 1000)              501000    \n",
      "_________________________________________________________________\n",
      "dense_6 (Dense)              (None, 1500)              1501500   \n",
      "_________________________________________________________________\n",
      "dense_7 (Dense)              (None, 784)               1176784   \n",
      "=================================================================\n",
      "Total params: 6,368,794\n",
      "Trainable params: 6,368,794\n",
      "Non-trainable params: 0\n",
      "_________________________________________________________________\n"
     ]
    }
   ],
   "source": [
    "model.summary()"
   ]
  },
  {
   "cell_type": "markdown",
   "metadata": {},
   "source": [
    "#### Compile and train the model\n",
    "* `최적화 알고리즘` : Adam\n",
    "* `비용 함수` : MSE\n",
    "* `조기 종료 학습` : 10번까지 확인"
   ]
  },
  {
   "cell_type": "code",
   "execution_count": 11,
   "metadata": {
    "ExecuteTime": {
     "end_time": "2020-09-12T08:36:55.285936Z",
     "start_time": "2020-09-12T08:34:35.423656Z"
    }
   },
   "outputs": [
    {
     "name": "stdout",
     "output_type": "stream",
     "text": [
      "Epoch 1/20\n",
      "24/24 [==============================] - 5s 206ms/step - loss: 0.0962 - val_loss: 0.0704\n",
      "Epoch 2/20\n",
      "24/24 [==============================] - 5s 188ms/step - loss: 0.0646 - val_loss: 0.0580\n",
      "Epoch 3/20\n",
      "24/24 [==============================] - 4s 183ms/step - loss: 0.0505 - val_loss: 0.0443\n",
      "Epoch 4/20\n",
      "24/24 [==============================] - 9s 392ms/step - loss: 0.0420 - val_loss: 0.0394\n",
      "Epoch 5/20\n",
      "24/24 [==============================] - 5s 190ms/step - loss: 0.0381 - val_loss: 0.0371\n",
      "Epoch 6/20\n",
      "24/24 [==============================] - 8s 352ms/step - loss: 0.0357 - val_loss: 0.0349\n",
      "Epoch 7/20\n",
      "24/24 [==============================] - 5s 220ms/step - loss: 0.0326 - val_loss: 0.0310\n",
      "Epoch 8/20\n",
      "24/24 [==============================] - 6s 260ms/step - loss: 0.0295 - val_loss: 0.0283\n",
      "Epoch 9/20\n",
      "24/24 [==============================] - 8s 317ms/step - loss: 0.0269 - val_loss: 0.0260\n",
      "Epoch 10/20\n",
      "24/24 [==============================] - 5s 195ms/step - loss: 0.0253 - val_loss: 0.0249\n",
      "Epoch 11/20\n",
      "24/24 [==============================] - 10s 419ms/step - loss: 0.0246 - val_loss: 0.0241\n",
      "Epoch 12/20\n",
      "24/24 [==============================] - 5s 188ms/step - loss: 0.0234 - val_loss: 0.0263\n",
      "Epoch 13/20\n",
      "24/24 [==============================] - 10s 421ms/step - loss: 0.0230 - val_loss: 0.0223\n",
      "Epoch 14/20\n",
      "24/24 [==============================] - 5s 193ms/step - loss: 0.0219 - val_loss: 0.0223\n",
      "Epoch 15/20\n",
      "24/24 [==============================] - 10s 422ms/step - loss: 0.0212 - val_loss: 0.0213\n",
      "Epoch 16/20\n",
      "24/24 [==============================] - 5s 197ms/step - loss: 0.0208 - val_loss: 0.0205\n",
      "Epoch 17/20\n",
      "24/24 [==============================] - 10s 413ms/step - loss: 0.0202 - val_loss: 0.0201\n",
      "Epoch 18/20\n",
      "24/24 [==============================] - 5s 197ms/step - loss: 0.0198 - val_loss: 0.0195\n",
      "Epoch 19/20\n",
      "24/24 [==============================] - 8s 334ms/step - loss: 0.0194 - val_loss: 0.0199\n",
      "Epoch 20/20\n",
      "24/24 [==============================] - 6s 256ms/step - loss: 0.0191 - val_loss: 0.0188\n"
     ]
    },
    {
     "data": {
      "text/plain": [
       "<tensorflow.python.keras.callbacks.History at 0x2058032bf48>"
      ]
     },
     "execution_count": 11,
     "metadata": {},
     "output_type": "execute_result"
    }
   ],
   "source": [
    "# 모델 컴파일 및 학습\n",
    "model.compile(optimizer='adam', loss='mse')\n",
    "early_stopping = EarlyStopping(monitor='val_loss', min_delta=0, patience=10, verbose=1, mode='auto')\n",
    "model.fit(train_x, train_x, epochs=20, batch_size=2048, validation_data=(val_x, val_x), callbacks=[early_stopping])"
   ]
  },
  {
   "cell_type": "markdown",
   "metadata": {},
   "source": [
    "#### Predict"
   ]
  },
  {
   "cell_type": "code",
   "execution_count": 12,
   "metadata": {
    "ExecuteTime": {
     "end_time": "2020-09-12T08:36:57.552871Z",
     "start_time": "2020-09-12T08:36:55.286933Z"
    }
   },
   "outputs": [],
   "source": [
    "preds = model.predict(val_x)"
   ]
  },
  {
   "cell_type": "code",
   "execution_count": 13,
   "metadata": {
    "ExecuteTime": {
     "end_time": "2020-09-12T08:36:58.316828Z",
     "start_time": "2020-09-12T08:36:57.553869Z"
    }
   },
   "outputs": [
    {
     "data": {
      "image/png": "[encoded data removed]",
      "text/plain": [
       "<Figure size 5760x2880 with 5 Axes>"
      ]
     },
     "metadata": {
      "needs_background": "light"
     },
     "output_type": "display_data"
    }
   ],
   "source": [
    "# 원본 이미지\n",
    "from PIL import Image\n",
    "\n",
    "f, ax = plt.subplots(1, 5)\n",
    "f.set_size_inches(80, 40)\n",
    "for i in range(5):\n",
    "    ax[i].imshow(val_x[i].reshape(28, 28))\n",
    "plt.show()"
   ]
  },
  {
   "cell_type": "code",
   "execution_count": 14,
   "metadata": {
    "ExecuteTime": {
     "end_time": "2020-09-12T08:36:59.031914Z",
     "start_time": "2020-09-12T08:36:58.317854Z"
    }
   },
   "outputs": [
    {
     "data": {
      "image/png": "[encoded data removed]",
      "text/plain": [
       "<Figure size 5760x2880 with 5 Axes>"
      ]
     },
     "metadata": {
      "needs_background": "light"
     },
     "output_type": "display_data"
    }
   ],
   "source": [
    "# 오토인코더로 예측한 이미지\n",
    "f, ax = plt.subplots(1, 5)\n",
    "f.set_size_inches(80, 40)\n",
    "for i in range(5):\n",
    "    ax[i].imshow(preds[i].reshape(28, 28))\n",
    "plt.show()"
   ]
  },
  {
   "cell_type": "markdown",
   "metadata": {},
   "source": [
    "### 2.2. 사용 예시 2: 이미지 노이즈 제거\n",
    "이번 오토인코더는 **합성곱계층(Convolutional Layer)**를 사용한다. 왜냐하면 합성곱 신경망은 이미지 입력에 대해 매우 잘 작동하기 때문이다. 그러므로 합성곱 신경망의 입력으로 넣기 위해 $28*28$ 행렬로 변환해줘야 한다."
   ]
  },
  {
   "cell_type": "markdown",
   "metadata": {},
   "source": [
    "#### Prepare dataset"
   ]
  },
  {
   "cell_type": "code",
   "execution_count": 15,
   "metadata": {
    "ExecuteTime": {
     "end_time": "2020-09-12T08:37:00.066148Z",
     "start_time": "2020-09-12T08:36:59.032912Z"
    }
   },
   "outputs": [],
   "source": [
    "# 입력 데이터 추출 및 입력/검증 데이터셋 생성\n",
    "train_x = train[list(train.columns)[1:]].values\n",
    "train_x, val_x = train_test_split(train_x, test_size=0.2)\n",
    "\n",
    "# 정규화\n",
    "train_x = train_x/255\n",
    "val_x = val_x/255"
   ]
  },
  {
   "cell_type": "code",
   "execution_count": 16,
   "metadata": {
    "ExecuteTime": {
     "end_time": "2020-09-12T08:37:00.082106Z",
     "start_time": "2020-09-12T08:37:00.067146Z"
    }
   },
   "outputs": [
    {
     "name": "stdout",
     "output_type": "stream",
     "text": [
      "train_x의 크기 : (48000, 28, 28, 1)\n",
      "val_x의 크기 : (12000, 28, 28, 1)\n"
     ]
    }
   ],
   "source": [
    "# 28*28 행렬로 변환\n",
    "train_x = train_x.reshape(-1, 28, 28, 1)\n",
    "val_x = val_x.reshape(-1, 28, 28, 1)\n",
    "\n",
    "print('train_x의 크기 :', train_x.shape)\n",
    "print('val_x의 크기 :', val_x.shape)"
   ]
  },
  {
   "cell_type": "markdown",
   "metadata": {},
   "source": [
    "#### Add noise\n",
    "노이즈 제거를 위해 의도적으로 노이즈를 추가해준다. `imgaug` 패키지는 이미지에 노이즈를 생성해주는 유용한 도구를 제공한다. 생성할 수 있는 노이즈의 종류는 다음과 같다:\n",
    "* Salt and Pepper Noise\n",
    "* Gaussian Noise\n",
    "* Periodic Noise\n",
    "* Speckle Noise\n",
    "\n",
    "그 중 극단적으로 밝거나 어두운 픽셀을 생성하는 **Salt and Pepper Noise**를 추가해줄 것이다."
   ]
  },
  {
   "cell_type": "code",
   "execution_count": 17,
   "metadata": {
    "ExecuteTime": {
     "end_time": "2020-09-12T08:37:10.861268Z",
     "start_time": "2020-09-12T08:37:00.083104Z"
    }
   },
   "outputs": [],
   "source": [
    "# Salt and Pepper Noise 추가\n",
    "noise = augmenters.SaltAndPepper(0.1)\n",
    "seq_object = augmenters.Sequential([noise])\n",
    "\n",
    "train_x_n = seq_object.augment_images(train_x*255)/255\n",
    "val_x_n = seq_object.augment_images(val_x*255)/255"
   ]
  },
  {
   "cell_type": "code",
   "execution_count": 18,
   "metadata": {
    "ExecuteTime": {
     "end_time": "2020-09-12T08:37:11.623309Z",
     "start_time": "2020-09-12T08:37:10.864260Z"
    }
   },
   "outputs": [
    {
     "data": {
      "image/png": "[encoded data removed]",
      "text/plain": [
       "<Figure size 5760x2880 with 5 Axes>"
      ]
     },
     "metadata": {
      "needs_background": "light"
     },
     "output_type": "display_data"
    }
   ],
   "source": [
    "# 노이즈 추가하기 전\n",
    "f, ax = plt.subplots(1,5)\n",
    "f.set_size_inches(80, 40)\n",
    "for i in range(5,10):\n",
    "    ax[i-5].imshow(train_x[i].reshape(28, 28))\n",
    "plt.show()"
   ]
  },
  {
   "cell_type": "code",
   "execution_count": 19,
   "metadata": {
    "ExecuteTime": {
     "end_time": "2020-09-12T08:37:12.367318Z",
     "start_time": "2020-09-12T08:37:11.624306Z"
    }
   },
   "outputs": [
    {
     "data": {
      "image/png": "[encoded data removed]",
      "text/plain": [
       "<Figure size 5760x2880 with 5 Axes>"
      ]
     },
     "metadata": {
      "needs_background": "light"
     },
     "output_type": "display_data"
    }
   ],
   "source": [
    "# 노이즈 추가한 후 \n",
    "f, ax = plt.subplots(1,5)\n",
    "f.set_size_inches(80, 40)\n",
    "for i in range(5,10):\n",
    "    ax[i-5].imshow(train_x_n[i].reshape(28, 28))\n",
    "plt.show()"
   ]
  },
  {
   "cell_type": "markdown",
   "metadata": {},
   "source": [
    "#### Autoencoder Modeling\n",
    "* **Encoder** :  3개의 Convolution Layer와 3개의 Max Pooling Layer로 구성\n",
    "    * 활성화 함수로는 relu를 사용하고 `padding=same`으로 설정하여 이미지의 크기를 유지한다.\n",
    "    * Max Pooling Layer는 이미지의 차원을 다운샘플링(Down Sampling)하기 위해 사용된다.\n",
    "* **Decoder** : 3개의 Convolution Layer와 3개의 UpSamplling Layer로 구성\n",
    "    * 활성화 함수와 `padding` 설정은 인코더와 동일\n",
    "    * UpSampling Layer는 입력 데이터를 더 높은 차원으로 업샘플링(Up Sampling)하기 위해 사용된다."
   ]
  },
  {
   "cell_type": "code",
   "execution_count": 20,
   "metadata": {
    "ExecuteTime": {
     "end_time": "2020-09-12T08:37:12.446107Z",
     "start_time": "2020-09-12T08:37:12.368315Z"
    }
   },
   "outputs": [],
   "source": [
    "############## 모델 정의 ##############\n",
    "# 입력층\n",
    "input_layer = Input(shape=(28, 28, 1))\n",
    "\n",
    "# 인코더\n",
    "encoded_layer1 = Conv2D(64, (3, 3), activation='relu', padding='same')(input_layer)\n",
    "encoded_layer1 = MaxPool2D((2, 2), padding='same')(encoded_layer1)\n",
    "encoded_layer2 = Conv2D(32, (3, 3), activation='relu', padding='same')(encoded_layer1)\n",
    "encoded_layer2 = MaxPool2D((2, 2), padding='same')(encoded_layer2)\n",
    "encoded_layer3 = Conv2D(16, (3, 3), activation='relu', padding='same')(encoded_layer2)\n",
    "\n",
    "# 잠재 특징\n",
    "latent_view = MaxPool2D((2, 2), padding='same')(encoded_layer3)\n",
    "\n",
    "# 디코더\n",
    "decoded_layer1 = Conv2D(16, (3, 3), activation='relu', padding='same')(latent_view)\n",
    "decoded_layer1 = UpSampling2D((2, 2))(decoded_layer1)\n",
    "decoded_layer2 = Conv2D(32, (3, 3), activation='relu', padding='same')(decoded_layer1)\n",
    "decoded_layer2 = UpSampling2D((2, 2))(decoded_layer2)\n",
    "decoded_layer3 = Conv2D(64, (3, 3), activation='relu')(decoded_layer2)\n",
    "decoded_layer3 = UpSampling2D((2, 2))(decoded_layer3)\n",
    "\n",
    "# 출력층\n",
    "output_layer = Conv2D(1, (3, 3), padding='same')(decoded_layer3)\n",
    "########################################\n",
    "\n",
    "# 모델 컴파일\n",
    "model_2 = Model(input_layer, output_layer)\n",
    "model_2.compile(optimizer='adam', loss='mse')"
   ]
  },
  {
   "cell_type": "code",
   "execution_count": 21,
   "metadata": {
    "ExecuteTime": {
     "end_time": "2020-09-12T08:37:12.462064Z",
     "start_time": "2020-09-12T08:37:12.447104Z"
    }
   },
   "outputs": [
    {
     "name": "stdout",
     "output_type": "stream",
     "text": [
      "Model: \"functional_3\"\n",
      "_________________________________________________________________\n",
      "Layer (type)                 Output Shape              Param #   \n",
      "=================================================================\n",
      "input_2 (InputLayer)         [(None, 28, 28, 1)]       0         \n",
      "_________________________________________________________________\n",
      "conv2d (Conv2D)              (None, 28, 28, 64)        640       \n",
      "_________________________________________________________________\n",
      "max_pooling2d (MaxPooling2D) (None, 14, 14, 64)        0         \n",
      "_________________________________________________________________\n",
      "conv2d_1 (Conv2D)            (None, 14, 14, 32)        18464     \n",
      "_________________________________________________________________\n",
      "max_pooling2d_1 (MaxPooling2 (None, 7, 7, 32)          0         \n",
      "_________________________________________________________________\n",
      "conv2d_2 (Conv2D)            (None, 7, 7, 16)          4624      \n",
      "_________________________________________________________________\n",
      "max_pooling2d_2 (MaxPooling2 (None, 4, 4, 16)          0         \n",
      "_________________________________________________________________\n",
      "conv2d_3 (Conv2D)            (None, 4, 4, 16)          2320      \n",
      "_________________________________________________________________\n",
      "up_sampling2d (UpSampling2D) (None, 8, 8, 16)          0         \n",
      "_________________________________________________________________\n",
      "conv2d_4 (Conv2D)            (None, 8, 8, 32)          4640      \n",
      "_________________________________________________________________\n",
      "up_sampling2d_1 (UpSampling2 (None, 16, 16, 32)        0         \n",
      "_________________________________________________________________\n",
      "conv2d_5 (Conv2D)            (None, 14, 14, 64)        18496     \n",
      "_________________________________________________________________\n",
      "up_sampling2d_2 (UpSampling2 (None, 28, 28, 64)        0         \n",
      "_________________________________________________________________\n",
      "conv2d_6 (Conv2D)            (None, 28, 28, 1)         577       \n",
      "=================================================================\n",
      "Total params: 49,761\n",
      "Trainable params: 49,761\n",
      "Non-trainable params: 0\n",
      "_________________________________________________________________\n"
     ]
    }
   ],
   "source": [
    "model_2.summary()"
   ]
  },
  {
   "cell_type": "markdown",
   "metadata": {},
   "source": [
    "#### Train the model"
   ]
  },
  {
   "cell_type": "code",
   "execution_count": 22,
   "metadata": {
    "ExecuteTime": {
     "end_time": "2020-09-12T08:57:47.834556Z",
     "start_time": "2020-09-12T08:37:12.463062Z"
    }
   },
   "outputs": [
    {
     "name": "stdout",
     "output_type": "stream",
     "text": [
      "Epoch 1/20\n",
      "24/24 [==============================] - 62s 3s/step - loss: 0.1026 - val_loss: 0.0616\n",
      "Epoch 2/20\n",
      "24/24 [==============================] - 61s 3s/step - loss: 0.0490 - val_loss: 0.0395\n",
      "Epoch 3/20\n",
      "24/24 [==============================] - 58s 2s/step - loss: 0.0360 - val_loss: 0.0329\n",
      "Epoch 4/20\n",
      "24/24 [==============================] - 60s 3s/step - loss: 0.0307 - val_loss: 0.0285\n",
      "Epoch 5/20\n",
      "24/24 [==============================] - 59s 2s/step - loss: 0.0270 - val_loss: 0.0255\n",
      "Epoch 6/20\n",
      "24/24 [==============================] - 62s 3s/step - loss: 0.0246 - val_loss: 0.0236\n",
      "Epoch 7/20\n",
      "24/24 [==============================] - 59s 2s/step - loss: 0.0230 - val_loss: 0.0223\n",
      "Epoch 8/20\n",
      "24/24 [==============================] - 58s 2s/step - loss: 0.0218 - val_loss: 0.0214\n",
      "Epoch 9/20\n",
      "24/24 [==============================] - 58s 2s/step - loss: 0.0211 - val_loss: 0.0208\n",
      "Epoch 10/20\n",
      "24/24 [==============================] - 58s 2s/step - loss: 0.0204 - val_loss: 0.0203\n",
      "Epoch 11/20\n",
      "24/24 [==============================] - 60s 3s/step - loss: 0.0200 - val_loss: 0.0197\n",
      "Epoch 12/20\n",
      "24/24 [==============================] - 60s 2s/step - loss: 0.0194 - val_loss: 0.0192\n",
      "Epoch 13/20\n",
      "24/24 [==============================] - 58s 2s/step - loss: 0.0192 - val_loss: 0.0190\n",
      "Epoch 14/20\n",
      "24/24 [==============================] - 58s 2s/step - loss: 0.0187 - val_loss: 0.0185\n",
      "Epoch 15/20\n",
      "24/24 [==============================] - 58s 2s/step - loss: 0.0184 - val_loss: 0.0182\n",
      "Epoch 16/20\n",
      "24/24 [==============================] - 58s 2s/step - loss: 0.0181 - val_loss: 0.0187\n",
      "Epoch 17/20\n",
      "24/24 [==============================] - 58s 2s/step - loss: 0.0182 - val_loss: 0.0178\n",
      "Epoch 18/20\n",
      "24/24 [==============================] - 58s 2s/step - loss: 0.0176 - val_loss: 0.0175\n",
      "Epoch 19/20\n",
      "24/24 [==============================] - 58s 2s/step - loss: 0.0174 - val_loss: 0.0174\n",
      "Epoch 20/20\n",
      "24/24 [==============================] - 61s 3s/step - loss: 0.0172 - val_loss: 0.0174\n"
     ]
    }
   ],
   "source": [
    "early_stopping = EarlyStopping(monitor='val_loss', min_delta=0, patience=10, verbose=5, mode='auto')\n",
    "history = model_2.fit(train_x_n, train_x, epochs=20, batch_size=2048, validation_data=(val_x_n, val_x), callbacks=[early_stopping])"
   ]
  },
  {
   "cell_type": "markdown",
   "metadata": {},
   "source": [
    "#### Predict"
   ]
  },
  {
   "cell_type": "code",
   "execution_count": 23,
   "metadata": {
    "ExecuteTime": {
     "end_time": "2020-09-12T08:57:48.949574Z",
     "start_time": "2020-09-12T08:57:47.838545Z"
    }
   },
   "outputs": [
    {
     "data": {
      "image/png": "[encoded data removed]",
      "text/plain": [
       "<Figure size 5760x2880 with 5 Axes>"
      ]
     },
     "metadata": {
      "needs_background": "light"
     },
     "output_type": "display_data"
    }
   ],
   "source": [
    "# 노이즈가 낀 검증 데이터\n",
    "f, ax = plt.subplots(1,5)\n",
    "f.set_size_inches(80, 40)\n",
    "for i in range(5,10):\n",
    "    ax[i-5].imshow(val_x_n[i].reshape(28, 28))\n",
    "plt.show()"
   ]
  },
  {
   "cell_type": "code",
   "execution_count": 24,
   "metadata": {
    "ExecuteTime": {
     "end_time": "2020-09-12T08:57:49.982888Z",
     "start_time": "2020-09-12T08:57:48.951569Z"
    }
   },
   "outputs": [
    {
     "data": {
      "image/png": "[encoded data removed]",
      "text/plain": [
       "<Figure size 5760x2880 with 5 Axes>"
      ]
     },
     "metadata": {
      "needs_background": "light"
     },
     "output_type": "display_data"
    }
   ],
   "source": [
    "# 오토인코딩 후 검증 데이터\n",
    "preds = model_2.predict(val_x_n[:10])\n",
    "f, ax = plt.subplots(1,5)\n",
    "f.set_size_inches(80, 40)\n",
    "for i in range(5,10):\n",
    "    ax[i-5].imshow(preds[i].reshape(28, 28))\n",
    "plt.show()"
   ]
  },
  {
   "cell_type": "markdown",
   "metadata": {},
   "source": [
    "### 2.3. 사용 사례 3: Seq2Seq 예측\n",
    "앞의 사례와는 달리 **1차원의 시퀀스 데이터**를 사용한다. 시퀀스 데이터로는 시계열 데이터와 문자열 데이터가 있다. CNN을 사용한 이미지 데이터와는 달리 여기서는 **LSTM**을 사용한다.\n",
    "\n",
    "> `💡 참고`\n",
    "> * [Pytorch FastCampus - RNN](https://github.com/GunhoChoi/PyTorch-FastCampus/blob/master/05_RNN/RNN.pdf) \n",
    "> * [부스트코스 Pytorch - Seq2Seq](https://github.com/CoodingPenguin/boostcourse-dl-pytorch/blob/master/Part%204.%20Recurrent%20Neural%20Network/Part%204.5.%20RNN%20Seq2Seq.ipynb)"
   ]
  },
  {
   "cell_type": "markdown",
   "metadata": {},
   "source": [
    "#### Create dataset\n",
    "고정된 길이의 무작위 시퀀스를 포함하는 시퀀스 데이터셋를 생성한다.\n",
    "\n",
    "* `X1` : 난수를 포함하는 입력 시퀀스\n",
    "* `X2` : 시퀀스의 다른 요소를 재생산하기 위해 시드로 사용되는 패딩 시퀀스\n",
    "* `y` : 대사 시퀀스 또는 실제 시퀀스"
   ]
  },
  {
   "cell_type": "code",
   "execution_count": 25,
   "metadata": {
    "ExecuteTime": {
     "end_time": "2020-09-12T08:57:49.998840Z",
     "start_time": "2020-09-12T08:57:49.983853Z"
    }
   },
   "outputs": [],
   "source": [
    "def dataset_preparation(n_in, n_out, n_unique, n_samples):\n",
    "    X1, X2, y = [], [], []\n",
    "    for _ in range(n_samples):\n",
    "        # 임의의 숫자로 된 시퀀스 생성\n",
    "        input_seq = [randint(1, n_unique-1) for _ in range(n_in)]\n",
    "        \n",
    "        # 타겟 시퀀스 생성\n",
    "        target = input_seq[:n_out]\n",
    "        \n",
    "        # 패딩된 시드 시퀀스 생성\n",
    "        target_seq = list(reversed(target))\n",
    "        seed_seq = [0] + target_seq[:-1]\n",
    "        \n",
    "        # 카테고리형 변수로 변환\n",
    "        X1.append(to_categorical([input_seq], num_classes=n_unique))\n",
    "        X2.append(to_categorical([seed_seq], num_classes=n_unique))\n",
    "        y.append(to_categorical([target_seq], num_classes=n_unique))\n",
    "        \n",
    "    # 불필요한 차원 제거\n",
    "    X1 = np.squeeze(np.array(X1), axis=1)\n",
    "    X2 = np.squeeze(np.array(X2), axis=1)\n",
    "    y = np.squeeze(np.array(y), axis=1)\n",
    "    \n",
    "    return X1, X2, y"
   ]
  },
  {
   "cell_type": "code",
   "execution_count": 26,
   "metadata": {
    "ExecuteTime": {
     "end_time": "2020-09-12T08:57:50.014930Z",
     "start_time": "2020-09-12T08:57:49.999810Z"
    }
   },
   "outputs": [],
   "source": [
    "# 파라미터 설정\n",
    "samples = 100000\n",
    "features = 51\n",
    "input_size = 6\n",
    "output_size = 3"
   ]
  },
  {
   "cell_type": "code",
   "execution_count": 27,
   "metadata": {
    "ExecuteTime": {
     "end_time": "2020-09-12T08:57:54.345034Z",
     "start_time": "2020-09-12T08:57:50.015930Z"
    }
   },
   "outputs": [
    {
     "name": "stdout",
     "output_type": "stream",
     "text": [
      "데이터 크기 : (100000, 6, 51) (100000, 3, 51) (100000, 3, 51)\n",
      "카테고리형으로 인코딩된 첫 번째 입력 시퀀스의 형태 :\n"
     ]
    },
    {
     "data": {
      "text/plain": [
       "array([0., 0., 0., 0., 0., 0., 0., 0., 0., 0., 0., 0., 0., 0., 0., 0., 0.,\n",
       "       0., 1., 0., 0., 0., 0., 0., 0., 0., 0., 0., 0., 0., 0., 0., 0., 0.,\n",
       "       0., 0., 0., 0., 0., 0., 0., 0., 0., 0., 0., 0., 0., 0., 0., 0., 0.],\n",
       "      dtype=float32)"
      ]
     },
     "execution_count": 27,
     "metadata": {},
     "output_type": "execute_result"
    }
   ],
   "source": [
    "inputs, seeds, outputs = dataset_preparation(input_size, output_size, features, samples)\n",
    "print('데이터 크기 :', inputs.shape, seeds.shape, outputs.shape)\n",
    "print('카테고리형으로 인코딩된 첫 번째 입력 시퀀스의 형태 :')\n",
    "inputs[0][0]"
   ]
  },
  {
   "cell_type": "markdown",
   "metadata": {},
   "source": [
    "#### Autoencoder Modeling"
   ]
  },
  {
   "cell_type": "code",
   "execution_count": 28,
   "metadata": {
    "ExecuteTime": {
     "end_time": "2020-09-12T08:57:54.360986Z",
     "start_time": "2020-09-12T08:57:54.345993Z"
    }
   },
   "outputs": [],
   "source": [
    "def define_models(n_input, n_output):\n",
    "    ############ 인코더 정의 ############\n",
    "    # 입력: 시퀀스\n",
    "    # 출력: 인코딩 상태\n",
    "    encoder_inputs = Input(shape=(None, n_input))\n",
    "    encoder = LSTM(128, return_state=True)\n",
    "    encoder_outputs, state_h, state_c = encoder(encoder_inputs)\n",
    "    encoder_states = [state_h, state_c]\n",
    "    encoder_model = Model(encoder_inputs, encoder_states)\n",
    "    #####################################\n",
    "    \n",
    "    ############# 모델 정의 #############\n",
    "    # 입력: 시드 시퀀스\n",
    "    # 출력: 디코딩 상태, 디코딩 출력\n",
    "    decoder_inputs = Input(shape=(None, n_output))\n",
    "    decoder_lstm = LSTM(128, return_sequences=True, return_state=True)\n",
    "    decoder_outputs, _, _ = decoder_lstm(decoder_inputs, initial_state=encoder_states)\n",
    "    decoder_dense = Dense(n_output, activation='softmax')\n",
    "    decoder_outputs = decoder_dense(decoder_outputs)\n",
    "    model = Model([encoder_inputs, decoder_inputs], decoder_outputs)\n",
    "    #####################################\n",
    "    \n",
    "    ############ 디코더 정의 ############\n",
    "    # 입력: 현재 상태 + 인코딩 시퀀스\n",
    "    # 출력: 디코딩 시퀀스\n",
    "    decoder_state_input_h = Input(shape=(128,))\n",
    "    decoder_state_input_c = Input(shape=(128,))\n",
    "    decoder_states_inputs = [decoder_state_input_h, decoder_state_input_c]\n",
    "    decoder_outputs, state_h, state_c = decoder_lstm(decoder_inputs, initial_state=decoder_states_inputs)\n",
    "    decoder_states = [state_h, state_c]\n",
    "    decoder_outputs = decoder_dense(decoder_outputs)\n",
    "    decoder_model = Model([decoder_inputs] + decoder_states_inputs, [decoder_outputs] + decoder_states)\n",
    "    #####################################\n",
    "    \n",
    "    return model, encoder_model, decoder_model"
   ]
  },
  {
   "cell_type": "code",
   "execution_count": 29,
   "metadata": {
    "ExecuteTime": {
     "end_time": "2020-09-12T08:57:55.093688Z",
     "start_time": "2020-09-12T08:57:54.361950Z"
    }
   },
   "outputs": [],
   "source": [
    "autoencoder, encoder_model, decoder_model = define_models(features, features)"
   ]
  },
  {
   "cell_type": "code",
   "execution_count": 30,
   "metadata": {
    "ExecuteTime": {
     "end_time": "2020-09-12T08:57:55.109665Z",
     "start_time": "2020-09-12T08:57:55.094704Z"
    }
   },
   "outputs": [
    {
     "name": "stdout",
     "output_type": "stream",
     "text": [
      "Model: \"functional_5\"\n",
      "_________________________________________________________________\n",
      "Layer (type)                 Output Shape              Param #   \n",
      "=================================================================\n",
      "input_3 (InputLayer)         [(None, None, 51)]        0         \n",
      "_________________________________________________________________\n",
      "lstm (LSTM)                  [(None, 128), (None, 128) 92160     \n",
      "=================================================================\n",
      "Total params: 92,160\n",
      "Trainable params: 92,160\n",
      "Non-trainable params: 0\n",
      "_________________________________________________________________\n"
     ]
    }
   ],
   "source": [
    "encoder_model.summary()"
   ]
  },
  {
   "cell_type": "code",
   "execution_count": 31,
   "metadata": {
    "ExecuteTime": {
     "end_time": "2020-09-12T08:57:55.125623Z",
     "start_time": "2020-09-12T08:57:55.110705Z"
    }
   },
   "outputs": [
    {
     "name": "stdout",
     "output_type": "stream",
     "text": [
      "Model: \"functional_9\"\n",
      "__________________________________________________________________________________________________\n",
      "Layer (type)                    Output Shape         Param #     Connected to                     \n",
      "==================================================================================================\n",
      "input_4 (InputLayer)            [(None, None, 51)]   0                                            \n",
      "__________________________________________________________________________________________________\n",
      "input_5 (InputLayer)            [(None, 128)]        0                                            \n",
      "__________________________________________________________________________________________________\n",
      "input_6 (InputLayer)            [(None, 128)]        0                                            \n",
      "__________________________________________________________________________________________________\n",
      "lstm_1 (LSTM)                   [(None, None, 128),  92160       input_4[0][0]                    \n",
      "                                                                 input_5[0][0]                    \n",
      "                                                                 input_6[0][0]                    \n",
      "__________________________________________________________________________________________________\n",
      "dense_8 (Dense)                 (None, None, 51)     6579        lstm_1[1][0]                     \n",
      "==================================================================================================\n",
      "Total params: 98,739\n",
      "Trainable params: 98,739\n",
      "Non-trainable params: 0\n",
      "__________________________________________________________________________________________________\n"
     ]
    }
   ],
   "source": [
    "decoder_model.summary()"
   ]
  },
  {
   "cell_type": "code",
   "execution_count": 32,
   "metadata": {
    "ExecuteTime": {
     "end_time": "2020-09-12T08:57:55.141580Z",
     "start_time": "2020-09-12T08:57:55.126620Z"
    }
   },
   "outputs": [
    {
     "name": "stdout",
     "output_type": "stream",
     "text": [
      "Model: \"functional_7\"\n",
      "__________________________________________________________________________________________________\n",
      "Layer (type)                    Output Shape         Param #     Connected to                     \n",
      "==================================================================================================\n",
      "input_3 (InputLayer)            [(None, None, 51)]   0                                            \n",
      "__________________________________________________________________________________________________\n",
      "input_4 (InputLayer)            [(None, None, 51)]   0                                            \n",
      "__________________________________________________________________________________________________\n",
      "lstm (LSTM)                     [(None, 128), (None, 92160       input_3[0][0]                    \n",
      "__________________________________________________________________________________________________\n",
      "lstm_1 (LSTM)                   [(None, None, 128),  92160       input_4[0][0]                    \n",
      "                                                                 lstm[0][1]                       \n",
      "                                                                 lstm[0][2]                       \n",
      "__________________________________________________________________________________________________\n",
      "dense_8 (Dense)                 (None, None, 51)     6579        lstm_1[0][0]                     \n",
      "==================================================================================================\n",
      "Total params: 190,899\n",
      "Trainable params: 190,899\n",
      "Non-trainable params: 0\n",
      "__________________________________________________________________________________________________\n"
     ]
    }
   ],
   "source": [
    "autoencoder.summary()"
   ]
  },
  {
   "cell_type": "markdown",
   "metadata": {},
   "source": [
    "#### Predict"
   ]
  },
  {
   "cell_type": "code",
   "execution_count": 33,
   "metadata": {
    "ExecuteTime": {
     "end_time": "2020-09-12T08:57:55.157537Z",
     "start_time": "2020-09-12T08:57:55.142577Z"
    }
   },
   "outputs": [],
   "source": [
    "# 원-핫 인코딩된 시퀀스를 디코딩\n",
    "def reverse_onehot(encoded_seq):\n",
    "    return [argmax(vector) for vector in encoded_seq]"
   ]
  },
  {
   "cell_type": "code",
   "execution_count": 36,
   "metadata": {
    "ExecuteTime": {
     "end_time": "2020-09-12T09:40:41.301294Z",
     "start_time": "2020-09-12T09:40:41.289326Z"
    }
   },
   "outputs": [],
   "source": [
    "# 시퀀스 예측\n",
    "def predict_sequence(encoder, decoder, sequence):\n",
    "    output = []\n",
    "    target_seq = np.array([0.0 for _ in range(features)])\n",
    "    target_seq = target_seq.reshape(1, 1, features)\n",
    "\n",
    "    current_state = encoder.predict(sequence)\n",
    "    for t in range(output_size):\n",
    "        pred, h, c = decoder.predict([target_seq] + current_state)\n",
    "        output.append(pred[0, 0, :])\n",
    "        current_state = [h, c]\n",
    "        target_seq = pred\n",
    "    return np.array(output)"
   ]
  },
  {
   "cell_type": "code",
   "execution_count": 37,
   "metadata": {
    "ExecuteTime": {
     "end_time": "2020-09-12T09:40:43.941369Z",
     "start_time": "2020-09-12T09:40:42.965262Z"
    }
   },
   "outputs": [
    {
     "name": "stdout",
     "output_type": "stream",
     "text": [
      "\n",
      "Input Sequence=[29, 22, 8, 12, 1, 46], SeedSequence=[8, 22, 29], PredictedSequence=[32, 32, 33]\n",
      "\n",
      "Input Sequence=[19, 40, 46, 28, 39, 17], SeedSequence=[46, 40, 19], PredictedSequence=[6, 6, 11]\n",
      "\n",
      "Input Sequence=[31, 23, 33, 8, 6, 25], SeedSequence=[33, 23, 31], PredictedSequence=[45, 47, 47]\n",
      "\n",
      "Input Sequence=[43, 3, 9, 16, 25, 45], SeedSequence=[9, 3, 43], PredictedSequence=[6, 6, 38]\n",
      "\n",
      "Input Sequence=[30, 20, 33, 9, 49, 43], SeedSequence=[33, 20, 30], PredictedSequence=[17, 17, 17]\n"
     ]
    }
   ],
   "source": [
    "for k in range(5):\n",
    "    X1, X2, y = dataset_preparation(input_size, output_size, features, 1)\n",
    "    target = predict_sequence(encoder_model, decoder_model, X1)\n",
    "    print('\\nInput Sequence={}, SeedSequence={}, PredictedSequence={}'.format(reverse_onehot(X1[0]), \n",
    "                                                                             reverse_onehot(y[0]), \n",
    "                                                                             reverse_onehot(target)))"
   ]
  }
 ],
 "metadata": {
  "kernelspec": {
   "display_name": "Python 3",
   "language": "python",
   "name": "python3"
  },
  "language_info": {
   "codemirror_mode": {
    "name": "ipython",
    "version": 3
   },
   "file_extension": ".py",
   "mimetype": "text/x-python",
   "name": "python",
   "nbconvert_exporter": "python",
   "pygments_lexer": "ipython3",
   "version": "3.7.7"
  },
  "toc": {
   "base_numbering": 1,
   "nav_menu": {},
   "number_sections": false,
   "sideBar": true,
   "skip_h1_title": false,
   "title_cell": "Table of Contents",
   "title_sidebar": "Contents",
   "toc_cell": false,
   "toc_position": {
    "height": "calc(100% - 180px)",
    "left": "10px",
    "top": "150px",
    "width": "165px"
   },
   "toc_section_display": true,
   "toc_window_display": false
  },
  "varInspector": {
   "cols": {
    "lenName": 16,
    "lenType": 16,
    "lenVar": 40
   },
   "kernels_config": {
    "python": {
     "delete_cmd_postfix": "",
     "delete_cmd_prefix": "del ",
     "library": "var_list.py",
     "varRefreshCmd": "print(var_dic_list())"
    },
    "r": {
     "delete_cmd_postfix": ") ",
     "delete_cmd_prefix": "rm(",
     "library": "var_list.r",
     "varRefreshCmd": "cat(var_dic_list()) "
    }
   },
   "types_to_exclude": [
    "module",
    "function",
    "builtin_function_or_method",
    "instance",
    "_Feature"
   ],
   "window_display": false
  }
 },
 "nbformat": 4,
 "nbformat_minor": 4
}
