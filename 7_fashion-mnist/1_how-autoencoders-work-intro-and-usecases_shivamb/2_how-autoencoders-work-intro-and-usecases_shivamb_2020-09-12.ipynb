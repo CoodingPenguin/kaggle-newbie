{
 "cells": [
  {
   "cell_type": "markdown",
   "metadata": {},
   "source": [
    "# How Autoencoders Work: Intro and UseCases by Shivam Bansal - Second Try"
   ]
  },
  {
   "cell_type": "markdown",
   "metadata": {},
   "source": [
    "## 1. 오토인코더란?"
   ]
  },
  {
   "cell_type": "markdown",
   "metadata": {},
   "source": [
    "### 1.1. 오토인코더의 정의\n",
    "오토인코더(Autoencoder)는 **표현 학습(Representation Learning) 혹은 특징 학습(Feature Learning)**을 비지도 학습의 형태로 학습하는 신경망을 말한다.\n",
    "* 입력의 낮은 차원에서의 특징을 추출하기 위함이다.\n",
    "* 입력과 출력이 같은 신경망 구조를 갖고 있다. 왜냐하면 디코더를 통해 저차원에서 추출한 특징이 알맞는지 확인하기 때문이다."
   ]
  },
  {
   "cell_type": "markdown",
   "metadata": {},
   "source": [
    "### 1.2. 오토인코더의 구조\n",
    "* `Encoder` : 노드 수가 감소하는 일련의 계층으로 구성되어 있으며, 입력을 받아 잠재 특징(Latent Feature)로 변환한다.\n",
    "* `Decoder` : 노드 수가 증가하는 계층으로 Encoder와 대칭되는 구조를 띄며, 잠재 특징을 출력값으로 변환한다.\n",
    "* `Latent Feature` : 낮은 차원의 잠재 특징값들. 잠재(Latent)적인 이유는 아직 디코더를 통해 확인을 받지 않았기 때문이다.\n",
    "\n",
    "![autoencoder-architecture](../img/autoencoder-architecture.png)"
   ]
  },
  {
   "cell_type": "markdown",
   "metadata": {},
   "source": [
    "### 1.3. 오토인코더의 사용 예시\n",
    "* 차원 축소 (Dimentionality Reduction)\n",
    "* 이미지 압축 (Image Compression)\n",
    "* 이미지 노이즈 제거 (Image Denoising)\n",
    "* 이미지 생성 (Image Generation)\n",
    "* 특징 추출 (Feature Extraction)"
   ]
  },
  {
   "cell_type": "markdown",
   "metadata": {},
   "source": [
    "### 1.4. 오토인코더의 원리\n",
    "오토인코더에서 중요한 것은 **고차원 데이터를 낮은 차원의 표현으로 나타내는 것**이다. "
   ]
  },
  {
   "cell_type": "code",
   "execution_count": 3,
   "metadata": {
    "ExecuteTime": {
     "end_time": "2020-09-11T17:33:16.678775Z",
     "start_time": "2020-09-11T17:33:14.967534Z"
    }
   },
   "outputs": [
    {
     "data": {
      "text/html": [
       "        <script type=\"text/javascript\">\n",
       "        window.PlotlyConfig = {MathJaxConfig: 'local'};\n",
       "        if (window.MathJax) {MathJax.Hub.Config({SVG: {font: \"STIX-Web\"}});}\n",
       "        if (typeof require !== 'undefined') {\n",
       "        require.undef(\"plotly\");\n",
       "        requirejs.config({\n",
       "            paths: {\n",
       "                'plotly': ['https://cdn.plot.ly/plotly-latest.min']\n",
       "            }\n",
       "        });\n",
       "        require(['plotly'], function(Plotly) {\n",
       "            window._Plotly = Plotly;\n",
       "        });\n",
       "        }\n",
       "        </script>\n",
       "        "
      ]
     },
     "metadata": {},
     "output_type": "display_data"
    },
    {
     "data": {
      "application/vnd.plotly.v1+json": {
       "config": {
        "linkText": "Export to plot.ly",
        "plotlyServerURL": "https://plot.ly",
        "showLink": false
       },
       "data": [
        {
         "mode": "markers",
         "name": "Actual Data",
         "type": "scatter",
         "x": [
          2,
          2.163265306122449,
          2.326530612244898,
          2.489795918367347,
          2.6530612244897958,
          2.816326530612245,
          2.979591836734694,
          3.142857142857143,
          3.3061224489795915,
          3.4693877551020407,
          3.63265306122449,
          3.7959183673469385,
          3.9591836734693877,
          4.122448979591836,
          4.285714285714286,
          4.448979591836734,
          4.612244897959183,
          4.775510204081632,
          4.938775510204081,
          5.1020408163265305,
          5.26530612244898,
          5.428571428571429,
          5.591836734693877,
          5.755102040816326,
          5.918367346938775,
          6.081632653061225,
          6.244897959183673,
          6.408163265306122,
          6.571428571428571,
          6.73469387755102,
          6.897959183673469,
          7.061224489795918,
          7.224489795918367,
          7.387755102040816,
          7.551020408163265,
          7.7142857142857135,
          7.877551020408163,
          8.040816326530612,
          8.204081632653061,
          8.367346938775508,
          8.53061224489796,
          8.693877551020407,
          8.857142857142858,
          9.020408163265305,
          9.183673469387754,
          9.346938775510203,
          9.510204081632653,
          9.673469387755102,
          9.83673469387755,
          10
         ],
         "y": [
          2,
          2.163265306122449,
          2.326530612244898,
          2.489795918367347,
          2.6530612244897958,
          2.816326530612245,
          2.979591836734694,
          3.142857142857143,
          3.3061224489795915,
          3.4693877551020407,
          3.63265306122449,
          3.7959183673469385,
          3.9591836734693877,
          4.122448979591836,
          4.285714285714286,
          4.448979591836734,
          4.612244897959183,
          4.775510204081632,
          4.938775510204081,
          5.1020408163265305,
          5.26530612244898,
          5.428571428571429,
          5.591836734693877,
          5.755102040816326,
          5.918367346938775,
          6.081632653061225,
          6.244897959183673,
          6.408163265306122,
          6.571428571428571,
          6.73469387755102,
          6.897959183673469,
          7.061224489795918,
          7.224489795918367,
          7.387755102040816,
          7.551020408163265,
          7.7142857142857135,
          7.877551020408163,
          8.040816326530612,
          8.204081632653061,
          8.367346938775508,
          8.53061224489796,
          8.693877551020407,
          8.857142857142858,
          9.020408163265305,
          9.183673469387754,
          9.346938775510203,
          9.510204081632653,
          9.673469387755102,
          9.83673469387755,
          10
         ]
        }
       ],
       "layout": {
        "annotations": [
         {
          "align": "center",
          "arrowcolor": "#636363",
          "arrowhead": 2,
          "arrowsize": 1,
          "arrowwidth": 2,
          "ax": -120,
          "ay": -30,
          "bgcolor": "orange",
          "bordercolor": "#c7c7c7",
          "borderpad": 4,
          "borderwidth": 2,
          "opacity": 0.8,
          "showarrow": true,
          "text": "This 1D line is the Data Manifold (where data resides)",
          "x": 5,
          "xref": "x",
          "y": 5,
          "yref": "y"
         }
        ],
        "height": 400,
        "template": {
         "data": {
          "bar": [
           {
            "error_x": {
             "color": "#2a3f5f"
            },
            "error_y": {
             "color": "#2a3f5f"
            },
            "marker": {
             "line": {
              "color": "#E5ECF6",
              "width": 0.5
             }
            },
            "type": "bar"
           }
          ],
          "barpolar": [
           {
            "marker": {
             "line": {
              "color": "#E5ECF6",
              "width": 0.5
             }
            },
            "type": "barpolar"
           }
          ],
          "carpet": [
           {
            "aaxis": {
             "endlinecolor": "#2a3f5f",
             "gridcolor": "white",
             "linecolor": "white",
             "minorgridcolor": "white",
             "startlinecolor": "#2a3f5f"
            },
            "baxis": {
             "endlinecolor": "#2a3f5f",
             "gridcolor": "white",
             "linecolor": "white",
             "minorgridcolor": "white",
             "startlinecolor": "#2a3f5f"
            },
            "type": "carpet"
           }
          ],
          "choropleth": [
           {
            "colorbar": {
             "outlinewidth": 0,
             "ticks": ""
            },
            "type": "choropleth"
           }
          ],
          "contour": [
           {
            "colorbar": {
             "outlinewidth": 0,
             "ticks": ""
            },
            "colorscale": [
             [
              0,
              "#0d0887"
             ],
             [
              0.1111111111111111,
              "#46039f"
             ],
             [
              0.2222222222222222,
              "#7201a8"
             ],
             [
              0.3333333333333333,
              "#9c179e"
             ],
             [
              0.4444444444444444,
              "#bd3786"
             ],
             [
              0.5555555555555556,
              "#d8576b"
             ],
             [
              0.6666666666666666,
              "#ed7953"
             ],
             [
              0.7777777777777778,
              "#fb9f3a"
             ],
             [
              0.8888888888888888,
              "#fdca26"
             ],
             [
              1,
              "#f0f921"
             ]
            ],
            "type": "contour"
           }
          ],
          "contourcarpet": [
           {
            "colorbar": {
             "outlinewidth": 0,
             "ticks": ""
            },
            "type": "contourcarpet"
           }
          ],
          "heatmap": [
           {
            "colorbar": {
             "outlinewidth": 0,
             "ticks": ""
            },
            "colorscale": [
             [
              0,
              "#0d0887"
             ],
             [
              0.1111111111111111,
              "#46039f"
             ],
             [
              0.2222222222222222,
              "#7201a8"
             ],
             [
              0.3333333333333333,
              "#9c179e"
             ],
             [
              0.4444444444444444,
              "#bd3786"
             ],
             [
              0.5555555555555556,
              "#d8576b"
             ],
             [
              0.6666666666666666,
              "#ed7953"
             ],
             [
              0.7777777777777778,
              "#fb9f3a"
             ],
             [
              0.8888888888888888,
              "#fdca26"
             ],
             [
              1,
              "#f0f921"
             ]
            ],
            "type": "heatmap"
           }
          ],
          "heatmapgl": [
           {
            "colorbar": {
             "outlinewidth": 0,
             "ticks": ""
            },
            "colorscale": [
             [
              0,
              "#0d0887"
             ],
             [
              0.1111111111111111,
              "#46039f"
             ],
             [
              0.2222222222222222,
              "#7201a8"
             ],
             [
              0.3333333333333333,
              "#9c179e"
             ],
             [
              0.4444444444444444,
              "#bd3786"
             ],
             [
              0.5555555555555556,
              "#d8576b"
             ],
             [
              0.6666666666666666,
              "#ed7953"
             ],
             [
              0.7777777777777778,
              "#fb9f3a"
             ],
             [
              0.8888888888888888,
              "#fdca26"
             ],
             [
              1,
              "#f0f921"
             ]
            ],
            "type": "heatmapgl"
           }
          ],
          "histogram": [
           {
            "marker": {
             "colorbar": {
              "outlinewidth": 0,
              "ticks": ""
             }
            },
            "type": "histogram"
           }
          ],
          "histogram2d": [
           {
            "colorbar": {
             "outlinewidth": 0,
             "ticks": ""
            },
            "colorscale": [
             [
              0,
              "#0d0887"
             ],
             [
              0.1111111111111111,
              "#46039f"
             ],
             [
              0.2222222222222222,
              "#7201a8"
             ],
             [
              0.3333333333333333,
              "#9c179e"
             ],
             [
              0.4444444444444444,
              "#bd3786"
             ],
             [
              0.5555555555555556,
              "#d8576b"
             ],
             [
              0.6666666666666666,
              "#ed7953"
             ],
             [
              0.7777777777777778,
              "#fb9f3a"
             ],
             [
              0.8888888888888888,
              "#fdca26"
             ],
             [
              1,
              "#f0f921"
             ]
            ],
            "type": "histogram2d"
           }
          ],
          "histogram2dcontour": [
           {
            "colorbar": {
             "outlinewidth": 0,
             "ticks": ""
            },
            "colorscale": [
             [
              0,
              "#0d0887"
             ],
             [
              0.1111111111111111,
              "#46039f"
             ],
             [
              0.2222222222222222,
              "#7201a8"
             ],
             [
              0.3333333333333333,
              "#9c179e"
             ],
             [
              0.4444444444444444,
              "#bd3786"
             ],
             [
              0.5555555555555556,
              "#d8576b"
             ],
             [
              0.6666666666666666,
              "#ed7953"
             ],
             [
              0.7777777777777778,
              "#fb9f3a"
             ],
             [
              0.8888888888888888,
              "#fdca26"
             ],
             [
              1,
              "#f0f921"
             ]
            ],
            "type": "histogram2dcontour"
           }
          ],
          "mesh3d": [
           {
            "colorbar": {
             "outlinewidth": 0,
             "ticks": ""
            },
            "type": "mesh3d"
           }
          ],
          "parcoords": [
           {
            "line": {
             "colorbar": {
              "outlinewidth": 0,
              "ticks": ""
             }
            },
            "type": "parcoords"
           }
          ],
          "pie": [
           {
            "automargin": true,
            "type": "pie"
           }
          ],
          "scatter": [
           {
            "marker": {
             "colorbar": {
              "outlinewidth": 0,
              "ticks": ""
             }
            },
            "type": "scatter"
           }
          ],
          "scatter3d": [
           {
            "line": {
             "colorbar": {
              "outlinewidth": 0,
              "ticks": ""
             }
            },
            "marker": {
             "colorbar": {
              "outlinewidth": 0,
              "ticks": ""
             }
            },
            "type": "scatter3d"
           }
          ],
          "scattercarpet": [
           {
            "marker": {
             "colorbar": {
              "outlinewidth": 0,
              "ticks": ""
             }
            },
            "type": "scattercarpet"
           }
          ],
          "scattergeo": [
           {
            "marker": {
             "colorbar": {
              "outlinewidth": 0,
              "ticks": ""
             }
            },
            "type": "scattergeo"
           }
          ],
          "scattergl": [
           {
            "marker": {
             "colorbar": {
              "outlinewidth": 0,
              "ticks": ""
             }
            },
            "type": "scattergl"
           }
          ],
          "scattermapbox": [
           {
            "marker": {
             "colorbar": {
              "outlinewidth": 0,
              "ticks": ""
             }
            },
            "type": "scattermapbox"
           }
          ],
          "scatterpolar": [
           {
            "marker": {
             "colorbar": {
              "outlinewidth": 0,
              "ticks": ""
             }
            },
            "type": "scatterpolar"
           }
          ],
          "scatterpolargl": [
           {
            "marker": {
             "colorbar": {
              "outlinewidth": 0,
              "ticks": ""
             }
            },
            "type": "scatterpolargl"
           }
          ],
          "scatterternary": [
           {
            "marker": {
             "colorbar": {
              "outlinewidth": 0,
              "ticks": ""
             }
            },
            "type": "scatterternary"
           }
          ],
          "surface": [
           {
            "colorbar": {
             "outlinewidth": 0,
             "ticks": ""
            },
            "colorscale": [
             [
              0,
              "#0d0887"
             ],
             [
              0.1111111111111111,
              "#46039f"
             ],
             [
              0.2222222222222222,
              "#7201a8"
             ],
             [
              0.3333333333333333,
              "#9c179e"
             ],
             [
              0.4444444444444444,
              "#bd3786"
             ],
             [
              0.5555555555555556,
              "#d8576b"
             ],
             [
              0.6666666666666666,
              "#ed7953"
             ],
             [
              0.7777777777777778,
              "#fb9f3a"
             ],
             [
              0.8888888888888888,
              "#fdca26"
             ],
             [
              1,
              "#f0f921"
             ]
            ],
            "type": "surface"
           }
          ],
          "table": [
           {
            "cells": {
             "fill": {
              "color": "#EBF0F8"
             },
             "line": {
              "color": "white"
             }
            },
            "header": {
             "fill": {
              "color": "#C8D4E3"
             },
             "line": {
              "color": "white"
             }
            },
            "type": "table"
           }
          ]
         },
         "layout": {
          "annotationdefaults": {
           "arrowcolor": "#2a3f5f",
           "arrowhead": 0,
           "arrowwidth": 1
          },
          "coloraxis": {
           "colorbar": {
            "outlinewidth": 0,
            "ticks": ""
           }
          },
          "colorscale": {
           "diverging": [
            [
             0,
             "#8e0152"
            ],
            [
             0.1,
             "#c51b7d"
            ],
            [
             0.2,
             "#de77ae"
            ],
            [
             0.3,
             "#f1b6da"
            ],
            [
             0.4,
             "#fde0ef"
            ],
            [
             0.5,
             "#f7f7f7"
            ],
            [
             0.6,
             "#e6f5d0"
            ],
            [
             0.7,
             "#b8e186"
            ],
            [
             0.8,
             "#7fbc41"
            ],
            [
             0.9,
             "#4d9221"
            ],
            [
             1,
             "#276419"
            ]
           ],
           "sequential": [
            [
             0,
             "#0d0887"
            ],
            [
             0.1111111111111111,
             "#46039f"
            ],
            [
             0.2222222222222222,
             "#7201a8"
            ],
            [
             0.3333333333333333,
             "#9c179e"
            ],
            [
             0.4444444444444444,
             "#bd3786"
            ],
            [
             0.5555555555555556,
             "#d8576b"
            ],
            [
             0.6666666666666666,
             "#ed7953"
            ],
            [
             0.7777777777777778,
             "#fb9f3a"
            ],
            [
             0.8888888888888888,
             "#fdca26"
            ],
            [
             1,
             "#f0f921"
            ]
           ],
           "sequentialminus": [
            [
             0,
             "#0d0887"
            ],
            [
             0.1111111111111111,
             "#46039f"
            ],
            [
             0.2222222222222222,
             "#7201a8"
            ],
            [
             0.3333333333333333,
             "#9c179e"
            ],
            [
             0.4444444444444444,
             "#bd3786"
            ],
            [
             0.5555555555555556,
             "#d8576b"
            ],
            [
             0.6666666666666666,
             "#ed7953"
            ],
            [
             0.7777777777777778,
             "#fb9f3a"
            ],
            [
             0.8888888888888888,
             "#fdca26"
            ],
            [
             1,
             "#f0f921"
            ]
           ]
          },
          "colorway": [
           "#636efa",
           "#EF553B",
           "#00cc96",
           "#ab63fa",
           "#FFA15A",
           "#19d3f3",
           "#FF6692",
           "#B6E880",
           "#FF97FF",
           "#FECB52"
          ],
          "font": {
           "color": "#2a3f5f"
          },
          "geo": {
           "bgcolor": "white",
           "lakecolor": "white",
           "landcolor": "#E5ECF6",
           "showlakes": true,
           "showland": true,
           "subunitcolor": "white"
          },
          "hoverlabel": {
           "align": "left"
          },
          "hovermode": "closest",
          "mapbox": {
           "style": "light"
          },
          "paper_bgcolor": "white",
          "plot_bgcolor": "#E5ECF6",
          "polar": {
           "angularaxis": {
            "gridcolor": "white",
            "linecolor": "white",
            "ticks": ""
           },
           "bgcolor": "#E5ECF6",
           "radialaxis": {
            "gridcolor": "white",
            "linecolor": "white",
            "ticks": ""
           }
          },
          "scene": {
           "xaxis": {
            "backgroundcolor": "#E5ECF6",
            "gridcolor": "white",
            "gridwidth": 2,
            "linecolor": "white",
            "showbackground": true,
            "ticks": "",
            "zerolinecolor": "white"
           },
           "yaxis": {
            "backgroundcolor": "#E5ECF6",
            "gridcolor": "white",
            "gridwidth": 2,
            "linecolor": "white",
            "showbackground": true,
            "ticks": "",
            "zerolinecolor": "white"
           },
           "zaxis": {
            "backgroundcolor": "#E5ECF6",
            "gridcolor": "white",
            "gridwidth": 2,
            "linecolor": "white",
            "showbackground": true,
            "ticks": "",
            "zerolinecolor": "white"
           }
          },
          "shapedefaults": {
           "line": {
            "color": "#2a3f5f"
           }
          },
          "ternary": {
           "aaxis": {
            "gridcolor": "white",
            "linecolor": "white",
            "ticks": ""
           },
           "baxis": {
            "gridcolor": "white",
            "linecolor": "white",
            "ticks": ""
           },
           "bgcolor": "#E5ECF6",
           "caxis": {
            "gridcolor": "white",
            "linecolor": "white",
            "ticks": ""
           }
          },
          "title": {
           "x": 0.05
          },
          "xaxis": {
           "automargin": true,
           "gridcolor": "white",
           "linecolor": "white",
           "ticks": "",
           "title": {
            "standoff": 15
           },
           "zerolinecolor": "white",
           "zerolinewidth": 2
          },
          "yaxis": {
           "automargin": true,
           "gridcolor": "white",
           "linecolor": "white",
           "ticks": "",
           "title": {
            "standoff": 15
           },
           "zerolinecolor": "white",
           "zerolinewidth": 2
          }
         }
        },
        "title": {
         "text": "2D Data Representation Space"
        },
        "xaxis": {
         "range": [
          0,
          12
         ],
         "title": {
          "text": "x2"
         }
        },
        "yaxis": {
         "range": [
          0,
          12
         ],
         "title": {
          "text": "x1"
         }
        }
       }
      },
      "text/html": [
       "<div>                            <div id=\"9ca90098-b50f-480b-8730-51fd71c5b957\" class=\"plotly-graph-div\" style=\"height:400px; width:100%;\"></div>            <script type=\"text/javascript\">                require([\"plotly\"], function(Plotly) {                    window.PLOTLYENV=window.PLOTLYENV || {};                                    if (document.getElementById(\"9ca90098-b50f-480b-8730-51fd71c5b957\")) {                    Plotly.newPlot(                        \"9ca90098-b50f-480b-8730-51fd71c5b957\",                        [{\"mode\": \"markers\", \"name\": \"Actual Data\", \"type\": \"scatter\", \"x\": [2.0, 2.163265306122449, 2.326530612244898, 2.489795918367347, 2.6530612244897958, 2.816326530612245, 2.979591836734694, 3.142857142857143, 3.3061224489795915, 3.4693877551020407, 3.63265306122449, 3.7959183673469385, 3.9591836734693877, 4.122448979591836, 4.285714285714286, 4.448979591836734, 4.612244897959183, 4.775510204081632, 4.938775510204081, 5.1020408163265305, 5.26530612244898, 5.428571428571429, 5.591836734693877, 5.755102040816326, 5.918367346938775, 6.081632653061225, 6.244897959183673, 6.408163265306122, 6.571428571428571, 6.73469387755102, 6.897959183673469, 7.061224489795918, 7.224489795918367, 7.387755102040816, 7.551020408163265, 7.7142857142857135, 7.877551020408163, 8.040816326530612, 8.204081632653061, 8.367346938775508, 8.53061224489796, 8.693877551020407, 8.857142857142858, 9.020408163265305, 9.183673469387754, 9.346938775510203, 9.510204081632653, 9.673469387755102, 9.83673469387755, 10.0], \"y\": [2.0, 2.163265306122449, 2.326530612244898, 2.489795918367347, 2.6530612244897958, 2.816326530612245, 2.979591836734694, 3.142857142857143, 3.3061224489795915, 3.4693877551020407, 3.63265306122449, 3.7959183673469385, 3.9591836734693877, 4.122448979591836, 4.285714285714286, 4.448979591836734, 4.612244897959183, 4.775510204081632, 4.938775510204081, 5.1020408163265305, 5.26530612244898, 5.428571428571429, 5.591836734693877, 5.755102040816326, 5.918367346938775, 6.081632653061225, 6.244897959183673, 6.408163265306122, 6.571428571428571, 6.73469387755102, 6.897959183673469, 7.061224489795918, 7.224489795918367, 7.387755102040816, 7.551020408163265, 7.7142857142857135, 7.877551020408163, 8.040816326530612, 8.204081632653061, 8.367346938775508, 8.53061224489796, 8.693877551020407, 8.857142857142858, 9.020408163265305, 9.183673469387754, 9.346938775510203, 9.510204081632653, 9.673469387755102, 9.83673469387755, 10.0]}],                        {\"annotations\": [{\"align\": \"center\", \"arrowcolor\": \"#636363\", \"arrowhead\": 2, \"arrowsize\": 1, \"arrowwidth\": 2, \"ax\": -120, \"ay\": -30, \"bgcolor\": \"orange\", \"bordercolor\": \"#c7c7c7\", \"borderpad\": 4, \"borderwidth\": 2, \"opacity\": 0.8, \"showarrow\": true, \"text\": \"This 1D line is the Data Manifold (where data resides)\", \"x\": 5, \"xref\": \"x\", \"y\": 5, \"yref\": \"y\"}], \"height\": 400, \"template\": {\"data\": {\"bar\": [{\"error_x\": {\"color\": \"#2a3f5f\"}, \"error_y\": {\"color\": \"#2a3f5f\"}, \"marker\": {\"line\": {\"color\": \"#E5ECF6\", \"width\": 0.5}}, \"type\": \"bar\"}], \"barpolar\": [{\"marker\": {\"line\": {\"color\": \"#E5ECF6\", \"width\": 0.5}}, \"type\": \"barpolar\"}], \"carpet\": [{\"aaxis\": {\"endlinecolor\": \"#2a3f5f\", \"gridcolor\": \"white\", \"linecolor\": \"white\", \"minorgridcolor\": \"white\", \"startlinecolor\": \"#2a3f5f\"}, \"baxis\": {\"endlinecolor\": \"#2a3f5f\", \"gridcolor\": \"white\", \"linecolor\": \"white\", \"minorgridcolor\": \"white\", \"startlinecolor\": \"#2a3f5f\"}, \"type\": \"carpet\"}], \"choropleth\": [{\"colorbar\": {\"outlinewidth\": 0, \"ticks\": \"\"}, \"type\": \"choropleth\"}], \"contour\": [{\"colorbar\": {\"outlinewidth\": 0, \"ticks\": \"\"}, \"colorscale\": [[0.0, \"#0d0887\"], [0.1111111111111111, \"#46039f\"], [0.2222222222222222, \"#7201a8\"], [0.3333333333333333, \"#9c179e\"], [0.4444444444444444, \"#bd3786\"], [0.5555555555555556, \"#d8576b\"], [0.6666666666666666, \"#ed7953\"], [0.7777777777777778, \"#fb9f3a\"], [0.8888888888888888, \"#fdca26\"], [1.0, \"#f0f921\"]], \"type\": \"contour\"}], \"contourcarpet\": [{\"colorbar\": {\"outlinewidth\": 0, \"ticks\": \"\"}, \"type\": \"contourcarpet\"}], \"heatmap\": [{\"colorbar\": {\"outlinewidth\": 0, \"ticks\": \"\"}, \"colorscale\": [[0.0, \"#0d0887\"], [0.1111111111111111, \"#46039f\"], [0.2222222222222222, \"#7201a8\"], [0.3333333333333333, \"#9c179e\"], [0.4444444444444444, \"#bd3786\"], [0.5555555555555556, \"#d8576b\"], [0.6666666666666666, \"#ed7953\"], [0.7777777777777778, \"#fb9f3a\"], [0.8888888888888888, \"#fdca26\"], [1.0, \"#f0f921\"]], \"type\": \"heatmap\"}], \"heatmapgl\": [{\"colorbar\": {\"outlinewidth\": 0, \"ticks\": \"\"}, \"colorscale\": [[0.0, \"#0d0887\"], [0.1111111111111111, \"#46039f\"], [0.2222222222222222, \"#7201a8\"], [0.3333333333333333, \"#9c179e\"], [0.4444444444444444, \"#bd3786\"], [0.5555555555555556, \"#d8576b\"], [0.6666666666666666, \"#ed7953\"], [0.7777777777777778, \"#fb9f3a\"], [0.8888888888888888, \"#fdca26\"], [1.0, \"#f0f921\"]], \"type\": \"heatmapgl\"}], \"histogram\": [{\"marker\": {\"colorbar\": {\"outlinewidth\": 0, \"ticks\": \"\"}}, \"type\": \"histogram\"}], \"histogram2d\": [{\"colorbar\": {\"outlinewidth\": 0, \"ticks\": \"\"}, \"colorscale\": [[0.0, \"#0d0887\"], [0.1111111111111111, \"#46039f\"], [0.2222222222222222, \"#7201a8\"], [0.3333333333333333, \"#9c179e\"], [0.4444444444444444, \"#bd3786\"], [0.5555555555555556, \"#d8576b\"], [0.6666666666666666, \"#ed7953\"], [0.7777777777777778, \"#fb9f3a\"], [0.8888888888888888, \"#fdca26\"], [1.0, \"#f0f921\"]], \"type\": \"histogram2d\"}], \"histogram2dcontour\": [{\"colorbar\": {\"outlinewidth\": 0, \"ticks\": \"\"}, \"colorscale\": [[0.0, \"#0d0887\"], [0.1111111111111111, \"#46039f\"], [0.2222222222222222, \"#7201a8\"], [0.3333333333333333, \"#9c179e\"], [0.4444444444444444, \"#bd3786\"], [0.5555555555555556, \"#d8576b\"], [0.6666666666666666, \"#ed7953\"], [0.7777777777777778, \"#fb9f3a\"], [0.8888888888888888, \"#fdca26\"], [1.0, \"#f0f921\"]], \"type\": \"histogram2dcontour\"}], \"mesh3d\": [{\"colorbar\": {\"outlinewidth\": 0, \"ticks\": \"\"}, \"type\": \"mesh3d\"}], \"parcoords\": [{\"line\": {\"colorbar\": {\"outlinewidth\": 0, \"ticks\": \"\"}}, \"type\": \"parcoords\"}], \"pie\": [{\"automargin\": true, \"type\": \"pie\"}], \"scatter\": [{\"marker\": {\"colorbar\": {\"outlinewidth\": 0, \"ticks\": \"\"}}, \"type\": \"scatter\"}], \"scatter3d\": [{\"line\": {\"colorbar\": {\"outlinewidth\": 0, \"ticks\": \"\"}}, \"marker\": {\"colorbar\": {\"outlinewidth\": 0, \"ticks\": \"\"}}, \"type\": \"scatter3d\"}], \"scattercarpet\": [{\"marker\": {\"colorbar\": {\"outlinewidth\": 0, \"ticks\": \"\"}}, \"type\": \"scattercarpet\"}], \"scattergeo\": [{\"marker\": {\"colorbar\": {\"outlinewidth\": 0, \"ticks\": \"\"}}, \"type\": \"scattergeo\"}], \"scattergl\": [{\"marker\": {\"colorbar\": {\"outlinewidth\": 0, \"ticks\": \"\"}}, \"type\": \"scattergl\"}], \"scattermapbox\": [{\"marker\": {\"colorbar\": {\"outlinewidth\": 0, \"ticks\": \"\"}}, \"type\": \"scattermapbox\"}], \"scatterpolar\": [{\"marker\": {\"colorbar\": {\"outlinewidth\": 0, \"ticks\": \"\"}}, \"type\": \"scatterpolar\"}], \"scatterpolargl\": [{\"marker\": {\"colorbar\": {\"outlinewidth\": 0, \"ticks\": \"\"}}, \"type\": \"scatterpolargl\"}], \"scatterternary\": [{\"marker\": {\"colorbar\": {\"outlinewidth\": 0, \"ticks\": \"\"}}, \"type\": \"scatterternary\"}], \"surface\": [{\"colorbar\": {\"outlinewidth\": 0, \"ticks\": \"\"}, \"colorscale\": [[0.0, \"#0d0887\"], [0.1111111111111111, \"#46039f\"], [0.2222222222222222, \"#7201a8\"], [0.3333333333333333, \"#9c179e\"], [0.4444444444444444, \"#bd3786\"], [0.5555555555555556, \"#d8576b\"], [0.6666666666666666, \"#ed7953\"], [0.7777777777777778, \"#fb9f3a\"], [0.8888888888888888, \"#fdca26\"], [1.0, \"#f0f921\"]], \"type\": \"surface\"}], \"table\": [{\"cells\": {\"fill\": {\"color\": \"#EBF0F8\"}, \"line\": {\"color\": \"white\"}}, \"header\": {\"fill\": {\"color\": \"#C8D4E3\"}, \"line\": {\"color\": \"white\"}}, \"type\": \"table\"}]}, \"layout\": {\"annotationdefaults\": {\"arrowcolor\": \"#2a3f5f\", \"arrowhead\": 0, \"arrowwidth\": 1}, \"coloraxis\": {\"colorbar\": {\"outlinewidth\": 0, \"ticks\": \"\"}}, \"colorscale\": {\"diverging\": [[0, \"#8e0152\"], [0.1, \"#c51b7d\"], [0.2, \"#de77ae\"], [0.3, \"#f1b6da\"], [0.4, \"#fde0ef\"], [0.5, \"#f7f7f7\"], [0.6, \"#e6f5d0\"], [0.7, \"#b8e186\"], [0.8, \"#7fbc41\"], [0.9, \"#4d9221\"], [1, \"#276419\"]], \"sequential\": [[0.0, \"#0d0887\"], [0.1111111111111111, \"#46039f\"], [0.2222222222222222, \"#7201a8\"], [0.3333333333333333, \"#9c179e\"], [0.4444444444444444, \"#bd3786\"], [0.5555555555555556, \"#d8576b\"], [0.6666666666666666, \"#ed7953\"], [0.7777777777777778, \"#fb9f3a\"], [0.8888888888888888, \"#fdca26\"], [1.0, \"#f0f921\"]], \"sequentialminus\": [[0.0, \"#0d0887\"], [0.1111111111111111, \"#46039f\"], [0.2222222222222222, \"#7201a8\"], [0.3333333333333333, \"#9c179e\"], [0.4444444444444444, \"#bd3786\"], [0.5555555555555556, \"#d8576b\"], [0.6666666666666666, \"#ed7953\"], [0.7777777777777778, \"#fb9f3a\"], [0.8888888888888888, \"#fdca26\"], [1.0, \"#f0f921\"]]}, \"colorway\": [\"#636efa\", \"#EF553B\", \"#00cc96\", \"#ab63fa\", \"#FFA15A\", \"#19d3f3\", \"#FF6692\", \"#B6E880\", \"#FF97FF\", \"#FECB52\"], \"font\": {\"color\": \"#2a3f5f\"}, \"geo\": {\"bgcolor\": \"white\", \"lakecolor\": \"white\", \"landcolor\": \"#E5ECF6\", \"showlakes\": true, \"showland\": true, \"subunitcolor\": \"white\"}, \"hoverlabel\": {\"align\": \"left\"}, \"hovermode\": \"closest\", \"mapbox\": {\"style\": \"light\"}, \"paper_bgcolor\": \"white\", \"plot_bgcolor\": \"#E5ECF6\", \"polar\": {\"angularaxis\": {\"gridcolor\": \"white\", \"linecolor\": \"white\", \"ticks\": \"\"}, \"bgcolor\": \"#E5ECF6\", \"radialaxis\": {\"gridcolor\": \"white\", \"linecolor\": \"white\", \"ticks\": \"\"}}, \"scene\": {\"xaxis\": {\"backgroundcolor\": \"#E5ECF6\", \"gridcolor\": \"white\", \"gridwidth\": 2, \"linecolor\": \"white\", \"showbackground\": true, \"ticks\": \"\", \"zerolinecolor\": \"white\"}, \"yaxis\": {\"backgroundcolor\": \"#E5ECF6\", \"gridcolor\": \"white\", \"gridwidth\": 2, \"linecolor\": \"white\", \"showbackground\": true, \"ticks\": \"\", \"zerolinecolor\": \"white\"}, \"zaxis\": {\"backgroundcolor\": \"#E5ECF6\", \"gridcolor\": \"white\", \"gridwidth\": 2, \"linecolor\": \"white\", \"showbackground\": true, \"ticks\": \"\", \"zerolinecolor\": \"white\"}}, \"shapedefaults\": {\"line\": {\"color\": \"#2a3f5f\"}}, \"ternary\": {\"aaxis\": {\"gridcolor\": \"white\", \"linecolor\": \"white\", \"ticks\": \"\"}, \"baxis\": {\"gridcolor\": \"white\", \"linecolor\": \"white\", \"ticks\": \"\"}, \"bgcolor\": \"#E5ECF6\", \"caxis\": {\"gridcolor\": \"white\", \"linecolor\": \"white\", \"ticks\": \"\"}}, \"title\": {\"x\": 0.05}, \"xaxis\": {\"automargin\": true, \"gridcolor\": \"white\", \"linecolor\": \"white\", \"ticks\": \"\", \"title\": {\"standoff\": 15}, \"zerolinecolor\": \"white\", \"zerolinewidth\": 2}, \"yaxis\": {\"automargin\": true, \"gridcolor\": \"white\", \"linecolor\": \"white\", \"ticks\": \"\", \"title\": {\"standoff\": 15}, \"zerolinecolor\": \"white\", \"zerolinewidth\": 2}}}, \"title\": {\"text\": \"2D Data Representation Space\"}, \"xaxis\": {\"range\": [0, 12], \"title\": {\"text\": \"x2\"}}, \"yaxis\": {\"range\": [0, 12], \"title\": {\"text\": \"x1\"}}},                        {\"responsive\": true}                    ).then(function(){\n",
       "                            \n",
       "var gd = document.getElementById('9ca90098-b50f-480b-8730-51fd71c5b957');\n",
       "var x = new MutationObserver(function (mutations, observer) {{\n",
       "        var display = window.getComputedStyle(gd).display;\n",
       "        if (!display || display === 'none') {{\n",
       "            console.log([gd, 'removed!']);\n",
       "            Plotly.purge(gd);\n",
       "            observer.disconnect();\n",
       "        }}\n",
       "}});\n",
       "\n",
       "// Listen for the removal of the full notebook cells\n",
       "var notebookContainer = gd.closest('#notebook-container');\n",
       "if (notebookContainer) {{\n",
       "    x.observe(notebookContainer, {childList: true});\n",
       "}}\n",
       "\n",
       "// Listen for the clearing of the current output cell\n",
       "var outputEl = gd.closest('.output');\n",
       "if (outputEl) {{\n",
       "    x.observe(outputEl, {childList: true});\n",
       "}}\n",
       "\n",
       "                        })                };                });            </script>        </div>"
      ]
     },
     "metadata": {},
     "output_type": "display_data"
    }
   ],
   "source": [
    "from plotly.offline import init_notebook_mode, iplot\n",
    "import plotly.graph_objs as go\n",
    "import numpy as np\n",
    "init_notebook_mode(connected=True)\n",
    "\n",
    "## generate random data\n",
    "N = 50\n",
    "random_x = np.linspace(2, 10, N)\n",
    "random_y1 = np.linspace(2, 10, N)\n",
    "random_y2 = np.linspace(2, 10, N)\n",
    "\n",
    "trace1 = go.Scatter(x = random_x, y = random_y1, mode=\"markers\", name=\"Actual Data\")\n",
    "trace2 = go.Scatter(x = random_x, y = random_y2, mode=\"lines\", name=\"Model\")\n",
    "layout = go.Layout(title=\"2D Data Representation Space\", xaxis=dict(title=\"x2\", range=(0,12)), \n",
    "                   yaxis=dict(title=\"x1\", range=(0,12)), height=400, \n",
    "                   annotations=[dict(x=5, y=5, xref='x', yref='y', text='This 1D line is the Data Manifold (where data resides)',\n",
    "                   showarrow=True, align='center', arrowhead=2, arrowsize=1, arrowwidth=2, arrowcolor='#636363',\n",
    "                   ax=-120, ay=-30, bordercolor='#c7c7c7', borderwidth=2, borderpad=4, bgcolor='orange', opacity=0.8)])\n",
    "figure = go.Figure(data = [trace1], layout = layout)\n",
    "iplot(figure)"
   ]
  },
  {
   "cell_type": "markdown",
   "metadata": {},
   "source": [
    "이를 이해하기 위해 $x1$과 $x2$로 표현되는 2차원 공간에 있는 데이터를 생각해보자. 이 데이터는 **기준점 $A$와 수평선과의 각도 $L$**로 1차원으로 표현이 가능하다. 즉, 두 개의 값만 갖고 있다면 직선 위의 점 $B$는 거리 $d$로 표현이 가능하다. 더이상 $x1$과 $x2$가 아닌 거리 $d$로 표현할 수 있다!"
   ]
  },
  {
   "cell_type": "code",
   "execution_count": 4,
   "metadata": {
    "ExecuteTime": {
     "end_time": "2020-09-11T17:33:16.756290Z",
     "start_time": "2020-09-11T17:33:16.678775Z"
    }
   },
   "outputs": [
    {
     "data": {
      "application/vnd.plotly.v1+json": {
       "config": {
        "linkText": "Export to plot.ly",
        "plotlyServerURL": "https://plot.ly",
        "showLink": false
       },
       "data": [
        {
         "mode": "markers",
         "type": "scatter",
         "x": [
          2,
          2.163265306122449,
          2.326530612244898,
          2.489795918367347,
          2.6530612244897958,
          2.816326530612245,
          2.979591836734694,
          3.142857142857143,
          3.3061224489795915,
          3.4693877551020407,
          3.63265306122449,
          3.7959183673469385,
          3.9591836734693877,
          4.122448979591836,
          4.285714285714286,
          4.448979591836734,
          4.612244897959183,
          4.775510204081632,
          4.938775510204081,
          5.1020408163265305,
          5.26530612244898,
          5.428571428571429,
          5.591836734693877,
          5.755102040816326,
          5.918367346938775,
          6.081632653061225,
          6.244897959183673,
          6.408163265306122,
          6.571428571428571,
          6.73469387755102,
          6.897959183673469,
          7.061224489795918,
          7.224489795918367,
          7.387755102040816,
          7.551020408163265,
          7.7142857142857135,
          7.877551020408163,
          8.040816326530612,
          8.204081632653061,
          8.367346938775508,
          8.53061224489796,
          8.693877551020407,
          8.857142857142858,
          9.020408163265305,
          9.183673469387754,
          9.346938775510203,
          9.510204081632653,
          9.673469387755102,
          9.83673469387755,
          10
         ],
         "y": [
          2,
          2.163265306122449,
          2.326530612244898,
          2.489795918367347,
          2.6530612244897958,
          2.816326530612245,
          2.979591836734694,
          3.142857142857143,
          3.3061224489795915,
          3.4693877551020407,
          3.63265306122449,
          3.7959183673469385,
          3.9591836734693877,
          4.122448979591836,
          4.285714285714286,
          4.448979591836734,
          4.612244897959183,
          4.775510204081632,
          4.938775510204081,
          5.1020408163265305,
          5.26530612244898,
          5.428571428571429,
          5.591836734693877,
          5.755102040816326,
          5.918367346938775,
          6.081632653061225,
          6.244897959183673,
          6.408163265306122,
          6.571428571428571,
          6.73469387755102,
          6.897959183673469,
          7.061224489795918,
          7.224489795918367,
          7.387755102040816,
          7.551020408163265,
          7.7142857142857135,
          7.877551020408163,
          8.040816326530612,
          8.204081632653061,
          8.367346938775508,
          8.53061224489796,
          8.693877551020407,
          8.857142857142858,
          9.020408163265305,
          9.183673469387754,
          9.346938775510203,
          9.510204081632653,
          9.673469387755102,
          9.83673469387755,
          10
         ]
        },
        {
         "mode": "lines",
         "type": "scatter",
         "x": [
          2,
          2.163265306122449,
          2.326530612244898,
          2.489795918367347,
          2.6530612244897958,
          2.816326530612245,
          2.979591836734694,
          3.142857142857143,
          3.3061224489795915,
          3.4693877551020407,
          3.63265306122449,
          3.7959183673469385,
          3.9591836734693877,
          4.122448979591836,
          4.285714285714286,
          4.448979591836734,
          4.612244897959183,
          4.775510204081632,
          4.938775510204081,
          5.1020408163265305,
          5.26530612244898,
          5.428571428571429,
          5.591836734693877,
          5.755102040816326,
          5.918367346938775,
          6.081632653061225,
          6.244897959183673,
          6.408163265306122,
          6.571428571428571,
          6.73469387755102,
          6.897959183673469,
          7.061224489795918,
          7.224489795918367,
          7.387755102040816,
          7.551020408163265,
          7.7142857142857135,
          7.877551020408163,
          8.040816326530612,
          8.204081632653061,
          8.367346938775508,
          8.53061224489796,
          8.693877551020407,
          8.857142857142858,
          9.020408163265305,
          9.183673469387754,
          9.346938775510203,
          9.510204081632653,
          9.673469387755102,
          9.83673469387755,
          10
         ],
         "y": [
          2,
          2.163265306122449,
          2.326530612244898,
          2.489795918367347,
          2.6530612244897958,
          2.816326530612245,
          2.979591836734694,
          3.142857142857143,
          3.3061224489795915,
          3.4693877551020407,
          3.63265306122449,
          3.7959183673469385,
          3.9591836734693877,
          4.122448979591836,
          4.285714285714286,
          4.448979591836734,
          4.612244897959183,
          4.775510204081632,
          4.938775510204081,
          5.1020408163265305,
          5.26530612244898,
          5.428571428571429,
          5.591836734693877,
          5.755102040816326,
          5.918367346938775,
          6.081632653061225,
          6.244897959183673,
          6.408163265306122,
          6.571428571428571,
          6.73469387755102,
          6.897959183673469,
          7.061224489795918,
          7.224489795918367,
          7.387755102040816,
          7.551020408163265,
          7.7142857142857135,
          7.877551020408163,
          8.040816326530612,
          8.204081632653061,
          8.367346938775508,
          8.53061224489796,
          8.693877551020407,
          8.857142857142858,
          9.020408163265305,
          9.183673469387754,
          9.346938775510203,
          9.510204081632653,
          9.673469387755102,
          9.83673469387755,
          10
         ]
        },
        {
         "mode": "lines",
         "type": "scatter",
         "x": [
          2,
          2.163265306122449,
          2.326530612244898,
          2.489795918367347,
          2.6530612244897958,
          2.816326530612245,
          2.979591836734694,
          3.142857142857143,
          3.3061224489795915,
          3.4693877551020407,
          3.63265306122449,
          3.7959183673469385,
          3.9591836734693877,
          4.122448979591836,
          4.285714285714286,
          4.448979591836734,
          4.612244897959183,
          4.775510204081632,
          4.938775510204081,
          5.1020408163265305,
          5.26530612244898,
          5.428571428571429,
          5.591836734693877,
          5.755102040816326,
          5.918367346938775,
          6.081632653061225,
          6.244897959183673,
          6.408163265306122,
          6.571428571428571,
          6.73469387755102,
          6.897959183673469,
          7.061224489795918,
          7.224489795918367,
          7.387755102040816,
          7.551020408163265,
          7.7142857142857135,
          7.877551020408163,
          8.040816326530612,
          8.204081632653061,
          8.367346938775508,
          8.53061224489796,
          8.693877551020407,
          8.857142857142858,
          9.020408163265305,
          9.183673469387754,
          9.346938775510203,
          9.510204081632653,
          9.673469387755102,
          9.83673469387755,
          10
         ],
         "y": [
          2,
          2,
          2,
          2,
          2,
          2,
          2,
          2,
          2,
          2,
          2,
          2,
          2,
          2,
          2,
          2,
          2,
          2,
          2,
          2,
          2,
          2,
          2,
          2,
          2,
          2,
          2,
          2,
          2,
          2,
          2,
          2,
          2,
          2,
          2,
          2,
          2,
          2,
          2,
          2,
          2,
          2,
          2,
          2,
          2,
          2,
          2,
          2,
          2,
          2,
          2,
          2,
          2,
          2,
          2,
          2,
          2,
          2,
          2,
          2,
          2,
          2,
          2,
          2,
          2,
          2,
          2,
          2,
          2,
          2,
          2,
          2,
          2,
          2,
          2,
          2,
          2,
          2,
          2,
          2,
          2,
          2,
          2,
          2,
          2,
          2,
          2,
          2,
          2,
          2,
          2,
          2,
          2,
          2,
          2,
          2,
          2,
          2,
          2,
          2
         ]
        },
        {
         "mode": "lines",
         "type": "scatter",
         "x": [
          2.6530612244897958,
          2.816326530612245,
          2.979591836734694,
          3.142857142857143,
          3.3061224489795915,
          3.4693877551020407,
          3.63265306122449,
          3.7959183673469385,
          3.9591836734693877,
          4.122448979591836,
          4.285714285714286,
          4.448979591836734,
          4.612244897959183,
          4.775510204081632,
          4.938775510204081,
          5.1020408163265305,
          5.26530612244898,
          5.428571428571429,
          5.591836734693877,
          5.755102040816326
         ],
         "y": [
          3.6530612244897958,
          3.816326530612245,
          3.979591836734694,
          4.142857142857142,
          4.3061224489795915,
          4.469387755102041,
          4.63265306122449,
          4.795918367346939,
          4.959183673469388,
          5.122448979591836,
          5.285714285714286,
          5.448979591836734,
          5.612244897959183,
          5.775510204081632,
          5.938775510204081,
          6.1020408163265305,
          6.26530612244898,
          6.428571428571429,
          6.591836734693877,
          6.755102040816326,
          6.918367346938775,
          7.081632653061225,
          7.244897959183673,
          7.408163265306122,
          7.571428571428571,
          7.73469387755102,
          7.897959183673469,
          8.061224489795919,
          8.224489795918366,
          8.387755102040817,
          8.551020408163264,
          8.714285714285714,
          8.877551020408163,
          9.040816326530612,
          9.204081632653061,
          9.367346938775508,
          9.53061224489796,
          9.693877551020407,
          9.857142857142858,
          10.020408163265305,
          10.183673469387754,
          10.346938775510203,
          10.510204081632653,
          10.673469387755102,
          10.83673469387755,
          11
         ]
        }
       ],
       "layout": {
        "annotations": [
         {
          "align": "center",
          "arrowcolor": "#636363",
          "arrowhead": 2,
          "arrowsize": 1,
          "arrowwidth": 2,
          "ax": 20,
          "ay": -30,
          "bgcolor": "orange",
          "bordercolor": "#c7c7c7",
          "borderpad": 4,
          "borderwidth": 2,
          "opacity": 0.8,
          "showarrow": true,
          "text": "A",
          "x": 2,
          "xref": "x",
          "y": 2,
          "yref": "y"
         },
         {
          "align": "center",
          "arrowcolor": "#636363",
          "arrowhead": 2,
          "arrowsize": 1,
          "arrowwidth": 2,
          "ax": 20,
          "ay": -30,
          "bgcolor": "yellow",
          "bordercolor": "#c7c7c7",
          "borderpad": 4,
          "borderwidth": 2,
          "opacity": 0.8,
          "showarrow": true,
          "text": "B",
          "x": 6,
          "xref": "x",
          "y": 6,
          "yref": "y"
         },
         {
          "ay": -40,
          "text": "d",
          "x": 4,
          "xref": "x",
          "y": 5,
          "yref": "y"
         },
         {
          "ax": 80,
          "ay": -10,
          "text": "angle L",
          "x": 2,
          "xref": "x",
          "y": 2,
          "yref": "y"
         }
        ],
        "height": 400,
        "showlegend": false,
        "template": {
         "data": {
          "bar": [
           {
            "error_x": {
             "color": "#2a3f5f"
            },
            "error_y": {
             "color": "#2a3f5f"
            },
            "marker": {
             "line": {
              "color": "#E5ECF6",
              "width": 0.5
             }
            },
            "type": "bar"
           }
          ],
          "barpolar": [
           {
            "marker": {
             "line": {
              "color": "#E5ECF6",
              "width": 0.5
             }
            },
            "type": "barpolar"
           }
          ],
          "carpet": [
           {
            "aaxis": {
             "endlinecolor": "#2a3f5f",
             "gridcolor": "white",
             "linecolor": "white",
             "minorgridcolor": "white",
             "startlinecolor": "#2a3f5f"
            },
            "baxis": {
             "endlinecolor": "#2a3f5f",
             "gridcolor": "white",
             "linecolor": "white",
             "minorgridcolor": "white",
             "startlinecolor": "#2a3f5f"
            },
            "type": "carpet"
           }
          ],
          "choropleth": [
           {
            "colorbar": {
             "outlinewidth": 0,
             "ticks": ""
            },
            "type": "choropleth"
           }
          ],
          "contour": [
           {
            "colorbar": {
             "outlinewidth": 0,
             "ticks": ""
            },
            "colorscale": [
             [
              0,
              "#0d0887"
             ],
             [
              0.1111111111111111,
              "#46039f"
             ],
             [
              0.2222222222222222,
              "#7201a8"
             ],
             [
              0.3333333333333333,
              "#9c179e"
             ],
             [
              0.4444444444444444,
              "#bd3786"
             ],
             [
              0.5555555555555556,
              "#d8576b"
             ],
             [
              0.6666666666666666,
              "#ed7953"
             ],
             [
              0.7777777777777778,
              "#fb9f3a"
             ],
             [
              0.8888888888888888,
              "#fdca26"
             ],
             [
              1,
              "#f0f921"
             ]
            ],
            "type": "contour"
           }
          ],
          "contourcarpet": [
           {
            "colorbar": {
             "outlinewidth": 0,
             "ticks": ""
            },
            "type": "contourcarpet"
           }
          ],
          "heatmap": [
           {
            "colorbar": {
             "outlinewidth": 0,
             "ticks": ""
            },
            "colorscale": [
             [
              0,
              "#0d0887"
             ],
             [
              0.1111111111111111,
              "#46039f"
             ],
             [
              0.2222222222222222,
              "#7201a8"
             ],
             [
              0.3333333333333333,
              "#9c179e"
             ],
             [
              0.4444444444444444,
              "#bd3786"
             ],
             [
              0.5555555555555556,
              "#d8576b"
             ],
             [
              0.6666666666666666,
              "#ed7953"
             ],
             [
              0.7777777777777778,
              "#fb9f3a"
             ],
             [
              0.8888888888888888,
              "#fdca26"
             ],
             [
              1,
              "#f0f921"
             ]
            ],
            "type": "heatmap"
           }
          ],
          "heatmapgl": [
           {
            "colorbar": {
             "outlinewidth": 0,
             "ticks": ""
            },
            "colorscale": [
             [
              0,
              "#0d0887"
             ],
             [
              0.1111111111111111,
              "#46039f"
             ],
             [
              0.2222222222222222,
              "#7201a8"
             ],
             [
              0.3333333333333333,
              "#9c179e"
             ],
             [
              0.4444444444444444,
              "#bd3786"
             ],
             [
              0.5555555555555556,
              "#d8576b"
             ],
             [
              0.6666666666666666,
              "#ed7953"
             ],
             [
              0.7777777777777778,
              "#fb9f3a"
             ],
             [
              0.8888888888888888,
              "#fdca26"
             ],
             [
              1,
              "#f0f921"
             ]
            ],
            "type": "heatmapgl"
           }
          ],
          "histogram": [
           {
            "marker": {
             "colorbar": {
              "outlinewidth": 0,
              "ticks": ""
             }
            },
            "type": "histogram"
           }
          ],
          "histogram2d": [
           {
            "colorbar": {
             "outlinewidth": 0,
             "ticks": ""
            },
            "colorscale": [
             [
              0,
              "#0d0887"
             ],
             [
              0.1111111111111111,
              "#46039f"
             ],
             [
              0.2222222222222222,
              "#7201a8"
             ],
             [
              0.3333333333333333,
              "#9c179e"
             ],
             [
              0.4444444444444444,
              "#bd3786"
             ],
             [
              0.5555555555555556,
              "#d8576b"
             ],
             [
              0.6666666666666666,
              "#ed7953"
             ],
             [
              0.7777777777777778,
              "#fb9f3a"
             ],
             [
              0.8888888888888888,
              "#fdca26"
             ],
             [
              1,
              "#f0f921"
             ]
            ],
            "type": "histogram2d"
           }
          ],
          "histogram2dcontour": [
           {
            "colorbar": {
             "outlinewidth": 0,
             "ticks": ""
            },
            "colorscale": [
             [
              0,
              "#0d0887"
             ],
             [
              0.1111111111111111,
              "#46039f"
             ],
             [
              0.2222222222222222,
              "#7201a8"
             ],
             [
              0.3333333333333333,
              "#9c179e"
             ],
             [
              0.4444444444444444,
              "#bd3786"
             ],
             [
              0.5555555555555556,
              "#d8576b"
             ],
             [
              0.6666666666666666,
              "#ed7953"
             ],
             [
              0.7777777777777778,
              "#fb9f3a"
             ],
             [
              0.8888888888888888,
              "#fdca26"
             ],
             [
              1,
              "#f0f921"
             ]
            ],
            "type": "histogram2dcontour"
           }
          ],
          "mesh3d": [
           {
            "colorbar": {
             "outlinewidth": 0,
             "ticks": ""
            },
            "type": "mesh3d"
           }
          ],
          "parcoords": [
           {
            "line": {
             "colorbar": {
              "outlinewidth": 0,
              "ticks": ""
             }
            },
            "type": "parcoords"
           }
          ],
          "pie": [
           {
            "automargin": true,
            "type": "pie"
           }
          ],
          "scatter": [
           {
            "marker": {
             "colorbar": {
              "outlinewidth": 0,
              "ticks": ""
             }
            },
            "type": "scatter"
           }
          ],
          "scatter3d": [
           {
            "line": {
             "colorbar": {
              "outlinewidth": 0,
              "ticks": ""
             }
            },
            "marker": {
             "colorbar": {
              "outlinewidth": 0,
              "ticks": ""
             }
            },
            "type": "scatter3d"
           }
          ],
          "scattercarpet": [
           {
            "marker": {
             "colorbar": {
              "outlinewidth": 0,
              "ticks": ""
             }
            },
            "type": "scattercarpet"
           }
          ],
          "scattergeo": [
           {
            "marker": {
             "colorbar": {
              "outlinewidth": 0,
              "ticks": ""
             }
            },
            "type": "scattergeo"
           }
          ],
          "scattergl": [
           {
            "marker": {
             "colorbar": {
              "outlinewidth": 0,
              "ticks": ""
             }
            },
            "type": "scattergl"
           }
          ],
          "scattermapbox": [
           {
            "marker": {
             "colorbar": {
              "outlinewidth": 0,
              "ticks": ""
             }
            },
            "type": "scattermapbox"
           }
          ],
          "scatterpolar": [
           {
            "marker": {
             "colorbar": {
              "outlinewidth": 0,
              "ticks": ""
             }
            },
            "type": "scatterpolar"
           }
          ],
          "scatterpolargl": [
           {
            "marker": {
             "colorbar": {
              "outlinewidth": 0,
              "ticks": ""
             }
            },
            "type": "scatterpolargl"
           }
          ],
          "scatterternary": [
           {
            "marker": {
             "colorbar": {
              "outlinewidth": 0,
              "ticks": ""
             }
            },
            "type": "scatterternary"
           }
          ],
          "surface": [
           {
            "colorbar": {
             "outlinewidth": 0,
             "ticks": ""
            },
            "colorscale": [
             [
              0,
              "#0d0887"
             ],
             [
              0.1111111111111111,
              "#46039f"
             ],
             [
              0.2222222222222222,
              "#7201a8"
             ],
             [
              0.3333333333333333,
              "#9c179e"
             ],
             [
              0.4444444444444444,
              "#bd3786"
             ],
             [
              0.5555555555555556,
              "#d8576b"
             ],
             [
              0.6666666666666666,
              "#ed7953"
             ],
             [
              0.7777777777777778,
              "#fb9f3a"
             ],
             [
              0.8888888888888888,
              "#fdca26"
             ],
             [
              1,
              "#f0f921"
             ]
            ],
            "type": "surface"
           }
          ],
          "table": [
           {
            "cells": {
             "fill": {
              "color": "#EBF0F8"
             },
             "line": {
              "color": "white"
             }
            },
            "header": {
             "fill": {
              "color": "#C8D4E3"
             },
             "line": {
              "color": "white"
             }
            },
            "type": "table"
           }
          ]
         },
         "layout": {
          "annotationdefaults": {
           "arrowcolor": "#2a3f5f",
           "arrowhead": 0,
           "arrowwidth": 1
          },
          "coloraxis": {
           "colorbar": {
            "outlinewidth": 0,
            "ticks": ""
           }
          },
          "colorscale": {
           "diverging": [
            [
             0,
             "#8e0152"
            ],
            [
             0.1,
             "#c51b7d"
            ],
            [
             0.2,
             "#de77ae"
            ],
            [
             0.3,
             "#f1b6da"
            ],
            [
             0.4,
             "#fde0ef"
            ],
            [
             0.5,
             "#f7f7f7"
            ],
            [
             0.6,
             "#e6f5d0"
            ],
            [
             0.7,
             "#b8e186"
            ],
            [
             0.8,
             "#7fbc41"
            ],
            [
             0.9,
             "#4d9221"
            ],
            [
             1,
             "#276419"
            ]
           ],
           "sequential": [
            [
             0,
             "#0d0887"
            ],
            [
             0.1111111111111111,
             "#46039f"
            ],
            [
             0.2222222222222222,
             "#7201a8"
            ],
            [
             0.3333333333333333,
             "#9c179e"
            ],
            [
             0.4444444444444444,
             "#bd3786"
            ],
            [
             0.5555555555555556,
             "#d8576b"
            ],
            [
             0.6666666666666666,
             "#ed7953"
            ],
            [
             0.7777777777777778,
             "#fb9f3a"
            ],
            [
             0.8888888888888888,
             "#fdca26"
            ],
            [
             1,
             "#f0f921"
            ]
           ],
           "sequentialminus": [
            [
             0,
             "#0d0887"
            ],
            [
             0.1111111111111111,
             "#46039f"
            ],
            [
             0.2222222222222222,
             "#7201a8"
            ],
            [
             0.3333333333333333,
             "#9c179e"
            ],
            [
             0.4444444444444444,
             "#bd3786"
            ],
            [
             0.5555555555555556,
             "#d8576b"
            ],
            [
             0.6666666666666666,
             "#ed7953"
            ],
            [
             0.7777777777777778,
             "#fb9f3a"
            ],
            [
             0.8888888888888888,
             "#fdca26"
            ],
            [
             1,
             "#f0f921"
            ]
           ]
          },
          "colorway": [
           "#636efa",
           "#EF553B",
           "#00cc96",
           "#ab63fa",
           "#FFA15A",
           "#19d3f3",
           "#FF6692",
           "#B6E880",
           "#FF97FF",
           "#FECB52"
          ],
          "font": {
           "color": "#2a3f5f"
          },
          "geo": {
           "bgcolor": "white",
           "lakecolor": "white",
           "landcolor": "#E5ECF6",
           "showlakes": true,
           "showland": true,
           "subunitcolor": "white"
          },
          "hoverlabel": {
           "align": "left"
          },
          "hovermode": "closest",
          "mapbox": {
           "style": "light"
          },
          "paper_bgcolor": "white",
          "plot_bgcolor": "#E5ECF6",
          "polar": {
           "angularaxis": {
            "gridcolor": "white",
            "linecolor": "white",
            "ticks": ""
           },
           "bgcolor": "#E5ECF6",
           "radialaxis": {
            "gridcolor": "white",
            "linecolor": "white",
            "ticks": ""
           }
          },
          "scene": {
           "xaxis": {
            "backgroundcolor": "#E5ECF6",
            "gridcolor": "white",
            "gridwidth": 2,
            "linecolor": "white",
            "showbackground": true,
            "ticks": "",
            "zerolinecolor": "white"
           },
           "yaxis": {
            "backgroundcolor": "#E5ECF6",
            "gridcolor": "white",
            "gridwidth": 2,
            "linecolor": "white",
            "showbackground": true,
            "ticks": "",
            "zerolinecolor": "white"
           },
           "zaxis": {
            "backgroundcolor": "#E5ECF6",
            "gridcolor": "white",
            "gridwidth": 2,
            "linecolor": "white",
            "showbackground": true,
            "ticks": "",
            "zerolinecolor": "white"
           }
          },
          "shapedefaults": {
           "line": {
            "color": "#2a3f5f"
           }
          },
          "ternary": {
           "aaxis": {
            "gridcolor": "white",
            "linecolor": "white",
            "ticks": ""
           },
           "baxis": {
            "gridcolor": "white",
            "linecolor": "white",
            "ticks": ""
           },
           "bgcolor": "#E5ECF6",
           "caxis": {
            "gridcolor": "white",
            "linecolor": "white",
            "ticks": ""
           }
          },
          "title": {
           "x": 0.05
          },
          "xaxis": {
           "automargin": true,
           "gridcolor": "white",
           "linecolor": "white",
           "ticks": "",
           "title": {
            "standoff": 15
           },
           "zerolinecolor": "white",
           "zerolinewidth": 2
          },
          "yaxis": {
           "automargin": true,
           "gridcolor": "white",
           "linecolor": "white",
           "ticks": "",
           "title": {
            "standoff": 15
           },
           "zerolinecolor": "white",
           "zerolinewidth": 2
          }
         }
        },
        "title": {
         "text": "2D Data Representation Space"
        },
        "xaxis": {
         "range": [
          0,
          12
         ],
         "title": {
          "text": "x1"
         }
        },
        "yaxis": {
         "range": [
          0,
          12
         ],
         "title": {
          "text": "x2"
         }
        }
       }
      },
      "text/html": [
       "<div>                            <div id=\"d3b3c134-83df-4daf-90cb-30b9dcceef96\" class=\"plotly-graph-div\" style=\"height:400px; width:100%;\"></div>            <script type=\"text/javascript\">                require([\"plotly\"], function(Plotly) {                    window.PLOTLYENV=window.PLOTLYENV || {};                                    if (document.getElementById(\"d3b3c134-83df-4daf-90cb-30b9dcceef96\")) {                    Plotly.newPlot(                        \"d3b3c134-83df-4daf-90cb-30b9dcceef96\",                        [{\"mode\": \"markers\", \"type\": \"scatter\", \"x\": [2.0, 2.163265306122449, 2.326530612244898, 2.489795918367347, 2.6530612244897958, 2.816326530612245, 2.979591836734694, 3.142857142857143, 3.3061224489795915, 3.4693877551020407, 3.63265306122449, 3.7959183673469385, 3.9591836734693877, 4.122448979591836, 4.285714285714286, 4.448979591836734, 4.612244897959183, 4.775510204081632, 4.938775510204081, 5.1020408163265305, 5.26530612244898, 5.428571428571429, 5.591836734693877, 5.755102040816326, 5.918367346938775, 6.081632653061225, 6.244897959183673, 6.408163265306122, 6.571428571428571, 6.73469387755102, 6.897959183673469, 7.061224489795918, 7.224489795918367, 7.387755102040816, 7.551020408163265, 7.7142857142857135, 7.877551020408163, 8.040816326530612, 8.204081632653061, 8.367346938775508, 8.53061224489796, 8.693877551020407, 8.857142857142858, 9.020408163265305, 9.183673469387754, 9.346938775510203, 9.510204081632653, 9.673469387755102, 9.83673469387755, 10.0], \"y\": [2.0, 2.163265306122449, 2.326530612244898, 2.489795918367347, 2.6530612244897958, 2.816326530612245, 2.979591836734694, 3.142857142857143, 3.3061224489795915, 3.4693877551020407, 3.63265306122449, 3.7959183673469385, 3.9591836734693877, 4.122448979591836, 4.285714285714286, 4.448979591836734, 4.612244897959183, 4.775510204081632, 4.938775510204081, 5.1020408163265305, 5.26530612244898, 5.428571428571429, 5.591836734693877, 5.755102040816326, 5.918367346938775, 6.081632653061225, 6.244897959183673, 6.408163265306122, 6.571428571428571, 6.73469387755102, 6.897959183673469, 7.061224489795918, 7.224489795918367, 7.387755102040816, 7.551020408163265, 7.7142857142857135, 7.877551020408163, 8.040816326530612, 8.204081632653061, 8.367346938775508, 8.53061224489796, 8.693877551020407, 8.857142857142858, 9.020408163265305, 9.183673469387754, 9.346938775510203, 9.510204081632653, 9.673469387755102, 9.83673469387755, 10.0]}, {\"mode\": \"lines\", \"type\": \"scatter\", \"x\": [2.0, 2.163265306122449, 2.326530612244898, 2.489795918367347, 2.6530612244897958, 2.816326530612245, 2.979591836734694, 3.142857142857143, 3.3061224489795915, 3.4693877551020407, 3.63265306122449, 3.7959183673469385, 3.9591836734693877, 4.122448979591836, 4.285714285714286, 4.448979591836734, 4.612244897959183, 4.775510204081632, 4.938775510204081, 5.1020408163265305, 5.26530612244898, 5.428571428571429, 5.591836734693877, 5.755102040816326, 5.918367346938775, 6.081632653061225, 6.244897959183673, 6.408163265306122, 6.571428571428571, 6.73469387755102, 6.897959183673469, 7.061224489795918, 7.224489795918367, 7.387755102040816, 7.551020408163265, 7.7142857142857135, 7.877551020408163, 8.040816326530612, 8.204081632653061, 8.367346938775508, 8.53061224489796, 8.693877551020407, 8.857142857142858, 9.020408163265305, 9.183673469387754, 9.346938775510203, 9.510204081632653, 9.673469387755102, 9.83673469387755, 10.0], \"y\": [2.0, 2.163265306122449, 2.326530612244898, 2.489795918367347, 2.6530612244897958, 2.816326530612245, 2.979591836734694, 3.142857142857143, 3.3061224489795915, 3.4693877551020407, 3.63265306122449, 3.7959183673469385, 3.9591836734693877, 4.122448979591836, 4.285714285714286, 4.448979591836734, 4.612244897959183, 4.775510204081632, 4.938775510204081, 5.1020408163265305, 5.26530612244898, 5.428571428571429, 5.591836734693877, 5.755102040816326, 5.918367346938775, 6.081632653061225, 6.244897959183673, 6.408163265306122, 6.571428571428571, 6.73469387755102, 6.897959183673469, 7.061224489795918, 7.224489795918367, 7.387755102040816, 7.551020408163265, 7.7142857142857135, 7.877551020408163, 8.040816326530612, 8.204081632653061, 8.367346938775508, 8.53061224489796, 8.693877551020407, 8.857142857142858, 9.020408163265305, 9.183673469387754, 9.346938775510203, 9.510204081632653, 9.673469387755102, 9.83673469387755, 10.0]}, {\"mode\": \"lines\", \"type\": \"scatter\", \"x\": [2.0, 2.163265306122449, 2.326530612244898, 2.489795918367347, 2.6530612244897958, 2.816326530612245, 2.979591836734694, 3.142857142857143, 3.3061224489795915, 3.4693877551020407, 3.63265306122449, 3.7959183673469385, 3.9591836734693877, 4.122448979591836, 4.285714285714286, 4.448979591836734, 4.612244897959183, 4.775510204081632, 4.938775510204081, 5.1020408163265305, 5.26530612244898, 5.428571428571429, 5.591836734693877, 5.755102040816326, 5.918367346938775, 6.081632653061225, 6.244897959183673, 6.408163265306122, 6.571428571428571, 6.73469387755102, 6.897959183673469, 7.061224489795918, 7.224489795918367, 7.387755102040816, 7.551020408163265, 7.7142857142857135, 7.877551020408163, 8.040816326530612, 8.204081632653061, 8.367346938775508, 8.53061224489796, 8.693877551020407, 8.857142857142858, 9.020408163265305, 9.183673469387754, 9.346938775510203, 9.510204081632653, 9.673469387755102, 9.83673469387755, 10.0], \"y\": [2, 2, 2, 2, 2, 2, 2, 2, 2, 2, 2, 2, 2, 2, 2, 2, 2, 2, 2, 2, 2, 2, 2, 2, 2, 2, 2, 2, 2, 2, 2, 2, 2, 2, 2, 2, 2, 2, 2, 2, 2, 2, 2, 2, 2, 2, 2, 2, 2, 2, 2, 2, 2, 2, 2, 2, 2, 2, 2, 2, 2, 2, 2, 2, 2, 2, 2, 2, 2, 2, 2, 2, 2, 2, 2, 2, 2, 2, 2, 2, 2, 2, 2, 2, 2, 2, 2, 2, 2, 2, 2, 2, 2, 2, 2, 2, 2, 2, 2, 2]}, {\"mode\": \"lines\", \"type\": \"scatter\", \"x\": [2.6530612244897958, 2.816326530612245, 2.979591836734694, 3.142857142857143, 3.3061224489795915, 3.4693877551020407, 3.63265306122449, 3.7959183673469385, 3.9591836734693877, 4.122448979591836, 4.285714285714286, 4.448979591836734, 4.612244897959183, 4.775510204081632, 4.938775510204081, 5.1020408163265305, 5.26530612244898, 5.428571428571429, 5.591836734693877, 5.755102040816326], \"y\": [3.6530612244897958, 3.816326530612245, 3.979591836734694, 4.142857142857142, 4.3061224489795915, 4.469387755102041, 4.63265306122449, 4.795918367346939, 4.959183673469388, 5.122448979591836, 5.285714285714286, 5.448979591836734, 5.612244897959183, 5.775510204081632, 5.938775510204081, 6.1020408163265305, 6.26530612244898, 6.428571428571429, 6.591836734693877, 6.755102040816326, 6.918367346938775, 7.081632653061225, 7.244897959183673, 7.408163265306122, 7.571428571428571, 7.73469387755102, 7.897959183673469, 8.061224489795919, 8.224489795918366, 8.387755102040817, 8.551020408163264, 8.714285714285714, 8.877551020408163, 9.040816326530612, 9.204081632653061, 9.367346938775508, 9.53061224489796, 9.693877551020407, 9.857142857142858, 10.020408163265305, 10.183673469387754, 10.346938775510203, 10.510204081632653, 10.673469387755102, 10.83673469387755, 11.0]}],                        {\"annotations\": [{\"align\": \"center\", \"arrowcolor\": \"#636363\", \"arrowhead\": 2, \"arrowsize\": 1, \"arrowwidth\": 2, \"ax\": 20, \"ay\": -30, \"bgcolor\": \"orange\", \"bordercolor\": \"#c7c7c7\", \"borderpad\": 4, \"borderwidth\": 2, \"opacity\": 0.8, \"showarrow\": true, \"text\": \"A\", \"x\": 2, \"xref\": \"x\", \"y\": 2, \"yref\": \"y\"}, {\"align\": \"center\", \"arrowcolor\": \"#636363\", \"arrowhead\": 2, \"arrowsize\": 1, \"arrowwidth\": 2, \"ax\": 20, \"ay\": -30, \"bgcolor\": \"yellow\", \"bordercolor\": \"#c7c7c7\", \"borderpad\": 4, \"borderwidth\": 2, \"opacity\": 0.8, \"showarrow\": true, \"text\": \"B\", \"x\": 6, \"xref\": \"x\", \"y\": 6, \"yref\": \"y\"}, {\"ay\": -40, \"text\": \"d\", \"x\": 4, \"xref\": \"x\", \"y\": 5, \"yref\": \"y\"}, {\"ax\": 80, \"ay\": -10, \"text\": \"angle L\", \"x\": 2, \"xref\": \"x\", \"y\": 2, \"yref\": \"y\"}], \"height\": 400, \"showlegend\": false, \"template\": {\"data\": {\"bar\": [{\"error_x\": {\"color\": \"#2a3f5f\"}, \"error_y\": {\"color\": \"#2a3f5f\"}, \"marker\": {\"line\": {\"color\": \"#E5ECF6\", \"width\": 0.5}}, \"type\": \"bar\"}], \"barpolar\": [{\"marker\": {\"line\": {\"color\": \"#E5ECF6\", \"width\": 0.5}}, \"type\": \"barpolar\"}], \"carpet\": [{\"aaxis\": {\"endlinecolor\": \"#2a3f5f\", \"gridcolor\": \"white\", \"linecolor\": \"white\", \"minorgridcolor\": \"white\", \"startlinecolor\": \"#2a3f5f\"}, \"baxis\": {\"endlinecolor\": \"#2a3f5f\", \"gridcolor\": \"white\", \"linecolor\": \"white\", \"minorgridcolor\": \"white\", \"startlinecolor\": \"#2a3f5f\"}, \"type\": \"carpet\"}], \"choropleth\": [{\"colorbar\": {\"outlinewidth\": 0, \"ticks\": \"\"}, \"type\": \"choropleth\"}], \"contour\": [{\"colorbar\": {\"outlinewidth\": 0, \"ticks\": \"\"}, \"colorscale\": [[0.0, \"#0d0887\"], [0.1111111111111111, \"#46039f\"], [0.2222222222222222, \"#7201a8\"], [0.3333333333333333, \"#9c179e\"], [0.4444444444444444, \"#bd3786\"], [0.5555555555555556, \"#d8576b\"], [0.6666666666666666, \"#ed7953\"], [0.7777777777777778, \"#fb9f3a\"], [0.8888888888888888, \"#fdca26\"], [1.0, \"#f0f921\"]], \"type\": \"contour\"}], \"contourcarpet\": [{\"colorbar\": {\"outlinewidth\": 0, \"ticks\": \"\"}, \"type\": \"contourcarpet\"}], \"heatmap\": [{\"colorbar\": {\"outlinewidth\": 0, \"ticks\": \"\"}, \"colorscale\": [[0.0, \"#0d0887\"], [0.1111111111111111, \"#46039f\"], [0.2222222222222222, \"#7201a8\"], [0.3333333333333333, \"#9c179e\"], [0.4444444444444444, \"#bd3786\"], [0.5555555555555556, \"#d8576b\"], [0.6666666666666666, \"#ed7953\"], [0.7777777777777778, \"#fb9f3a\"], [0.8888888888888888, \"#fdca26\"], [1.0, \"#f0f921\"]], \"type\": \"heatmap\"}], \"heatmapgl\": [{\"colorbar\": {\"outlinewidth\": 0, \"ticks\": \"\"}, \"colorscale\": [[0.0, \"#0d0887\"], [0.1111111111111111, \"#46039f\"], [0.2222222222222222, \"#7201a8\"], [0.3333333333333333, \"#9c179e\"], [0.4444444444444444, \"#bd3786\"], [0.5555555555555556, \"#d8576b\"], [0.6666666666666666, \"#ed7953\"], [0.7777777777777778, \"#fb9f3a\"], [0.8888888888888888, \"#fdca26\"], [1.0, \"#f0f921\"]], \"type\": \"heatmapgl\"}], \"histogram\": [{\"marker\": {\"colorbar\": {\"outlinewidth\": 0, \"ticks\": \"\"}}, \"type\": \"histogram\"}], \"histogram2d\": [{\"colorbar\": {\"outlinewidth\": 0, \"ticks\": \"\"}, \"colorscale\": [[0.0, \"#0d0887\"], [0.1111111111111111, \"#46039f\"], [0.2222222222222222, \"#7201a8\"], [0.3333333333333333, \"#9c179e\"], [0.4444444444444444, \"#bd3786\"], [0.5555555555555556, \"#d8576b\"], [0.6666666666666666, \"#ed7953\"], [0.7777777777777778, \"#fb9f3a\"], [0.8888888888888888, \"#fdca26\"], [1.0, \"#f0f921\"]], \"type\": \"histogram2d\"}], \"histogram2dcontour\": [{\"colorbar\": {\"outlinewidth\": 0, \"ticks\": \"\"}, \"colorscale\": [[0.0, \"#0d0887\"], [0.1111111111111111, \"#46039f\"], [0.2222222222222222, \"#7201a8\"], [0.3333333333333333, \"#9c179e\"], [0.4444444444444444, \"#bd3786\"], [0.5555555555555556, \"#d8576b\"], [0.6666666666666666, \"#ed7953\"], [0.7777777777777778, \"#fb9f3a\"], [0.8888888888888888, \"#fdca26\"], [1.0, \"#f0f921\"]], \"type\": \"histogram2dcontour\"}], \"mesh3d\": [{\"colorbar\": {\"outlinewidth\": 0, \"ticks\": \"\"}, \"type\": \"mesh3d\"}], \"parcoords\": [{\"line\": {\"colorbar\": {\"outlinewidth\": 0, \"ticks\": \"\"}}, \"type\": \"parcoords\"}], \"pie\": [{\"automargin\": true, \"type\": \"pie\"}], \"scatter\": [{\"marker\": {\"colorbar\": {\"outlinewidth\": 0, \"ticks\": \"\"}}, \"type\": \"scatter\"}], \"scatter3d\": [{\"line\": {\"colorbar\": {\"outlinewidth\": 0, \"ticks\": \"\"}}, \"marker\": {\"colorbar\": {\"outlinewidth\": 0, \"ticks\": \"\"}}, \"type\": \"scatter3d\"}], \"scattercarpet\": [{\"marker\": {\"colorbar\": {\"outlinewidth\": 0, \"ticks\": \"\"}}, \"type\": \"scattercarpet\"}], \"scattergeo\": [{\"marker\": {\"colorbar\": {\"outlinewidth\": 0, \"ticks\": \"\"}}, \"type\": \"scattergeo\"}], \"scattergl\": [{\"marker\": {\"colorbar\": {\"outlinewidth\": 0, \"ticks\": \"\"}}, \"type\": \"scattergl\"}], \"scattermapbox\": [{\"marker\": {\"colorbar\": {\"outlinewidth\": 0, \"ticks\": \"\"}}, \"type\": \"scattermapbox\"}], \"scatterpolar\": [{\"marker\": {\"colorbar\": {\"outlinewidth\": 0, \"ticks\": \"\"}}, \"type\": \"scatterpolar\"}], \"scatterpolargl\": [{\"marker\": {\"colorbar\": {\"outlinewidth\": 0, \"ticks\": \"\"}}, \"type\": \"scatterpolargl\"}], \"scatterternary\": [{\"marker\": {\"colorbar\": {\"outlinewidth\": 0, \"ticks\": \"\"}}, \"type\": \"scatterternary\"}], \"surface\": [{\"colorbar\": {\"outlinewidth\": 0, \"ticks\": \"\"}, \"colorscale\": [[0.0, \"#0d0887\"], [0.1111111111111111, \"#46039f\"], [0.2222222222222222, \"#7201a8\"], [0.3333333333333333, \"#9c179e\"], [0.4444444444444444, \"#bd3786\"], [0.5555555555555556, \"#d8576b\"], [0.6666666666666666, \"#ed7953\"], [0.7777777777777778, \"#fb9f3a\"], [0.8888888888888888, \"#fdca26\"], [1.0, \"#f0f921\"]], \"type\": \"surface\"}], \"table\": [{\"cells\": {\"fill\": {\"color\": \"#EBF0F8\"}, \"line\": {\"color\": \"white\"}}, \"header\": {\"fill\": {\"color\": \"#C8D4E3\"}, \"line\": {\"color\": \"white\"}}, \"type\": \"table\"}]}, \"layout\": {\"annotationdefaults\": {\"arrowcolor\": \"#2a3f5f\", \"arrowhead\": 0, \"arrowwidth\": 1}, \"coloraxis\": {\"colorbar\": {\"outlinewidth\": 0, \"ticks\": \"\"}}, \"colorscale\": {\"diverging\": [[0, \"#8e0152\"], [0.1, \"#c51b7d\"], [0.2, \"#de77ae\"], [0.3, \"#f1b6da\"], [0.4, \"#fde0ef\"], [0.5, \"#f7f7f7\"], [0.6, \"#e6f5d0\"], [0.7, \"#b8e186\"], [0.8, \"#7fbc41\"], [0.9, \"#4d9221\"], [1, \"#276419\"]], \"sequential\": [[0.0, \"#0d0887\"], [0.1111111111111111, \"#46039f\"], [0.2222222222222222, \"#7201a8\"], [0.3333333333333333, \"#9c179e\"], [0.4444444444444444, \"#bd3786\"], [0.5555555555555556, \"#d8576b\"], [0.6666666666666666, \"#ed7953\"], [0.7777777777777778, \"#fb9f3a\"], [0.8888888888888888, \"#fdca26\"], [1.0, \"#f0f921\"]], \"sequentialminus\": [[0.0, \"#0d0887\"], [0.1111111111111111, \"#46039f\"], [0.2222222222222222, \"#7201a8\"], [0.3333333333333333, \"#9c179e\"], [0.4444444444444444, \"#bd3786\"], [0.5555555555555556, \"#d8576b\"], [0.6666666666666666, \"#ed7953\"], [0.7777777777777778, \"#fb9f3a\"], [0.8888888888888888, \"#fdca26\"], [1.0, \"#f0f921\"]]}, \"colorway\": [\"#636efa\", \"#EF553B\", \"#00cc96\", \"#ab63fa\", \"#FFA15A\", \"#19d3f3\", \"#FF6692\", \"#B6E880\", \"#FF97FF\", \"#FECB52\"], \"font\": {\"color\": \"#2a3f5f\"}, \"geo\": {\"bgcolor\": \"white\", \"lakecolor\": \"white\", \"landcolor\": \"#E5ECF6\", \"showlakes\": true, \"showland\": true, \"subunitcolor\": \"white\"}, \"hoverlabel\": {\"align\": \"left\"}, \"hovermode\": \"closest\", \"mapbox\": {\"style\": \"light\"}, \"paper_bgcolor\": \"white\", \"plot_bgcolor\": \"#E5ECF6\", \"polar\": {\"angularaxis\": {\"gridcolor\": \"white\", \"linecolor\": \"white\", \"ticks\": \"\"}, \"bgcolor\": \"#E5ECF6\", \"radialaxis\": {\"gridcolor\": \"white\", \"linecolor\": \"white\", \"ticks\": \"\"}}, \"scene\": {\"xaxis\": {\"backgroundcolor\": \"#E5ECF6\", \"gridcolor\": \"white\", \"gridwidth\": 2, \"linecolor\": \"white\", \"showbackground\": true, \"ticks\": \"\", \"zerolinecolor\": \"white\"}, \"yaxis\": {\"backgroundcolor\": \"#E5ECF6\", \"gridcolor\": \"white\", \"gridwidth\": 2, \"linecolor\": \"white\", \"showbackground\": true, \"ticks\": \"\", \"zerolinecolor\": \"white\"}, \"zaxis\": {\"backgroundcolor\": \"#E5ECF6\", \"gridcolor\": \"white\", \"gridwidth\": 2, \"linecolor\": \"white\", \"showbackground\": true, \"ticks\": \"\", \"zerolinecolor\": \"white\"}}, \"shapedefaults\": {\"line\": {\"color\": \"#2a3f5f\"}}, \"ternary\": {\"aaxis\": {\"gridcolor\": \"white\", \"linecolor\": \"white\", \"ticks\": \"\"}, \"baxis\": {\"gridcolor\": \"white\", \"linecolor\": \"white\", \"ticks\": \"\"}, \"bgcolor\": \"#E5ECF6\", \"caxis\": {\"gridcolor\": \"white\", \"linecolor\": \"white\", \"ticks\": \"\"}}, \"title\": {\"x\": 0.05}, \"xaxis\": {\"automargin\": true, \"gridcolor\": \"white\", \"linecolor\": \"white\", \"ticks\": \"\", \"title\": {\"standoff\": 15}, \"zerolinecolor\": \"white\", \"zerolinewidth\": 2}, \"yaxis\": {\"automargin\": true, \"gridcolor\": \"white\", \"linecolor\": \"white\", \"ticks\": \"\", \"title\": {\"standoff\": 15}, \"zerolinecolor\": \"white\", \"zerolinewidth\": 2}}}, \"title\": {\"text\": \"2D Data Representation Space\"}, \"xaxis\": {\"range\": [0, 12], \"title\": {\"text\": \"x1\"}}, \"yaxis\": {\"range\": [0, 12], \"title\": {\"text\": \"x2\"}}},                        {\"responsive\": true}                    ).then(function(){\n",
       "                            \n",
       "var gd = document.getElementById('d3b3c134-83df-4daf-90cb-30b9dcceef96');\n",
       "var x = new MutationObserver(function (mutations, observer) {{\n",
       "        var display = window.getComputedStyle(gd).display;\n",
       "        if (!display || display === 'none') {{\n",
       "            console.log([gd, 'removed!']);\n",
       "            Plotly.purge(gd);\n",
       "            observer.disconnect();\n",
       "        }}\n",
       "}});\n",
       "\n",
       "// Listen for the removal of the full notebook cells\n",
       "var notebookContainer = gd.closest('#notebook-container');\n",
       "if (notebookContainer) {{\n",
       "    x.observe(notebookContainer, {childList: true});\n",
       "}}\n",
       "\n",
       "// Listen for the clearing of the current output cell\n",
       "var outputEl = gd.closest('.output');\n",
       "if (outputEl) {{\n",
       "    x.observe(outputEl, {childList: true});\n",
       "}}\n",
       "\n",
       "                        })                };                });            </script>        </div>"
      ]
     },
     "metadata": {},
     "output_type": "display_data"
    }
   ],
   "source": [
    "random_y3 = [2 for i in range(100)]\n",
    "random_y4 = random_y2 + 1\n",
    "trace4 = go.Scatter(x = random_x[4:24], y = random_y4[4:300], mode=\"lines\")\n",
    "trace3 = go.Scatter(x = random_x, y = random_y3, mode=\"lines\")\n",
    "trace1 = go.Scatter(x = random_x, y = random_y1, mode=\"markers\")\n",
    "trace2 = go.Scatter(x = random_x, y = random_y2, mode=\"lines\")\n",
    "layout = go.Layout(xaxis=dict(title=\"x1\", range=(0,12)), yaxis=dict(title=\"x2\", range=(0,12)), height=400,\n",
    "                   annotations=[dict(x=2, y=2, xref='x', yref='y', text='A', showarrow=True, align='center', arrowhead=2, arrowsize=1, arrowwidth=2, \n",
    "                                     arrowcolor='#636363', ax=20, ay=-30, bordercolor='#c7c7c7', borderwidth=2, borderpad=4, bgcolor='orange', opacity=0.8), \n",
    "                                dict(x=6, y=6, xref='x', yref='y', text='B', showarrow=True, align='center', arrowhead=2, arrowsize=1, arrowwidth=2, arrowcolor='#636363',\n",
    "                                     ax=20, ay=-30, bordercolor='#c7c7c7', borderwidth=2, borderpad=4, bgcolor='yellow', opacity=0.8), dict(\n",
    "                                     x=4, y=5, xref='x', yref='y',text='d', ay=-40), \n",
    "                                dict(x=2, y=2, xref='x', yref='y', text='angle L', ax=80, ay=-10)], title=\"2D Data Representation Space\", showlegend=False)\n",
    "data = [trace1, trace2, trace3, trace4]\n",
    "figure = go.Figure(data = data, layout = layout)\n",
    "iplot(figure)"
   ]
  },
  {
   "cell_type": "code",
   "execution_count": 5,
   "metadata": {
    "ExecuteTime": {
     "end_time": "2020-09-11T17:33:16.834600Z",
     "start_time": "2020-09-11T17:33:16.758290Z"
    }
   },
   "outputs": [
    {
     "data": {
      "application/vnd.plotly.v1+json": {
       "config": {
        "linkText": "Export to plot.ly",
        "plotlyServerURL": "https://plot.ly",
        "showLink": false
       },
       "data": [
        {
         "mode": "markers",
         "type": "scatter",
         "x": [
          2,
          2.163265306122449,
          2.326530612244898,
          2.489795918367347,
          2.6530612244897958,
          2.816326530612245,
          2.979591836734694,
          3.142857142857143,
          3.3061224489795915,
          3.4693877551020407,
          3.63265306122449,
          3.7959183673469385,
          3.9591836734693877,
          4.122448979591836,
          4.285714285714286,
          4.448979591836734,
          4.612244897959183,
          4.775510204081632,
          4.938775510204081,
          5.1020408163265305,
          5.26530612244898,
          5.428571428571429,
          5.591836734693877,
          5.755102040816326,
          5.918367346938775,
          6.081632653061225,
          6.244897959183673,
          6.408163265306122,
          6.571428571428571,
          6.73469387755102,
          6.897959183673469,
          7.061224489795918,
          7.224489795918367,
          7.387755102040816,
          7.551020408163265,
          7.7142857142857135,
          7.877551020408163,
          8.040816326530612,
          8.204081632653061,
          8.367346938775508,
          8.53061224489796,
          8.693877551020407,
          8.857142857142858,
          9.020408163265305,
          9.183673469387754,
          9.346938775510203,
          9.510204081632653,
          9.673469387755102,
          9.83673469387755,
          10
         ],
         "y": [
          2,
          2.163265306122449,
          2.326530612244898,
          2.489795918367347,
          2.6530612244897958,
          2.816326530612245,
          2.979591836734694,
          3.142857142857143,
          3.3061224489795915,
          3.4693877551020407,
          3.63265306122449,
          3.7959183673469385,
          3.9591836734693877,
          4.122448979591836,
          4.285714285714286,
          4.448979591836734,
          4.612244897959183,
          4.775510204081632,
          4.938775510204081,
          5.1020408163265305,
          5.26530612244898,
          5.428571428571429,
          5.591836734693877,
          5.755102040816326,
          5.918367346938775,
          6.081632653061225,
          6.244897959183673,
          6.408163265306122,
          6.571428571428571,
          6.73469387755102,
          6.897959183673469,
          7.061224489795918,
          7.224489795918367,
          7.387755102040816,
          7.551020408163265,
          7.7142857142857135,
          7.877551020408163,
          8.040816326530612,
          8.204081632653061,
          8.367346938775508,
          8.53061224489796,
          8.693877551020407,
          8.857142857142858,
          9.020408163265305,
          9.183673469387754,
          9.346938775510203,
          9.510204081632653,
          9.673469387755102,
          9.83673469387755,
          10
         ]
        },
        {
         "mode": "lines",
         "type": "scatter",
         "x": [
          2,
          2.163265306122449,
          2.326530612244898,
          2.489795918367347,
          2.6530612244897958,
          2.816326530612245,
          2.979591836734694,
          3.142857142857143,
          3.3061224489795915,
          3.4693877551020407,
          3.63265306122449,
          3.7959183673469385,
          3.9591836734693877,
          4.122448979591836,
          4.285714285714286,
          4.448979591836734,
          4.612244897959183,
          4.775510204081632,
          4.938775510204081,
          5.1020408163265305,
          5.26530612244898,
          5.428571428571429,
          5.591836734693877,
          5.755102040816326,
          5.918367346938775,
          6.081632653061225,
          6.244897959183673,
          6.408163265306122,
          6.571428571428571,
          6.73469387755102,
          6.897959183673469,
          7.061224489795918,
          7.224489795918367,
          7.387755102040816,
          7.551020408163265,
          7.7142857142857135,
          7.877551020408163,
          8.040816326530612,
          8.204081632653061,
          8.367346938775508,
          8.53061224489796,
          8.693877551020407,
          8.857142857142858,
          9.020408163265305,
          9.183673469387754,
          9.346938775510203,
          9.510204081632653,
          9.673469387755102,
          9.83673469387755,
          10
         ],
         "y": [
          2,
          2.163265306122449,
          2.326530612244898,
          2.489795918367347,
          2.6530612244897958,
          2.816326530612245,
          2.979591836734694,
          3.142857142857143,
          3.3061224489795915,
          3.4693877551020407,
          3.63265306122449,
          3.7959183673469385,
          3.9591836734693877,
          4.122448979591836,
          4.285714285714286,
          4.448979591836734,
          4.612244897959183,
          4.775510204081632,
          4.938775510204081,
          5.1020408163265305,
          5.26530612244898,
          5.428571428571429,
          5.591836734693877,
          5.755102040816326,
          5.918367346938775,
          6.081632653061225,
          6.244897959183673,
          6.408163265306122,
          6.571428571428571,
          6.73469387755102,
          6.897959183673469,
          7.061224489795918,
          7.224489795918367,
          7.387755102040816,
          7.551020408163265,
          7.7142857142857135,
          7.877551020408163,
          8.040816326530612,
          8.204081632653061,
          8.367346938775508,
          8.53061224489796,
          8.693877551020407,
          8.857142857142858,
          9.020408163265305,
          9.183673469387754,
          9.346938775510203,
          9.510204081632653,
          9.673469387755102,
          9.83673469387755,
          10
         ]
        },
        {
         "mode": "lines",
         "type": "scatter",
         "x": [
          2,
          2.163265306122449,
          2.326530612244898,
          2.489795918367347,
          2.6530612244897958,
          2.816326530612245,
          2.979591836734694,
          3.142857142857143,
          3.3061224489795915,
          3.4693877551020407,
          3.63265306122449,
          3.7959183673469385,
          3.9591836734693877,
          4.122448979591836,
          4.285714285714286,
          4.448979591836734,
          4.612244897959183,
          4.775510204081632,
          4.938775510204081,
          5.1020408163265305,
          5.26530612244898,
          5.428571428571429,
          5.591836734693877,
          5.755102040816326,
          5.918367346938775,
          6.081632653061225,
          6.244897959183673,
          6.408163265306122,
          6.571428571428571,
          6.73469387755102,
          6.897959183673469,
          7.061224489795918,
          7.224489795918367,
          7.387755102040816,
          7.551020408163265,
          7.7142857142857135,
          7.877551020408163,
          8.040816326530612,
          8.204081632653061,
          8.367346938775508,
          8.53061224489796,
          8.693877551020407,
          8.857142857142858,
          9.020408163265305,
          9.183673469387754,
          9.346938775510203,
          9.510204081632653,
          9.673469387755102,
          9.83673469387755,
          10
         ],
         "y": [
          2,
          2,
          2,
          2,
          2,
          2,
          2,
          2,
          2,
          2,
          2,
          2,
          2,
          2,
          2,
          2,
          2,
          2,
          2,
          2,
          2,
          2,
          2,
          2,
          2,
          2,
          2,
          2,
          2,
          2,
          2,
          2,
          2,
          2,
          2,
          2,
          2,
          2,
          2,
          2,
          2,
          2,
          2,
          2,
          2,
          2,
          2,
          2,
          2,
          2,
          2,
          2,
          2,
          2,
          2,
          2,
          2,
          2,
          2,
          2,
          2,
          2,
          2,
          2,
          2,
          2,
          2,
          2,
          2,
          2,
          2,
          2,
          2,
          2,
          2,
          2,
          2,
          2,
          2,
          2,
          2,
          2,
          2,
          2,
          2,
          2,
          2,
          2,
          2,
          2,
          2,
          2,
          2,
          2,
          2,
          2,
          2,
          2,
          2,
          2
         ]
        },
        {
         "mode": "lines",
         "type": "scatter",
         "x": [
          2.6530612244897958,
          2.816326530612245,
          2.979591836734694,
          3.142857142857143,
          3.3061224489795915,
          3.4693877551020407,
          3.63265306122449,
          3.7959183673469385,
          3.9591836734693877,
          4.122448979591836,
          4.285714285714286,
          4.448979591836734,
          4.612244897959183,
          4.775510204081632,
          4.938775510204081,
          5.1020408163265305,
          5.26530612244898,
          5.428571428571429,
          5.591836734693877,
          5.755102040816326
         ],
         "y": [
          3.6530612244897958,
          3.816326530612245,
          3.979591836734694,
          4.142857142857142,
          4.3061224489795915,
          4.469387755102041,
          4.63265306122449,
          4.795918367346939,
          4.959183673469388,
          5.122448979591836,
          5.285714285714286,
          5.448979591836734,
          5.612244897959183,
          5.775510204081632,
          5.938775510204081,
          6.1020408163265305,
          6.26530612244898,
          6.428571428571429,
          6.591836734693877,
          6.755102040816326,
          6.918367346938775,
          7.081632653061225,
          7.244897959183673,
          7.408163265306122,
          7.571428571428571,
          7.73469387755102,
          7.897959183673469,
          8.061224489795919,
          8.224489795918366,
          8.387755102040817,
          8.551020408163264,
          8.714285714285714,
          8.877551020408163,
          9.040816326530612,
          9.204081632653061,
          9.367346938775508,
          9.53061224489796,
          9.693877551020407,
          9.857142857142858,
          10.020408163265305,
          10.183673469387754,
          10.346938775510203,
          10.510204081632653,
          10.673469387755102,
          10.83673469387755,
          11
         ]
        }
       ],
       "layout": {
        "annotations": [
         {
          "align": "center",
          "arrowcolor": "#636363",
          "arrowhead": 2,
          "arrowsize": 1,
          "arrowwidth": 2,
          "ax": 20,
          "ay": -30,
          "bgcolor": "orange",
          "bordercolor": "#c7c7c7",
          "borderpad": 4,
          "borderwidth": 2,
          "opacity": 0.8,
          "showarrow": true,
          "text": "A",
          "x": 2,
          "xref": "x",
          "y": 2,
          "yref": "y"
         },
         {
          "align": "center",
          "arrowcolor": "#636363",
          "arrowhead": 2,
          "arrowsize": 1,
          "arrowwidth": 2,
          "ax": 20,
          "ay": -30,
          "bgcolor": "yellow",
          "bordercolor": "#c7c7c7",
          "borderpad": 4,
          "borderwidth": 2,
          "opacity": 0.8,
          "showarrow": true,
          "text": "B",
          "x": 6,
          "xref": "x",
          "y": 6,
          "yref": "y"
         },
         {
          "ay": -40,
          "text": "d",
          "x": 4,
          "xref": "x",
          "y": 5,
          "yref": "y"
         },
         {
          "ax": 80,
          "ay": -10,
          "text": "angle L",
          "x": 2,
          "xref": "x",
          "y": 2,
          "yref": "y"
         }
        ],
        "height": 400,
        "showlegend": false,
        "template": {
         "data": {
          "bar": [
           {
            "error_x": {
             "color": "#2a3f5f"
            },
            "error_y": {
             "color": "#2a3f5f"
            },
            "marker": {
             "line": {
              "color": "#E5ECF6",
              "width": 0.5
             }
            },
            "type": "bar"
           }
          ],
          "barpolar": [
           {
            "marker": {
             "line": {
              "color": "#E5ECF6",
              "width": 0.5
             }
            },
            "type": "barpolar"
           }
          ],
          "carpet": [
           {
            "aaxis": {
             "endlinecolor": "#2a3f5f",
             "gridcolor": "white",
             "linecolor": "white",
             "minorgridcolor": "white",
             "startlinecolor": "#2a3f5f"
            },
            "baxis": {
             "endlinecolor": "#2a3f5f",
             "gridcolor": "white",
             "linecolor": "white",
             "minorgridcolor": "white",
             "startlinecolor": "#2a3f5f"
            },
            "type": "carpet"
           }
          ],
          "choropleth": [
           {
            "colorbar": {
             "outlinewidth": 0,
             "ticks": ""
            },
            "type": "choropleth"
           }
          ],
          "contour": [
           {
            "colorbar": {
             "outlinewidth": 0,
             "ticks": ""
            },
            "colorscale": [
             [
              0,
              "#0d0887"
             ],
             [
              0.1111111111111111,
              "#46039f"
             ],
             [
              0.2222222222222222,
              "#7201a8"
             ],
             [
              0.3333333333333333,
              "#9c179e"
             ],
             [
              0.4444444444444444,
              "#bd3786"
             ],
             [
              0.5555555555555556,
              "#d8576b"
             ],
             [
              0.6666666666666666,
              "#ed7953"
             ],
             [
              0.7777777777777778,
              "#fb9f3a"
             ],
             [
              0.8888888888888888,
              "#fdca26"
             ],
             [
              1,
              "#f0f921"
             ]
            ],
            "type": "contour"
           }
          ],
          "contourcarpet": [
           {
            "colorbar": {
             "outlinewidth": 0,
             "ticks": ""
            },
            "type": "contourcarpet"
           }
          ],
          "heatmap": [
           {
            "colorbar": {
             "outlinewidth": 0,
             "ticks": ""
            },
            "colorscale": [
             [
              0,
              "#0d0887"
             ],
             [
              0.1111111111111111,
              "#46039f"
             ],
             [
              0.2222222222222222,
              "#7201a8"
             ],
             [
              0.3333333333333333,
              "#9c179e"
             ],
             [
              0.4444444444444444,
              "#bd3786"
             ],
             [
              0.5555555555555556,
              "#d8576b"
             ],
             [
              0.6666666666666666,
              "#ed7953"
             ],
             [
              0.7777777777777778,
              "#fb9f3a"
             ],
             [
              0.8888888888888888,
              "#fdca26"
             ],
             [
              1,
              "#f0f921"
             ]
            ],
            "type": "heatmap"
           }
          ],
          "heatmapgl": [
           {
            "colorbar": {
             "outlinewidth": 0,
             "ticks": ""
            },
            "colorscale": [
             [
              0,
              "#0d0887"
             ],
             [
              0.1111111111111111,
              "#46039f"
             ],
             [
              0.2222222222222222,
              "#7201a8"
             ],
             [
              0.3333333333333333,
              "#9c179e"
             ],
             [
              0.4444444444444444,
              "#bd3786"
             ],
             [
              0.5555555555555556,
              "#d8576b"
             ],
             [
              0.6666666666666666,
              "#ed7953"
             ],
             [
              0.7777777777777778,
              "#fb9f3a"
             ],
             [
              0.8888888888888888,
              "#fdca26"
             ],
             [
              1,
              "#f0f921"
             ]
            ],
            "type": "heatmapgl"
           }
          ],
          "histogram": [
           {
            "marker": {
             "colorbar": {
              "outlinewidth": 0,
              "ticks": ""
             }
            },
            "type": "histogram"
           }
          ],
          "histogram2d": [
           {
            "colorbar": {
             "outlinewidth": 0,
             "ticks": ""
            },
            "colorscale": [
             [
              0,
              "#0d0887"
             ],
             [
              0.1111111111111111,
              "#46039f"
             ],
             [
              0.2222222222222222,
              "#7201a8"
             ],
             [
              0.3333333333333333,
              "#9c179e"
             ],
             [
              0.4444444444444444,
              "#bd3786"
             ],
             [
              0.5555555555555556,
              "#d8576b"
             ],
             [
              0.6666666666666666,
              "#ed7953"
             ],
             [
              0.7777777777777778,
              "#fb9f3a"
             ],
             [
              0.8888888888888888,
              "#fdca26"
             ],
             [
              1,
              "#f0f921"
             ]
            ],
            "type": "histogram2d"
           }
          ],
          "histogram2dcontour": [
           {
            "colorbar": {
             "outlinewidth": 0,
             "ticks": ""
            },
            "colorscale": [
             [
              0,
              "#0d0887"
             ],
             [
              0.1111111111111111,
              "#46039f"
             ],
             [
              0.2222222222222222,
              "#7201a8"
             ],
             [
              0.3333333333333333,
              "#9c179e"
             ],
             [
              0.4444444444444444,
              "#bd3786"
             ],
             [
              0.5555555555555556,
              "#d8576b"
             ],
             [
              0.6666666666666666,
              "#ed7953"
             ],
             [
              0.7777777777777778,
              "#fb9f3a"
             ],
             [
              0.8888888888888888,
              "#fdca26"
             ],
             [
              1,
              "#f0f921"
             ]
            ],
            "type": "histogram2dcontour"
           }
          ],
          "mesh3d": [
           {
            "colorbar": {
             "outlinewidth": 0,
             "ticks": ""
            },
            "type": "mesh3d"
           }
          ],
          "parcoords": [
           {
            "line": {
             "colorbar": {
              "outlinewidth": 0,
              "ticks": ""
             }
            },
            "type": "parcoords"
           }
          ],
          "pie": [
           {
            "automargin": true,
            "type": "pie"
           }
          ],
          "scatter": [
           {
            "marker": {
             "colorbar": {
              "outlinewidth": 0,
              "ticks": ""
             }
            },
            "type": "scatter"
           }
          ],
          "scatter3d": [
           {
            "line": {
             "colorbar": {
              "outlinewidth": 0,
              "ticks": ""
             }
            },
            "marker": {
             "colorbar": {
              "outlinewidth": 0,
              "ticks": ""
             }
            },
            "type": "scatter3d"
           }
          ],
          "scattercarpet": [
           {
            "marker": {
             "colorbar": {
              "outlinewidth": 0,
              "ticks": ""
             }
            },
            "type": "scattercarpet"
           }
          ],
          "scattergeo": [
           {
            "marker": {
             "colorbar": {
              "outlinewidth": 0,
              "ticks": ""
             }
            },
            "type": "scattergeo"
           }
          ],
          "scattergl": [
           {
            "marker": {
             "colorbar": {
              "outlinewidth": 0,
              "ticks": ""
             }
            },
            "type": "scattergl"
           }
          ],
          "scattermapbox": [
           {
            "marker": {
             "colorbar": {
              "outlinewidth": 0,
              "ticks": ""
             }
            },
            "type": "scattermapbox"
           }
          ],
          "scatterpolar": [
           {
            "marker": {
             "colorbar": {
              "outlinewidth": 0,
              "ticks": ""
             }
            },
            "type": "scatterpolar"
           }
          ],
          "scatterpolargl": [
           {
            "marker": {
             "colorbar": {
              "outlinewidth": 0,
              "ticks": ""
             }
            },
            "type": "scatterpolargl"
           }
          ],
          "scatterternary": [
           {
            "marker": {
             "colorbar": {
              "outlinewidth": 0,
              "ticks": ""
             }
            },
            "type": "scatterternary"
           }
          ],
          "surface": [
           {
            "colorbar": {
             "outlinewidth": 0,
             "ticks": ""
            },
            "colorscale": [
             [
              0,
              "#0d0887"
             ],
             [
              0.1111111111111111,
              "#46039f"
             ],
             [
              0.2222222222222222,
              "#7201a8"
             ],
             [
              0.3333333333333333,
              "#9c179e"
             ],
             [
              0.4444444444444444,
              "#bd3786"
             ],
             [
              0.5555555555555556,
              "#d8576b"
             ],
             [
              0.6666666666666666,
              "#ed7953"
             ],
             [
              0.7777777777777778,
              "#fb9f3a"
             ],
             [
              0.8888888888888888,
              "#fdca26"
             ],
             [
              1,
              "#f0f921"
             ]
            ],
            "type": "surface"
           }
          ],
          "table": [
           {
            "cells": {
             "fill": {
              "color": "#EBF0F8"
             },
             "line": {
              "color": "white"
             }
            },
            "header": {
             "fill": {
              "color": "#C8D4E3"
             },
             "line": {
              "color": "white"
             }
            },
            "type": "table"
           }
          ]
         },
         "layout": {
          "annotationdefaults": {
           "arrowcolor": "#2a3f5f",
           "arrowhead": 0,
           "arrowwidth": 1
          },
          "coloraxis": {
           "colorbar": {
            "outlinewidth": 0,
            "ticks": ""
           }
          },
          "colorscale": {
           "diverging": [
            [
             0,
             "#8e0152"
            ],
            [
             0.1,
             "#c51b7d"
            ],
            [
             0.2,
             "#de77ae"
            ],
            [
             0.3,
             "#f1b6da"
            ],
            [
             0.4,
             "#fde0ef"
            ],
            [
             0.5,
             "#f7f7f7"
            ],
            [
             0.6,
             "#e6f5d0"
            ],
            [
             0.7,
             "#b8e186"
            ],
            [
             0.8,
             "#7fbc41"
            ],
            [
             0.9,
             "#4d9221"
            ],
            [
             1,
             "#276419"
            ]
           ],
           "sequential": [
            [
             0,
             "#0d0887"
            ],
            [
             0.1111111111111111,
             "#46039f"
            ],
            [
             0.2222222222222222,
             "#7201a8"
            ],
            [
             0.3333333333333333,
             "#9c179e"
            ],
            [
             0.4444444444444444,
             "#bd3786"
            ],
            [
             0.5555555555555556,
             "#d8576b"
            ],
            [
             0.6666666666666666,
             "#ed7953"
            ],
            [
             0.7777777777777778,
             "#fb9f3a"
            ],
            [
             0.8888888888888888,
             "#fdca26"
            ],
            [
             1,
             "#f0f921"
            ]
           ],
           "sequentialminus": [
            [
             0,
             "#0d0887"
            ],
            [
             0.1111111111111111,
             "#46039f"
            ],
            [
             0.2222222222222222,
             "#7201a8"
            ],
            [
             0.3333333333333333,
             "#9c179e"
            ],
            [
             0.4444444444444444,
             "#bd3786"
            ],
            [
             0.5555555555555556,
             "#d8576b"
            ],
            [
             0.6666666666666666,
             "#ed7953"
            ],
            [
             0.7777777777777778,
             "#fb9f3a"
            ],
            [
             0.8888888888888888,
             "#fdca26"
            ],
            [
             1,
             "#f0f921"
            ]
           ]
          },
          "colorway": [
           "#636efa",
           "#EF553B",
           "#00cc96",
           "#ab63fa",
           "#FFA15A",
           "#19d3f3",
           "#FF6692",
           "#B6E880",
           "#FF97FF",
           "#FECB52"
          ],
          "font": {
           "color": "#2a3f5f"
          },
          "geo": {
           "bgcolor": "white",
           "lakecolor": "white",
           "landcolor": "#E5ECF6",
           "showlakes": true,
           "showland": true,
           "subunitcolor": "white"
          },
          "hoverlabel": {
           "align": "left"
          },
          "hovermode": "closest",
          "mapbox": {
           "style": "light"
          },
          "paper_bgcolor": "white",
          "plot_bgcolor": "#E5ECF6",
          "polar": {
           "angularaxis": {
            "gridcolor": "white",
            "linecolor": "white",
            "ticks": ""
           },
           "bgcolor": "#E5ECF6",
           "radialaxis": {
            "gridcolor": "white",
            "linecolor": "white",
            "ticks": ""
           }
          },
          "scene": {
           "xaxis": {
            "backgroundcolor": "#E5ECF6",
            "gridcolor": "white",
            "gridwidth": 2,
            "linecolor": "white",
            "showbackground": true,
            "ticks": "",
            "zerolinecolor": "white"
           },
           "yaxis": {
            "backgroundcolor": "#E5ECF6",
            "gridcolor": "white",
            "gridwidth": 2,
            "linecolor": "white",
            "showbackground": true,
            "ticks": "",
            "zerolinecolor": "white"
           },
           "zaxis": {
            "backgroundcolor": "#E5ECF6",
            "gridcolor": "white",
            "gridwidth": 2,
            "linecolor": "white",
            "showbackground": true,
            "ticks": "",
            "zerolinecolor": "white"
           }
          },
          "shapedefaults": {
           "line": {
            "color": "#2a3f5f"
           }
          },
          "ternary": {
           "aaxis": {
            "gridcolor": "white",
            "linecolor": "white",
            "ticks": ""
           },
           "baxis": {
            "gridcolor": "white",
            "linecolor": "white",
            "ticks": ""
           },
           "bgcolor": "#E5ECF6",
           "caxis": {
            "gridcolor": "white",
            "linecolor": "white",
            "ticks": ""
           }
          },
          "title": {
           "x": 0.05
          },
          "xaxis": {
           "automargin": true,
           "gridcolor": "white",
           "linecolor": "white",
           "ticks": "",
           "title": {
            "standoff": 15
           },
           "zerolinecolor": "white",
           "zerolinewidth": 2
          },
          "yaxis": {
           "automargin": true,
           "gridcolor": "white",
           "linecolor": "white",
           "ticks": "",
           "title": {
            "standoff": 15
           },
           "zerolinecolor": "white",
           "zerolinewidth": 2
          }
         }
        },
        "title": {
         "text": "Latent Distance View Space"
        },
        "xaxis": {
         "range": [
          1.5,
          12
         ],
         "title": {
          "text": "u1"
         }
        },
        "yaxis": {
         "range": [
          1.5,
          12
         ],
         "title": {
          "text": "u2"
         }
        }
       }
      },
      "text/html": [
       "<div>                            <div id=\"ad55e5ab-898f-43d0-ad0b-f8fb57d49efa\" class=\"plotly-graph-div\" style=\"height:400px; width:100%;\"></div>            <script type=\"text/javascript\">                require([\"plotly\"], function(Plotly) {                    window.PLOTLYENV=window.PLOTLYENV || {};                                    if (document.getElementById(\"ad55e5ab-898f-43d0-ad0b-f8fb57d49efa\")) {                    Plotly.newPlot(                        \"ad55e5ab-898f-43d0-ad0b-f8fb57d49efa\",                        [{\"mode\": \"markers\", \"type\": \"scatter\", \"x\": [2.0, 2.163265306122449, 2.326530612244898, 2.489795918367347, 2.6530612244897958, 2.816326530612245, 2.979591836734694, 3.142857142857143, 3.3061224489795915, 3.4693877551020407, 3.63265306122449, 3.7959183673469385, 3.9591836734693877, 4.122448979591836, 4.285714285714286, 4.448979591836734, 4.612244897959183, 4.775510204081632, 4.938775510204081, 5.1020408163265305, 5.26530612244898, 5.428571428571429, 5.591836734693877, 5.755102040816326, 5.918367346938775, 6.081632653061225, 6.244897959183673, 6.408163265306122, 6.571428571428571, 6.73469387755102, 6.897959183673469, 7.061224489795918, 7.224489795918367, 7.387755102040816, 7.551020408163265, 7.7142857142857135, 7.877551020408163, 8.040816326530612, 8.204081632653061, 8.367346938775508, 8.53061224489796, 8.693877551020407, 8.857142857142858, 9.020408163265305, 9.183673469387754, 9.346938775510203, 9.510204081632653, 9.673469387755102, 9.83673469387755, 10.0], \"y\": [2.0, 2.163265306122449, 2.326530612244898, 2.489795918367347, 2.6530612244897958, 2.816326530612245, 2.979591836734694, 3.142857142857143, 3.3061224489795915, 3.4693877551020407, 3.63265306122449, 3.7959183673469385, 3.9591836734693877, 4.122448979591836, 4.285714285714286, 4.448979591836734, 4.612244897959183, 4.775510204081632, 4.938775510204081, 5.1020408163265305, 5.26530612244898, 5.428571428571429, 5.591836734693877, 5.755102040816326, 5.918367346938775, 6.081632653061225, 6.244897959183673, 6.408163265306122, 6.571428571428571, 6.73469387755102, 6.897959183673469, 7.061224489795918, 7.224489795918367, 7.387755102040816, 7.551020408163265, 7.7142857142857135, 7.877551020408163, 8.040816326530612, 8.204081632653061, 8.367346938775508, 8.53061224489796, 8.693877551020407, 8.857142857142858, 9.020408163265305, 9.183673469387754, 9.346938775510203, 9.510204081632653, 9.673469387755102, 9.83673469387755, 10.0]}, {\"mode\": \"lines\", \"type\": \"scatter\", \"x\": [2.0, 2.163265306122449, 2.326530612244898, 2.489795918367347, 2.6530612244897958, 2.816326530612245, 2.979591836734694, 3.142857142857143, 3.3061224489795915, 3.4693877551020407, 3.63265306122449, 3.7959183673469385, 3.9591836734693877, 4.122448979591836, 4.285714285714286, 4.448979591836734, 4.612244897959183, 4.775510204081632, 4.938775510204081, 5.1020408163265305, 5.26530612244898, 5.428571428571429, 5.591836734693877, 5.755102040816326, 5.918367346938775, 6.081632653061225, 6.244897959183673, 6.408163265306122, 6.571428571428571, 6.73469387755102, 6.897959183673469, 7.061224489795918, 7.224489795918367, 7.387755102040816, 7.551020408163265, 7.7142857142857135, 7.877551020408163, 8.040816326530612, 8.204081632653061, 8.367346938775508, 8.53061224489796, 8.693877551020407, 8.857142857142858, 9.020408163265305, 9.183673469387754, 9.346938775510203, 9.510204081632653, 9.673469387755102, 9.83673469387755, 10.0], \"y\": [2.0, 2.163265306122449, 2.326530612244898, 2.489795918367347, 2.6530612244897958, 2.816326530612245, 2.979591836734694, 3.142857142857143, 3.3061224489795915, 3.4693877551020407, 3.63265306122449, 3.7959183673469385, 3.9591836734693877, 4.122448979591836, 4.285714285714286, 4.448979591836734, 4.612244897959183, 4.775510204081632, 4.938775510204081, 5.1020408163265305, 5.26530612244898, 5.428571428571429, 5.591836734693877, 5.755102040816326, 5.918367346938775, 6.081632653061225, 6.244897959183673, 6.408163265306122, 6.571428571428571, 6.73469387755102, 6.897959183673469, 7.061224489795918, 7.224489795918367, 7.387755102040816, 7.551020408163265, 7.7142857142857135, 7.877551020408163, 8.040816326530612, 8.204081632653061, 8.367346938775508, 8.53061224489796, 8.693877551020407, 8.857142857142858, 9.020408163265305, 9.183673469387754, 9.346938775510203, 9.510204081632653, 9.673469387755102, 9.83673469387755, 10.0]}, {\"mode\": \"lines\", \"type\": \"scatter\", \"x\": [2.0, 2.163265306122449, 2.326530612244898, 2.489795918367347, 2.6530612244897958, 2.816326530612245, 2.979591836734694, 3.142857142857143, 3.3061224489795915, 3.4693877551020407, 3.63265306122449, 3.7959183673469385, 3.9591836734693877, 4.122448979591836, 4.285714285714286, 4.448979591836734, 4.612244897959183, 4.775510204081632, 4.938775510204081, 5.1020408163265305, 5.26530612244898, 5.428571428571429, 5.591836734693877, 5.755102040816326, 5.918367346938775, 6.081632653061225, 6.244897959183673, 6.408163265306122, 6.571428571428571, 6.73469387755102, 6.897959183673469, 7.061224489795918, 7.224489795918367, 7.387755102040816, 7.551020408163265, 7.7142857142857135, 7.877551020408163, 8.040816326530612, 8.204081632653061, 8.367346938775508, 8.53061224489796, 8.693877551020407, 8.857142857142858, 9.020408163265305, 9.183673469387754, 9.346938775510203, 9.510204081632653, 9.673469387755102, 9.83673469387755, 10.0], \"y\": [2, 2, 2, 2, 2, 2, 2, 2, 2, 2, 2, 2, 2, 2, 2, 2, 2, 2, 2, 2, 2, 2, 2, 2, 2, 2, 2, 2, 2, 2, 2, 2, 2, 2, 2, 2, 2, 2, 2, 2, 2, 2, 2, 2, 2, 2, 2, 2, 2, 2, 2, 2, 2, 2, 2, 2, 2, 2, 2, 2, 2, 2, 2, 2, 2, 2, 2, 2, 2, 2, 2, 2, 2, 2, 2, 2, 2, 2, 2, 2, 2, 2, 2, 2, 2, 2, 2, 2, 2, 2, 2, 2, 2, 2, 2, 2, 2, 2, 2, 2]}, {\"mode\": \"lines\", \"type\": \"scatter\", \"x\": [2.6530612244897958, 2.816326530612245, 2.979591836734694, 3.142857142857143, 3.3061224489795915, 3.4693877551020407, 3.63265306122449, 3.7959183673469385, 3.9591836734693877, 4.122448979591836, 4.285714285714286, 4.448979591836734, 4.612244897959183, 4.775510204081632, 4.938775510204081, 5.1020408163265305, 5.26530612244898, 5.428571428571429, 5.591836734693877, 5.755102040816326], \"y\": [3.6530612244897958, 3.816326530612245, 3.979591836734694, 4.142857142857142, 4.3061224489795915, 4.469387755102041, 4.63265306122449, 4.795918367346939, 4.959183673469388, 5.122448979591836, 5.285714285714286, 5.448979591836734, 5.612244897959183, 5.775510204081632, 5.938775510204081, 6.1020408163265305, 6.26530612244898, 6.428571428571429, 6.591836734693877, 6.755102040816326, 6.918367346938775, 7.081632653061225, 7.244897959183673, 7.408163265306122, 7.571428571428571, 7.73469387755102, 7.897959183673469, 8.061224489795919, 8.224489795918366, 8.387755102040817, 8.551020408163264, 8.714285714285714, 8.877551020408163, 9.040816326530612, 9.204081632653061, 9.367346938775508, 9.53061224489796, 9.693877551020407, 9.857142857142858, 10.020408163265305, 10.183673469387754, 10.346938775510203, 10.510204081632653, 10.673469387755102, 10.83673469387755, 11.0]}],                        {\"annotations\": [{\"align\": \"center\", \"arrowcolor\": \"#636363\", \"arrowhead\": 2, \"arrowsize\": 1, \"arrowwidth\": 2, \"ax\": 20, \"ay\": -30, \"bgcolor\": \"orange\", \"bordercolor\": \"#c7c7c7\", \"borderpad\": 4, \"borderwidth\": 2, \"opacity\": 0.8, \"showarrow\": true, \"text\": \"A\", \"x\": 2, \"xref\": \"x\", \"y\": 2, \"yref\": \"y\"}, {\"align\": \"center\", \"arrowcolor\": \"#636363\", \"arrowhead\": 2, \"arrowsize\": 1, \"arrowwidth\": 2, \"ax\": 20, \"ay\": -30, \"bgcolor\": \"yellow\", \"bordercolor\": \"#c7c7c7\", \"borderpad\": 4, \"borderwidth\": 2, \"opacity\": 0.8, \"showarrow\": true, \"text\": \"B\", \"x\": 6, \"xref\": \"x\", \"y\": 6, \"yref\": \"y\"}, {\"ay\": -40, \"text\": \"d\", \"x\": 4, \"xref\": \"x\", \"y\": 5, \"yref\": \"y\"}, {\"ax\": 80, \"ay\": -10, \"text\": \"angle L\", \"x\": 2, \"xref\": \"x\", \"y\": 2, \"yref\": \"y\"}], \"height\": 400, \"showlegend\": false, \"template\": {\"data\": {\"bar\": [{\"error_x\": {\"color\": \"#2a3f5f\"}, \"error_y\": {\"color\": \"#2a3f5f\"}, \"marker\": {\"line\": {\"color\": \"#E5ECF6\", \"width\": 0.5}}, \"type\": \"bar\"}], \"barpolar\": [{\"marker\": {\"line\": {\"color\": \"#E5ECF6\", \"width\": 0.5}}, \"type\": \"barpolar\"}], \"carpet\": [{\"aaxis\": {\"endlinecolor\": \"#2a3f5f\", \"gridcolor\": \"white\", \"linecolor\": \"white\", \"minorgridcolor\": \"white\", \"startlinecolor\": \"#2a3f5f\"}, \"baxis\": {\"endlinecolor\": \"#2a3f5f\", \"gridcolor\": \"white\", \"linecolor\": \"white\", \"minorgridcolor\": \"white\", \"startlinecolor\": \"#2a3f5f\"}, \"type\": \"carpet\"}], \"choropleth\": [{\"colorbar\": {\"outlinewidth\": 0, \"ticks\": \"\"}, \"type\": \"choropleth\"}], \"contour\": [{\"colorbar\": {\"outlinewidth\": 0, \"ticks\": \"\"}, \"colorscale\": [[0.0, \"#0d0887\"], [0.1111111111111111, \"#46039f\"], [0.2222222222222222, \"#7201a8\"], [0.3333333333333333, \"#9c179e\"], [0.4444444444444444, \"#bd3786\"], [0.5555555555555556, \"#d8576b\"], [0.6666666666666666, \"#ed7953\"], [0.7777777777777778, \"#fb9f3a\"], [0.8888888888888888, \"#fdca26\"], [1.0, \"#f0f921\"]], \"type\": \"contour\"}], \"contourcarpet\": [{\"colorbar\": {\"outlinewidth\": 0, \"ticks\": \"\"}, \"type\": \"contourcarpet\"}], \"heatmap\": [{\"colorbar\": {\"outlinewidth\": 0, \"ticks\": \"\"}, \"colorscale\": [[0.0, \"#0d0887\"], [0.1111111111111111, \"#46039f\"], [0.2222222222222222, \"#7201a8\"], [0.3333333333333333, \"#9c179e\"], [0.4444444444444444, \"#bd3786\"], [0.5555555555555556, \"#d8576b\"], [0.6666666666666666, \"#ed7953\"], [0.7777777777777778, \"#fb9f3a\"], [0.8888888888888888, \"#fdca26\"], [1.0, \"#f0f921\"]], \"type\": \"heatmap\"}], \"heatmapgl\": [{\"colorbar\": {\"outlinewidth\": 0, \"ticks\": \"\"}, \"colorscale\": [[0.0, \"#0d0887\"], [0.1111111111111111, \"#46039f\"], [0.2222222222222222, \"#7201a8\"], [0.3333333333333333, \"#9c179e\"], [0.4444444444444444, \"#bd3786\"], [0.5555555555555556, \"#d8576b\"], [0.6666666666666666, \"#ed7953\"], [0.7777777777777778, \"#fb9f3a\"], [0.8888888888888888, \"#fdca26\"], [1.0, \"#f0f921\"]], \"type\": \"heatmapgl\"}], \"histogram\": [{\"marker\": {\"colorbar\": {\"outlinewidth\": 0, \"ticks\": \"\"}}, \"type\": \"histogram\"}], \"histogram2d\": [{\"colorbar\": {\"outlinewidth\": 0, \"ticks\": \"\"}, \"colorscale\": [[0.0, \"#0d0887\"], [0.1111111111111111, \"#46039f\"], [0.2222222222222222, \"#7201a8\"], [0.3333333333333333, \"#9c179e\"], [0.4444444444444444, \"#bd3786\"], [0.5555555555555556, \"#d8576b\"], [0.6666666666666666, \"#ed7953\"], [0.7777777777777778, \"#fb9f3a\"], [0.8888888888888888, \"#fdca26\"], [1.0, \"#f0f921\"]], \"type\": \"histogram2d\"}], \"histogram2dcontour\": [{\"colorbar\": {\"outlinewidth\": 0, \"ticks\": \"\"}, \"colorscale\": [[0.0, \"#0d0887\"], [0.1111111111111111, \"#46039f\"], [0.2222222222222222, \"#7201a8\"], [0.3333333333333333, \"#9c179e\"], [0.4444444444444444, \"#bd3786\"], [0.5555555555555556, \"#d8576b\"], [0.6666666666666666, \"#ed7953\"], [0.7777777777777778, \"#fb9f3a\"], [0.8888888888888888, \"#fdca26\"], [1.0, \"#f0f921\"]], \"type\": \"histogram2dcontour\"}], \"mesh3d\": [{\"colorbar\": {\"outlinewidth\": 0, \"ticks\": \"\"}, \"type\": \"mesh3d\"}], \"parcoords\": [{\"line\": {\"colorbar\": {\"outlinewidth\": 0, \"ticks\": \"\"}}, \"type\": \"parcoords\"}], \"pie\": [{\"automargin\": true, \"type\": \"pie\"}], \"scatter\": [{\"marker\": {\"colorbar\": {\"outlinewidth\": 0, \"ticks\": \"\"}}, \"type\": \"scatter\"}], \"scatter3d\": [{\"line\": {\"colorbar\": {\"outlinewidth\": 0, \"ticks\": \"\"}}, \"marker\": {\"colorbar\": {\"outlinewidth\": 0, \"ticks\": \"\"}}, \"type\": \"scatter3d\"}], \"scattercarpet\": [{\"marker\": {\"colorbar\": {\"outlinewidth\": 0, \"ticks\": \"\"}}, \"type\": \"scattercarpet\"}], \"scattergeo\": [{\"marker\": {\"colorbar\": {\"outlinewidth\": 0, \"ticks\": \"\"}}, \"type\": \"scattergeo\"}], \"scattergl\": [{\"marker\": {\"colorbar\": {\"outlinewidth\": 0, \"ticks\": \"\"}}, \"type\": \"scattergl\"}], \"scattermapbox\": [{\"marker\": {\"colorbar\": {\"outlinewidth\": 0, \"ticks\": \"\"}}, \"type\": \"scattermapbox\"}], \"scatterpolar\": [{\"marker\": {\"colorbar\": {\"outlinewidth\": 0, \"ticks\": \"\"}}, \"type\": \"scatterpolar\"}], \"scatterpolargl\": [{\"marker\": {\"colorbar\": {\"outlinewidth\": 0, \"ticks\": \"\"}}, \"type\": \"scatterpolargl\"}], \"scatterternary\": [{\"marker\": {\"colorbar\": {\"outlinewidth\": 0, \"ticks\": \"\"}}, \"type\": \"scatterternary\"}], \"surface\": [{\"colorbar\": {\"outlinewidth\": 0, \"ticks\": \"\"}, \"colorscale\": [[0.0, \"#0d0887\"], [0.1111111111111111, \"#46039f\"], [0.2222222222222222, \"#7201a8\"], [0.3333333333333333, \"#9c179e\"], [0.4444444444444444, \"#bd3786\"], [0.5555555555555556, \"#d8576b\"], [0.6666666666666666, \"#ed7953\"], [0.7777777777777778, \"#fb9f3a\"], [0.8888888888888888, \"#fdca26\"], [1.0, \"#f0f921\"]], \"type\": \"surface\"}], \"table\": [{\"cells\": {\"fill\": {\"color\": \"#EBF0F8\"}, \"line\": {\"color\": \"white\"}}, \"header\": {\"fill\": {\"color\": \"#C8D4E3\"}, \"line\": {\"color\": \"white\"}}, \"type\": \"table\"}]}, \"layout\": {\"annotationdefaults\": {\"arrowcolor\": \"#2a3f5f\", \"arrowhead\": 0, \"arrowwidth\": 1}, \"coloraxis\": {\"colorbar\": {\"outlinewidth\": 0, \"ticks\": \"\"}}, \"colorscale\": {\"diverging\": [[0, \"#8e0152\"], [0.1, \"#c51b7d\"], [0.2, \"#de77ae\"], [0.3, \"#f1b6da\"], [0.4, \"#fde0ef\"], [0.5, \"#f7f7f7\"], [0.6, \"#e6f5d0\"], [0.7, \"#b8e186\"], [0.8, \"#7fbc41\"], [0.9, \"#4d9221\"], [1, \"#276419\"]], \"sequential\": [[0.0, \"#0d0887\"], [0.1111111111111111, \"#46039f\"], [0.2222222222222222, \"#7201a8\"], [0.3333333333333333, \"#9c179e\"], [0.4444444444444444, \"#bd3786\"], [0.5555555555555556, \"#d8576b\"], [0.6666666666666666, \"#ed7953\"], [0.7777777777777778, \"#fb9f3a\"], [0.8888888888888888, \"#fdca26\"], [1.0, \"#f0f921\"]], \"sequentialminus\": [[0.0, \"#0d0887\"], [0.1111111111111111, \"#46039f\"], [0.2222222222222222, \"#7201a8\"], [0.3333333333333333, \"#9c179e\"], [0.4444444444444444, \"#bd3786\"], [0.5555555555555556, \"#d8576b\"], [0.6666666666666666, \"#ed7953\"], [0.7777777777777778, \"#fb9f3a\"], [0.8888888888888888, \"#fdca26\"], [1.0, \"#f0f921\"]]}, \"colorway\": [\"#636efa\", \"#EF553B\", \"#00cc96\", \"#ab63fa\", \"#FFA15A\", \"#19d3f3\", \"#FF6692\", \"#B6E880\", \"#FF97FF\", \"#FECB52\"], \"font\": {\"color\": \"#2a3f5f\"}, \"geo\": {\"bgcolor\": \"white\", \"lakecolor\": \"white\", \"landcolor\": \"#E5ECF6\", \"showlakes\": true, \"showland\": true, \"subunitcolor\": \"white\"}, \"hoverlabel\": {\"align\": \"left\"}, \"hovermode\": \"closest\", \"mapbox\": {\"style\": \"light\"}, \"paper_bgcolor\": \"white\", \"plot_bgcolor\": \"#E5ECF6\", \"polar\": {\"angularaxis\": {\"gridcolor\": \"white\", \"linecolor\": \"white\", \"ticks\": \"\"}, \"bgcolor\": \"#E5ECF6\", \"radialaxis\": {\"gridcolor\": \"white\", \"linecolor\": \"white\", \"ticks\": \"\"}}, \"scene\": {\"xaxis\": {\"backgroundcolor\": \"#E5ECF6\", \"gridcolor\": \"white\", \"gridwidth\": 2, \"linecolor\": \"white\", \"showbackground\": true, \"ticks\": \"\", \"zerolinecolor\": \"white\"}, \"yaxis\": {\"backgroundcolor\": \"#E5ECF6\", \"gridcolor\": \"white\", \"gridwidth\": 2, \"linecolor\": \"white\", \"showbackground\": true, \"ticks\": \"\", \"zerolinecolor\": \"white\"}, \"zaxis\": {\"backgroundcolor\": \"#E5ECF6\", \"gridcolor\": \"white\", \"gridwidth\": 2, \"linecolor\": \"white\", \"showbackground\": true, \"ticks\": \"\", \"zerolinecolor\": \"white\"}}, \"shapedefaults\": {\"line\": {\"color\": \"#2a3f5f\"}}, \"ternary\": {\"aaxis\": {\"gridcolor\": \"white\", \"linecolor\": \"white\", \"ticks\": \"\"}, \"baxis\": {\"gridcolor\": \"white\", \"linecolor\": \"white\", \"ticks\": \"\"}, \"bgcolor\": \"#E5ECF6\", \"caxis\": {\"gridcolor\": \"white\", \"linecolor\": \"white\", \"ticks\": \"\"}}, \"title\": {\"x\": 0.05}, \"xaxis\": {\"automargin\": true, \"gridcolor\": \"white\", \"linecolor\": \"white\", \"ticks\": \"\", \"title\": {\"standoff\": 15}, \"zerolinecolor\": \"white\", \"zerolinewidth\": 2}, \"yaxis\": {\"automargin\": true, \"gridcolor\": \"white\", \"linecolor\": \"white\", \"ticks\": \"\", \"title\": {\"standoff\": 15}, \"zerolinecolor\": \"white\", \"zerolinewidth\": 2}}}, \"title\": {\"text\": \"Latent Distance View Space\"}, \"xaxis\": {\"range\": [1.5, 12], \"title\": {\"text\": \"u1\"}}, \"yaxis\": {\"range\": [1.5, 12], \"title\": {\"text\": \"u2\"}}},                        {\"responsive\": true}                    ).then(function(){\n",
       "                            \n",
       "var gd = document.getElementById('ad55e5ab-898f-43d0-ad0b-f8fb57d49efa');\n",
       "var x = new MutationObserver(function (mutations, observer) {{\n",
       "        var display = window.getComputedStyle(gd).display;\n",
       "        if (!display || display === 'none') {{\n",
       "            console.log([gd, 'removed!']);\n",
       "            Plotly.purge(gd);\n",
       "            observer.disconnect();\n",
       "        }}\n",
       "}});\n",
       "\n",
       "// Listen for the removal of the full notebook cells\n",
       "var notebookContainer = gd.closest('#notebook-container');\n",
       "if (notebookContainer) {{\n",
       "    x.observe(notebookContainer, {childList: true});\n",
       "}}\n",
       "\n",
       "// Listen for the clearing of the current output cell\n",
       "var outputEl = gd.closest('.output');\n",
       "if (outputEl) {{\n",
       "    x.observe(outputEl, {childList: true});\n",
       "}}\n",
       "\n",
       "                        })                };                });            </script>        </div>"
      ]
     },
     "metadata": {},
     "output_type": "display_data"
    }
   ],
   "source": [
    "random_y3 = [2 for i in range(100)]\n",
    "random_y4 = random_y2 + 1\n",
    "trace4 = go.Scatter(x = random_x[4:24], y = random_y4[4:300], mode=\"lines\")\n",
    "trace3 = go.Scatter(x = random_x, y = random_y3, mode=\"lines\")\n",
    "trace1 = go.Scatter(x = random_x, y = random_y1, mode=\"markers\")\n",
    "trace2 = go.Scatter(x = random_x, y = random_y2, mode=\"lines\")\n",
    "layout = go.Layout(xaxis=dict(title=\"u1\", range=(1.5,12)), yaxis=dict(title=\"u2\", range=(1.5,12)), height=400,\n",
    "                   annotations=[dict(x=2, y=2, xref='x', yref='y', text='A', showarrow=True, align='center', arrowhead=2, arrowsize=1, arrowwidth=2, \n",
    "                                     arrowcolor='#636363', ax=20, ay=-30, bordercolor='#c7c7c7', borderwidth=2, borderpad=4, bgcolor='orange', opacity=0.8), \n",
    "                                dict(x=6, y=6, xref='x', yref='y', text='B', showarrow=True, align='center', arrowhead=2, arrowsize=1, arrowwidth=2, arrowcolor='#636363',\n",
    "                                     ax=20, ay=-30, bordercolor='#c7c7c7', borderwidth=2, borderpad=4, bgcolor='yellow', opacity=0.8), dict(\n",
    "                                     x=4, y=5, xref='x', yref='y',text='d', ay=-40), \n",
    "                                dict(x=2, y=2, xref='x', yref='y', text='angle L', ax=80, ay=-10)], title=\"Latent Distance View Space\", showlegend=False)\n",
    "data = [trace1, trace2, trace3, trace4]\n",
    "figure = go.Figure(data = data, layout = layout)\n",
    "iplot(figure)"
   ]
  },
  {
   "cell_type": "markdown",
   "metadata": {},
   "source": [
    "그럼 $B$를 $A$와 $L$로 어떻게 표현될 수 있을까? 즉, 이 3개의 변수 간의 방정식은 어떻게 될까? 굳이 고정된 방정식이 없어도 **비지도 학습**으로 방정식을 구할 수 있다. 이를 **오토인코딩 관점**에서 이해해보자. 다음은 방정식을 구하기 위한 오토인코더이다. 고차원인 $x1$, $x2$에서 $d$로 축소되고 다시 $x1$과 $x2$로 변환된다.\n",
    "\n",
    "![autoencoder-represent](../img/autoencoder-represent.png)"
   ]
  },
  {
   "cell_type": "markdown",
   "metadata": {},
   "source": [
    "#### Step 1. 잠재 공간에 데이터 표현하기\n",
    "$A$와 $B$를 2차원 좌표로 표현하면 다음과 같다.\n",
    "\n",
    "* A : $(X1_A, X2_A)$\n",
    "* B : $(X1_B, X2_B)$\n",
    "\n",
    "이제 이를 잠재 공간에서는 다음과 같이 표현할 수 있다.\n",
    "\n",
    "* A : $(X1_A, X2_A) \\rightarrow (0, 0)$ \n",
    "* B : $(X1_B, X2_B) \\rightarrow (u1_B, u2_B)$\n",
    "\n",
    "$(u1_b, u2_B)$는 기준점과의 거리로 표현할 수 있다.\n",
    "\n",
    "* $u1_B = X1_B - X1_A$\n",
    "* $u2_B = X2_B - X2_A$\n",
    "\n",
    "#### Step 2. 거리 d와 각도 L로 데이터 표현하기\n",
    "이제 $u1_B$와 $u2_B$를 거리 $d$와 각도 $L$로 표현할 수 있다. 각도 $L$만큼 반대로 회전한다면 각도는 0이 될 것이다.\n",
    "\n",
    "$$(d, L) \\rightarrow (d, 0)$$\n",
    "\n",
    "이제 데이터가 낮은 차원으로 표현되어 있는 것을 볼 수 있다. 모든 계층의 가중치와 편향으로 나타내는 신경망을 고려하면 인코딩 과정은 다음의 방정식으로 표현할 수 있다. 이 때 $W$는 은닉층의 가중치 행렬이다.\n",
    "\n",
    "$$(d, 0) = W \\dot (u1_B, u2_B)$$\n",
    "\n",
    "인코딩 후의 **디코딩 과정**은 인코딩 과정을 정반대로 생각하면 된다.\n",
    "\n",
    "$$(u1_B,, u2_B) = Inverse(W) \\dot (d, 0)$$"
   ]
  },
  {
   "cell_type": "markdown",
   "metadata": {},
   "source": [
    "### 1.5. 데이터에 따른 규칙\n",
    "모든 유형의 데이터에 똑같은 규칙을 적용하여 저차원의 데이터로 나타내는 것은 아니다. 다음과 같은 데이터를 보자. 이런 유형의 데이터의 문제점은 **저차원으로 투영을 함과 동시에 원본으로 복구하기 힘들다**는 것이다. 아무리 이동하고 회전을 해도 원본으로 복구할 수 없다."
   ]
  },
  {
   "cell_type": "code",
   "execution_count": 6,
   "metadata": {
    "ExecuteTime": {
     "end_time": "2020-09-11T17:33:17.136594Z",
     "start_time": "2020-09-11T17:33:16.838601Z"
    }
   },
   "outputs": [
    {
     "data": {
      "image/png": "[encoded data removed]",
      "text/plain": [
       "<Figure size 1080x288 with 1 Axes>"
      ]
     },
     "metadata": {
      "needs_background": "light"
     },
     "output_type": "display_data"
    }
   ],
   "source": [
    "import matplotlib.pyplot as plt \n",
    "import numpy as np\n",
    "fs = 100 # sample rate \n",
    "f = 2 # the frequency of the signal\n",
    "x = np.arange(fs) # the points on the x axis for plotting\n",
    "y = [ np.sin(2*np.pi*f * (i/fs)) for i in x]\n",
    "\n",
    "%matplotlib inline\n",
    "plt.figure(figsize=(15,4))\n",
    "plt.stem(x,y, 'r', );\n",
    "plt.plot(x,y);"
   ]
  },
  {
   "cell_type": "markdown",
   "metadata": {},
   "source": [
    "이런 데이터의 경우 심층신경망(Deep Neural Network)로 공간을 구부려 선형 데이터를 만든다! 그렇기 때문에 오토인코더는 **은닉층(Hidden Layer)의 장점을 살려 저차원의 표현을 학습**할 수 있다.\n",
    "\n",
    "![fold-space](../img/fold-space.png)"
   ]
  },
  {
   "cell_type": "markdown",
   "metadata": {},
   "source": [
    "## 2. 구현하기\n",
    "### 2.1. 사용 예시 1: 이미지 재구성\n",
    "#### Imports"
   ]
  },
  {
   "cell_type": "code",
   "execution_count": 7,
   "metadata": {
    "ExecuteTime": {
     "end_time": "2020-09-11T17:33:17.152600Z",
     "start_time": "2020-09-11T17:33:17.138594Z"
    }
   },
   "outputs": [],
   "source": [
    "from tensorflow.keras.layers import Dense, Input, Conv2D, LSTM, MaxPool2D, UpSampling2D\n",
    "from sklearn.model_selection import train_test_split\n",
    "from tensorflow.keras.callbacks import EarlyStopping\n",
    "from tensorflow.keras.utils import to_categorical\n",
    "from numpy import argmax, array_equal\n",
    "import matplotlib.pyplot as plt\n",
    "from tensorflow.keras.models import Model\n",
    "from imgaug import augmenters\n",
    "from random import randint\n",
    "import pandas as pd\n",
    "import numpy as np"
   ]
  },
  {
   "cell_type": "markdown",
   "metadata": {},
   "source": [
    "#### Prepare dataset"
   ]
  },
  {
   "cell_type": "code",
   "execution_count": 8,
   "metadata": {
    "ExecuteTime": {
     "end_time": "2020-09-11T17:33:21.961946Z",
     "start_time": "2020-09-11T17:33:17.156599Z"
    }
   },
   "outputs": [],
   "source": [
    "# 데이터 로드\n",
    "train = pd.read_csv('../data/fashion-mnist_train.csv')\n",
    "\n",
    "# 입력과 라벨 데이터로 분리\n",
    "train_x = train[list(train.columns)[1:]].values\n",
    "train_y = train['label'].values"
   ]
  },
  {
   "cell_type": "code",
   "execution_count": 11,
   "metadata": {
    "ExecuteTime": {
     "end_time": "2020-09-11T17:35:58.107449Z",
     "start_time": "2020-09-11T17:35:56.223817Z"
    }
   },
   "outputs": [],
   "source": [
    "# 입력 데이터 0-1로 정규화\n",
    "train_x = train_x / 255\n",
    "\n",
    "# 학습/검증 데이터셋으로 분리\n",
    "train_x, val_x, train_y, val_y = train_test_split(train_x, train_y, test_size=0.2)\n",
    "\n",
    "# 1차원 데이터로 평탄화\n",
    "train_x = train_x.reshape(-1, 784)\n",
    "val_x = val_x.reshape(-1, 784)"
   ]
  },
  {
   "cell_type": "code",
   "execution_count": 12,
   "metadata": {
    "ExecuteTime": {
     "end_time": "2020-09-11T17:36:18.392482Z",
     "start_time": "2020-09-11T17:36:18.382067Z"
    }
   },
   "outputs": [
    {
     "name": "stdout",
     "output_type": "stream",
     "text": [
      "train_x의 크기 : (48000, 784)\n",
      "val_x의 크기 : (12000, 784)\n"
     ]
    }
   ],
   "source": [
    "print('train_x의 크기 :', train_x.shape)\n",
    "print('val_x의 크기 :', val_x.shape)"
   ]
  },
  {
   "cell_type": "markdown",
   "metadata": {},
   "source": [
    "#### Autoencoder Modeling"
   ]
  },
  {
   "cell_type": "code",
   "execution_count": 15,
   "metadata": {
    "ExecuteTime": {
     "end_time": "2020-09-11T17:39:19.198633Z",
     "start_time": "2020-09-11T17:39:18.832305Z"
    },
    "code_folding": []
   },
   "outputs": [],
   "source": [
    "############## 모델 정의 ##############\n",
    "# 입력층\n",
    "input_layer = Input(shape=(784, ))\n",
    "\n",
    "# 인코더\n",
    "encode_layer1 = Dense(1500, activation='relu')(input_layer)\n",
    "encode_layer2 = Dense(1000, activation='relu')(encode_layer1)\n",
    "encode_layer3 = Dense(500, activation='relu')(encode_layer2)\n",
    "\n",
    "# 잠재 특징\n",
    "latent_view = Dense(10, activation='sigmoid')(encode_layer3)\n",
    "\n",
    "# 디코더\n",
    "decode_layer1 = Dense(500, activation='relu')(latent_view)\n",
    "decode_layer2 = Dense(1000, activation='relu')(decode_layer1)\n",
    "decode_layer3 = Dense(1500, activation='relu')(decode_layer2)\n",
    "\n",
    "# 출력층\n",
    "output_layer = Dense(784)(decode_layer3)\n",
    "########################################\n",
    "\n",
    "model = Model(input_layer, output_layer)"
   ]
  },
  {
   "cell_type": "code",
   "execution_count": 16,
   "metadata": {
    "ExecuteTime": {
     "end_time": "2020-09-11T17:39:29.934556Z",
     "start_time": "2020-09-11T17:39:29.918557Z"
    }
   },
   "outputs": [
    {
     "name": "stdout",
     "output_type": "stream",
     "text": [
      "_________________________________________________________________\n",
      "Layer (type)                 Output Shape              Param #   \n",
      "=================================================================\n",
      "input_3 (InputLayer)         (None, 784)               0         \n",
      "_________________________________________________________________\n",
      "dense_16 (Dense)             (None, 1500)              1177500   \n",
      "_________________________________________________________________\n",
      "dense_17 (Dense)             (None, 1000)              1501000   \n",
      "_________________________________________________________________\n",
      "dense_18 (Dense)             (None, 500)               500500    \n",
      "_________________________________________________________________\n",
      "dense_19 (Dense)             (None, 10)                5010      \n",
      "_________________________________________________________________\n",
      "dense_20 (Dense)             (None, 500)               5500      \n",
      "_________________________________________________________________\n",
      "dense_21 (Dense)             (None, 1000)              501000    \n",
      "_________________________________________________________________\n",
      "dense_22 (Dense)             (None, 1500)              1501500   \n",
      "_________________________________________________________________\n",
      "dense_23 (Dense)             (None, 784)               1176784   \n",
      "=================================================================\n",
      "Total params: 6,368,794\n",
      "Trainable params: 6,368,794\n",
      "Non-trainable params: 0\n",
      "_________________________________________________________________\n"
     ]
    }
   ],
   "source": [
    "model.summary()"
   ]
  },
  {
   "cell_type": "markdown",
   "metadata": {},
   "source": [
    "#### Compile and train the model\n",
    "* `최적화 알고리즘` : Adam\n",
    "* `비용 함수` : MSE\n",
    "* `조기 종료 학습` : 10번까지 확인"
   ]
  },
  {
   "cell_type": "code",
   "execution_count": 18,
   "metadata": {
    "ExecuteTime": {
     "end_time": "2020-09-11T17:55:17.892538Z",
     "start_time": "2020-09-11T17:43:23.353499Z"
    }
   },
   "outputs": [
    {
     "name": "stdout",
     "output_type": "stream",
     "text": [
      "Train on 48000 samples, validate on 12000 samples\n",
      "WARNING:tensorflow:From C:\\Users\\round\\Anaconda3\\lib\\site-packages\\tensorflow\\python\\ops\\math_ops.py:3066: to_int32 (from tensorflow.python.ops.math_ops) is deprecated and will be removed in a future version.\n",
      "Instructions for updating:\n",
      "Use tf.cast instead.\n",
      "Epoch 1/20\n",
      "48000/48000 [==============================] - 32s 656us/sample - loss: 0.0962 - val_loss: 0.0701\n",
      "Epoch 2/20\n",
      "48000/48000 [==============================] - 33s 679us/sample - loss: 0.0623 - val_loss: 0.0532\n",
      "Epoch 3/20\n",
      "48000/48000 [==============================] - 33s 692us/sample - loss: 0.0468 - val_loss: 0.0424\n",
      "Epoch 4/20\n",
      "48000/48000 [==============================] - 35s 725us/sample - loss: 0.0399 - val_loss: 0.0383\n",
      "Epoch 5/20\n",
      "48000/48000 [==============================] - 35s 729us/sample - loss: 0.0367 - val_loss: 0.0358\n",
      "Epoch 6/20\n",
      "48000/48000 [==============================] - 34s 700us/sample - loss: 0.0341 - val_loss: 0.0321\n",
      "Epoch 7/20\n",
      "48000/48000 [==============================] - 35s 731us/sample - loss: 0.0324 - val_loss: 0.0315\n",
      "Epoch 8/20\n",
      "48000/48000 [==============================] - 43s 903us/sample - loss: 0.0291 - val_loss: 0.0276\n",
      "Epoch 9/20\n",
      "48000/48000 [==============================] - 33s 689us/sample - loss: 0.0265 - val_loss: 0.0257\n",
      "Epoch 10/20\n",
      "48000/48000 [==============================] - 33s 697us/sample - loss: 0.0251 - val_loss: 0.0245\n",
      "Epoch 11/20\n",
      "48000/48000 [==============================] - 36s 740us/sample - loss: 0.0239 - val_loss: 0.0241\n",
      "Epoch 12/20\n",
      "48000/48000 [==============================] - 40s 840us/sample - loss: 0.0231 - val_loss: 0.0227\n",
      "Epoch 13/20\n",
      "48000/48000 [==============================] - 33s 688us/sample - loss: 0.0224 - val_loss: 0.0222\n",
      "Epoch 14/20\n",
      "48000/48000 [==============================] - 34s 712us/sample - loss: 0.0216 - val_loss: 0.0213\n",
      "Epoch 15/20\n",
      "48000/48000 [==============================] - 37s 772us/sample - loss: 0.0213 - val_loss: 0.0209\n",
      "Epoch 16/20\n",
      "48000/48000 [==============================] - 42s 875us/sample - loss: 0.0207 - val_loss: 0.0208\n",
      "Epoch 17/20\n",
      "48000/48000 [==============================] - 34s 704us/sample - loss: 0.0203 - val_loss: 0.0198\n",
      "Epoch 18/20\n",
      "48000/48000 [==============================] - 35s 725us/sample - loss: 0.0196 - val_loss: 0.0193\n",
      "Epoch 19/20\n",
      "48000/48000 [==============================] - 42s 870us/sample - loss: 0.0190 - val_loss: 0.0190\n",
      "Epoch 20/20\n",
      "48000/48000 [==============================] - 35s 734us/sample - loss: 0.0188 - val_loss: 0.0186\n"
     ]
    },
    {
     "data": {
      "text/plain": [
       "<tensorflow.python.keras.callbacks.History at 0x1fe6d03e088>"
      ]
     },
     "execution_count": 18,
     "metadata": {},
     "output_type": "execute_result"
    }
   ],
   "source": [
    "# 모델 컴파일 및 학습\n",
    "model.compile(optimizer='adam', loss='mse')\n",
    "early_stopping = EarlyStopping(monitor='val_loss', min_delta=0, patience=10, verbose=1, mode='auto')\n",
    "model.fit(train_x, train_x, epochs=20, batch_size=2048, validation_data=(val_x, val_x), callbacks=[early_stopping])"
   ]
  },
  {
   "cell_type": "markdown",
   "metadata": {},
   "source": [
    "#### Predict"
   ]
  },
  {
   "cell_type": "code",
   "execution_count": 19,
   "metadata": {
    "ExecuteTime": {
     "end_time": "2020-09-11T17:55:24.529774Z",
     "start_time": "2020-09-11T17:55:18.191295Z"
    }
   },
   "outputs": [],
   "source": [
    "preds = model.predict(val_x)"
   ]
  },
  {
   "cell_type": "code",
   "execution_count": 20,
   "metadata": {
    "ExecuteTime": {
     "end_time": "2020-09-11T17:55:25.952809Z",
     "start_time": "2020-09-11T17:55:24.706736Z"
    }
   },
   "outputs": [
    {
     "data": {
      "image/png": "[encoded data removed]",
      "text/plain": [
       "<Figure size 5760x2880 with 5 Axes>"
      ]
     },
     "metadata": {
      "needs_background": "light"
     },
     "output_type": "display_data"
    }
   ],
   "source": [
    "# 원본 이미지\n",
    "from PIL import Image\n",
    "\n",
    "f, ax = plt.subplots(1, 5)\n",
    "f.set_size_inches(80, 40)\n",
    "for i in range(5):\n",
    "    ax[i].imshow(val_x[i].reshape(28, 28))\n",
    "plt.show()"
   ]
  },
  {
   "cell_type": "code",
   "execution_count": 21,
   "metadata": {
    "ExecuteTime": {
     "end_time": "2020-09-11T17:55:27.450258Z",
     "start_time": "2020-09-11T17:55:26.161477Z"
    }
   },
   "outputs": [
    {
     "data": {
      "image/png": "[encoded data removed]",
      "text/plain": [
       "<Figure size 5760x2880 with 5 Axes>"
      ]
     },
     "metadata": {
      "needs_background": "light"
     },
     "output_type": "display_data"
    }
   ],
   "source": [
    "# 오토인코더로 예측한 이미지\n",
    "f, ax = plt.subplots(1, 5)\n",
    "f.set_size_inches(80, 40)\n",
    "for i in range(5):\n",
    "    ax[i].imshow(preds[i].reshape(28, 28))\n",
    "plt.show()"
   ]
  },
  {
   "cell_type": "markdown",
   "metadata": {},
   "source": [
    "### 2.2. 사용 예시 2: 이미지 노이즈 제거\n",
    "이번 오토인코더는 **합성곱계층(Convolutional Layer)**를 사용한다. 왜냐하면 합성곱 신경망은 이미지 입력에 대해 매우 잘 작동하기 때문이다. 그러므로 합성곱 신경망의 입력으로 넣기 위해 $28*28$ 행렬로 변환해줘야 한다."
   ]
  },
  {
   "cell_type": "markdown",
   "metadata": {},
   "source": [
    "#### Prepare dataset"
   ]
  },
  {
   "cell_type": "code",
   "execution_count": 22,
   "metadata": {
    "ExecuteTime": {
     "end_time": "2020-09-11T17:55:29.728510Z",
     "start_time": "2020-09-11T17:55:27.642463Z"
    }
   },
   "outputs": [],
   "source": [
    "# 입력 데이터 추출 및 입력/검증 데이터셋 생성\n",
    "train_x = train[list(train.columns)[1:]].values\n",
    "train_x, val_x = train_test_split(train_x, test_size=0.2)\n",
    "\n",
    "# 정규화\n",
    "train_x = train_x/255\n",
    "val_x = val_x/255"
   ]
  },
  {
   "cell_type": "code",
   "execution_count": 23,
   "metadata": {
    "ExecuteTime": {
     "end_time": "2020-09-11T17:55:29.901962Z",
     "start_time": "2020-09-11T17:55:29.887907Z"
    }
   },
   "outputs": [
    {
     "name": "stdout",
     "output_type": "stream",
     "text": [
      "train_x의 크기 : (48000, 28, 28, 1)\n",
      "val_x의 크기 : (12000, 28, 28, 1)\n"
     ]
    }
   ],
   "source": [
    "# 28*28 행렬로 변환\n",
    "train_x = train_x.reshape(-1, 28, 28, 1)\n",
    "val_x = val_x.reshape(-1, 28, 28, 1)\n",
    "\n",
    "print('train_x의 크기 :', train_x.shape)\n",
    "print('val_x의 크기 :', val_x.shape)"
   ]
  },
  {
   "cell_type": "markdown",
   "metadata": {},
   "source": [
    "#### Add noise\n",
    "노이즈 제거를 위해 의도적으로 노이즈를 추가해준다. `imgaug` 패키지는 이미지에 노이즈를 생성해주는 유용한 도구를 제공한다. 생성할 수 있는 노이즈의 종류는 다음과 같다:\n",
    "* Salt and Pepper Noise\n",
    "* Gaussian Noise\n",
    "* Periodic Noise\n",
    "* Speckle Noise\n",
    "\n",
    "그 중 극단적으로 밝거나 어두운 픽셀을 생성하는 **Salt and Pepper Noise**를 추가해줄 것이다."
   ]
  },
  {
   "cell_type": "code",
   "execution_count": 24,
   "metadata": {
    "ExecuteTime": {
     "end_time": "2020-09-11T17:55:46.553127Z",
     "start_time": "2020-09-11T17:55:30.112749Z"
    }
   },
   "outputs": [],
   "source": [
    "# Salt and Pepper Noise 추가\n",
    "noise = augmenters.SaltAndPepper(0.1)\n",
    "seq_object = augmenters.Sequential([noise])\n",
    "\n",
    "train_x_n = seq_object.augment_images(train_x*255)/255\n",
    "val_x_n = seq_object.augment_images(val_x*255)/255"
   ]
  },
  {
   "cell_type": "code",
   "execution_count": 25,
   "metadata": {
    "ExecuteTime": {
     "end_time": "2020-09-11T17:55:48.082105Z",
     "start_time": "2020-09-11T17:55:46.845122Z"
    }
   },
   "outputs": [
    {
     "data": {
      "image/png": "[encoded data removed]",
      "text/plain": [
       "<Figure size 5760x2880 with 5 Axes>"
      ]
     },
     "metadata": {
      "needs_background": "light"
     },
     "output_type": "display_data"
    }
   ],
   "source": [
    "# 노이즈 추가하기 전\n",
    "f, ax = plt.subplots(1,5)\n",
    "f.set_size_inches(80, 40)\n",
    "for i in range(5,10):\n",
    "    ax[i-5].imshow(train_x[i].reshape(28, 28))\n",
    "plt.show()"
   ]
  },
  {
   "cell_type": "code",
   "execution_count": 26,
   "metadata": {
    "ExecuteTime": {
     "end_time": "2020-09-11T17:55:49.589662Z",
     "start_time": "2020-09-11T17:55:48.314298Z"
    }
   },
   "outputs": [
    {
     "data": {
      "image/png": "[encoded data removed]",
      "text/plain": [
       "<Figure size 5760x2880 with 5 Axes>"
      ]
     },
     "metadata": {
      "needs_background": "light"
     },
     "output_type": "display_data"
    }
   ],
   "source": [
    "# 노이즈 추가한 후 \n",
    "f, ax = plt.subplots(1,5)\n",
    "f.set_size_inches(80, 40)\n",
    "for i in range(5,10):\n",
    "    ax[i-5].imshow(train_x_n[i].reshape(28, 28))\n",
    "plt.show()"
   ]
  },
  {
   "cell_type": "markdown",
   "metadata": {},
   "source": [
    "#### Autoencoder Modeling\n",
    "* **Encoder** :  3개의 Convolution Layer와 3개의 Max Pooling Layer로 구성\n",
    "    * 활성화 함수로는 relu를 사용하고 `padding=same`으로 설정하여 이미지의 크기를 유지한다.\n",
    "    * Max Pooling Layer는 이미지의 차원을 다운샘플링(Down Sampling)하기 위해 사용된다.\n",
    "* **Decoder** : 3개의 Convolution Layer와 3개의 UpSamplling Layer로 구성\n",
    "    * 활성화 함수와 `padding` 설정은 인코더와 동일\n",
    "    * UpSampling Layer는 입력 데이터를 더 높은 차원으로 업샘플링(Up Sampling)하기 위해 사용된다."
   ]
  },
  {
   "cell_type": "code",
   "execution_count": 27,
   "metadata": {
    "ExecuteTime": {
     "end_time": "2020-09-11T17:57:51.752837Z",
     "start_time": "2020-09-11T17:57:51.439838Z"
    }
   },
   "outputs": [],
   "source": [
    "############## 모델 정의 ##############\n",
    "# 입력층\n",
    "input_layer = Input(shape=(28, 28, 1))\n",
    "\n",
    "# 인코더\n",
    "encoded_layer1 = Conv2D(64, (3, 3), activation='relu', padding='same')(input_layer)\n",
    "encoded_layer1 = MaxPool2D((2, 2), padding='same')(encoded_layer1)\n",
    "encoded_layer2 = Conv2D(32, (3, 3), activation='relu', padding='same')(encoded_layer1)\n",
    "encoded_layer2 = MaxPool2D((2, 2), padding='same')(encoded_layer2)\n",
    "encoded_layer3 = Conv2D(16, (3, 3), activation='relu', padding='same')(encoded_layer2)\n",
    "\n",
    "# 잠재 특징\n",
    "latent_view = MaxPool2D((2, 2), padding='same')(encoded_layer3)\n",
    "\n",
    "# 디코더\n",
    "decoded_layer1 = Conv2D(16, (3, 3), activation='relu', padding='same')(latent_view)\n",
    "decoded_layer1 = UpSampling2D((2, 2))(decoded_layer1)\n",
    "decoded_layer2 = Conv2D(32, (3, 3), activation='relu', padding='same')(decoded_layer1)\n",
    "decoded_layer2 = UpSampling2D((2, 2))(decoded_layer2)\n",
    "decoded_layer3 = Conv2D(64, (3, 3), activation='relu')(decoded_layer2)\n",
    "decoded_layer3 = UpSampling2D((2, 2))(decoded_layer3)\n",
    "\n",
    "# 출력층\n",
    "output_layer = Conv2D(1, (3, 3), padding='same')(decoded_layer3)\n",
    "########################################\n",
    "\n",
    "# 모델 컴파일\n",
    "model_2 = Model(input_layer, output_layer)\n",
    "model_2.compile(optimizer='adam', loss='mse')"
   ]
  },
  {
   "cell_type": "code",
   "execution_count": 28,
   "metadata": {
    "ExecuteTime": {
     "end_time": "2020-09-11T17:57:59.373513Z",
     "start_time": "2020-09-11T17:57:59.365515Z"
    }
   },
   "outputs": [
    {
     "name": "stdout",
     "output_type": "stream",
     "text": [
      "_________________________________________________________________\n",
      "Layer (type)                 Output Shape              Param #   \n",
      "=================================================================\n",
      "input_4 (InputLayer)         (None, 28, 28, 1)         0         \n",
      "_________________________________________________________________\n",
      "conv2d (Conv2D)              (None, 28, 28, 64)        640       \n",
      "_________________________________________________________________\n",
      "max_pooling2d (MaxPooling2D) (None, 14, 14, 64)        0         \n",
      "_________________________________________________________________\n",
      "conv2d_1 (Conv2D)            (None, 14, 14, 32)        18464     \n",
      "_________________________________________________________________\n",
      "max_pooling2d_1 (MaxPooling2 (None, 7, 7, 32)          0         \n",
      "_________________________________________________________________\n",
      "conv2d_2 (Conv2D)            (None, 7, 7, 16)          4624      \n",
      "_________________________________________________________________\n",
      "max_pooling2d_2 (MaxPooling2 (None, 4, 4, 16)          0         \n",
      "_________________________________________________________________\n",
      "conv2d_3 (Conv2D)            (None, 4, 4, 16)          2320      \n",
      "_________________________________________________________________\n",
      "up_sampling2d (UpSampling2D) (None, 8, 8, 16)          0         \n",
      "_________________________________________________________________\n",
      "conv2d_4 (Conv2D)            (None, 8, 8, 32)          4640      \n",
      "_________________________________________________________________\n",
      "up_sampling2d_1 (UpSampling2 (None, 16, 16, 32)        0         \n",
      "_________________________________________________________________\n",
      "conv2d_5 (Conv2D)            (None, 14, 14, 64)        18496     \n",
      "_________________________________________________________________\n",
      "up_sampling2d_2 (UpSampling2 (None, 28, 28, 64)        0         \n",
      "_________________________________________________________________\n",
      "conv2d_6 (Conv2D)            (None, 28, 28, 1)         577       \n",
      "=================================================================\n",
      "Total params: 49,761\n",
      "Trainable params: 49,761\n",
      "Non-trainable params: 0\n",
      "_________________________________________________________________\n"
     ]
    }
   ],
   "source": [
    "model_2.summary()"
   ]
  },
  {
   "cell_type": "code",
   "execution_count": 29,
   "metadata": {
    "ExecuteTime": {
     "end_time": "2020-09-11T17:59:41.193600Z",
     "start_time": "2020-09-11T17:58:25.831664Z"
    }
   },
   "outputs": [
    {
     "name": "stdout",
     "output_type": "stream",
     "text": [
      "Train on 48000 samples, validate on 12000 samples\n",
      "Epoch 1/20\n",
      " 6144/48000 [==>...........................] - ETA: 6:46 - loss: 0.1338"
     ]
    },
    {
     "ename": "KeyboardInterrupt",
     "evalue": "",
     "output_type": "error",
     "traceback": [
      "\u001b[1;31m---------------------------------------------------------------------------\u001b[0m",
      "\u001b[1;31mKeyboardInterrupt\u001b[0m                         Traceback (most recent call last)",
      "\u001b[1;32m<ipython-input-29-ec8076555af2>\u001b[0m in \u001b[0;36m<module>\u001b[1;34m\u001b[0m\n\u001b[0;32m      1\u001b[0m \u001b[0mearly_stopping\u001b[0m \u001b[1;33m=\u001b[0m \u001b[0mEarlyStopping\u001b[0m\u001b[1;33m(\u001b[0m\u001b[0mmonitor\u001b[0m\u001b[1;33m=\u001b[0m\u001b[1;34m'val_loss'\u001b[0m\u001b[1;33m,\u001b[0m \u001b[0mmin_delta\u001b[0m\u001b[1;33m=\u001b[0m\u001b[1;36m0\u001b[0m\u001b[1;33m,\u001b[0m \u001b[0mpatience\u001b[0m\u001b[1;33m=\u001b[0m\u001b[1;36m10\u001b[0m\u001b[1;33m,\u001b[0m \u001b[0mverbose\u001b[0m\u001b[1;33m=\u001b[0m\u001b[1;36m5\u001b[0m\u001b[1;33m,\u001b[0m \u001b[0mmode\u001b[0m\u001b[1;33m=\u001b[0m\u001b[1;34m'auto'\u001b[0m\u001b[1;33m)\u001b[0m\u001b[1;33m\u001b[0m\u001b[1;33m\u001b[0m\u001b[0m\n\u001b[1;32m----> 2\u001b[1;33m \u001b[0mhistory\u001b[0m \u001b[1;33m=\u001b[0m \u001b[0mmodel_2\u001b[0m\u001b[1;33m.\u001b[0m\u001b[0mfit\u001b[0m\u001b[1;33m(\u001b[0m\u001b[0mtrain_x_n\u001b[0m\u001b[1;33m,\u001b[0m \u001b[0mtrain_x\u001b[0m\u001b[1;33m,\u001b[0m \u001b[0mepochs\u001b[0m\u001b[1;33m=\u001b[0m\u001b[1;36m20\u001b[0m\u001b[1;33m,\u001b[0m \u001b[0mbatch_size\u001b[0m\u001b[1;33m=\u001b[0m\u001b[1;36m2048\u001b[0m\u001b[1;33m,\u001b[0m \u001b[0mvalidation_data\u001b[0m\u001b[1;33m=\u001b[0m\u001b[1;33m(\u001b[0m\u001b[0mval_x_n\u001b[0m\u001b[1;33m,\u001b[0m \u001b[0mval_x\u001b[0m\u001b[1;33m)\u001b[0m\u001b[1;33m,\u001b[0m \u001b[0mcallbacks\u001b[0m\u001b[1;33m=\u001b[0m\u001b[1;33m[\u001b[0m\u001b[0mearly_stopping\u001b[0m\u001b[1;33m]\u001b[0m\u001b[1;33m)\u001b[0m\u001b[1;33m\u001b[0m\u001b[1;33m\u001b[0m\u001b[0m\n\u001b[0m",
      "\u001b[1;32m~\\Anaconda3\\lib\\site-packages\\tensorflow\\python\\keras\\engine\\training.py\u001b[0m in \u001b[0;36mfit\u001b[1;34m(self, x, y, batch_size, epochs, verbose, callbacks, validation_split, validation_data, shuffle, class_weight, sample_weight, initial_epoch, steps_per_epoch, validation_steps, max_queue_size, workers, use_multiprocessing, **kwargs)\u001b[0m\n\u001b[0;32m    878\u001b[0m           \u001b[0minitial_epoch\u001b[0m\u001b[1;33m=\u001b[0m\u001b[0minitial_epoch\u001b[0m\u001b[1;33m,\u001b[0m\u001b[1;33m\u001b[0m\u001b[1;33m\u001b[0m\u001b[0m\n\u001b[0;32m    879\u001b[0m           \u001b[0msteps_per_epoch\u001b[0m\u001b[1;33m=\u001b[0m\u001b[0msteps_per_epoch\u001b[0m\u001b[1;33m,\u001b[0m\u001b[1;33m\u001b[0m\u001b[1;33m\u001b[0m\u001b[0m\n\u001b[1;32m--> 880\u001b[1;33m           validation_steps=validation_steps)\n\u001b[0m\u001b[0;32m    881\u001b[0m \u001b[1;33m\u001b[0m\u001b[0m\n\u001b[0;32m    882\u001b[0m   def evaluate(self,\n",
      "\u001b[1;32m~\\Anaconda3\\lib\\site-packages\\tensorflow\\python\\keras\\engine\\training_arrays.py\u001b[0m in \u001b[0;36mmodel_iteration\u001b[1;34m(model, inputs, targets, sample_weights, batch_size, epochs, verbose, callbacks, val_inputs, val_targets, val_sample_weights, shuffle, initial_epoch, steps_per_epoch, validation_steps, mode, validation_in_fit, **kwargs)\u001b[0m\n\u001b[0;32m    327\u001b[0m \u001b[1;33m\u001b[0m\u001b[0m\n\u001b[0;32m    328\u001b[0m         \u001b[1;31m# Get outputs.\u001b[0m\u001b[1;33m\u001b[0m\u001b[1;33m\u001b[0m\u001b[1;33m\u001b[0m\u001b[0m\n\u001b[1;32m--> 329\u001b[1;33m         \u001b[0mbatch_outs\u001b[0m \u001b[1;33m=\u001b[0m \u001b[0mf\u001b[0m\u001b[1;33m(\u001b[0m\u001b[0mins_batch\u001b[0m\u001b[1;33m)\u001b[0m\u001b[1;33m\u001b[0m\u001b[1;33m\u001b[0m\u001b[0m\n\u001b[0m\u001b[0;32m    330\u001b[0m         \u001b[1;32mif\u001b[0m \u001b[1;32mnot\u001b[0m \u001b[0misinstance\u001b[0m\u001b[1;33m(\u001b[0m\u001b[0mbatch_outs\u001b[0m\u001b[1;33m,\u001b[0m \u001b[0mlist\u001b[0m\u001b[1;33m)\u001b[0m\u001b[1;33m:\u001b[0m\u001b[1;33m\u001b[0m\u001b[1;33m\u001b[0m\u001b[0m\n\u001b[0;32m    331\u001b[0m           \u001b[0mbatch_outs\u001b[0m \u001b[1;33m=\u001b[0m \u001b[1;33m[\u001b[0m\u001b[0mbatch_outs\u001b[0m\u001b[1;33m]\u001b[0m\u001b[1;33m\u001b[0m\u001b[1;33m\u001b[0m\u001b[0m\n",
      "\u001b[1;32m~\\Anaconda3\\lib\\site-packages\\tensorflow\\python\\keras\\backend.py\u001b[0m in \u001b[0;36m__call__\u001b[1;34m(self, inputs)\u001b[0m\n\u001b[0;32m   3074\u001b[0m \u001b[1;33m\u001b[0m\u001b[0m\n\u001b[0;32m   3075\u001b[0m     fetched = self._callable_fn(*array_vals,\n\u001b[1;32m-> 3076\u001b[1;33m                                 run_metadata=self.run_metadata)\n\u001b[0m\u001b[0;32m   3077\u001b[0m     \u001b[0mself\u001b[0m\u001b[1;33m.\u001b[0m\u001b[0m_call_fetch_callbacks\u001b[0m\u001b[1;33m(\u001b[0m\u001b[0mfetched\u001b[0m\u001b[1;33m[\u001b[0m\u001b[1;33m-\u001b[0m\u001b[0mlen\u001b[0m\u001b[1;33m(\u001b[0m\u001b[0mself\u001b[0m\u001b[1;33m.\u001b[0m\u001b[0m_fetches\u001b[0m\u001b[1;33m)\u001b[0m\u001b[1;33m:\u001b[0m\u001b[1;33m]\u001b[0m\u001b[1;33m)\u001b[0m\u001b[1;33m\u001b[0m\u001b[1;33m\u001b[0m\u001b[0m\n\u001b[0;32m   3078\u001b[0m     return nest.pack_sequence_as(self._outputs_structure,\n",
      "\u001b[1;32m~\\Anaconda3\\lib\\site-packages\\tensorflow\\python\\client\\session.py\u001b[0m in \u001b[0;36m__call__\u001b[1;34m(self, *args, **kwargs)\u001b[0m\n\u001b[0;32m   1437\u001b[0m           ret = tf_session.TF_SessionRunCallable(\n\u001b[0;32m   1438\u001b[0m               \u001b[0mself\u001b[0m\u001b[1;33m.\u001b[0m\u001b[0m_session\u001b[0m\u001b[1;33m.\u001b[0m\u001b[0m_session\u001b[0m\u001b[1;33m,\u001b[0m \u001b[0mself\u001b[0m\u001b[1;33m.\u001b[0m\u001b[0m_handle\u001b[0m\u001b[1;33m,\u001b[0m \u001b[0margs\u001b[0m\u001b[1;33m,\u001b[0m \u001b[0mstatus\u001b[0m\u001b[1;33m,\u001b[0m\u001b[1;33m\u001b[0m\u001b[1;33m\u001b[0m\u001b[0m\n\u001b[1;32m-> 1439\u001b[1;33m               run_metadata_ptr)\n\u001b[0m\u001b[0;32m   1440\u001b[0m         \u001b[1;32mif\u001b[0m \u001b[0mrun_metadata\u001b[0m\u001b[1;33m:\u001b[0m\u001b[1;33m\u001b[0m\u001b[1;33m\u001b[0m\u001b[0m\n\u001b[0;32m   1441\u001b[0m           \u001b[0mproto_data\u001b[0m \u001b[1;33m=\u001b[0m \u001b[0mtf_session\u001b[0m\u001b[1;33m.\u001b[0m\u001b[0mTF_GetBuffer\u001b[0m\u001b[1;33m(\u001b[0m\u001b[0mrun_metadata_ptr\u001b[0m\u001b[1;33m)\u001b[0m\u001b[1;33m\u001b[0m\u001b[1;33m\u001b[0m\u001b[0m\n",
      "\u001b[1;31mKeyboardInterrupt\u001b[0m: "
     ]
    }
   ],
   "source": [
    "early_stopping = EarlyStopping(monitor='val_loss', min_delta=0, patience=10, verbose=5, mode='auto')\n",
    "history = model_2.fit(train_x_n, train_x, epochs=20, batch_size=2048, validation_data=(val_x_n, val_x), callbacks=[early_stopping])"
   ]
  },
  {
   "cell_type": "markdown",
   "metadata": {},
   "source": [
    "#### Predict"
   ]
  },
  {
   "cell_type": "code",
   "execution_count": null,
   "metadata": {
    "ExecuteTime": {
     "end_time": "2020-09-11T17:59:41.218572Z",
     "start_time": "2020-09-11T17:59:09.126Z"
    }
   },
   "outputs": [],
   "source": [
    "# 노이즈가 낀 검증 데이터\n",
    "f, ax = plt.subplots(1,5)\n",
    "f.set_size_inches(80, 40)\n",
    "for i in range(5,10):\n",
    "    ax[i-5].imshow(val_x_n[i].reshape(28, 28))\n",
    "plt.show()"
   ]
  },
  {
   "cell_type": "code",
   "execution_count": null,
   "metadata": {
    "ExecuteTime": {
     "end_time": "2020-09-11T17:59:41.223565Z",
     "start_time": "2020-09-11T17:59:26.132Z"
    }
   },
   "outputs": [],
   "source": [
    "# 오토인코딩 후 검증 데이터\n",
    "preds = model_2.predict(val_x_n[:10])\n",
    "f, ax = plt.subplots(1,5)\n",
    "f.set_size_inches(80, 40)\n",
    "for i in range(5,10):\n",
    "    ax[i-5].imshow(preds[i].reshape(28, 28))\n",
    "plt.show()"
   ]
  },
  {
   "cell_type": "markdown",
   "metadata": {},
   "source": [
    "### 2.3. 사용 사례 3: Seq2Seq 예측\n",
    "앞의 사례와는 달리 **1차원의 시퀀스 데이터**를 사용한다. 시퀀스 데이터로는 시계열 데이터와 문자열 데이터가 있다. CNN을 사용한 이미지 데이터와는 달리 여기서는 **LSTM**을 사용한다.\n",
    "\n",
    "> `💡 참고`\n",
    "> * [Pytorch FastCampus - RNN](https://github.com/GunhoChoi/PyTorch-FastCampus/blob/master/05_RNN/RNN.pdf) \n",
    "> * [부스트코스 Pytorch - Seq2Seq](https://github.com/CoodingPenguin/boostcourse-dl-pytorch/blob/master/Part%204.%20Recurrent%20Neural%20Network/Part%204.5.%20RNN%20Seq2Seq.ipynb)"
   ]
  },
  {
   "cell_type": "markdown",
   "metadata": {},
   "source": [
    "#### Generate Data\n",
    "고정된 길이의 무작위 시퀀스를 포함하는 시퀀스 데이터셋를 생성한다.\n",
    "\n",
    "* `X1` : 난수를 포함하는 입력 시퀀스\n",
    "* `X2` : 시퀀스의 다른 요소를 재생산하기 위해 시드로 사용되는 패딩 시퀀스\n",
    "* `y` : 대사 시퀀스 또는 실제 시퀀스"
   ]
  },
  {
   "cell_type": "code",
   "execution_count": 30,
   "metadata": {
    "ExecuteTime": {
     "end_time": "2020-09-11T18:11:05.629608Z",
     "start_time": "2020-09-11T18:11:05.596615Z"
    }
   },
   "outputs": [],
   "source": [
    "def dataset_preparation(n_in, n_out, n_unique, n_samples):\n",
    "    X1, X2, y = [], [], []\n",
    "    for _ in range(n_samples):\n",
    "        # 임의의 숫자로 된 시퀀스 생성\n",
    "        input_seq = [randint(1, n_unique-1) for _ in range(n_in)]\n",
    "        \n",
    "        # 타겟 시퀀스 생성\n",
    "        target = input_seq[:n_out]\n",
    "        \n",
    "        # 패딩된 시드 시퀀스 생성\n",
    "        target_seq = list(reversed(target))\n",
    "        seed_seq = [0] + target_seq[:-1]\n",
    "        \n",
    "        # 카테고리형 변수로 변환\n",
    "        X1.append(to_categorical([input_seq], num_classes=n_unique))\n",
    "        X2.append(to_categorical([seed_seq], num_classes=n_unique))\n",
    "        y.append(to_categorical([target_seq], num_classes=n_unique))\n",
    "        \n",
    "    # 불필요한 차원 제거\n",
    "    X1 = np.squeeze(np.array(X1), axis=1)\n",
    "    X2 = np.squeeze(np.array(X2), axis=1)\n",
    "    y = np.squeeze(np.array(y), axis=1)\n",
    "    \n",
    "    return X1, X2, y"
   ]
  },
  {
   "cell_type": "code",
   "execution_count": 31,
   "metadata": {
    "ExecuteTime": {
     "end_time": "2020-09-11T18:11:15.456897Z",
     "start_time": "2020-09-11T18:11:15.444901Z"
    }
   },
   "outputs": [],
   "source": [
    "# 파라미터 설정\n",
    "samples = 100000\n",
    "features = 51\n",
    "input_size = 6\n",
    "output_size = 3"
   ]
  },
  {
   "cell_type": "code",
   "execution_count": 32,
   "metadata": {
    "ExecuteTime": {
     "end_time": "2020-09-11T18:12:09.875492Z",
     "start_time": "2020-09-11T18:12:03.848313Z"
    }
   },
   "outputs": [
    {
     "name": "stdout",
     "output_type": "stream",
     "text": [
      "데이터 크기 : (100000, 6, 51) (100000, 3, 51) (100000, 3, 51)\n",
      "카테고리형으로 인코딩된 첫 번째 입력 시퀀스의 형태 :\n"
     ]
    },
    {
     "data": {
      "text/plain": [
       "array([0., 0., 0., 0., 0., 0., 0., 0., 0., 0., 0., 0., 0., 0., 0., 0., 0.,\n",
       "       0., 0., 0., 0., 0., 0., 0., 0., 0., 0., 0., 0., 0., 0., 0., 0., 0.,\n",
       "       0., 0., 0., 0., 0., 0., 0., 0., 0., 0., 0., 0., 0., 0., 0., 1., 0.],\n",
       "      dtype=float32)"
      ]
     },
     "execution_count": 32,
     "metadata": {},
     "output_type": "execute_result"
    }
   ],
   "source": [
    "inputs, seeds, outputs = dataset_preparation(input_size, output_size, features, samples)\n",
    "print('데이터 크기 :', inputs.shape, seeds.shape, outputs.shape)\n",
    "print('카테고리형으로 인코딩된 첫 번째 입력 시퀀스의 형태 :')\n",
    "inputs[0][0]"
   ]
  },
  {
   "cell_type": "markdown",
   "metadata": {},
   "source": [
    "#### Autoencoder Modeling"
   ]
  },
  {
   "cell_type": "code",
   "execution_count": 45,
   "metadata": {
    "ExecuteTime": {
     "end_time": "2020-09-11T18:21:10.080785Z",
     "start_time": "2020-09-11T18:21:10.060747Z"
    }
   },
   "outputs": [],
   "source": [
    "def define_models(n_input, n_output):\n",
    "    ############ 인코더 정의 ############\n",
    "    # 입력: 시퀀스\n",
    "    # 출력: 인코딩 상태\n",
    "    encoder_inputs = Input(shape=(None, n_input))\n",
    "    encoder = LSTM(128, return_state=True)\n",
    "    encoder_outputs, state_h, state_c = encoder(encoder_inputs)\n",
    "    encoder_states = [state_h, state_c]\n",
    "    encoder_model = Model(encoder_inputs, encoder_states)\n",
    "    #####################################\n",
    "    \n",
    "    ############# 모델 정의 #############\n",
    "    # 입력: 시드 시퀀스\n",
    "    # 출력: 디코딩 상태, 디코딩 출력\n",
    "    decoder_inputs = Input(shape=(None, n_output))\n",
    "    decoder_lstm = LSTM(128, return_sequences=True, return_state=True)\n",
    "    decoder_outputs, _, _ = decoder_lstm(decoder_inputs, initial_state=encoder_states)\n",
    "    decoder_dense = Dense(n_output, activation='softmax')\n",
    "    decoder_outputs = decoder_dense(decoder_outputs)\n",
    "    model = Model([encoder_inputs, decoder_inputs], decoder_outputs)\n",
    "    #####################################\n",
    "    \n",
    "    ############ 디코더 정의 ############\n",
    "    # 입력: 현재 상태 + 인코딩 시퀀스\n",
    "    # 출력: 디코딩 시퀀스\n",
    "    decoder_state_input_h = Input(shape=(128,))\n",
    "    decoder_state_input_c = Input(shape=(128,))\n",
    "    decoder_states_inputs = [decoder_state_input_h, decoder_state_input_c]\n",
    "    decoder_outputs, state_h, state_c = decoder_lstm(decoder_inputs, initial_state=decoder_states_inputs)\n",
    "    decoder_states = [state_h, state_c]\n",
    "    decoder_outputs = decoder_dense(decoder_outputs)\n",
    "    decoder_model = Model([decoder_inputs] + decoder_states_inputs, [decoder_outputs] + decoder_states)\n",
    "    #####################################\n",
    "    \n",
    "    return model, encoder_model, decoder_model"
   ]
  },
  {
   "cell_type": "code",
   "execution_count": 46,
   "metadata": {
    "ExecuteTime": {
     "end_time": "2020-09-11T18:21:34.977297Z",
     "start_time": "2020-09-11T18:21:33.677539Z"
    }
   },
   "outputs": [],
   "source": [
    "autoencoder, encoder_model, decoder_model = define_models(features, features)"
   ]
  },
  {
   "cell_type": "code",
   "execution_count": 47,
   "metadata": {
    "ExecuteTime": {
     "end_time": "2020-09-11T18:21:36.453637Z",
     "start_time": "2020-09-11T18:21:36.442095Z"
    }
   },
   "outputs": [
    {
     "name": "stdout",
     "output_type": "stream",
     "text": [
      "_________________________________________________________________\n",
      "Layer (type)                 Output Shape              Param #   \n",
      "=================================================================\n",
      "input_15 (InputLayer)        (None, None, 51)          0         \n",
      "_________________________________________________________________\n",
      "lstm_4 (LSTM)                [(None, 128), (None, 128) 92160     \n",
      "=================================================================\n",
      "Total params: 92,160\n",
      "Trainable params: 92,160\n",
      "Non-trainable params: 0\n",
      "_________________________________________________________________\n"
     ]
    }
   ],
   "source": [
    "encoder_model.summary()"
   ]
  },
  {
   "cell_type": "code",
   "execution_count": 48,
   "metadata": {
    "ExecuteTime": {
     "end_time": "2020-09-11T18:21:38.987664Z",
     "start_time": "2020-09-11T18:21:38.973666Z"
    }
   },
   "outputs": [
    {
     "name": "stdout",
     "output_type": "stream",
     "text": [
      "__________________________________________________________________________________________________\n",
      "Layer (type)                    Output Shape         Param #     Connected to                     \n",
      "==================================================================================================\n",
      "input_16 (InputLayer)           (None, None, 51)     0                                            \n",
      "__________________________________________________________________________________________________\n",
      "input_17 (InputLayer)           (None, 128)          0                                            \n",
      "__________________________________________________________________________________________________\n",
      "input_18 (InputLayer)           (None, 128)          0                                            \n",
      "__________________________________________________________________________________________________\n",
      "lstm_5 (LSTM)                   [(None, None, 128),  92160       input_16[0][0]                   \n",
      "                                                                 input_17[0][0]                   \n",
      "                                                                 input_18[0][0]                   \n",
      "__________________________________________________________________________________________________\n",
      "dense_25 (Dense)                (None, None, 51)     6579        lstm_5[1][0]                     \n",
      "==================================================================================================\n",
      "Total params: 98,739\n",
      "Trainable params: 98,739\n",
      "Non-trainable params: 0\n",
      "__________________________________________________________________________________________________\n"
     ]
    }
   ],
   "source": [
    "decoder_model.summary()"
   ]
  },
  {
   "cell_type": "code",
   "execution_count": 39,
   "metadata": {
    "ExecuteTime": {
     "end_time": "2020-09-11T18:20:19.753948Z",
     "start_time": "2020-09-11T18:20:19.744945Z"
    }
   },
   "outputs": [
    {
     "name": "stdout",
     "output_type": "stream",
     "text": [
      "__________________________________________________________________________________________________\n",
      "Layer (type)                    Output Shape         Param #     Connected to                     \n",
      "==================================================================================================\n",
      "input_5 (InputLayer)            (None, None, 51)     0                                            \n",
      "__________________________________________________________________________________________________\n",
      "input_6 (InputLayer)            (None, None, 51)     0                                            \n",
      "__________________________________________________________________________________________________\n",
      "lstm (LSTM)                     [(None, 128), (None, 92160       input_5[0][0]                    \n",
      "__________________________________________________________________________________________________\n",
      "lstm_1 (LSTM)                   [(None, None, 128),  92160       input_6[0][0]                    \n",
      "                                                                 lstm[0][1]                       \n",
      "                                                                 lstm[0][2]                       \n",
      "__________________________________________________________________________________________________\n",
      "dense_24 (Dense)                (None, None, 51)     6579        lstm_1[0][0]                     \n",
      "==================================================================================================\n",
      "Total params: 190,899\n",
      "Trainable params: 190,899\n",
      "Non-trainable params: 0\n",
      "__________________________________________________________________________________________________\n"
     ]
    }
   ],
   "source": [
    "autoencoder.summary()"
   ]
  },
  {
   "cell_type": "markdown",
   "metadata": {},
   "source": [
    "#### Predict"
   ]
  },
  {
   "cell_type": "code",
   "execution_count": 49,
   "metadata": {
    "ExecuteTime": {
     "end_time": "2020-09-11T18:22:19.739780Z",
     "start_time": "2020-09-11T18:22:19.733823Z"
    }
   },
   "outputs": [],
   "source": [
    "# 원-핫 인코딩된 시퀀스를 디코딩\n",
    "def reverse_onehot(encoded_seq):\n",
    "    return [argmax(vector) for vector in encoded_seq]"
   ]
  },
  {
   "cell_type": "code",
   "execution_count": null,
   "metadata": {},
   "outputs": [],
   "source": [
    "# 시퀀스 예측\n",
    "def predict_sequence(encoder, decoder, sequence):\n",
    "    output = []\n",
    "    target_seq = np.array([0.0 for _ in range(features)])\n",
    "    target_seq = target_seq.reshape(1, 1, features)\n",
    "\n",
    "    current_state = encoder.predict(sequence)\n",
    "    for t in range(out_size):\n",
    "        pred, h, c = decoder.predict([target_seq] + current_state)\n",
    "        output.append(pred[0, 0, :])\n",
    "        current_state = [h, c]\n",
    "        target_seq = pred\n",
    "    return np.array(output)"
   ]
  },
  {
   "cell_type": "code",
   "execution_count": null,
   "metadata": {},
   "outputs": [],
   "source": [
    "for k in range(5):\n",
    "    X1, X2, y = dataset_preparation(input_size, output_size, features, 1)\n",
    "    target = predict_sequence(encoder_model, decoder_model, X1)\n",
    "    print('\\nInput Sequence={}, SeedSequence={}, PredictedSequence={}'.format(reverse_onehot(X1[0]), \n",
    "                                                                             reverse_onehot(y[0]), \n",
    "                                                                             reverse_onehot(target)))"
   ]
  }
 ],
 "metadata": {
  "kernelspec": {
   "display_name": "Python 3",
   "language": "python",
   "name": "python3"
  },
  "language_info": {
   "codemirror_mode": {
    "name": "ipython",
    "version": 3
   },
   "file_extension": ".py",
   "mimetype": "text/x-python",
   "name": "python",
   "nbconvert_exporter": "python",
   "pygments_lexer": "ipython3",
   "version": "3.7.9"
  },
  "toc": {
   "base_numbering": 1,
   "nav_menu": {},
   "number_sections": false,
   "sideBar": true,
   "skip_h1_title": false,
   "title_cell": "Table of Contents",
   "title_sidebar": "Contents",
   "toc_cell": false,
   "toc_position": {
    "height": "calc(100% - 180px)",
    "left": "10px",
    "top": "150px",
    "width": "165px"
   },
   "toc_section_display": true,
   "toc_window_display": false
  },
  "varInspector": {
   "cols": {
    "lenName": 16,
    "lenType": 16,
    "lenVar": 40
   },
   "kernels_config": {
    "python": {
     "delete_cmd_postfix": "",
     "delete_cmd_prefix": "del ",
     "library": "var_list.py",
     "varRefreshCmd": "print(var_dic_list())"
    },
    "r": {
     "delete_cmd_postfix": ") ",
     "delete_cmd_prefix": "rm(",
     "library": "var_list.r",
     "varRefreshCmd": "cat(var_dic_list()) "
    }
   },
   "types_to_exclude": [
    "module",
    "function",
    "builtin_function_or_method",
    "instance",
    "_Feature"
   ],
   "window_display": false
  }
 },
 "nbformat": 4,
 "nbformat_minor": 4
}
