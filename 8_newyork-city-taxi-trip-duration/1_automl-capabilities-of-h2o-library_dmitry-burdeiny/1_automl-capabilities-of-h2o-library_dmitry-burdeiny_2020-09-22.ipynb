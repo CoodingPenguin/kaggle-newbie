{
 "cells": [
  {
   "cell_type": "markdown",
   "metadata": {},
   "source": [
    "# Tutorial: AutoML Capabilities of H2O library - First Try"
   ]
  },
  {
   "cell_type": "markdown",
   "metadata": {},
   "source": [
    "![h2o.ai](https://avatars0.githubusercontent.com/u/1402695?s=200&v=4)"
   ]
  },
  {
   "cell_type": "markdown",
   "metadata": {},
   "source": [
    "자동화된 머신러닝(AutoML)은 머신러닝을 실제 문제에 적용하는 end-to-end 프로세스를 자동화하는 과정이다. 일반적인 머신러닝 애플리케이션에서 작업의 일반적인 단계(및 하위 단계)는 다음과 같다:\n",
    "\n",
    "1. 데이터 준비\n",
    "    * 데이터 전처리\n",
    "    * 특성 공학\n",
    "    * 특성 추출\n",
    "    * 특성 선택\n",
    "2. 모델 선택\n",
    "3. 하이퍼파라미터 최적화 (최종 모델 성능을 극대화하기 위함)\n",
    "\n",
    "이 단계들의 상당 수는 비전문가들의 능력 밖이다. **AutoML**은 갈수록 커지는 머신러닝 적용 과제에 인공지능 기반 솔루션으로 제안됐다.\n",
    "\n",
    "AutoML의 다양한 단계를 다루는 주목할 만한 플랫폼 중 일부는 다음과 같다:\n",
    "- [auto-sklearn](https://automl.github.io/auto-sklearn/stable/)은 [scikit-learn](https://scikit-learn.org/)베이시안 하이퍼파라미터 최적화 계층이다.\n",
    "- [TPOT](https://github.com/EpistasisLab/tpot) (TeaPOT)는 파이썬 라이브러리로 유전 프로그래밍을 사용하여 완전한 머신러닝 파이프라인을 생성하고 최적화시킨다.\n",
    "- [TransmogrifAI](https://github.com/salesforce/TransmogrifAI)은 Scala/SparkML 라이브러리로 [Salesforce](http://salesforce.com/)에 의해, 자동화된 데이터 클렌징, 특성 공학, 모델 선택, 하이퍼파라미터 최적화를 위해 만들어졌다.\n",
    "- [H2O AutoML](http://docs.h2o.ai/h2o/latest-stable/h2o-docs/automl.html)은 (간단한) 데이터 전처리를 하고, 많은 후보 모델들을 학습하는 프로세스를 자동화하며, 모델의 하이퍼 파라미터 튜닝을 하고, stacking ensemble을 생성한다.\n",
    "- [H2O Driverless AI](https://www.h2o.ai/products/h2o-driverless-ai/)는 상업적 소프트웨어 패키지로 머신러닝 애플리케이션의 많은 측면을 자동화한다. 그것은 자동 특성 공학에 초점을 맞추고 있다.\n",
    "\n",
    "이 튜토리얼에서는 H2O 라이브러리인 AutoML 기능에 대한 개요를 소개한다. 라이브러리는 다음과 같이 간단히 설치할 수 있다."
   ]
  },
  {
   "cell_type": "code",
   "execution_count": 1,
   "metadata": {
    "_kg_hide-input": false,
    "_kg_hide-output": false
   },
   "outputs": [
    {
     "name": "stdout",
     "output_type": "stream",
     "text": [
      "Requirement already satisfied: h2o in /opt/conda/lib/python3.6/site-packages (3.24.0.1)\n",
      "Requirement already satisfied: requests in /opt/conda/lib/python3.6/site-packages (from h2o) (2.21.0)\n",
      "Requirement already satisfied: colorama>=0.3.8 in /opt/conda/lib/python3.6/site-packages (from h2o) (0.3.9)\n",
      "Requirement already satisfied: future in /opt/conda/lib/python3.6/site-packages (from h2o) (0.17.1)\n",
      "Requirement already satisfied: tabulate in /opt/conda/lib/python3.6/site-packages/tabulate-0.8.3-py3.6.egg (from h2o) (0.8.3)\n",
      "Requirement already satisfied: chardet<3.1.0,>=3.0.2 in /opt/conda/lib/python3.6/site-packages (from requests->h2o) (3.0.4)\n",
      "Requirement already satisfied: urllib3<1.25,>=1.21.1 in /opt/conda/lib/python3.6/site-packages (from requests->h2o) (1.22)\n",
      "Requirement already satisfied: certifi>=2017.4.17 in /opt/conda/lib/python3.6/site-packages (from requests->h2o) (2019.3.9)\n",
      "Requirement already satisfied: idna<2.9,>=2.5 in /opt/conda/lib/python3.6/site-packages (from requests->h2o) (2.6)\n"
     ]
    }
   ],
   "source": [
    "!pip install h2o"
   ]
  },
  {
   "cell_type": "markdown",
   "metadata": {},
   "source": [
    "필요한 패키지를 임포트하고 `h2o.init()`을 호출하자. `nthreads`와 `max_mem_size` 변수는 선택 사항이다."
   ]
  },
  {
   "cell_type": "code",
   "execution_count": 2,
   "metadata": {
    "_cell_guid": "b1076dfc-b9ad-4769-8c92-a6c4dae69d19",
    "_kg_hide-output": false,
    "_uuid": "8f2839f25d086af736a60e9eeb907d3b93b6e0e5"
   },
   "outputs": [
    {
     "name": "stdout",
     "output_type": "stream",
     "text": [
      "Checking whether there is an H2O instance running at http://localhost:54321 ..... not found.\n",
      "Attempting to start a local H2O server...\n",
      "  Java Version: openjdk version \"1.8.0_212\"; OpenJDK Runtime Environment (build 1.8.0_212-8u212-b01-1~deb9u1-b01); OpenJDK 64-Bit Server VM (build 25.212-b01, mixed mode)\n",
      "  Starting server from /opt/conda/lib/python3.6/site-packages/h2o/backend/bin/h2o.jar\n",
      "  Ice root: /tmp/tmpdrwlx9ko\n",
      "  JVM stdout: /tmp/tmpdrwlx9ko/h2o_unknownUser_started_from_python.out\n",
      "  JVM stderr: /tmp/tmpdrwlx9ko/h2o_unknownUser_started_from_python.err\n",
      "  Server is running at http://127.0.0.1:54321\n",
      "Connecting to H2O server at http://127.0.0.1:54321 ... successful.\n",
      "Warning: Your H2O cluster version is too old (1 year, 5 months and 26 days)! Please download and install the latest version from http://h2o.ai/download/\n"
     ]
    },
    {
     "data": {
      "text/html": [
       "<div style=\"overflow:auto\"><table style=\"width:50%\"><tr><td>H2O cluster uptime:</td>\n",
       "<td>02 secs</td></tr>\n",
       "<tr><td>H2O cluster timezone:</td>\n",
       "<td>Etc/UTC</td></tr>\n",
       "<tr><td>H2O data parsing timezone:</td>\n",
       "<td>UTC</td></tr>\n",
       "<tr><td>H2O cluster version:</td>\n",
       "<td>3.24.0.1</td></tr>\n",
       "<tr><td>H2O cluster version age:</td>\n",
       "<td>1 year, 5 months and 26 days !!!</td></tr>\n",
       "<tr><td>H2O cluster name:</td>\n",
       "<td>H2O_from_python_unknownUser_moisll</td></tr>\n",
       "<tr><td>H2O cluster total nodes:</td>\n",
       "<td>1</td></tr>\n",
       "<tr><td>H2O cluster free memory:</td>\n",
       "<td>10.67 Gb</td></tr>\n",
       "<tr><td>H2O cluster total cores:</td>\n",
       "<td>4</td></tr>\n",
       "<tr><td>H2O cluster allowed cores:</td>\n",
       "<td>4</td></tr>\n",
       "<tr><td>H2O cluster status:</td>\n",
       "<td>accepting new members, healthy</td></tr>\n",
       "<tr><td>H2O connection url:</td>\n",
       "<td>http://127.0.0.1:54321</td></tr>\n",
       "<tr><td>H2O connection proxy:</td>\n",
       "<td>None</td></tr>\n",
       "<tr><td>H2O internal security:</td>\n",
       "<td>False</td></tr>\n",
       "<tr><td>H2O API Extensions:</td>\n",
       "<td>Amazon S3, XGBoost, Algos, AutoML, Core V3, Core V4</td></tr>\n",
       "<tr><td>Python version:</td>\n",
       "<td>3.6.6 final</td></tr></table></div>"
      ],
      "text/plain": [
       "--------------------------  ---------------------------------------------------\n",
       "H2O cluster uptime:         02 secs\n",
       "H2O cluster timezone:       Etc/UTC\n",
       "H2O data parsing timezone:  UTC\n",
       "H2O cluster version:        3.24.0.1\n",
       "H2O cluster version age:    1 year, 5 months and 26 days !!!\n",
       "H2O cluster name:           H2O_from_python_unknownUser_moisll\n",
       "H2O cluster total nodes:    1\n",
       "H2O cluster free memory:    10.67 Gb\n",
       "H2O cluster total cores:    4\n",
       "H2O cluster allowed cores:  4\n",
       "H2O cluster status:         accepting new members, healthy\n",
       "H2O connection url:         http://127.0.0.1:54321\n",
       "H2O connection proxy:\n",
       "H2O internal security:      False\n",
       "H2O API Extensions:         Amazon S3, XGBoost, Algos, AutoML, Core V3, Core V4\n",
       "Python version:             3.6.6 final\n",
       "--------------------------  ---------------------------------------------------"
      ]
     },
     "metadata": {},
     "output_type": "display_data"
    }
   ],
   "source": [
    "import sys, os, os.path\n",
    "import warnings\n",
    "warnings.filterwarnings('ignore')\n",
    "\n",
    "import numpy as np\n",
    "import pandas as pd\n",
    "import pickle\n",
    "\n",
    "import h2o\n",
    "from h2o.automl import H2OAutoML\n",
    "\n",
    "h2o.init(\n",
    "    nthreads=-1,     # H2O 서버를 시작할 때 지정 쓰레드 수\n",
    "    max_mem_size=12  # 단위는 기가바이트\n",
    ")"
   ]
  },
  {
   "cell_type": "markdown",
   "metadata": {},
   "source": [
    "## Example 1: a classification task"
   ]
  },
  {
   "cell_type": "markdown",
   "metadata": {},
   "source": [
    "H2O AutoMl을 [비행 지연시간 예측 대회의 데이터셋](https://www.kaggle.com/c/flight-delays-fall-2018)에 적용해보자. (이진 분류 작업)"
   ]
  },
  {
   "cell_type": "code",
   "execution_count": 3,
   "metadata": {
    "_cell_guid": "79c7e3d0-c299-4dcb-8224-4455121ee9b0",
    "_uuid": "d629ff2d2480ee46fbb7e2d37f6b5fab8052498a"
   },
   "outputs": [],
   "source": [
    "train_df = pd.read_csv('../input/mlcourse/flight_delays_train.csv')\n",
    "test_df = pd.read_csv('../input/mlcourse/flight_delays_test.csv')"
   ]
  },
  {
   "cell_type": "code",
   "execution_count": 4,
   "metadata": {
    "_kg_hide-output": false
   },
   "outputs": [
    {
     "name": "stdout",
     "output_type": "stream",
     "text": [
      "train_df cols: ['Month', 'DayofMonth', 'DayOfWeek', 'DepTime', 'UniqueCarrier', 'Origin', 'Dest', 'Distance', 'dep_delayed_15min']\n",
      "test_df cols:  ['Month', 'DayofMonth', 'DayOfWeek', 'DepTime', 'UniqueCarrier', 'Origin', 'Dest', 'Distance']\n"
     ]
    },
    {
     "data": {
      "text/html": [
       "<div>\n",
       "<style scoped>\n",
       "    .dataframe tbody tr th:only-of-type {\n",
       "        vertical-align: middle;\n",
       "    }\n",
       "\n",
       "    .dataframe tbody tr th {\n",
       "        vertical-align: top;\n",
       "    }\n",
       "\n",
       "    .dataframe thead th {\n",
       "        text-align: right;\n",
       "    }\n",
       "</style>\n",
       "<table border=\"1\" class=\"dataframe\">\n",
       "  <thead>\n",
       "    <tr style=\"text-align: right;\">\n",
       "      <th></th>\n",
       "      <th>Month</th>\n",
       "      <th>DayofMonth</th>\n",
       "      <th>DayOfWeek</th>\n",
       "      <th>DepTime</th>\n",
       "      <th>UniqueCarrier</th>\n",
       "      <th>Origin</th>\n",
       "      <th>Dest</th>\n",
       "      <th>Distance</th>\n",
       "      <th>dep_delayed_15min</th>\n",
       "    </tr>\n",
       "  </thead>\n",
       "  <tbody>\n",
       "    <tr>\n",
       "      <th>0</th>\n",
       "      <td>c-8</td>\n",
       "      <td>c-21</td>\n",
       "      <td>c-7</td>\n",
       "      <td>1934</td>\n",
       "      <td>AA</td>\n",
       "      <td>ATL</td>\n",
       "      <td>DFW</td>\n",
       "      <td>732</td>\n",
       "      <td>N</td>\n",
       "    </tr>\n",
       "    <tr>\n",
       "      <th>1</th>\n",
       "      <td>c-4</td>\n",
       "      <td>c-20</td>\n",
       "      <td>c-3</td>\n",
       "      <td>1548</td>\n",
       "      <td>US</td>\n",
       "      <td>PIT</td>\n",
       "      <td>MCO</td>\n",
       "      <td>834</td>\n",
       "      <td>N</td>\n",
       "    </tr>\n",
       "    <tr>\n",
       "      <th>2</th>\n",
       "      <td>c-9</td>\n",
       "      <td>c-2</td>\n",
       "      <td>c-5</td>\n",
       "      <td>1422</td>\n",
       "      <td>XE</td>\n",
       "      <td>RDU</td>\n",
       "      <td>CLE</td>\n",
       "      <td>416</td>\n",
       "      <td>N</td>\n",
       "    </tr>\n",
       "    <tr>\n",
       "      <th>3</th>\n",
       "      <td>c-11</td>\n",
       "      <td>c-25</td>\n",
       "      <td>c-6</td>\n",
       "      <td>1015</td>\n",
       "      <td>OO</td>\n",
       "      <td>DEN</td>\n",
       "      <td>MEM</td>\n",
       "      <td>872</td>\n",
       "      <td>N</td>\n",
       "    </tr>\n",
       "    <tr>\n",
       "      <th>4</th>\n",
       "      <td>c-10</td>\n",
       "      <td>c-7</td>\n",
       "      <td>c-6</td>\n",
       "      <td>1828</td>\n",
       "      <td>WN</td>\n",
       "      <td>MDW</td>\n",
       "      <td>OMA</td>\n",
       "      <td>423</td>\n",
       "      <td>Y</td>\n",
       "    </tr>\n",
       "  </tbody>\n",
       "</table>\n",
       "</div>"
      ],
      "text/plain": [
       "  Month DayofMonth DayOfWeek        ...         Dest Distance dep_delayed_15min\n",
       "0   c-8       c-21       c-7        ...          DFW      732                 N\n",
       "1   c-4       c-20       c-3        ...          MCO      834                 N\n",
       "2   c-9        c-2       c-5        ...          CLE      416                 N\n",
       "3  c-11       c-25       c-6        ...          MEM      872                 N\n",
       "4  c-10        c-7       c-6        ...          OMA      423                 Y\n",
       "\n",
       "[5 rows x 9 columns]"
      ]
     },
     "execution_count": 4,
     "metadata": {},
     "output_type": "execute_result"
    }
   ],
   "source": [
    "print('train_df cols:', list(train_df.columns))\n",
    "print('test_df cols: ', list(test_df.columns))\n",
    "train_df.head()"
   ]
  },
  {
   "cell_type": "code",
   "execution_count": 5,
   "metadata": {
    "_kg_hide-output": false
   },
   "outputs": [
    {
     "data": {
      "text/plain": [
       "Month                object\n",
       "DayofMonth           object\n",
       "DayOfWeek            object\n",
       "DepTime               int64\n",
       "UniqueCarrier        object\n",
       "Origin               object\n",
       "Dest                 object\n",
       "Distance              int64\n",
       "dep_delayed_15min    object\n",
       "dtype: object"
      ]
     },
     "execution_count": 5,
     "metadata": {},
     "output_type": "execute_result"
    }
   ],
   "source": [
    "train_df.dtypes"
   ]
  },
  {
   "cell_type": "markdown",
   "metadata": {},
   "source": [
    "`Month`, `DayofMonth`, `DayofWeek`, `DepTime`, `Distance`는 숫자로 나타낼 수 있다. 이 피처들을 숫자형으로 변환해주다. (`HourFloat`라는 새로운 피처가 추가된다.)"
   ]
  },
  {
   "cell_type": "code",
   "execution_count": 6,
   "metadata": {},
   "outputs": [],
   "source": [
    "for df in [train_df, test_df]:\n",
    "    df['Month'] = df['Month'].apply(lambda s: s.split('-')[1]).astype('int')\n",
    "    df['DayofMonth'] = df['DayofMonth'].apply(lambda s: s.split('-')[1]).astype('int')\n",
    "    df['DayOfWeek'] = df['DayOfWeek'].apply(lambda s: s.split('-')[1]).astype('int')\n",
    "    \n",
    "    df['HourFloat'] = df['DepTime'].apply(\n",
    "        lambda t: (t // 100) % 24 + ((t % 100) % 60) / 60\n",
    "    ).astype('float')"
   ]
  },
  {
   "cell_type": "markdown",
   "metadata": {},
   "source": [
    "`Origin`과 `Dest`를 합한 새로운 피처 `Route`를 생성하자."
   ]
  },
  {
   "cell_type": "code",
   "execution_count": 7,
   "metadata": {},
   "outputs": [],
   "source": [
    "for df in [train_df, test_df]:\n",
    "    df['Route'] = df[['Origin', 'Dest']].apply(\n",
    "        lambda pair: ''.join([str(a) for a in pair]),\n",
    "        axis='columns'\n",
    "    ).astype('str')"
   ]
  },
  {
   "cell_type": "markdown",
   "metadata": {},
   "source": [
    "우리는 더이상 `DepTime` 컬럼을 사용하지 않을 것이다. `train_df`에서 타겟 컬럼을 피처 컬럼과 분리시켜주자."
   ]
  },
  {
   "cell_type": "code",
   "execution_count": 8,
   "metadata": {},
   "outputs": [],
   "source": [
    "target = train_df['dep_delayed_15min'].map({'Y': 1, 'N': 0})\n",
    "\n",
    "feature_cols = [\n",
    "    'Month', 'DayofMonth', 'DayOfWeek', 'HourFloat', \n",
    "    'UniqueCarrier', 'Origin', 'Dest', 'Route', 'Distance',]\n",
    "train_df_modif = train_df[feature_cols]\n",
    "test_df_modif = test_df[feature_cols]"
   ]
  },
  {
   "cell_type": "markdown",
   "metadata": {},
   "source": [
    "`UniqueCarrier`, `Origin`, `Dest`, `Route`는 카테고리형이어야 한다."
   ]
  },
  {
   "cell_type": "code",
   "execution_count": 9,
   "metadata": {},
   "outputs": [],
   "source": [
    "N_train = train_df_modif.shape[0]\n",
    "train_test_X = pd.concat([train_df_modif, test_df_modif], axis='index')\n",
    "\n",
    "for feat in ['UniqueCarrier', 'Origin', 'Dest', 'Route']:\n",
    "    train_test_X[feat] = train_test_X[feat].astype('category')"
   ]
  },
  {
   "cell_type": "code",
   "execution_count": 10,
   "metadata": {},
   "outputs": [],
   "source": [
    "X_train = train_test_X[:N_train]\n",
    "X_test = train_test_X[N_train:]\n",
    "y_train = target"
   ]
  },
  {
   "cell_type": "markdown",
   "metadata": {},
   "source": [
    "`H2OAutoML()`를 호출하기 전 판다스 데이터프레임은 H2O의 데이터프로임으로 변환해주어야 한다.\n",
    "\n",
    "**NOTE :** 데이터를 전처리할 필요가 없다면, `df = h2o.import_file(datafile_apth)`와 같이 호출하여 데이터 파일에 직접 접근해 H2O 데이터프레임을 얻을 수 있다. (`datafile_path`는 파일 시스템 경로 혹은 URL이다.)"
   ]
  },
  {
   "cell_type": "code",
   "execution_count": 11,
   "metadata": {},
   "outputs": [
    {
     "name": "stdout",
     "output_type": "stream",
     "text": [
      "Parse progress: |█████████████████████████████████████████████████████████| 100%\n",
      "Parse progress: |█████████████████████████████████████████████████████████| 100%\n",
      "Rows:100000\n",
      "Cols:10\n",
      "\n",
      "\n"
     ]
    },
    {
     "data": {
      "text/html": [
       "<table>\n",
       "<thead>\n",
       "<tr><th>       </th><th>Month             </th><th>DayofMonth       </th><th>DayOfWeek         </th><th>HourFloat         </th><th>UniqueCarrier  </th><th>Origin  </th><th>Dest  </th><th>Route  </th><th>Distance         </th><th>dep_delayed_15min  </th></tr>\n",
       "</thead>\n",
       "<tbody>\n",
       "<tr><td>type   </td><td>int               </td><td>int              </td><td>int               </td><td>real              </td><td>enum           </td><td>enum    </td><td>enum  </td><td>enum   </td><td>int              </td><td>enum               </td></tr>\n",
       "<tr><td>mins   </td><td>1.0               </td><td>1.0              </td><td>1.0               </td><td>0.0               </td><td>               </td><td>        </td><td>      </td><td>       </td><td>30.0             </td><td>                   </td></tr>\n",
       "<tr><td>mean   </td><td>6.537639999999998 </td><td>15.70384999999999</td><td>3.9518299999999824</td><td>13.605384666666659</td><td>               </td><td>        </td><td>      </td><td>       </td><td>729.3971600000004</td><td>                   </td></tr>\n",
       "<tr><td>maxs   </td><td>12.0              </td><td>31.0             </td><td>7.0               </td><td>23.983333333333334</td><td>               </td><td>        </td><td>      </td><td>       </td><td>4962.0           </td><td>                   </td></tr>\n",
       "<tr><td>sigma  </td><td>3.4134469010953556</td><td>8.793930776944096</td><td>1.9916398563478288</td><td>4.763861243104057 </td><td>               </td><td>        </td><td>      </td><td>       </td><td>574.6168595588607</td><td>                   </td></tr>\n",
       "<tr><td>zeros  </td><td>0                 </td><td>0                </td><td>0                 </td><td>12                </td><td>               </td><td>        </td><td>      </td><td>       </td><td>0                </td><td>                   </td></tr>\n",
       "<tr><td>missing</td><td>0                 </td><td>0                </td><td>0                 </td><td>0                 </td><td>0              </td><td>0       </td><td>0     </td><td>0      </td><td>0                </td><td>0                  </td></tr>\n",
       "<tr><td>0      </td><td>8.0               </td><td>21.0             </td><td>7.0               </td><td>19.566666666666663</td><td>AA             </td><td>ATL     </td><td>DFW   </td><td>ATLDFW </td><td>732.0            </td><td>0                  </td></tr>\n",
       "<tr><td>1      </td><td>4.0               </td><td>20.0             </td><td>3.0               </td><td>15.8              </td><td>US             </td><td>PIT     </td><td>MCO   </td><td>PITMCO </td><td>834.0            </td><td>0                  </td></tr>\n",
       "<tr><td>2      </td><td>9.0               </td><td>2.0              </td><td>5.0               </td><td>14.366666666666667</td><td>XE             </td><td>RDU     </td><td>CLE   </td><td>RDUCLE </td><td>416.0            </td><td>0                  </td></tr>\n",
       "<tr><td>3      </td><td>11.0              </td><td>25.0             </td><td>6.0               </td><td>10.25             </td><td>OO             </td><td>DEN     </td><td>MEM   </td><td>DENMEM </td><td>872.0            </td><td>0                  </td></tr>\n",
       "<tr><td>4      </td><td>10.0              </td><td>7.0              </td><td>6.0               </td><td>18.466666666666665</td><td>WN             </td><td>MDW     </td><td>OMA   </td><td>MDWOMA </td><td>423.0            </td><td>1                  </td></tr>\n",
       "<tr><td>5      </td><td>8.0               </td><td>3.0              </td><td>4.0               </td><td>19.3              </td><td>NW             </td><td>MEM     </td><td>MCO   </td><td>MEMMCO </td><td>683.0            </td><td>0                  </td></tr>\n",
       "<tr><td>6      </td><td>1.0               </td><td>27.0             </td><td>4.0               </td><td>7.9               </td><td>DL             </td><td>PBI     </td><td>LGA   </td><td>PBILGA </td><td>1035.0           </td><td>0                  </td></tr>\n",
       "<tr><td>7      </td><td>4.0               </td><td>29.0             </td><td>6.0               </td><td>6.583333333333333 </td><td>OH             </td><td>MSP     </td><td>CVG   </td><td>MSPCVG </td><td>596.0            </td><td>0                  </td></tr>\n",
       "<tr><td>8      </td><td>7.0               </td><td>28.0             </td><td>5.0               </td><td>7.583333333333333 </td><td>AA             </td><td>ONT     </td><td>DFW   </td><td>ONTDFW </td><td>1189.0           </td><td>0                  </td></tr>\n",
       "<tr><td>9      </td><td>6.0               </td><td>20.0             </td><td>2.0               </td><td>20.483333333333334</td><td>OO             </td><td>DEN     </td><td>PSC   </td><td>DENPSC </td><td>853.0            </td><td>0                  </td></tr>\n",
       "</tbody>\n",
       "</table>"
      ]
     },
     "metadata": {},
     "output_type": "display_data"
    }
   ],
   "source": [
    "X_y_train_h = h2o.H2OFrame(pd.concat([X_train, y_train], axis='columns'))\n",
    "X_y_train_h['dep_delayed_15min'] = X_y_train_h['dep_delayed_15min'].asfactor()\n",
    "# 분류 작업시 타겟 값은 무조건 카테고리형이어야한다.\n",
    "# 회귀 작업의 경우 타겟 값은 숫자형이어야 한다.\n",
    "\n",
    "X_test_h = h2o.H2OFrame(X_test)\n",
    "\n",
    "X_y_train_h.describe()"
   ]
  },
  {
   "cell_type": "code",
   "execution_count": 12,
   "metadata": {},
   "outputs": [],
   "source": [
    "aml = H2OAutoML(\n",
    "    max_runtime_secs=(3600 * 8),  # 8 hours\n",
    "    max_models=None,  # no limit\n",
    "    seed=17\n",
    ")"
   ]
  },
  {
   "cell_type": "markdown",
   "metadata": {},
   "source": [
    "`H2OAutoML()`의 가장 중요한 매개변수(기본값 포함)는 다음과 같다:\n",
    "- `nfolds=5` : K겹 교차 검증의 폴드 개수 (`nfolds=0`일 때는 교차 검증을 하지 않는다.)\n",
    "- `balance_classes=False` : 오버샘플링/언더샘플링으로 학습 데이터의 클래스 수의 균형을 맞춘다.\n",
    "- `max_runtime_secs=3600` : AutoML을 얼마동안 실행할건지 (초 단위)\n",
    "- `max_models=None` : AutoML 실행시 빌드할 모델의 최대 개수 (`None`은 제한이 없음을 뜻한다.)\n",
    "- `include_algos=None` : 모델 설계 단계에서 제한할 알고리즘 목록 (`exclude_algos` 매개변수와 함께 사용할 수 없다. `None`은 모든 적절한 H2O 알고리즘이 사용되는 것을 의미한다.)\n",
    "- `exclude_algos=None` : 모델 설계 단계에서 스킵할 알고리즘 목록 (`None`은 모든 적절한 H2O 알고리즘이 사용되는 것을 의미한다.)\n",
    "- `seed=None` : 재현성(reproducibility)를 위한 랜덤 시드값 (`max_models` 혹은 조기 학습 종료(early stopping)이 사용될 때만 AutoML은 재현성을 보장한다. 왜냐하면 실행 간 리소스가 동일하지 않을 경우, AutoML이 한 실행에서 다른 실행과 비교하여 더 많은 모델을 훈련할 수 있기 때문이다.)\n",
    "\n",
    "H2O AutoML은 학습하고 교차검증을 한다:\n",
    "- 기본 랜덤 포레스트 (DRF)\n",
    "- 익스트림 랜덤 트리 (XRT)\n",
    "- 일반화된 선형 모델의 랜덤 그리드 (GLM)\n",
    "- XGBoost의 랜덤 그리드 (XGBoost)\n",
    "- Gradient Boosting Machine의 랜덤 그리드 (GBM)\n",
    "- 심층 신경망의 랜덤 그리드 (DeepLearning)\n",
    "- 2개의 모델로 이루어진 스태킹 앙상블 (하나는 모든 모델 중 하나이고 다른 하나는 각 종류의 최고 성능 모델 중 하나)"
   ]
  },
  {
   "cell_type": "markdown",
   "metadata": {},
   "source": [
    "아래 셀에서 `aml.train()`을 호출하고 리더보드와 각 모델들을 저장한다. 실행 시간은 대략 8시간으로, 한번 실행하고 출력 파일을 새로운 데이터셋으로써 저장하고 데이터셋을 이 커널에 연결하고 셀 안에 코드를 주석처리했다. "
   ]
  },
  {
   "cell_type": "code",
   "execution_count": 13,
   "metadata": {},
   "outputs": [
    {
     "name": "stdout",
     "output_type": "stream",
     "text": [
      "CPU times: user 3 µs, sys: 1 µs, total: 4 µs\n",
      "Wall time: 6.2 µs\n"
     ]
    }
   ],
   "source": [
    "%%time\n",
    "\n",
    "# aml.train(\n",
    "#     x=feature_cols,\n",
    "#     y='dep_delayed_15min',\n",
    "#     training_frame=X_y_train_h\n",
    "# )\n",
    "\n",
    "# lb = aml.leaderboard\n",
    "# model_ids = list(lb['model_id'].as_data_frame().iloc[:,0])\n",
    "# out_path = \".\"\n",
    "\n",
    "# for m_id in model_ids:\n",
    "#     mdl = h2o.get_model(m_id)\n",
    "#     h2o.save_model(model=mdl, path=out_path, force=True)\n",
    "\n",
    "# h2o.export_file(lb, os.path.join(out_path, 'aml_leaderboard.h2o'), force=True)"
   ]
  },
  {
   "cell_type": "markdown",
   "metadata": {},
   "source": [
    "`H2OAutoML.train()`의 매개변수는 다음과 같다:\n",
    "- `training_frame` : `x`와 `y`가 가리키는 컬럼을 가진 H2OFrame\n",
    "- `x` : `training_frame`의 피처 컬럼 이름 목록\n",
    "- `y` : 타켓 컬럼 이름\n",
    "- `validation_frame` : 검증 데이터롤 사용할 H2OFrame (기본적으로 혹은 `nfolds` > 1이면 `validation_frame`이 무시된다.)\n",
    "- `leaderboard_frame` : 리더보드 점수를 매기기 위한 테스트 데이터로 사용할 H2OFrame (선택사항; 기본적으로 `None`이고 이럴 경우 리더보드 순위를 매기기 위해 `training_frame`의 교차 검증 지표가 사용된다.)\n",
    "\n",
    "리더보드를 살펴보자."
   ]
  },
  {
   "cell_type": "code",
   "execution_count": 14,
   "metadata": {},
   "outputs": [
    {
     "name": "stdout",
     "output_type": "stream",
     "text": [
      "Parse progress: |█████████████████████████████████████████████████████████| 100%\n"
     ]
    },
    {
     "data": {
      "text/html": [
       "<table>\n",
       "<thead>\n",
       "<tr><th>model_id                                           </th><th style=\"text-align: right;\">     auc</th><th style=\"text-align: right;\">  logloss</th><th style=\"text-align: right;\">  mean_per_class_error</th><th style=\"text-align: right;\">    rmse</th><th style=\"text-align: right;\">     mse</th></tr>\n",
       "</thead>\n",
       "<tbody>\n",
       "<tr><td>StackedEnsemble_AllModels_AutoML_20190414_112210   </td><td style=\"text-align: right;\">0.760626</td><td style=\"text-align: right;\"> 0.414894</td><td style=\"text-align: right;\">              0.319628</td><td style=\"text-align: right;\">0.360562</td><td style=\"text-align: right;\">0.130005</td></tr>\n",
       "<tr><td>StackedEnsemble_BestOfFamily_AutoML_20190414_112210</td><td style=\"text-align: right;\">0.757001</td><td style=\"text-align: right;\"> 0.417768</td><td style=\"text-align: right;\">              0.321114</td><td style=\"text-align: right;\">0.361748</td><td style=\"text-align: right;\">0.130862</td></tr>\n",
       "<tr><td>XGBoost_grid_1_AutoML_20190414_112210_model_19     </td><td style=\"text-align: right;\">0.749523</td><td style=\"text-align: right;\"> 0.417811</td><td style=\"text-align: right;\">              0.326181</td><td style=\"text-align: right;\">0.362629</td><td style=\"text-align: right;\">0.1315  </td></tr>\n",
       "<tr><td>XGBoost_grid_1_AutoML_20190414_112210_model_5      </td><td style=\"text-align: right;\">0.749192</td><td style=\"text-align: right;\"> 0.419178</td><td style=\"text-align: right;\">              0.323792</td><td style=\"text-align: right;\">0.363552</td><td style=\"text-align: right;\">0.13217 </td></tr>\n",
       "<tr><td>XGBoost_2_AutoML_20190414_112210                   </td><td style=\"text-align: right;\">0.748357</td><td style=\"text-align: right;\"> 0.419561</td><td style=\"text-align: right;\">              0.325998</td><td style=\"text-align: right;\">0.363667</td><td style=\"text-align: right;\">0.132254</td></tr>\n",
       "<tr><td>XGBoost_grid_1_AutoML_20190414_112210_model_14     </td><td style=\"text-align: right;\">0.748269</td><td style=\"text-align: right;\"> 0.419371</td><td style=\"text-align: right;\">              0.326519</td><td style=\"text-align: right;\">0.363586</td><td style=\"text-align: right;\">0.132194</td></tr>\n",
       "<tr><td>XGBoost_grid_1_AutoML_20190414_112210_model_7      </td><td style=\"text-align: right;\">0.747903</td><td style=\"text-align: right;\"> 0.419317</td><td style=\"text-align: right;\">              0.328675</td><td style=\"text-align: right;\">0.363493</td><td style=\"text-align: right;\">0.132127</td></tr>\n",
       "<tr><td>XGBoost_grid_1_AutoML_20190414_112210_model_11     </td><td style=\"text-align: right;\">0.747493</td><td style=\"text-align: right;\"> 0.419303</td><td style=\"text-align: right;\">              0.328385</td><td style=\"text-align: right;\">0.36345 </td><td style=\"text-align: right;\">0.132096</td></tr>\n",
       "<tr><td>XGBoost_1_AutoML_20190414_112210                   </td><td style=\"text-align: right;\">0.746212</td><td style=\"text-align: right;\"> 0.420654</td><td style=\"text-align: right;\">              0.331262</td><td style=\"text-align: right;\">0.364245</td><td style=\"text-align: right;\">0.132674</td></tr>\n",
       "<tr><td>XGBoost_grid_1_AutoML_20190414_112210_model_1      </td><td style=\"text-align: right;\">0.744129</td><td style=\"text-align: right;\"> 0.422461</td><td style=\"text-align: right;\">              0.327766</td><td style=\"text-align: right;\">0.365147</td><td style=\"text-align: right;\">0.133332</td></tr>\n",
       "</tbody>\n",
       "</table>"
      ]
     },
     "metadata": {},
     "output_type": "display_data"
    },
    {
     "data": {
      "text/plain": []
     },
     "execution_count": 14,
     "metadata": {},
     "output_type": "execute_result"
    }
   ],
   "source": [
    "models_path = \"../input/h2o-automl-saved-models-classif/\"\n",
    "\n",
    "lb = h2o.import_file(path=os.path.join(models_path, \"aml_leaderboard.h2o\"))\n",
    "\n",
    "#lb.head(rows=10)\n",
    "lb.head(rows=lb.nrows)\n",
    "# 전체 리더보드를 보기 위함"
   ]
  },
  {
   "cell_type": "markdown",
   "metadata": {},
   "source": [
    "단일 모델 중에 XGBoost는 (auc=0.749523)으로 이 작업에서 우수한 성능을 보여준다. 가장 좋은 단일 GBM은 `auc=0.741785`, 가장 좋은 XRT는 `auc=0.731317`, 가장 좋은 DRF는 `auc=0.725166`, 가장 좋은 DNN은 `auc=0.706676`을 가진다.\n",
    "\n",
    "`StackedEnsemble_AllModels`은 보통 가장 좋은 성능을 보여주고, `StackedEnsemble_BestOfFamily`는 보통 2위를 했다. `StackedEnsemble_AllModels`의 내부를 살펴보자. AutoML 실행 시 모든 단일 모델의 앙상블이다."
   ]
  },
  {
   "cell_type": "code",
   "execution_count": 15,
   "metadata": {},
   "outputs": [],
   "source": [
    "se_all = h2o.load_model(os.path.join(models_path, \"StackedEnsemble_AllModels_AutoML_20190414_112210\"))\n",
    "# Get the Stacked Ensemble metalearner model\n",
    "metalearner = h2o.get_model(se_all.metalearner()['name'])"
   ]
  },
  {
   "cell_type": "markdown",
   "metadata": {},
   "source": [
    "AutoML 스태킹 앙상블은 기본 metalearner(combiner) 알고리즘으로 음이 아닌 가중치를 가진 GLM을 사용한다. 앙상블에서 metalearner 알고리즘의 가변적 중요도를 살펴보자. 이는 각 베이스 learner들이 앙승블에 얼마나 기여하고 있는지를 보여준다. 절편은 선형 모형에서 상수 항을 나타낸다.\n",
    "\n",
    "(learner 혹은 metalearner는 앙상블에 사용된 모델들을 말하는 듯 하다.)"
   ]
  },
  {
   "cell_type": "code",
   "execution_count": 16,
   "metadata": {},
   "outputs": [
    {
     "data": {
      "image/png": "[encoded data removed]",
      "text/plain": [
       "<Figure size 1008x720 with 1 Axes>"
      ]
     },
     "metadata": {},
     "output_type": "display_data"
    }
   ],
   "source": [
    "%matplotlib inline\n",
    "metalearner.std_coef_plot(num_of_features=20)\n",
    "# ^ all importance values starting from the 16th are zero\n",
    "\n",
    "#metalearner.coef_norm()\n",
    "# ^ to see the table in the text form"
   ]
  },
  {
   "cell_type": "markdown",
   "metadata": {},
   "source": [
    "`StackedEnsemble_BestOfFamily`는 다음을 보여준다:"
   ]
  },
  {
   "cell_type": "code",
   "execution_count": 17,
   "metadata": {},
   "outputs": [
    {
     "data": {
      "image/png": "[encoded data removed]",
      "text/plain": [
       "<Figure size 1008x720 with 1 Axes>"
      ]
     },
     "metadata": {},
     "output_type": "display_data"
    }
   ],
   "source": [
    "se_best_of_family = h2o.load_model(os.path.join(models_path, \"StackedEnsemble_BestOfFamily_AutoML_20190414_112210\"))\n",
    "# Get the Stacked Ensemble metalearner model\n",
    "metalearner = h2o.get_model(se_best_of_family.metalearner()['name'])\n",
    "\n",
    "%matplotlib inline\n",
    "metalearner.std_coef_plot(num_of_features=10)\n",
    "#metalearner.coef_norm()"
   ]
  },
  {
   "cell_type": "markdown",
   "metadata": {},
   "source": [
    "몇몇 최고 성능 단일 모델의 결과(auc)를 재현해보자."
   ]
  },
  {
   "cell_type": "code",
   "execution_count": 18,
   "metadata": {},
   "outputs": [
    {
     "name": "stdout",
     "output_type": "stream",
     "text": [
      "xgboost Model Build progress: |███████████████████████████████████████████| 100%\n"
     ]
    },
    {
     "data": {
      "text/plain": [
       "0.7494527766509888"
      ]
     },
     "execution_count": 18,
     "metadata": {},
     "output_type": "execute_result"
    }
   ],
   "source": [
    "from h2o.estimators.xgboost import H2OXGBoostEstimator\n",
    "\n",
    "model_01 = h2o.load_model(os.path.join(models_path, \"XGBoost_grid_1_AutoML_20190414_112210_model_19\"))\n",
    "\n",
    "excluded_params = ['model_id', 'response_column', 'ignored_columns']\n",
    "model_01_actual_params = {k: v['actual'] for k, v in model_01.params.items() if k not in excluded_params}\n",
    "\n",
    "reprod_model_01 = H2OXGBoostEstimator(**model_01_actual_params)\n",
    "reprod_model_01.train(\n",
    "    x=feature_cols,\n",
    "    y='dep_delayed_15min',\n",
    "    training_frame=X_y_train_h\n",
    ")\n",
    "reprod_model_01.auc(xval=True)\n",
    "# ^ 0.749453, 리더보드와 비교했을 때 성능이 살짝 낮음"
   ]
  },
  {
   "cell_type": "code",
   "execution_count": 19,
   "metadata": {},
   "outputs": [
    {
     "name": "stdout",
     "output_type": "stream",
     "text": [
      "gbm Model Build progress: |███████████████████████████████████████████████| 100%\n"
     ]
    },
    {
     "data": {
      "text/plain": [
       "0.7417847257072772"
      ]
     },
     "execution_count": 19,
     "metadata": {},
     "output_type": "execute_result"
    }
   ],
   "source": [
    "from h2o.estimators.gbm import H2OGradientBoostingEstimator\n",
    "\n",
    "model_12 = h2o.load_model(os.path.join(models_path, \"GBM_grid_1_AutoML_20190414_112210_model_85\"))\n",
    "\n",
    "excluded_params = ['model_id', 'response_column', 'ignored_columns']\n",
    "model_12_actual_params = {k: v['actual'] for k, v in model_12.params.items() if k not in excluded_params}\n",
    "\n",
    "reprod_model_12 = H2OGradientBoostingEstimator(**model_12_actual_params)\n",
    "reprod_model_12.train(\n",
    "    x=feature_cols,\n",
    "    y='dep_delayed_15min',\n",
    "    training_frame=X_y_train_h\n",
    ")\n",
    "reprod_model_12.auc(xval=True)\n",
    "# ^ 0.741785, 리더보드와 동일"
   ]
  },
  {
   "cell_type": "code",
   "execution_count": 20,
   "metadata": {},
   "outputs": [
    {
     "name": "stdout",
     "output_type": "stream",
     "text": [
      "glm Model Build progress: |███████████████████████████████████████████████| 100%\n"
     ]
    },
    {
     "data": {
      "text/plain": [
       "0.6994176421343811"
      ]
     },
     "execution_count": 20,
     "metadata": {},
     "output_type": "execute_result"
    }
   ],
   "source": [
    "from h2o.estimators.glm import H2OGeneralizedLinearEstimator\n",
    "from h2o.grid.grid_search import H2OGridSearch\n",
    "\n",
    "model_93 = h2o.load_model(os.path.join(models_path, \"GLM_grid_1_AutoML_20190414_112210_model_1\"))\n",
    "\n",
    "excluded_params = ['model_id', 'response_column', 'ignored_columns', 'lambda']\n",
    "model_93_actual_params = {k: v['actual'] for k, v in model_93.params.items() if k not in excluded_params}\n",
    "\n",
    "reprod_model_93 = H2OGeneralizedLinearEstimator(**model_93_actual_params)\n",
    "reprod_model_93.train(\n",
    "    x=feature_cols,\n",
    "    y='dep_delayed_15min',\n",
    "    training_frame=X_y_train_h\n",
    ")\n",
    "reprod_model_93.auc(xval=True)\n",
    "# ^ 0.699418,리더보드와 동일"
   ]
  },
  {
   "cell_type": "markdown",
   "metadata": {},
   "source": [
    "기본 매개변수 값으로 `CatBoostClassifier`를 학습하고 AutoML로 돌렸을 때의 결과와 비교해보자."
   ]
  },
  {
   "cell_type": "code",
   "execution_count": null,
   "metadata": {},
   "outputs": [],
   "source": [
    "from catboost import Pool, CatBoostClassifier, cv\n",
    "\n",
    "cb_model = CatBoostClassifier(\n",
    "    eval_metric='AUC',\n",
    "    use_best_model=True,\n",
    "    random_seed=17\n",
    ")\n",
    "\n",
    "cv_data = cv(\n",
    "    Pool(X_train, y_train, cat_features=[4,5,6,7]),\n",
    "    cb_model.get_params(),\n",
    "    fold_count=5,\n",
    "    verbose=False\n",
    ")\n",
    "\n",
    "print(\"CatBoostClassifier: the best cv auc is\", np.max(cv_data['test-AUC-mean']))"
   ]
  },
  {
   "cell_type": "markdown",
   "metadata": {},
   "source": [
    "`CatBoostClassifier`의 교차검증 auc 결과는 0.749009이다. 이 값은 리더보드에서 2등(auc=0.749523)과 3등(auc=0.749192) 사이에 해당된다. "
   ]
  },
  {
   "cell_type": "markdown",
   "metadata": {},
   "source": [
    "## Example 2: a regression task"
   ]
  },
  {
   "cell_type": "markdown",
   "metadata": {},
   "source": [
    "[뉴욕 택시 승차시간 예측 대회](https://www.kaggle.com/c/nyc-taxi-trip-duration)를 가지고 회귀 작업을 해보자. 이 대회는 뉴욕에서 총 승차시간을 예측하는 모델을 만드는 것이 목표이다. 데이터는 픽업시간, 좌표(위도/경도),고객의 수 그리고 다른 몇몇 피처로 구성되어 있다."
   ]
  },
  {
   "cell_type": "code",
   "execution_count": null,
   "metadata": {},
   "outputs": [],
   "source": [
    "df_train = pd.read_csv('../input/nyc-taxi-trip-duration/train.csv', index_col=0)\n",
    "df_test  = pd.read_csv('../input/nyc-taxi-trip-duration/test.csv',  index_col=0)"
   ]
  },
  {
   "cell_type": "markdown",
   "metadata": {},
   "source": [
    "우리는 `df_train`만 사용할 것이다. (이 데이터셋으로 5겹 교차검증을 수행한다) 날짜와 시간 관련 피처를 `datetime` 형태로 변환해준다; 탓 값인 `trip duration`에 로그를 취해준다. (`log(1 + x)`) 로그 변환 후, 타겟값의 분산은 정규분포에 가까워진다."
   ]
  },
  {
   "cell_type": "code",
   "execution_count": null,
   "metadata": {},
   "outputs": [],
   "source": [
    "df_train['pickup_datetime'] = pd.to_datetime(df_train.pickup_datetime)\n",
    "df_train.loc[:, 'pickup_date'] = df_train['pickup_datetime'].dt.date\n",
    "df_train['dropoff_datetime'] = pd.to_datetime(df_train.dropoff_datetime)\n",
    "df_train['store_and_fwd_flag'] = 1 * (df_train.store_and_fwd_flag.values == 'Y')\n",
    "df_train['check_trip_duration'] = (df_train['dropoff_datetime'] - df_train['pickup_datetime']).map(\n",
    "    lambda x: x.total_seconds()\n",
    ")\n",
    "df_train['log_trip_duration'] = np.log1p(df_train['trip_duration'].values)\n",
    "\n",
    "cnd = np.abs(df_train['check_trip_duration'].values  - df_train['trip_duration'].values) > 1\n",
    "duration_difference = df_train[cnd]\n",
    "\n",
    "if len(duration_difference[['pickup_datetime', 'dropoff_datetime', 'trip_duration', 'check_trip_duration']]) == 0:\n",
    "    print('Trip_duration and datetimes are ok.')\n",
    "else:\n",
    "    print('Ooops.')"
   ]
  },
  {
   "cell_type": "markdown",
   "metadata": {},
   "source": [
    "학습 데이터셋과 테스트 데이터셋의 공통 피처(컬럼)을 골라낸다; 그리고 `pd.DataFrame`을 `H2OFrame`으로 변환해준다."
   ]
  },
  {
   "cell_type": "code",
   "execution_count": null,
   "metadata": {},
   "outputs": [],
   "source": [
    "common_cols = [\n",
    "    'vendor_id', \n",
    "    'pickup_datetime', \n",
    "    'passenger_count', \n",
    "    'pickup_longitude', 'pickup_latitude', \n",
    "    'dropoff_longitude', 'dropoff_latitude',\n",
    "    'store_and_fwd_flag',\n",
    "]\n",
    "\n",
    "X_y_train_h = h2o.H2OFrame(\n",
    "    pd.concat(\n",
    "        [df_train[common_cols], df_train['log_trip_duration']],\n",
    "        axis='columns'\n",
    "    )\n",
    ")\n",
    "\n",
    "for ft in ['vendor_id', 'store_and_fwd_flag']:\n",
    "    X_y_train_h[ft] = X_y_train_h[ft].asfactor()\n",
    "    \n",
    "X_y_train_h.describe()"
   ]
  },
  {
   "cell_type": "markdown",
   "metadata": {},
   "source": [
    "아래 셀을 돌리고(~8시간), 모든 모델과 리더보드를 저장하고, 코드를 주석처리했다:"
   ]
  },
  {
   "cell_type": "code",
   "execution_count": null,
   "metadata": {},
   "outputs": [],
   "source": [
    "# aml = H2OAutoML(\n",
    "#     max_runtime_secs=(3600 * 8),  # 8 hours\n",
    "#     max_models=None,  # no limit\n",
    "#     seed=SEED,\n",
    "# )\n",
    "\n",
    "# aml.train(\n",
    "#     x=common_cols,\n",
    "#     y='log_trip_duration',\n",
    "#     training_frame=X_y_train_h\n",
    "# )\n",
    "\n",
    "# lb = aml.leaderboard\n",
    "# model_ids = list(lb['model_id'].as_data_frame().iloc[:,0])\n",
    "# out_path = \".\"\n",
    "\n",
    "# for m_id in model_ids:\n",
    "#     mdl = h2o.get_model(m_id)\n",
    "#     h2o.save_model(model=mdl, path=out_path, force=True)\n",
    "\n",
    "# h2o.export_file(lb, os.path.join(out_path, 'aml_leaderboard.h2o'), force=True)\n"
   ]
  },
  {
   "cell_type": "markdown",
   "metadata": {},
   "source": [
    "흥미롭게도, 리더보드에는 오직 1개의 모델만이 있다."
   ]
  },
  {
   "cell_type": "code",
   "execution_count": null,
   "metadata": {},
   "outputs": [],
   "source": [
    "models_path = \"../input/h2o-automl-saved-models-regress/\"\n",
    "\n",
    "lb = h2o.import_file(path=os.path.join(models_path, \"aml_leaderboard.h2o\"))\n",
    "lb.head(rows=10)"
   ]
  },
  {
   "cell_type": "markdown",
   "metadata": {},
   "source": [
    "모델의 결과인 `XGBoost_1_AutoML_20190417_212831`을 기본 값으로 된 `CatBoostRegressor`의 결과와 비교해보자."
   ]
  },
  {
   "cell_type": "code",
   "execution_count": null,
   "metadata": {},
   "outputs": [],
   "source": [
    "from catboost import Pool, CatBoostRegressor, cv\n",
    "\n",
    "cb_model = CatBoostRegressor(\n",
    "    eval_metric='RMSE',\n",
    "    use_best_model=True,\n",
    "    random_seed=17\n",
    ")\n",
    "\n",
    "cv_data = cv(\n",
    "    Pool(df_train[common_cols], df_train['log_trip_duration'], cat_features=[0,7]),\n",
    "    cb_model.get_params(),\n",
    "    fold_count=5,\n",
    "    verbose=False\n",
    ")"
   ]
  },
  {
   "cell_type": "code",
   "execution_count": null,
   "metadata": {},
   "outputs": [],
   "source": [
    "print(\"CatBoostRegressor: the best cv rmse is\", np.min(cv_data['test-RMSE-mean']))"
   ]
  },
  {
   "cell_type": "markdown",
   "metadata": {},
   "source": [
    "기본 값으로 학습된 `CatBoost`의 RMSE는 H2O AutoML로 돌린 XGBoost 모델의 RMSE보다 별로인 것을 볼 수 있다."
   ]
  },
  {
   "cell_type": "markdown",
   "metadata": {},
   "source": [
    "## Conclusion"
   ]
  },
  {
   "cell_type": "markdown",
   "metadata": {},
   "source": [
    "내 생각에는 H2O AutoML을 시도해보는 것은 가치가 있다. 나는 네가 이 튜토리얼을 유용하게 썼으면 좋겠다.\n",
    "\n",
    "아래 참고에 있는 \"Scalable Automatic Machine Learning in H2O\"에 엄청나게 유용한 \"H2O AutoML 프로 팁\"들이 담겨있다."
   ]
  },
  {
   "cell_type": "markdown",
   "metadata": {},
   "source": [
    "## References\n",
    "\n",
    "* [H2O.ai](https://www.h2o.ai/)\n",
    "* [H2O AutoML documentation](http://docs.h2o.ai/h2o/latest-stable/h2o-docs/automl.html)\n",
    "* [AutoML Tutorial](https://github.com/h2oai/h2o-tutorials/tree/master/h2o-world-2017/automl): R and Python notebooks\n",
    "* Intro to AutoML + Hands-on Lab: [1 hour video](https://www.youtube.com/watch?v=42Oo8TOl85I), [slides](https://www.slideshare.net/0xdata/intro-to-automl-handson-lab-erin-ledell-machine-learning-scientist-h2oai)\n",
    "* Scalable Automatic Machine Learning in H2O: [1 hour video](https://www.youtube.com/watch?v=j6rqrEYQNdo), [slides](https://www.slideshare.net/0xdata/scalable-automatic-machine-learning-in-h2o-89130971)\n",
    "* [H2O for GPU](https://www.h2o.ai/products/h2o4gpu/) (H2O4GPU)"
   ]
  }
 ],
 "metadata": {
  "kernelspec": {
   "display_name": "Python 3",
   "language": "python",
   "name": "python3"
  },
  "language_info": {
   "codemirror_mode": {
    "name": "ipython",
    "version": 3
   },
   "file_extension": ".py",
   "mimetype": "text/x-python",
   "name": "python",
   "nbconvert_exporter": "python",
   "pygments_lexer": "ipython3",
   "version": "3.7.9"
  },
  "toc": {
   "base_numbering": 1,
   "nav_menu": {},
   "number_sections": false,
   "sideBar": true,
   "skip_h1_title": false,
   "title_cell": "Table of Contents",
   "title_sidebar": "Contents",
   "toc_cell": false,
   "toc_position": {},
   "toc_section_display": true,
   "toc_window_display": false
  },
  "varInspector": {
   "cols": {
    "lenName": 16,
    "lenType": 16,
    "lenVar": 40
   },
   "kernels_config": {
    "python": {
     "delete_cmd_postfix": "",
     "delete_cmd_prefix": "del ",
     "library": "var_list.py",
     "varRefreshCmd": "print(var_dic_list())"
    },
    "r": {
     "delete_cmd_postfix": ") ",
     "delete_cmd_prefix": "rm(",
     "library": "var_list.r",
     "varRefreshCmd": "cat(var_dic_list()) "
    }
   },
   "types_to_exclude": [
    "module",
    "function",
    "builtin_function_or_method",
    "instance",
    "_Feature"
   ],
   "window_display": false
  }
 },
 "nbformat": 4,
 "nbformat_minor": 1
}
